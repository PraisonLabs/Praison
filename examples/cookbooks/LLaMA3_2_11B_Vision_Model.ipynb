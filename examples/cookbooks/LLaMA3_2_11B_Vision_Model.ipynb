{
  "cells": [
    {
      "cell_type": "markdown",
      "id": "7eb3b7a8",
      "metadata": {
        "id": "7eb3b7a8"
      },
      "source": [
        "# LLaMA3-2 (11B) Vision Model"
      ]
    },
    {
      "cell_type": "markdown",
      "id": "4914e815",
      "metadata": {
        "id": "4914e815"
      },
      "source": [
        "## Description\n",
        "This notebook demonstrates how to use the **LLaMA3-2 (11B) Vision Model** vision-language model for image input and text generation tasks."
      ]
    },
    {
      "cell_type": "markdown",
      "source": [
        "[![Open in Colab](https://colab.research.google.com/assets/colab-badge.svg)](https://colab.research.google.com/github/DhivyaBharathy-web/PraisonAI/blob/main/examples/cookbooks/LLaMA3_2_11B_Vision_Model.ipynb)\n"
      ],
      "metadata": {
        "id": "j_sehN-6kKcp"
      },
      "id": "j_sehN-6kKcp"
    },
    {
      "cell_type": "markdown",
      "id": "366d7561",
      "metadata": {
        "id": "366d7561"
      },
      "source": [
        "## Dependencies\n",
        "```python\n",
        "!pip install transformers accelerate torch torchvision\n",
        "```"
      ]
    },
    {
      "cell_type": "markdown",
      "id": "750d4351",
      "metadata": {
        "id": "750d4351"
      },
      "source": [
        "## Tools\n",
        "- 🤗 Transformers\n",
        "- PyTorch\n",
        "- Vision Model APIs"
      ]
    },
    {
      "cell_type": "markdown",
      "id": "9f053796",
      "metadata": {
        "id": "9f053796"
      },
      "source": [
        "## YAML Prompt\n",
        "```yaml\n",
        "mode: vision\n",
        "model: LLaMA3-2 (11B) Vision Model\n",
        "tasks:\n",
        "  - image captioning\n",
        "  - visual question answering\n",
        "```"
      ]
    },
    {
      "cell_type": "markdown",
      "id": "b920aca2",
      "metadata": {
        "id": "b920aca2"
      },
      "source": [
        "## Main\n",
        "Below is the simplified main execution to load the model and run basic inference."
      ]
    },
    {
      "cell_type": "code",
      "execution_count": null,
      "id": "fb97f999",
      "metadata": {
        "id": "fb97f999"
      },
      "outputs": [],
      "source": [
        "%%capture\n",
        "import os\n",
        "if \"COLAB_\" not in \"\".join(os.environ.keys()):\n",
        "    !pip install unsloth\n",
        "else:\n",
        "    # Do this only in Colab notebooks! Otherwise use pip install unsloth\n",
        "    !pip install --no-deps bitsandbytes accelerate xformers==0.0.29.post3 peft trl triton cut_cross_entropy unsloth_zoo\n",
        "    !pip install sentencepiece protobuf \"datasets>=3.4.1\" huggingface_hub hf_transfer\n",
        "    !pip install --no-deps unsloth"
      ]
    },
    {
      "cell_type": "code",
      "execution_count": null,
      "id": "2a6e11d8",
      "metadata": {
        "colab": {
          "base_uri": "https://localhost:8080/",
          "height": 511,
          "referenced_widgets": [
            "98d2cd94be9c454f83a18c8bf5fe9aec",
            "c6d906d5fa284667a7021b56fb731e98",
            "2394d94e0e714ffdb528b55605f40dc0",
            "144522321d134e94858678d525a85f80",
            "eaa4f5b890c3436bb8da3e74a8eeb237",
            "a85bb0dcd185406c885af8d491cf3c22",
            "91a165c1dade4c1b9d7c01771b61291e",
            "24f8f69538bb469192088f3ffa1ed624",
            "f5123643c11240c0bcc3d3588e8e8a1b",
            "ef9a483fb2a3478cb94331868ab2db90",
            "ce61267651164b50aa49876a05b7296a",
            "289cd006e4ff4f018e758890e148c852",
            "c8abe988d9864ca1955430b023c223ad",
            "ad5361da5e774447b07bab7e0f272813",
            "7fd8253214984e578754c1a7f184687e",
            "e84d7f0735e045f498a85deee72e4a36",
            "0d6664235d744c66bc567215699966b3",
            "14ec87fd00454cc9b6e75a37d9cf2c1c",
            "79e970816ead4141a8dc3c534db3a54c",
            "f90c77c1bd02487da4d91289243c6a28",
            "b0ea1c891cd44fb38f874d28f1b71ad7",
            "017cce265bf84be7bd9b8ebe5f25047e",
            "d0fc6802d6034d33bb33be048799320d",
            "21df32143aa4410c885c0b84ce68466a",
            "5dc3fb97742846c3bf4e6b99159d88ed",
            "16583bf31a1846e0926fcfc3690fa505",
            "b3638367ff0749ecabfef81e18c3f3dd",
            "c84a668f99be4a74aae5cca75a2448d8",
            "8dbb8561b0214721b69a0b4c41a9e431",
            "d5bdec8c59af4d3a94ed7d2bfa2b7921",
            "2d361e1d14c64f09b3dae11750e287f4",
            "1ecf09bddb4046218cc703af721dced3",
            "2361b35c79864c10a84b44929f69c547",
            "97b945925ec94ee8851187d97a3b3e01",
            "b332f446bf5a457bb1bb32862fb25779",
            "4408a069a4e341d59423b51c25afbd64",
            "f7902776f2a44de294a21f8d9d1f4e73",
            "667e586bf81d4f90b17247741fed6a16",
            "66b02dd825894df9b4c07fbf6a9d55b7",
            "ae9fdc486fee4a07a332d2767aa487d3",
            "b237fb86f5b24341a830c3707f881d12",
            "8c436fe0faee404e8d61d9afa916d6b3",
            "70141c664f464503b8a0821e6fb8aff2",
            "03d88b6a463c40febec9e44329493ed3",
            "443cae09fcc74bce8c85514c0e3306f8",
            "5e3c171ca5494501841b1cabe5c083fe",
            "ba6bf08f321841e180630e24ad14e31c",
            "c18a21dd2b4f4d53afcf25d5e2f282ba",
            "a61ba57420fc4fb387d03fbf2261e0d7",
            "fe2444e22fac4ce48a2ac8b9483dd0ab",
            "fe43c14445c54ea590a28bc3663d0c48",
            "47ade2b90f5d41469fe68aa452043b10",
            "3c4722f0972b4bbf995ea7285a61ba26",
            "981e19084d2c4c4da0285ab6758e53d0",
            "8ae036dfd56e4e92916f2030dbb5d634",
            "c90bdb60e0fc46d8aa1d9e858cbbdd07",
            "a7e36b913ce946e0808a5bc3f5b9744b",
            "1ea701fee9fa4aac92ae9750da494815",
            "c85f1cfff87b435f9041ecd4b657587b",
            "e4eb768259094b0ea344ac96181842b4",
            "51c2efe52566422394209040317384d9",
            "c48225673e394ae9873b25a8b13446b9",
            "9b97b57c43ec47ffad7e15ab3c7f21be",
            "5f810775e57943bdafcceeccca145450",
            "b1a430285adc498d836178ba93ec5604",
            "43c0b5f1598e487194f846977edb2d9e",
            "4f579cd077cd41c798478f572d592f6a",
            "56a5f8469b834a998dbf9b195828f3de",
            "e21d0116f78140cd9a2dfd548b93cdd9",
            "49639c7bec544b3d92340188e9fab090",
            "644eb1b7ad734624a51ec0c3435a96dc",
            "181c7cd4ce0140b7a7bcdb8bda323529",
            "4a9844c83b104b2dbb1b1149e894089b",
            "9156991030be4967a32b7014fbb9d202",
            "4e5e63413ead4256ad5900667f5c03b2",
            "d70e648f960c4f71b0c4b250fef32654",
            "ad3adfba64654cf2859f850c3de05e31",
            "a37acc4c0f11436c80cb72272709a9fe",
            "9b46b99cc8f5432cbce73a2913141033",
            "96cc9201587f47679d0262868277b160",
            "58691977879e424fa8d480be75a6e70d",
            "8edb9a9006df4929b41b6531d9c27c95",
            "cbd4cf8895514baa9420289c14455686",
            "397e656680024d148a597cad7def07f5",
            "c0297069253140978f1ccb5c1fed852c",
            "1808e709f81847cabc126abe8552c289",
            "f5117b4078194a058dac514abce9d08a",
            "ed18219a0316437d8aef630b5de85b75",
            "74742a6f4bb94067b6e6703cef8c3941",
            "d1abd20ebc684c839df31d06cb5d658f",
            "1d3238444dd041839602d3db4ed7fde2",
            "daaf3480c1794c8895049dcd8eec3573",
            "028dc1c882454b0dbbebdfbeb6eb4ca3",
            "28450d6b5cc145afb3f4fda0f133b7ac",
            "f5e7b16ff8f84ba888dd1af0e08df12d",
            "d7bcadb25ead446181103aaba00f52c0",
            "25f52c2d14c54eb09923acf20e85ca07",
            "8df67a8cbe0c4734b52754108642ac10",
            "04db919ebb474ae6bd1fba3cb9437eb6",
            "1a4c9e787979474b9049e36f8c07c12b",
            "3de2161fe36a43699a713916adc09857",
            "125518e68b4e491a8e6d40c40504a5fb",
            "fced4e62adb743798567c2c0f0d90966",
            "77c06023e71440308a6aedd86190ab9b",
            "2d508731af60413ea81136dc2ab64a76",
            "2036bb5ed5fa4bd49e1d76f2b713b6a1",
            "f9e6e2e5b59a4a0984ca0a83db0b186d",
            "5b0ca7559eea43edb7009bc8ad41dcd6",
            "db0696c568d34b6eab55305e2b87c1e2",
            "95d28ba0fd2c47e2bb1fc145d82c7164",
            "9430d398534341bca671d10e8bc91ddc",
            "020c2d09aa4941b5bddfb3ce9470f9e6",
            "bf309ecf24bb4ca68f72ce1acf72b739",
            "148b83fa058145b98b69e29cda2f9dcc",
            "e0ff84feca0f4c52b3c7d23cdff1a110",
            "5a5cf37b757f4af78a0ad69f0ed5bfbc",
            "65a2889ce3c04085a0702ce3bd75c9c9",
            "0f5aee18791e4f8d95f86f6254ac7878",
            "6fc02729c4254edcb86daf71336f30d6",
            "7f5ece3436c64e51b34c20503d2fc0c3",
            "d2c0dc378e864f42bc9994f7bc31ee1d"
          ]
        },
        "id": "2a6e11d8",
        "outputId": "f63afa9e-e320-4da2-bb91-b7f4f9163379"
      },
      "outputs": [
        {
          "name": "stdout",
          "output_type": "stream",
          "text": [
            "🦥 Unsloth: Will patch your computer to enable 2x faster free finetuning.\n",
            "🦥 Unsloth Zoo will now patch everything to make training faster!\n",
            "==((====))==  Unsloth 2024.11.9: Fast Mllama vision patching. Transformers = 4.46.2.\n",
            "   \\\\   /|    GPU: Tesla T4. Max memory: 14.748 GB. Platform = Linux.\n",
            "O^O/ \\_/ \\    Pytorch: 2.5.1+cu121. CUDA = 7.5. CUDA Toolkit = 12.1.\n",
            "\\        /    Bfloat16 = FALSE. FA [Xformers = 0.0.28.post3. FA2 = False]\n",
            " \"-____-\"     Free Apache license: http://github.com/unslothai/unsloth\n",
            "Unsloth: Fast downloading is enabled - ignore downloading bars which are red colored!\n"
          ]
        },
        {
          "data": {
            "application/vnd.jupyter.widget-view+json": {
              "model_id": "98d2cd94be9c454f83a18c8bf5fe9aec",
              "version_major": 2,
              "version_minor": 0
            },
            "text/plain": [
              "model.safetensors.index.json:   0%|          | 0.00/385k [00:00<?, ?B/s]"
            ]
          },
          "metadata": {},
          "output_type": "display_data"
        },
        {
          "data": {
            "application/vnd.jupyter.widget-view+json": {
              "model_id": "289cd006e4ff4f018e758890e148c852",
              "version_major": 2,
              "version_minor": 0
            },
            "text/plain": [
              "Downloading shards:   0%|          | 0/2 [00:00<?, ?it/s]"
            ]
          },
          "metadata": {},
          "output_type": "display_data"
        },
        {
          "data": {
            "application/vnd.jupyter.widget-view+json": {
              "model_id": "d0fc6802d6034d33bb33be048799320d",
              "version_major": 2,
              "version_minor": 0
            },
            "text/plain": [
              "model-00001-of-00002.safetensors:   0%|          | 0.00/5.00G [00:00<?, ?B/s]"
            ]
          },
          "metadata": {},
          "output_type": "display_data"
        },
        {
          "data": {
            "application/vnd.jupyter.widget-view+json": {
              "model_id": "97b945925ec94ee8851187d97a3b3e01",
              "version_major": 2,
              "version_minor": 0
            },
            "text/plain": [
              "model-00002-of-00002.safetensors:   0%|          | 0.00/2.18G [00:00<?, ?B/s]"
            ]
          },
          "metadata": {},
          "output_type": "display_data"
        },
        {
          "data": {
            "application/vnd.jupyter.widget-view+json": {
              "model_id": "443cae09fcc74bce8c85514c0e3306f8",
              "version_major": 2,
              "version_minor": 0
            },
            "text/plain": [
              "Loading checkpoint shards:   0%|          | 0/2 [00:00<?, ?it/s]"
            ]
          },
          "metadata": {},
          "output_type": "display_data"
        },
        {
          "data": {
            "application/vnd.jupyter.widget-view+json": {
              "model_id": "c90bdb60e0fc46d8aa1d9e858cbbdd07",
              "version_major": 2,
              "version_minor": 0
            },
            "text/plain": [
              "generation_config.json:   0%|          | 0.00/210 [00:00<?, ?B/s]"
            ]
          },
          "metadata": {},
          "output_type": "display_data"
        },
        {
          "data": {
            "application/vnd.jupyter.widget-view+json": {
              "model_id": "4f579cd077cd41c798478f572d592f6a",
              "version_major": 2,
              "version_minor": 0
            },
            "text/plain": [
              "preprocessor_config.json:   0%|          | 0.00/477 [00:00<?, ?B/s]"
            ]
          },
          "metadata": {},
          "output_type": "display_data"
        },
        {
          "data": {
            "application/vnd.jupyter.widget-view+json": {
              "model_id": "a37acc4c0f11436c80cb72272709a9fe",
              "version_major": 2,
              "version_minor": 0
            },
            "text/plain": [
              "tokenizer_config.json:   0%|          | 0.00/55.9k [00:00<?, ?B/s]"
            ]
          },
          "metadata": {},
          "output_type": "display_data"
        },
        {
          "data": {
            "application/vnd.jupyter.widget-view+json": {
              "model_id": "74742a6f4bb94067b6e6703cef8c3941",
              "version_major": 2,
              "version_minor": 0
            },
            "text/plain": [
              "tokenizer.json:   0%|          | 0.00/17.2M [00:00<?, ?B/s]"
            ]
          },
          "metadata": {},
          "output_type": "display_data"
        },
        {
          "data": {
            "application/vnd.jupyter.widget-view+json": {
              "model_id": "1a4c9e787979474b9049e36f8c07c12b",
              "version_major": 2,
              "version_minor": 0
            },
            "text/plain": [
              "special_tokens_map.json:   0%|          | 0.00/454 [00:00<?, ?B/s]"
            ]
          },
          "metadata": {},
          "output_type": "display_data"
        },
        {
          "data": {
            "application/vnd.jupyter.widget-view+json": {
              "model_id": "9430d398534341bca671d10e8bc91ddc",
              "version_major": 2,
              "version_minor": 0
            },
            "text/plain": [
              "chat_template.json:   0%|          | 0.00/5.15k [00:00<?, ?B/s]"
            ]
          },
          "metadata": {},
          "output_type": "display_data"
        }
      ],
      "source": [
        "from unsloth import FastVisionModel # FastLanguageModel for LLMs\n",
        "import torch\n",
        "\n",
        "# 4bit pre quantized models we support for 4x faster downloading + no OOMs.\n",
        "fourbit_models = [\n",
        "    \"unsloth/Llama-3.2-11B-Vision-Instruct-bnb-4bit\", # Llama 3.2 vision support\n",
        "    \"unsloth/Llama-3.2-11B-Vision-bnb-4bit\",\n",
        "    \"unsloth/Llama-3.2-90B-Vision-Instruct-bnb-4bit\", # Can fit in a 80GB card!\n",
        "    \"unsloth/Llama-3.2-90B-Vision-bnb-4bit\",\n",
        "\n",
        "    \"unsloth/Pixtral-12B-2409-bnb-4bit\",              # Pixtral fits in 16GB!\n",
        "    \"unsloth/Pixtral-12B-Base-2409-bnb-4bit\",         # Pixtral base model\n",
        "\n",
        "    \"unsloth/Qwen2-VL-2B-Instruct-bnb-4bit\",          # Qwen2 VL support\n",
        "    \"unsloth/Qwen2-VL-7B-Instruct-bnb-4bit\",\n",
        "    \"unsloth/Qwen2-VL-72B-Instruct-bnb-4bit\",\n",
        "\n",
        "    \"unsloth/llava-v1.6-mistral-7b-hf-bnb-4bit\",      # Any Llava variant works!\n",
        "    \"unsloth/llava-1.5-7b-hf-bnb-4bit\",\n",
        "] # More models at https://huggingface.co/unsloth\n",
        "\n",
        "model, tokenizer = FastVisionModel.from_pretrained(\n",
        "    \"unsloth/Llama-3.2-11B-Vision-Instruct\",\n",
        "    load_in_4bit = True, # Use 4bit to reduce memory use. False for 16bit LoRA.\n",
        "    use_gradient_checkpointing = \"unsloth\", # True or \"unsloth\" for long context\n",
        ")"
      ]
    },
    {
      "cell_type": "code",
      "execution_count": null,
      "id": "cbc24d70",
      "metadata": {
        "id": "cbc24d70"
      },
      "outputs": [],
      "source": [
        "model = FastVisionModel.get_peft_model(\n",
        "    model,\n",
        "    finetune_vision_layers     = True, # False if not finetuning vision layers\n",
        "    finetune_language_layers   = True, # False if not finetuning language layers\n",
        "    finetune_attention_modules = True, # False if not finetuning attention layers\n",
        "    finetune_mlp_modules       = True, # False if not finetuning MLP layers\n",
        "\n",
        "    r = 16,           # The larger, the higher the accuracy, but might overfit\n",
        "    lora_alpha = 16,  # Recommended alpha == r at least\n",
        "    lora_dropout = 0,\n",
        "    bias = \"none\",\n",
        "    random_state = 3407,\n",
        "    use_rslora = False,  # We support rank stabilized LoRA\n",
        "    loftq_config = None, # And LoftQ\n",
        "    # target_modules = \"all-linear\", # Optional now! Can specify a list if needed\n",
        ")"
      ]
    },
    {
      "cell_type": "code",
      "execution_count": null,
      "id": "9e47b862",
      "metadata": {
        "colab": {
          "base_uri": "https://localhost:8080/",
          "height": 177,
          "referenced_widgets": [
            "aecf49a7a37445dfb4af43fed91cdc97",
            "209f0d74e16b4c03a72687d796958863",
            "17c372165582427dbc34abfd5dfdaa6c",
            "59110c931b0b45d5a61d7dae7c7e7120",
            "1ab79420b99e4508944ba5b4361171f8",
            "89284068a3be4af4a0d9b8bc50b9afba",
            "d11bd8033e4740929088a4fd0ef883c5",
            "cc1cf7cbbcae4771be85c3e628510997",
            "758e626f5c2f4b0193e1cf27824818ca",
            "dfdce9a9549448a8a475db2c2507f5eb",
            "4893fac70136425c9aa1c685e4ce71f3",
            "ee828b24ee424cfc82b2f3b87636940a",
            "115f636f0c0a4c1ebee21d973ff09e40",
            "adb8a39222db4fe880c180fe5c601dbe",
            "775514e06f1c453fa311d528b3d62749",
            "523f128189f746ce9fb7a594e72e9c7e",
            "72715b7c03e34b01b5f7715ce658eacd",
            "432103db24e448e8b62bce3af49ec581",
            "b382f1fd5c1645169079cdef08c14357",
            "5ad48ea79bde44639976eeb61377b74d",
            "2ae0d6c5c4c1419293e7b3832b8d8a17",
            "71f1e8c406a54c52b6983ff2b922be20",
            "34c7dbce08a146a7949152b0cac8666d",
            "f8e7b74b13864adc9d6cfccaa9a11362",
            "2aaa6c22a7d34c2aa20a169236a72f59",
            "c79fefc6a20d4bce9eca13b0b1a604aa",
            "8463516108b8491d8aaa0449a7f21f05",
            "cb71c9d8d57744fb9cfeb740d7ea50e6",
            "0241e7fc2a86481389ce140690fc544a",
            "315e97f8931941d382ae5b91e1d644a0",
            "ebdc57260e224077b0ba08ffbb3fb6a1",
            "0ee41ec935844b09850972773468b5de",
            "e7fabc6d4ea8476a9459604d745b7f08",
            "5034f195628e43b98e4ab33fd297308c",
            "46686703d557405685b5e910d81cfb4a",
            "55e11fafe31f4147a7a53c870f637527",
            "7fa57079e7414449a9b04330c91bd50d",
            "add5ec75448b4378b8e7aab92a5e53f5",
            "2e2dcbc6ae13435fa6bb91c35dbdf1ae",
            "64a4a67880614ecebad79f9ac957d4af",
            "dff190bbf4a746d393857037be5e5d72",
            "7ebc322bc4824599a6f59ed979eae207",
            "d61c2405111d4acc8428e1cebb96c963",
            "5263b46f262a40518c43778191394e4a",
            "78f33011fc0648439338fb4556284f31",
            "b08e04e041a84597b225f2194943d715",
            "7d36203af6344d50813eab42af8df957",
            "00714fb691c14ca6a9ee14ead204b6c0",
            "7d057295875d4525a165c823ff222268",
            "be882001119342ebbbbc3f73dbfa5356",
            "2713d41644f84b5290c0dd94b2953b2a",
            "235bc65f45ac4b369e1e03582b1b2061",
            "d2d708ed937b4deb8d72805e98b3aa9b",
            "c0fc8d1e49d643b0b9871080545cbb27",
            "f9bae803d6944df98773db211a4e98b6"
          ]
        },
        "id": "9e47b862",
        "outputId": "ac18735b-4865-4634-cdac-0672be9dc0e6"
      },
      "outputs": [
        {
          "data": {
            "application/vnd.jupyter.widget-view+json": {
              "model_id": "aecf49a7a37445dfb4af43fed91cdc97",
              "version_major": 2,
              "version_minor": 0
            },
            "text/plain": [
              "README.md:   0%|          | 0.00/610 [00:00<?, ?B/s]"
            ]
          },
          "metadata": {},
          "output_type": "display_data"
        },
        {
          "data": {
            "application/vnd.jupyter.widget-view+json": {
              "model_id": "ee828b24ee424cfc82b2f3b87636940a",
              "version_major": 2,
              "version_minor": 0
            },
            "text/plain": [
              "train-00000-of-00001.parquet:   0%|          | 0.00/481M [00:00<?, ?B/s]"
            ]
          },
          "metadata": {},
          "output_type": "display_data"
        },
        {
          "data": {
            "application/vnd.jupyter.widget-view+json": {
              "model_id": "34c7dbce08a146a7949152b0cac8666d",
              "version_major": 2,
              "version_minor": 0
            },
            "text/plain": [
              "test-00000-of-00001.parquet:   0%|          | 0.00/79.2M [00:00<?, ?B/s]"
            ]
          },
          "metadata": {},
          "output_type": "display_data"
        },
        {
          "data": {
            "application/vnd.jupyter.widget-view+json": {
              "model_id": "5034f195628e43b98e4ab33fd297308c",
              "version_major": 2,
              "version_minor": 0
            },
            "text/plain": [
              "Generating train split:   0%|          | 0/1978 [00:00<?, ? examples/s]"
            ]
          },
          "metadata": {},
          "output_type": "display_data"
        },
        {
          "data": {
            "application/vnd.jupyter.widget-view+json": {
              "model_id": "78f33011fc0648439338fb4556284f31",
              "version_major": 2,
              "version_minor": 0
            },
            "text/plain": [
              "Generating test split:   0%|          | 0/327 [00:00<?, ? examples/s]"
            ]
          },
          "metadata": {},
          "output_type": "display_data"
        }
      ],
      "source": [
        "from datasets import load_dataset\n",
        "\n",
        "dataset = load_dataset(\"unsloth/Radiology_mini\", split=\"train\")"
      ]
    },
    {
      "cell_type": "markdown",
      "id": "c437c09d",
      "metadata": {
        "id": "c437c09d"
      },
      "source": [
        "## Output\n",
        "This shows a basic output example of the vision-language model."
      ]
    }
  ],
  "metadata": {
    "colab": {
      "provenance": []
    }
  },
  "nbformat": 4,
  "nbformat_minor": 5
}