{
  "cells": [
    {
      "cell_type": "markdown",
      "id": "298d9cae",
      "metadata": {
        "id": "298d9cae"
      },
      "source": [
        "# arXiv Agent\n",
        "A complete setup using PraisonAI Agents and arxiv tools."
      ]
    },
    {
      "cell_type": "markdown",
      "source": [
        "[![Open in Colab](https://colab.research.google.com/assets/colab-badge.svg)](https://colab.research.google.com/github/DhivyaBharathy-web/PraisonAI/blob/main/examples/cookbooks/arXiv_agent_notebook.ipynb)"
      ],
      "metadata": {
        "id": "610tkvFU3zQ_"
      },
      "id": "610tkvFU3zQ_"
    },
    {
      "cell_type": "markdown",
      "id": "b51b7e9c",
      "metadata": {
        "id": "b51b7e9c"
      },
      "source": [
        "## Prerequisites\n",
        "- Python 3.10+\n",
        "- `praisonaiagents` and `arxiv` packages\n"
      ]
    },
    {
      "cell_type": "markdown",
      "source": [
        "# Dependencies"
      ],
      "metadata": {
        "id": "ICggTjdd3RWV"
      },
      "id": "ICggTjdd3RWV"
    },
    {
      "cell_type": "code",
      "source": [
        "!pip install praisonaiagents arxiv"
      ],
      "metadata": {
        "id": "XiV_eKbj3Jp2"
      },
      "id": "XiV_eKbj3Jp2",
      "execution_count": null,
      "outputs": []
    },
    {
      "cell_type": "markdown",
      "source": [
        "# Setting OpenAI API Key"
      ],
      "metadata": {
        "id": "dKJR6qTX4QQr"
      },
      "id": "dKJR6qTX4QQr"
    },
    {
      "cell_type": "code",
      "source": [
        "import os\n",
        "os.environ[\"OPENAI_API_KEY\"] = \"Enter your api key\""
      ],
      "metadata": {
        "id": "O8JiwLoq4RQt"
      },
      "id": "O8JiwLoq4RQt",
      "execution_count": 4,
      "outputs": []
    },
    {
      "cell_type": "markdown",
      "source": [
        "# Tools"
      ],
      "metadata": {
        "id": "7T4e7oGE3UGw"
      },
      "id": "7T4e7oGE3UGw"
    },
    {
      "cell_type": "code",
      "execution_count": 5,
      "id": "bc944ddb",
      "metadata": {
        "id": "bc944ddb"
      },
      "outputs": [],
      "source": [
        "from praisonaiagents import Agent, Task, PraisonAIAgents\n",
        "from praisonaiagents.tools import search_arxiv, get_arxiv_paper, get_papers_by_author, get_papers_by_category"
      ]
    },
    {
      "cell_type": "markdown",
      "id": "e68aa793",
      "metadata": {
        "id": "e68aa793"
      },
      "source": [
        "# Agent & Task YAML Prompt"
      ]
    },
    {
      "cell_type": "code",
      "source": [
        "agent_yaml = \"\"\"\n",
        "framework: praisonaiagents\n",
        "topic: \"Large Language Models\"\n",
        "\n",
        "roles:\n",
        "  researcher:\n",
        "    role: \"Scientific Literature Specialist\"\n",
        "    backstory: |\n",
        "      Expert in identifying and analyzing academic literature, particularly in the field of artificial intelligence and machine learning.\n",
        "    goal: \"Find and analyze academic papers related to large language models.\"\n",
        "    tools:\n",
        "      - \"search_arxiv\"\n",
        "      - \"get_arxiv_paper\"\n",
        "      - \"get_papers_by_author\"\n",
        "      - \"get_papers_by_category\"\n",
        "    self_reflect: false\n",
        "    tasks:\n",
        "      literature_review:\n",
        "        description: \"Search for papers on 'large language models'\"\n",
        "        expected_output: \"Summarized key findings\"\n",
        "\n",
        "process: sequential\n",
        "\"\"\"\n",
        "print(agent_yaml)\n"
      ],
      "metadata": {
        "id": "ifBFpvn64nHo"
      },
      "id": "ifBFpvn64nHo",
      "execution_count": null,
      "outputs": []
    },
    {
      "cell_type": "markdown",
      "id": "d29be48e",
      "metadata": {
        "id": "d29be48e"
      },
      "source": [
        "## Basic Research Agent"
      ]
    },
    {
      "cell_type": "code",
      "execution_count": 9,
      "id": "a67e0501",
      "metadata": {
        "colab": {
          "base_uri": "https://localhost:8080/",
          "height": 1000,
          "referenced_widgets": [
            "d3f2fead27b341c5805a954bf819f41d",
            "85eed98838304a3195c2ae747be43233",
            "d700349d5de34b289623630b29fe8e37",
            "4947fadcfa0c4e2ea26f9b5ec2495557"
          ]
        },
        "id": "a67e0501",
        "outputId": "0e059f37-bf02-466d-8d9c-f96d0ed023a9"
      },
      "outputs": [
        {
          "output_type": "display_data",
          "data": {
            "text/plain": [
              "\u001b[38;2;210;227;200m╭─\u001b[0m\u001b[38;2;210;227;200m \u001b[0m\u001b[1;38;2;210;227;200mAgent Info\u001b[0m\u001b[38;2;210;227;200m \u001b[0m\u001b[38;2;210;227;200m───────────────────────────────────────────────────────────────────────────────────────────────────\u001b[0m\u001b[38;2;210;227;200m─╮\u001b[0m\n",
              "\u001b[38;2;210;227;200m│\u001b[0m                                                                                                                 \u001b[38;2;210;227;200m│\u001b[0m\n",
              "\u001b[38;2;210;227;200m│\u001b[0m  \u001b[1;38;2;255;155;155m👤 Agent:\u001b[0m \u001b[38;2;255;229;229mPaperSearcher\u001b[0m                                                                                        \u001b[38;2;210;227;200m│\u001b[0m\n",
              "\u001b[38;2;210;227;200m│\u001b[0m  \u001b[1;38;2;180;180;179mRole:\u001b[0m \u001b[38;2;255;229;229mScientific Literature Specialist\u001b[0m                                                                         \u001b[38;2;210;227;200m│\u001b[0m\n",
              "\u001b[38;2;210;227;200m│\u001b[0m  \u001b[1;38;2;134;167;137mTools:\u001b[0m \u001b[3;38;2;180;212;255msearch\u001b[0m, \u001b[3;38;2;180;212;255mget_paper\u001b[0m, \u001b[3;38;2;180;212;255mget_papers_by_author\u001b[0m, \u001b[3;38;2;180;212;255mget_papers_by_category\u001b[0m                                         \u001b[38;2;210;227;200m│\u001b[0m\n",
              "\u001b[38;2;210;227;200m│\u001b[0m                                                                                                                 \u001b[38;2;210;227;200m│\u001b[0m\n",
              "\u001b[38;2;210;227;200m╰─────────────────────────────────────────────────────────────────────────────────────────────────────────────────╯\u001b[0m\n"
            ],
            "text/html": [
              "<pre style=\"white-space:pre;overflow-x:auto;line-height:normal;font-family:Menlo,'DejaVu Sans Mono',consolas,'Courier New',monospace\"><span style=\"color: #d2e3c8; text-decoration-color: #d2e3c8\">╭─ </span><span style=\"color: #d2e3c8; text-decoration-color: #d2e3c8; font-weight: bold\">Agent Info</span><span style=\"color: #d2e3c8; text-decoration-color: #d2e3c8\"> ────────────────────────────────────────────────────────────────────────────────────────────────────╮</span>\n",
              "<span style=\"color: #d2e3c8; text-decoration-color: #d2e3c8\">│</span>                                                                                                                 <span style=\"color: #d2e3c8; text-decoration-color: #d2e3c8\">│</span>\n",
              "<span style=\"color: #d2e3c8; text-decoration-color: #d2e3c8\">│</span>  <span style=\"color: #ff9b9b; text-decoration-color: #ff9b9b; font-weight: bold\">👤 Agent:</span> <span style=\"color: #ffe5e5; text-decoration-color: #ffe5e5\">PaperSearcher</span>                                                                                        <span style=\"color: #d2e3c8; text-decoration-color: #d2e3c8\">│</span>\n",
              "<span style=\"color: #d2e3c8; text-decoration-color: #d2e3c8\">│</span>  <span style=\"color: #b4b4b3; text-decoration-color: #b4b4b3; font-weight: bold\">Role:</span> <span style=\"color: #ffe5e5; text-decoration-color: #ffe5e5\">Scientific Literature Specialist</span>                                                                         <span style=\"color: #d2e3c8; text-decoration-color: #d2e3c8\">│</span>\n",
              "<span style=\"color: #d2e3c8; text-decoration-color: #d2e3c8\">│</span>  <span style=\"color: #86a789; text-decoration-color: #86a789; font-weight: bold\">Tools:</span> <span style=\"color: #b4d4ff; text-decoration-color: #b4d4ff; font-style: italic\">search</span>, <span style=\"color: #b4d4ff; text-decoration-color: #b4d4ff; font-style: italic\">get_paper</span>, <span style=\"color: #b4d4ff; text-decoration-color: #b4d4ff; font-style: italic\">get_papers_by_author</span>, <span style=\"color: #b4d4ff; text-decoration-color: #b4d4ff; font-style: italic\">get_papers_by_category</span>                                         <span style=\"color: #d2e3c8; text-decoration-color: #d2e3c8\">│</span>\n",
              "<span style=\"color: #d2e3c8; text-decoration-color: #d2e3c8\">│</span>                                                                                                                 <span style=\"color: #d2e3c8; text-decoration-color: #d2e3c8\">│</span>\n",
              "<span style=\"color: #d2e3c8; text-decoration-color: #d2e3c8\">╰─────────────────────────────────────────────────────────────────────────────────────────────────────────────────╯</span>\n",
              "</pre>\n"
            ]
          },
          "metadata": {}
        },
        {
          "output_type": "display_data",
          "data": {
            "text/plain": [
              "Output()"
            ],
            "application/vnd.jupyter.widget-view+json": {
              "version_major": 2,
              "version_minor": 0,
              "model_id": "d3f2fead27b341c5805a954bf819f41d"
            }
          },
          "metadata": {}
        },
        {
          "output_type": "display_data",
          "data": {
            "text/plain": [],
            "text/html": [
              "<pre style=\"white-space:pre;overflow-x:auto;line-height:normal;font-family:Menlo,'DejaVu Sans Mono',consolas,'Courier New',monospace\"></pre>\n"
            ]
          },
          "metadata": {}
        },
        {
          "output_type": "display_data",
          "data": {
            "text/plain": [
              "\n"
            ],
            "text/html": [
              "<pre style=\"white-space:pre;overflow-x:auto;line-height:normal;font-family:Menlo,'DejaVu Sans Mono',consolas,'Courier New',monospace\">\n",
              "</pre>\n"
            ]
          },
          "metadata": {}
        },
        {
          "output_type": "display_data",
          "data": {
            "text/plain": [
              "\u001b[32m╭─\u001b[0m\u001b[32m──────────────────────────────────────────────────\u001b[0m\u001b[32m Tool Call \u001b[0m\u001b[32m──────────────────────────────────────────────────\u001b[0m\u001b[32m─╮\u001b[0m\n",
              "\u001b[32m│\u001b[0m \u001b[1;36mAgent PaperSearcher is calling function 'search' with arguments: {'query': 'transformer models in NLP', \u001b[0m        \u001b[32m│\u001b[0m\n",
              "\u001b[32m│\u001b[0m \u001b[1;36m'max_results': 5, 'sort_by': 'submittedDate', 'sort_order': 'descending'}\u001b[0m                                       \u001b[32m│\u001b[0m\n",
              "\u001b[32m╰─────────────────────────────────────────────────────────────────────────────────────────────────────────────────╯\u001b[0m\n"
            ],
            "text/html": [
              "<pre style=\"white-space:pre;overflow-x:auto;line-height:normal;font-family:Menlo,'DejaVu Sans Mono',consolas,'Courier New',monospace\"><span style=\"color: #008000; text-decoration-color: #008000\">╭─────────────────────────────────────────────────── Tool Call ───────────────────────────────────────────────────╮</span>\n",
              "<span style=\"color: #008000; text-decoration-color: #008000\">│</span> <span style=\"color: #008080; text-decoration-color: #008080; font-weight: bold\">Agent PaperSearcher is calling function 'search' with arguments: {'query': 'transformer models in NLP', </span>        <span style=\"color: #008000; text-decoration-color: #008000\">│</span>\n",
              "<span style=\"color: #008000; text-decoration-color: #008000\">│</span> <span style=\"color: #008080; text-decoration-color: #008080; font-weight: bold\">'max_results': 5, 'sort_by': 'submittedDate', 'sort_order': 'descending'}</span>                                       <span style=\"color: #008000; text-decoration-color: #008000\">│</span>\n",
              "<span style=\"color: #008000; text-decoration-color: #008000\">╰─────────────────────────────────────────────────────────────────────────────────────────────────────────────────╯</span>\n",
              "</pre>\n"
            ]
          },
          "metadata": {}
        },
        {
          "output_type": "display_data",
          "data": {
            "text/plain": [
              "\u001b[32m╭─\u001b[0m\u001b[32m──────────────────────────────────────────────────\u001b[0m\u001b[32m Tool Call \u001b[0m\u001b[32m──────────────────────────────────────────────────\u001b[0m\u001b[32m─╮\u001b[0m\n",
              "\u001b[32m│\u001b[0m \u001b[1;36mFunction 'search' returned: [{\"arxiv_id\": \"2505.24878v1\", \"updated\": \"2025-05-30T17:59:55+00:00\", \"published\": \u001b[0m \u001b[32m│\u001b[0m\n",
              "\u001b[32m│\u001b[0m \u001b[1;36m\"2025-05-30T17:59:55+00:00\", \"title\": \"Open CaptchaWorld: A Comprehensive Web-based Platform for Testing and \u001b[0m   \u001b[32m│\u001b[0m\n",
              "\u001b[32m│\u001b[0m \u001b[1;36mBenchmarking Multimodal LLM Agents\", \"authors\": [\"Yaxin Luo\", \"Zhaoyi Li\", \"Jiacheng Liu\", \"Jiacheng Cui\", \u001b[0m     \u001b[32m│\u001b[0m\n",
              "\u001b[32m│\u001b[0m \u001b[1;36m\"Xiaohan Zhao\", \"Zhiqiang Shen\"], \"summary\": \"CAPTCHAs have been a critical bottleneck for deploying web agents\u001b[0m \u001b[32m│\u001b[0m\n",
              "\u001b[32m│\u001b[0m \u001b[1;36min\\nreal-world applications, often blocking them from completing end-to-end\\nautomation tasks. While modern \u001b[0m    \u001b[32m│\u001b[0m\n",
              "\u001b[32m│\u001b[0m \u001b[1;36mmultimodal LLM agents have demonstrated\\nimpressive performance in static perception tasks, their ability to \u001b[0m   \u001b[32m│\u001b[0m\n",
              "\u001b[32m│\u001b[0m \u001b[1;36mhandle\\ninteractive, multi-step reasoning challenges like CAPTCHAs is largely untested.\\nTo address this gap, \u001b[0m  \u001b[32m│\u001b[0m\n",
              "\u001b[32m│\u001b[0m \u001b[1;36mwe introduce Open CaptchaWorld, the first web-based\\nbenchmark and platform specifically designed to evaluate \u001b[0m  \u001b[32m│\u001b[0m\n",
              "\u001b[32m│\u001b[0m \u001b[1;36mthe visual reasoning\\nand interaction capabilities of MLLM-powered agents through diverse and dynamic\\nCAPTCHA \u001b[0m \u001b[32m│\u001b[0m\n",
              "\u001b[32m│\u001b[0m \u001b[1;36mpuzzles. Our benchmark spans 20 modern CAPTCHA types, totaling 225\\nCAPTCHAs, annotated with a new metric we \u001b[0m   \u001b[32m│\u001b[0m\n",
              "\u001b[32m│\u001b[0m \u001b[1;36mpropose: CAPTCHA Reasoning Depth,\\nwhich quantifies the number of cognitive and motor steps required to solve \u001b[0m  \u001b[32m│\u001b[0m\n",
              "\u001b[32m│\u001b[0m \u001b[1;36meach\\npuzzle. Experimental results show that humans consistently achieve near-perfect\\nscores, state-of-the-art\u001b[0m \u001b[32m│\u001b[0m\n",
              "\u001b[32m│\u001b[0m \u001b[1;36mMLLM agents struggle significantly, with success rates\\nat most 40.0% by Browser-Use Openai-o3, far below \u001b[0m      \u001b[32m│\u001b[0m\n",
              "\u001b[32m│\u001b[0m \u001b[1;36mhuman-level performance,\\n93.3%. This highlights Open CaptchaWorld as a vital benchmark for diagnosing\\nthe \u001b[0m    \u001b[32m│\u001b[0m\n",
              "\u001b[32m│\u001b[0m \u001b[1;36mlimits of current multimodal agents and guiding the development of more\\nrobust multimodal reasoning systems. \u001b[0m  \u001b[32m│\u001b[0m\n",
              "\u001b[32m│\u001b[0m \u001b[1;36mCode and Data are available at this https\\nURL.\", \"comment\": \"Code at: \u001b[0m                                         \u001b[32m│\u001b[0m\n",
              "\u001b[32m│\u001b[0m \u001b[1;36mhttps://github.com/MetaAgentX/OpenCaptchaWorld\", \"journal_ref\": null, \"doi\": null, \"primary_category\": \"cs.AI\",\u001b[0m \u001b[32m│\u001b[0m\n",
              "\u001b[32m│\u001b[0m \u001b[1;36m\"categories\": [\"cs.AI\", \"cs.CL\", \"cs.CV\", \"cs.LG\"], \"pdf_url\": \"http://arxiv.org/pdf/2505.24878v1\", \u001b[0m            \u001b[32m│\u001b[0m\n",
              "\u001b[32m│\u001b[0m \u001b[1;36m\"abstract_url\": \"https://arxiv.org/abs/2505.24878v1\"}, {\"arxiv_id\": \"2505.24877v1\", \"updated\": \u001b[0m                 \u001b[32m│\u001b[0m\n",
              "\u001b[32m│\u001b[0m \u001b[1;36m\"2025-05-30T17:59:54+00:00\", \"published\": \"2025-05-30T17:59:54+00:00\", \"title\": \"AdaHuman: Animatable Detailed \u001b[0m \u001b[32m│\u001b[0m\n",
              "\u001b[32m│\u001b[0m \u001b[1;36m3D Human Generation with Compositional Multiview Diffusion\", \"authors\": [\"Yangyi Huang\", \"Ye Yuan\", \"Xueting \u001b[0m   \u001b[32m│\u001b[0m\n",
              "\u001b[32m│\u001b[0m \u001b[1;36mLi\", \"Jan Kautz\", \"Umar Iqbal\"], \"summary\": \"Existing methods for image-to-3D avatar generation struggle to \u001b[0m    \u001b[32m│\u001b[0m\n",
              "\u001b[32m│\u001b[0m \u001b[1;36mproduce highly\\ndetailed, animation-ready avatars suitable for real-world applications. We\\nintroduce AdaHuman,\u001b[0m \u001b[32m│\u001b[0m\n",
              "\u001b[32m│\u001b[0m \u001b[1;36ma novel framework that generates high-fidelity animatable\\n3D avatars from a single in-the-wild image. AdaHuman\u001b[0m \u001b[32m│\u001b[0m\n",
              "\u001b[32m│\u001b[0m \u001b[1;36mincorporates two key\\ninnovations: (1) A pose-conditioned 3D joint diffusion model that synthesizes\\nconsistent\u001b[0m \u001b[32m│\u001b[0m\n",
              "\u001b[32m│\u001b[0m \u001b[1;36mmulti-view images in arbitrary poses alongside corresponding 3D\\nGaussian Splats (3DGS) reconstruction at each \u001b[0m \u001b[32m│\u001b[0m\n",
              "\u001b[32m│\u001b[0m \u001b[1;36mdiffusion step; (2) A\\ncompositional 3DGS refinement module that enhances the details of local body\\nparts \u001b[0m     \u001b[32m│\u001b[0m\n",
              "\u001b[32m│\u001b[0m \u001b[1;36mthrough image-to-image refinement and seamlessly integrates them using a\\nnovel crop-aware camera ray map, \u001b[0m     \u001b[32m│\u001b[0m\n",
              "\u001b[32m│\u001b[0m \u001b[1;36mproducing a cohesive detailed 3D avatar. These\\ncomponents allow AdaHuman to generate highly realistic \u001b[0m         \u001b[32m│\u001b[0m\n",
              "\u001b[32m│\u001b[0m \u001b[1;36mstandardized A-pose\\navatars with minimal self-occlusion, enabling rigging and animation with any\\ninput \u001b[0m       \u001b[32m│\u001b[0m\n",
              "\u001b[32m│\u001b[0m \u001b[1;36mmotion. Extensive evaluation on public benchmarks and in-the-wild images\\ndemonstrates that AdaHuman \u001b[0m           \u001b[32m│\u001b[0m\n",
              "\u001b[32m│\u001b[0m \u001b[1;36msignificantly outperforms state-of-the-art methods\\nin both avatar reconstruction and reposing. Code and models\u001b[0m \u001b[32m│\u001b[0m\n",
              "\u001b[32m│\u001b[0m \u001b[1;36mwill be publicly\\navailable for research purposes.\", \"comment\": \"Website: https://nvlabs.github.io/AdaHuman\", \u001b[0m  \u001b[32m│\u001b[0m\n",
              "\u001b[32m│\u001b[0m \u001b[1;36m\"journal_ref\": null, \"doi\": null, \"primary_category\": \"cs.CV\", \"categories\": [\"cs.CV\"], \"pdf_url\": \u001b[0m             \u001b[32m│\u001b[0m\n",
              "\u001b[32m│\u001b[0m \u001b[1;36m\"http://arxiv.org/pdf/2505.24877v1\", \"abstract_url\": \"https://arxiv.org/abs/2505.24877v1\"}, {\"arxiv_id\": \u001b[0m       \u001b[32m│\u001b[0m\n",
              "\u001b[32m│\u001b[0m \u001b[1;36m\"2505.24876v1\", \"updated\": \"2025-05-30T17:59:53+00:00\", \"published\": \"2025-05-30T17:59:53+00:00\", \"title\": \u001b[0m     \u001b[32m│\u001b[0m\n",
              "\u001b[32m│\u001b[0m \u001b[1;36m\"Agent-X: Evaluating Deep Multimodal Reasoning in Vision-Centric Agentic Tasks\", \"authors\": [\"Tajamul Ashraf\", \u001b[0m \u001b[32m│\u001b[0m\n",
              "\u001b[32m│\u001b[0m \u001b[1;36m\"Amal Saqib\", \"Hanan Ghani\", \"Muhra AlMahri\", \"Yuhao Li\", \"Noor Ahsan\", \"Umair Nawaz\", \"Jean Lahoud\", \"Hisham \u001b[0m  \u001b[32m│\u001b[0m\n",
              "\u001b[32m│\u001b[0m \u001b[1;36mCholakkal\", \"Mubarak Shah\", \"Philip Torr\", \"Fahad Shahbaz Khan\", \"Rao Muhammad Anwer\", \"Salman Khan\"], \u001b[0m         \u001b[32m│\u001b[0m\n",
              "\u001b[32m│\u001b[0m \u001b[1;36m\"summary\": \"Deep reasoning is fundamental for solving complex tasks, especially in\\nvision-centric scenarios \u001b[0m   \u001b[32m│\u001b[0m\n",
              "\u001b[32m│\u001b[0m \u001b[1;36mthat demand sequential, multimodal understanding.\\nHowever, existing benchmarks typically evaluate agents with \u001b[0m \u001b[32m│\u001b[0m\n",
              "\u001b[32m│\u001b[0m \u001b[1;36mfully synthetic,\\nsingle-turn queries, limited visual modalities, and lack a framework to assess\\nreasoning \u001b[0m    \u001b[32m│\u001b[0m\n",
              "\u001b[32m│\u001b[0m \u001b[1;36mquality over multiple steps as required in real-world settings. To\\naddress this, we introduce Agent-X, a \u001b[0m      \u001b[32m│\u001b[0m\n",
              "\u001b[32m│\u001b[0m \u001b[1;36mlarge-scale benchmark for evaluating\\nvision-centric agents multi-step and deep reasoning capabilities in \u001b[0m      \u001b[32m│\u001b[0m\n",
              "\u001b[32m│\u001b[0m \u001b[1;36mreal-world,\\nmultimodal settings. Agent- X features 828 agentic tasks with authentic visual\\ncontexts, \u001b[0m         \u001b[32m│\u001b[0m\n",
              "\u001b[32m│\u001b[0m \u001b[1;36mincluding images, multi-image comparisons, videos, and instructional\\ntext. These tasks span six major agentic \u001b[0m \u001b[32m│\u001b[0m\n",
              "\u001b[32m│\u001b[0m \u001b[1;36menvironments: general visual\\nreasoning, web browsing, security and surveillance, autonomous driving, \u001b[0m          \u001b[32m│\u001b[0m\n",
              "\u001b[32m│\u001b[0m \u001b[1;36msports,\\nand math reasoning. Our benchmark requires agents to integrate tool use with\\nexplicit, stepwise \u001b[0m      \u001b[32m│\u001b[0m\n",
              "\u001b[32m│\u001b[0m \u001b[1;36mdecision-making in these diverse settings. In addition, we\\npropose a fine-grained, step-level evaluation \u001b[0m      \u001b[32m│\u001b[0m\n",
              "\u001b[32m│\u001b[0m \u001b[1;36mframework that assesses the\\ncorrectness and logical coherence of each reasoning step and the effectiveness\\nof\u001b[0m \u001b[32m│\u001b[0m\n",
              "\u001b[32m│\u001b[0m \u001b[1;36mtool usage throughout the task. Our results reveal that even the\\nbest-performing models, including GPT, \u001b[0m       \u001b[32m│\u001b[0m\n",
              "\u001b[32m│\u001b[0m \u001b[1;36mGemini, and Qwen families, struggle to\\nsolve multi-step vision tasks, achieving less than 50% full-chain \u001b[0m      \u001b[32m│\u001b[0m\n",
              "\u001b[32m│\u001b[0m \u001b[1;36msuccess.\\nThese findings highlight key bottlenecks in current LMM reasoning and tool-use\\ncapabilities and \u001b[0m     \u001b[32m│\u001b[0m\n",
              "\u001b[32m│\u001b[0m \u001b[1;36midentify future research directions in vision-centric agentic\\nreasoning models. Our data and code are publicly\u001b[0m \u001b[32m│\u001b[0m\n",
              "\u001b[32m│\u001b[0m \u001b[1;36mavailable at\\nhttps://github.com/mbzuai-oryx/Agent-X\", \"comment\": null, \"journal_ref\": null, \"doi\": null, \u001b[0m      \u001b[32m│\u001b[0m\n",
              "\u001b[32m│\u001b[0m \u001b[1;36m\"primary_category\": \"cs.CV\", \"categories\": [\"cs.CV\", \"cs.CL\"], \"pdf_url\": \"http://arxiv.org/pdf/2505.24876v1\", \u001b[0m \u001b[32m│\u001b[0m\n",
              "\u001b[32m│\u001b[0m \u001b[1;36m\"abstract_url\": \"https://arxiv.org/abs/2505.24876v1\"}, {\"arxiv_id\": \"2505.24875v1\", \"updated\": \u001b[0m                 \u001b[32m│\u001b[0m\n",
              "\u001b[32m│\u001b[0m \u001b[1;36m\"2025-05-30T17:59:48+00:00\", \"published\": \"2025-05-30T17:59:48+00:00\", \"title\": \"ReasonGen-R1: CoT for \u001b[0m         \u001b[32m│\u001b[0m\n",
              "\u001b[32m│\u001b[0m \u001b[1;36mAutoregressive Image generation models through SFT and RL\", \"authors\": [\"Yu Zhang\", \"Yunqi Li\", \"Yifan Yang\", \u001b[0m  \u001b[32m│\u001b[0m\n",
              "\u001b[32m│\u001b[0m \u001b[1;36m\"Rui Wang\", \"Yuqing Yang\", \"Dai Qi\", \"Jianmin Bao\", \"Dongdong Chen\", \"Chong Luo\", \"Lili Qiu\"], \"summary\": \u001b[0m      \u001b[32m│\u001b[0m\n",
              "\u001b[32m│\u001b[0m \u001b[1;36m\"Although chain-of-thought reasoning and reinforcement learning (RL) have\\ndriven breakthroughs in NLP, their \u001b[0m  \u001b[32m│\u001b[0m\n",
              "\u001b[32m│\u001b[0m \u001b[1;36mintegration into generative vision models\\nremains underexplored. We introduce ReasonGen-R1, a two-stage \u001b[0m       \u001b[32m│\u001b[0m\n",
              "\u001b[32m│\u001b[0m \u001b[1;36mframework that\\nfirst imbues an autoregressive image generator with explicit text-based\\n\\\"thinking\\\" skills \u001b[0m   \u001b[32m│\u001b[0m\n",
              "\u001b[32m│\u001b[0m \u001b[1;36mvia supervised fine-tuning on a newly generated reasoning\\ndataset of written rationales, and then refines its \u001b[0m \u001b[32m│\u001b[0m\n",
              "\u001b[32m│\u001b[0m \u001b[1;36moutputs using Group\\nRelative Policy Optimization. To enable the model to reason through text \u001b[0m                  \u001b[32m│\u001b[0m\n",
              "\u001b[32m│\u001b[0m \u001b[1;36mbefore\\ngenerating images, We automatically generate and release a corpus of model\\ncrafted rationales paired \u001b[0m  \u001b[32m│\u001b[0m\n",
              "\u001b[32m│\u001b[0m \u001b[1;36mwith visual prompts, enabling controlled planning of\\nobject layouts, styles, and scene compositions. Our GRPO \u001b[0m \u001b[32m│\u001b[0m\n",
              "\u001b[32m│\u001b[0m \u001b[1;36malgorithm uses reward\\nsignals from a pretrained vision language model to assess overall visual\\nquality, \u001b[0m      \u001b[32m│\u001b[0m\n",
              "\u001b[32m│\u001b[0m \u001b[1;36moptimizing the policy in each update. Evaluations on GenEval, DPG, and\\nthe T2I benchmark demonstrate that \u001b[0m     \u001b[32m│\u001b[0m\n",
              "\u001b[32m│\u001b[0m \u001b[1;36mReasonGen-R1 consistently outperforms strong\\nbaselines and prior state-of-the-art models. More: \u001b[0m               \u001b[32m│\u001b[0m\n",
              "\u001b[32m│\u001b[0m \u001b[1;36maka.ms/reasongen.\", \"comment\": null, \"journal_ref\": null, \"doi\": null, \"primary_category\": \"cs.CV\", \u001b[0m            \u001b[32m│\u001b[0m\n",
              "\u001b[32m│\u001b[0m \u001b[1;36m\"categories\": [\"cs.CV\", \"cs.CL\"], \"pdf_url\": \"http://arxiv.org/pdf/2505.24875v1\", \"abstract_url\": \u001b[0m              \u001b[32m│\u001b[0m\n",
              "\u001b[32m│\u001b[0m \u001b[1;36m\"https://arxiv.org/abs/2505.24875v1\"}, {\"arxiv_id\": \"2505.24874v1\", \"updated\": \"2025-05-30T17:59:46+00:00\", \u001b[0m    \u001b[32m│\u001b[0m\n",
              "\u001b[32m│\u001b[0m \u001b[1;36m\"published\": \"2025-05-30T17:59:46+00:00\", \"title\": \"The Road to Generalizable Neuro-Symbolic Learning Should be\u001b[0m \u001b[32m│\u001b[0m\n",
              "\u001b[32m│\u001b[0m \u001b[1;36mPaved with Foundation Models\", \"authors\": [\"Adam Stein\", \"Aaditya Naik\", \"Neelay Velingker\", \"Mayur Naik\", \u001b[0m     \u001b[32m│\u001b[0m\n",
              "\u001b[32m│\u001b[0m \u001b[1;36m\"Eric Wong\"], \"summary\": \"Neuro-symbolic learning was proposed to address challenges with training\\nneural \u001b[0m     \u001b[32m│\u001b[0m\n",
              "\u001b[32m│\u001b[0m \u001b[1;36mnetworks for complex reasoning tasks with the added benefits of\\ninterpretability, reliability, and efficiency.\u001b[0m \u001b[32m│\u001b[0m\n",
              "\u001b[32m│\u001b[0m \u001b[1;36mNeuro-symbolic learning methods\\ntraditionally train neural models in conjunction with symbolic programs, \u001b[0m      \u001b[32m│\u001b[0m\n",
              "\u001b[32m│\u001b[0m \u001b[1;36mbut\\nthey face significant challenges that limit them to simplistic problems. On the\\nother hand, purely-neural\u001b[0m \u001b[32m│\u001b[0m\n",
              "\u001b[32m│\u001b[0m \u001b[1;36mfoundation models now reach state-of-the-art\\nperformance through prompting rather than training, but they are \u001b[0m \u001b[32m│\u001b[0m\n",
              "\u001b[32m│\u001b[0m \u001b[1;36moften\\nunreliable and lack interpretability. Supplementing foundation models with\\nsymbolic programs, which we \u001b[0m \u001b[32m│\u001b[0m\n",
              "\u001b[32m│\u001b[0m \u001b[1;36mcall neuro-symbolic prompting, provides a way to\\nuse these models for complex reasoning tasks. Doing so raises\u001b[0m \u001b[32m│\u001b[0m\n",
              "\u001b[32m│\u001b[0m \u001b[1;36mthe question:\\nWhat role does specialized model training as part of neuro-symbolic learning\\nhave in the age of\u001b[0m \u001b[32m│\u001b[0m\n",
              "\u001b[32m│\u001b[0m \u001b[1;36mfoundation models? To explore this question, we highlight\\nthree pitfalls of traditional neuro-symbolic \u001b[0m        \u001b[32m│\u001b[0m\n",
              "\u001b[32m│\u001b[0m \u001b[1;36mlearning with respect to the\\ncompute, data, and programs leading to generalization problems. This \u001b[0m             \u001b[32m│\u001b[0m\n",
              "\u001b[32m│\u001b[0m \u001b[1;36mposition\\npaper argues that foundation models enable generalizable neuro-symbolic\\nsolutions, offering a path \u001b[0m  \u001b[32m│\u001b[0m\n",
              "\u001b[32m│\u001b[0m \u001b[1;36mtowards achieving the original goals of\\nneuro-symbolic learning without the downsides of training from \u001b[0m        \u001b[32m│\u001b[0m\n",
              "\u001b[32m│\u001b[0m \u001b[1;36mscratch.\", \"comment\": \"19 pages, 11 figures\", \"journal_ref\": null, \"doi\": null, \"primary_category\": \"cs.LG\", \u001b[0m   \u001b[32m│\u001b[0m\n",
              "\u001b[32m│\u001b[0m \u001b[1;36m\"categories\": [\"cs.LG\"], \"pdf_url\": \"http://arxiv.org/pdf/2505.24874v1\", \"abstract_url\": \u001b[0m                       \u001b[32m│\u001b[0m\n",
              "\u001b[32m│\u001b[0m \u001b[1;36m\"https://arxiv.org/abs/2505.24874v1\"}]\u001b[0m                                                                          \u001b[32m│\u001b[0m\n",
              "\u001b[32m╰─────────────────────────────────────────────────────────────────────────────────────────────────────────────────╯\u001b[0m\n"
            ],
            "text/html": [
              "<pre style=\"white-space:pre;overflow-x:auto;line-height:normal;font-family:Menlo,'DejaVu Sans Mono',consolas,'Courier New',monospace\"><span style=\"color: #008000; text-decoration-color: #008000\">╭─────────────────────────────────────────────────── Tool Call ───────────────────────────────────────────────────╮</span>\n",
              "<span style=\"color: #008000; text-decoration-color: #008000\">│</span> <span style=\"color: #008080; text-decoration-color: #008080; font-weight: bold\">Function 'search' returned: [{\"arxiv_id\": \"2505.24878v1\", \"updated\": \"2025-05-30T17:59:55+00:00\", \"published\": </span> <span style=\"color: #008000; text-decoration-color: #008000\">│</span>\n",
              "<span style=\"color: #008000; text-decoration-color: #008000\">│</span> <span style=\"color: #008080; text-decoration-color: #008080; font-weight: bold\">\"2025-05-30T17:59:55+00:00\", \"title\": \"Open CaptchaWorld: A Comprehensive Web-based Platform for Testing and </span>   <span style=\"color: #008000; text-decoration-color: #008000\">│</span>\n",
              "<span style=\"color: #008000; text-decoration-color: #008000\">│</span> <span style=\"color: #008080; text-decoration-color: #008080; font-weight: bold\">Benchmarking Multimodal LLM Agents\", \"authors\": [\"Yaxin Luo\", \"Zhaoyi Li\", \"Jiacheng Liu\", \"Jiacheng Cui\", </span>     <span style=\"color: #008000; text-decoration-color: #008000\">│</span>\n",
              "<span style=\"color: #008000; text-decoration-color: #008000\">│</span> <span style=\"color: #008080; text-decoration-color: #008080; font-weight: bold\">\"Xiaohan Zhao\", \"Zhiqiang Shen\"], \"summary\": \"CAPTCHAs have been a critical bottleneck for deploying web agents</span> <span style=\"color: #008000; text-decoration-color: #008000\">│</span>\n",
              "<span style=\"color: #008000; text-decoration-color: #008000\">│</span> <span style=\"color: #008080; text-decoration-color: #008080; font-weight: bold\">in\\nreal-world applications, often blocking them from completing end-to-end\\nautomation tasks. While modern </span>    <span style=\"color: #008000; text-decoration-color: #008000\">│</span>\n",
              "<span style=\"color: #008000; text-decoration-color: #008000\">│</span> <span style=\"color: #008080; text-decoration-color: #008080; font-weight: bold\">multimodal LLM agents have demonstrated\\nimpressive performance in static perception tasks, their ability to </span>   <span style=\"color: #008000; text-decoration-color: #008000\">│</span>\n",
              "<span style=\"color: #008000; text-decoration-color: #008000\">│</span> <span style=\"color: #008080; text-decoration-color: #008080; font-weight: bold\">handle\\ninteractive, multi-step reasoning challenges like CAPTCHAs is largely untested.\\nTo address this gap, </span>  <span style=\"color: #008000; text-decoration-color: #008000\">│</span>\n",
              "<span style=\"color: #008000; text-decoration-color: #008000\">│</span> <span style=\"color: #008080; text-decoration-color: #008080; font-weight: bold\">we introduce Open CaptchaWorld, the first web-based\\nbenchmark and platform specifically designed to evaluate </span>  <span style=\"color: #008000; text-decoration-color: #008000\">│</span>\n",
              "<span style=\"color: #008000; text-decoration-color: #008000\">│</span> <span style=\"color: #008080; text-decoration-color: #008080; font-weight: bold\">the visual reasoning\\nand interaction capabilities of MLLM-powered agents through diverse and dynamic\\nCAPTCHA </span> <span style=\"color: #008000; text-decoration-color: #008000\">│</span>\n",
              "<span style=\"color: #008000; text-decoration-color: #008000\">│</span> <span style=\"color: #008080; text-decoration-color: #008080; font-weight: bold\">puzzles. Our benchmark spans 20 modern CAPTCHA types, totaling 225\\nCAPTCHAs, annotated with a new metric we </span>   <span style=\"color: #008000; text-decoration-color: #008000\">│</span>\n",
              "<span style=\"color: #008000; text-decoration-color: #008000\">│</span> <span style=\"color: #008080; text-decoration-color: #008080; font-weight: bold\">propose: CAPTCHA Reasoning Depth,\\nwhich quantifies the number of cognitive and motor steps required to solve </span>  <span style=\"color: #008000; text-decoration-color: #008000\">│</span>\n",
              "<span style=\"color: #008000; text-decoration-color: #008000\">│</span> <span style=\"color: #008080; text-decoration-color: #008080; font-weight: bold\">each\\npuzzle. Experimental results show that humans consistently achieve near-perfect\\nscores, state-of-the-art</span> <span style=\"color: #008000; text-decoration-color: #008000\">│</span>\n",
              "<span style=\"color: #008000; text-decoration-color: #008000\">│</span> <span style=\"color: #008080; text-decoration-color: #008080; font-weight: bold\">MLLM agents struggle significantly, with success rates\\nat most 40.0% by Browser-Use Openai-o3, far below </span>      <span style=\"color: #008000; text-decoration-color: #008000\">│</span>\n",
              "<span style=\"color: #008000; text-decoration-color: #008000\">│</span> <span style=\"color: #008080; text-decoration-color: #008080; font-weight: bold\">human-level performance,\\n93.3%. This highlights Open CaptchaWorld as a vital benchmark for diagnosing\\nthe </span>    <span style=\"color: #008000; text-decoration-color: #008000\">│</span>\n",
              "<span style=\"color: #008000; text-decoration-color: #008000\">│</span> <span style=\"color: #008080; text-decoration-color: #008080; font-weight: bold\">limits of current multimodal agents and guiding the development of more\\nrobust multimodal reasoning systems. </span>  <span style=\"color: #008000; text-decoration-color: #008000\">│</span>\n",
              "<span style=\"color: #008000; text-decoration-color: #008000\">│</span> <span style=\"color: #008080; text-decoration-color: #008080; font-weight: bold\">Code and Data are available at this https\\nURL.\", \"comment\": \"Code at: </span>                                         <span style=\"color: #008000; text-decoration-color: #008000\">│</span>\n",
              "<span style=\"color: #008000; text-decoration-color: #008000\">│</span> <span style=\"color: #008080; text-decoration-color: #008080; font-weight: bold\">https://github.com/MetaAgentX/OpenCaptchaWorld\", \"journal_ref\": null, \"doi\": null, \"primary_category\": \"cs.AI\",</span> <span style=\"color: #008000; text-decoration-color: #008000\">│</span>\n",
              "<span style=\"color: #008000; text-decoration-color: #008000\">│</span> <span style=\"color: #008080; text-decoration-color: #008080; font-weight: bold\">\"categories\": [\"cs.AI\", \"cs.CL\", \"cs.CV\", \"cs.LG\"], \"pdf_url\": \"http://arxiv.org/pdf/2505.24878v1\", </span>            <span style=\"color: #008000; text-decoration-color: #008000\">│</span>\n",
              "<span style=\"color: #008000; text-decoration-color: #008000\">│</span> <span style=\"color: #008080; text-decoration-color: #008080; font-weight: bold\">\"abstract_url\": \"https://arxiv.org/abs/2505.24878v1\"}, {\"arxiv_id\": \"2505.24877v1\", \"updated\": </span>                 <span style=\"color: #008000; text-decoration-color: #008000\">│</span>\n",
              "<span style=\"color: #008000; text-decoration-color: #008000\">│</span> <span style=\"color: #008080; text-decoration-color: #008080; font-weight: bold\">\"2025-05-30T17:59:54+00:00\", \"published\": \"2025-05-30T17:59:54+00:00\", \"title\": \"AdaHuman: Animatable Detailed </span> <span style=\"color: #008000; text-decoration-color: #008000\">│</span>\n",
              "<span style=\"color: #008000; text-decoration-color: #008000\">│</span> <span style=\"color: #008080; text-decoration-color: #008080; font-weight: bold\">3D Human Generation with Compositional Multiview Diffusion\", \"authors\": [\"Yangyi Huang\", \"Ye Yuan\", \"Xueting </span>   <span style=\"color: #008000; text-decoration-color: #008000\">│</span>\n",
              "<span style=\"color: #008000; text-decoration-color: #008000\">│</span> <span style=\"color: #008080; text-decoration-color: #008080; font-weight: bold\">Li\", \"Jan Kautz\", \"Umar Iqbal\"], \"summary\": \"Existing methods for image-to-3D avatar generation struggle to </span>    <span style=\"color: #008000; text-decoration-color: #008000\">│</span>\n",
              "<span style=\"color: #008000; text-decoration-color: #008000\">│</span> <span style=\"color: #008080; text-decoration-color: #008080; font-weight: bold\">produce highly\\ndetailed, animation-ready avatars suitable for real-world applications. We\\nintroduce AdaHuman,</span> <span style=\"color: #008000; text-decoration-color: #008000\">│</span>\n",
              "<span style=\"color: #008000; text-decoration-color: #008000\">│</span> <span style=\"color: #008080; text-decoration-color: #008080; font-weight: bold\">a novel framework that generates high-fidelity animatable\\n3D avatars from a single in-the-wild image. AdaHuman</span> <span style=\"color: #008000; text-decoration-color: #008000\">│</span>\n",
              "<span style=\"color: #008000; text-decoration-color: #008000\">│</span> <span style=\"color: #008080; text-decoration-color: #008080; font-weight: bold\">incorporates two key\\ninnovations: (1) A pose-conditioned 3D joint diffusion model that synthesizes\\nconsistent</span> <span style=\"color: #008000; text-decoration-color: #008000\">│</span>\n",
              "<span style=\"color: #008000; text-decoration-color: #008000\">│</span> <span style=\"color: #008080; text-decoration-color: #008080; font-weight: bold\">multi-view images in arbitrary poses alongside corresponding 3D\\nGaussian Splats (3DGS) reconstruction at each </span> <span style=\"color: #008000; text-decoration-color: #008000\">│</span>\n",
              "<span style=\"color: #008000; text-decoration-color: #008000\">│</span> <span style=\"color: #008080; text-decoration-color: #008080; font-weight: bold\">diffusion step; (2) A\\ncompositional 3DGS refinement module that enhances the details of local body\\nparts </span>     <span style=\"color: #008000; text-decoration-color: #008000\">│</span>\n",
              "<span style=\"color: #008000; text-decoration-color: #008000\">│</span> <span style=\"color: #008080; text-decoration-color: #008080; font-weight: bold\">through image-to-image refinement and seamlessly integrates them using a\\nnovel crop-aware camera ray map, </span>     <span style=\"color: #008000; text-decoration-color: #008000\">│</span>\n",
              "<span style=\"color: #008000; text-decoration-color: #008000\">│</span> <span style=\"color: #008080; text-decoration-color: #008080; font-weight: bold\">producing a cohesive detailed 3D avatar. These\\ncomponents allow AdaHuman to generate highly realistic </span>         <span style=\"color: #008000; text-decoration-color: #008000\">│</span>\n",
              "<span style=\"color: #008000; text-decoration-color: #008000\">│</span> <span style=\"color: #008080; text-decoration-color: #008080; font-weight: bold\">standardized A-pose\\navatars with minimal self-occlusion, enabling rigging and animation with any\\ninput </span>       <span style=\"color: #008000; text-decoration-color: #008000\">│</span>\n",
              "<span style=\"color: #008000; text-decoration-color: #008000\">│</span> <span style=\"color: #008080; text-decoration-color: #008080; font-weight: bold\">motion. Extensive evaluation on public benchmarks and in-the-wild images\\ndemonstrates that AdaHuman </span>           <span style=\"color: #008000; text-decoration-color: #008000\">│</span>\n",
              "<span style=\"color: #008000; text-decoration-color: #008000\">│</span> <span style=\"color: #008080; text-decoration-color: #008080; font-weight: bold\">significantly outperforms state-of-the-art methods\\nin both avatar reconstruction and reposing. Code and models</span> <span style=\"color: #008000; text-decoration-color: #008000\">│</span>\n",
              "<span style=\"color: #008000; text-decoration-color: #008000\">│</span> <span style=\"color: #008080; text-decoration-color: #008080; font-weight: bold\">will be publicly\\navailable for research purposes.\", \"comment\": \"Website: https://nvlabs.github.io/AdaHuman\", </span>  <span style=\"color: #008000; text-decoration-color: #008000\">│</span>\n",
              "<span style=\"color: #008000; text-decoration-color: #008000\">│</span> <span style=\"color: #008080; text-decoration-color: #008080; font-weight: bold\">\"journal_ref\": null, \"doi\": null, \"primary_category\": \"cs.CV\", \"categories\": [\"cs.CV\"], \"pdf_url\": </span>             <span style=\"color: #008000; text-decoration-color: #008000\">│</span>\n",
              "<span style=\"color: #008000; text-decoration-color: #008000\">│</span> <span style=\"color: #008080; text-decoration-color: #008080; font-weight: bold\">\"http://arxiv.org/pdf/2505.24877v1\", \"abstract_url\": \"https://arxiv.org/abs/2505.24877v1\"}, {\"arxiv_id\": </span>       <span style=\"color: #008000; text-decoration-color: #008000\">│</span>\n",
              "<span style=\"color: #008000; text-decoration-color: #008000\">│</span> <span style=\"color: #008080; text-decoration-color: #008080; font-weight: bold\">\"2505.24876v1\", \"updated\": \"2025-05-30T17:59:53+00:00\", \"published\": \"2025-05-30T17:59:53+00:00\", \"title\": </span>     <span style=\"color: #008000; text-decoration-color: #008000\">│</span>\n",
              "<span style=\"color: #008000; text-decoration-color: #008000\">│</span> <span style=\"color: #008080; text-decoration-color: #008080; font-weight: bold\">\"Agent-X: Evaluating Deep Multimodal Reasoning in Vision-Centric Agentic Tasks\", \"authors\": [\"Tajamul Ashraf\", </span> <span style=\"color: #008000; text-decoration-color: #008000\">│</span>\n",
              "<span style=\"color: #008000; text-decoration-color: #008000\">│</span> <span style=\"color: #008080; text-decoration-color: #008080; font-weight: bold\">\"Amal Saqib\", \"Hanan Ghani\", \"Muhra AlMahri\", \"Yuhao Li\", \"Noor Ahsan\", \"Umair Nawaz\", \"Jean Lahoud\", \"Hisham </span>  <span style=\"color: #008000; text-decoration-color: #008000\">│</span>\n",
              "<span style=\"color: #008000; text-decoration-color: #008000\">│</span> <span style=\"color: #008080; text-decoration-color: #008080; font-weight: bold\">Cholakkal\", \"Mubarak Shah\", \"Philip Torr\", \"Fahad Shahbaz Khan\", \"Rao Muhammad Anwer\", \"Salman Khan\"], </span>         <span style=\"color: #008000; text-decoration-color: #008000\">│</span>\n",
              "<span style=\"color: #008000; text-decoration-color: #008000\">│</span> <span style=\"color: #008080; text-decoration-color: #008080; font-weight: bold\">\"summary\": \"Deep reasoning is fundamental for solving complex tasks, especially in\\nvision-centric scenarios </span>   <span style=\"color: #008000; text-decoration-color: #008000\">│</span>\n",
              "<span style=\"color: #008000; text-decoration-color: #008000\">│</span> <span style=\"color: #008080; text-decoration-color: #008080; font-weight: bold\">that demand sequential, multimodal understanding.\\nHowever, existing benchmarks typically evaluate agents with </span> <span style=\"color: #008000; text-decoration-color: #008000\">│</span>\n",
              "<span style=\"color: #008000; text-decoration-color: #008000\">│</span> <span style=\"color: #008080; text-decoration-color: #008080; font-weight: bold\">fully synthetic,\\nsingle-turn queries, limited visual modalities, and lack a framework to assess\\nreasoning </span>    <span style=\"color: #008000; text-decoration-color: #008000\">│</span>\n",
              "<span style=\"color: #008000; text-decoration-color: #008000\">│</span> <span style=\"color: #008080; text-decoration-color: #008080; font-weight: bold\">quality over multiple steps as required in real-world settings. To\\naddress this, we introduce Agent-X, a </span>      <span style=\"color: #008000; text-decoration-color: #008000\">│</span>\n",
              "<span style=\"color: #008000; text-decoration-color: #008000\">│</span> <span style=\"color: #008080; text-decoration-color: #008080; font-weight: bold\">large-scale benchmark for evaluating\\nvision-centric agents multi-step and deep reasoning capabilities in </span>      <span style=\"color: #008000; text-decoration-color: #008000\">│</span>\n",
              "<span style=\"color: #008000; text-decoration-color: #008000\">│</span> <span style=\"color: #008080; text-decoration-color: #008080; font-weight: bold\">real-world,\\nmultimodal settings. Agent- X features 828 agentic tasks with authentic visual\\ncontexts, </span>         <span style=\"color: #008000; text-decoration-color: #008000\">│</span>\n",
              "<span style=\"color: #008000; text-decoration-color: #008000\">│</span> <span style=\"color: #008080; text-decoration-color: #008080; font-weight: bold\">including images, multi-image comparisons, videos, and instructional\\ntext. These tasks span six major agentic </span> <span style=\"color: #008000; text-decoration-color: #008000\">│</span>\n",
              "<span style=\"color: #008000; text-decoration-color: #008000\">│</span> <span style=\"color: #008080; text-decoration-color: #008080; font-weight: bold\">environments: general visual\\nreasoning, web browsing, security and surveillance, autonomous driving, </span>          <span style=\"color: #008000; text-decoration-color: #008000\">│</span>\n",
              "<span style=\"color: #008000; text-decoration-color: #008000\">│</span> <span style=\"color: #008080; text-decoration-color: #008080; font-weight: bold\">sports,\\nand math reasoning. Our benchmark requires agents to integrate tool use with\\nexplicit, stepwise </span>      <span style=\"color: #008000; text-decoration-color: #008000\">│</span>\n",
              "<span style=\"color: #008000; text-decoration-color: #008000\">│</span> <span style=\"color: #008080; text-decoration-color: #008080; font-weight: bold\">decision-making in these diverse settings. In addition, we\\npropose a fine-grained, step-level evaluation </span>      <span style=\"color: #008000; text-decoration-color: #008000\">│</span>\n",
              "<span style=\"color: #008000; text-decoration-color: #008000\">│</span> <span style=\"color: #008080; text-decoration-color: #008080; font-weight: bold\">framework that assesses the\\ncorrectness and logical coherence of each reasoning step and the effectiveness\\nof</span> <span style=\"color: #008000; text-decoration-color: #008000\">│</span>\n",
              "<span style=\"color: #008000; text-decoration-color: #008000\">│</span> <span style=\"color: #008080; text-decoration-color: #008080; font-weight: bold\">tool usage throughout the task. Our results reveal that even the\\nbest-performing models, including GPT, </span>       <span style=\"color: #008000; text-decoration-color: #008000\">│</span>\n",
              "<span style=\"color: #008000; text-decoration-color: #008000\">│</span> <span style=\"color: #008080; text-decoration-color: #008080; font-weight: bold\">Gemini, and Qwen families, struggle to\\nsolve multi-step vision tasks, achieving less than 50% full-chain </span>      <span style=\"color: #008000; text-decoration-color: #008000\">│</span>\n",
              "<span style=\"color: #008000; text-decoration-color: #008000\">│</span> <span style=\"color: #008080; text-decoration-color: #008080; font-weight: bold\">success.\\nThese findings highlight key bottlenecks in current LMM reasoning and tool-use\\ncapabilities and </span>     <span style=\"color: #008000; text-decoration-color: #008000\">│</span>\n",
              "<span style=\"color: #008000; text-decoration-color: #008000\">│</span> <span style=\"color: #008080; text-decoration-color: #008080; font-weight: bold\">identify future research directions in vision-centric agentic\\nreasoning models. Our data and code are publicly</span> <span style=\"color: #008000; text-decoration-color: #008000\">│</span>\n",
              "<span style=\"color: #008000; text-decoration-color: #008000\">│</span> <span style=\"color: #008080; text-decoration-color: #008080; font-weight: bold\">available at\\nhttps://github.com/mbzuai-oryx/Agent-X\", \"comment\": null, \"journal_ref\": null, \"doi\": null, </span>      <span style=\"color: #008000; text-decoration-color: #008000\">│</span>\n",
              "<span style=\"color: #008000; text-decoration-color: #008000\">│</span> <span style=\"color: #008080; text-decoration-color: #008080; font-weight: bold\">\"primary_category\": \"cs.CV\", \"categories\": [\"cs.CV\", \"cs.CL\"], \"pdf_url\": \"http://arxiv.org/pdf/2505.24876v1\", </span> <span style=\"color: #008000; text-decoration-color: #008000\">│</span>\n",
              "<span style=\"color: #008000; text-decoration-color: #008000\">│</span> <span style=\"color: #008080; text-decoration-color: #008080; font-weight: bold\">\"abstract_url\": \"https://arxiv.org/abs/2505.24876v1\"}, {\"arxiv_id\": \"2505.24875v1\", \"updated\": </span>                 <span style=\"color: #008000; text-decoration-color: #008000\">│</span>\n",
              "<span style=\"color: #008000; text-decoration-color: #008000\">│</span> <span style=\"color: #008080; text-decoration-color: #008080; font-weight: bold\">\"2025-05-30T17:59:48+00:00\", \"published\": \"2025-05-30T17:59:48+00:00\", \"title\": \"ReasonGen-R1: CoT for </span>         <span style=\"color: #008000; text-decoration-color: #008000\">│</span>\n",
              "<span style=\"color: #008000; text-decoration-color: #008000\">│</span> <span style=\"color: #008080; text-decoration-color: #008080; font-weight: bold\">Autoregressive Image generation models through SFT and RL\", \"authors\": [\"Yu Zhang\", \"Yunqi Li\", \"Yifan Yang\", </span>  <span style=\"color: #008000; text-decoration-color: #008000\">│</span>\n",
              "<span style=\"color: #008000; text-decoration-color: #008000\">│</span> <span style=\"color: #008080; text-decoration-color: #008080; font-weight: bold\">\"Rui Wang\", \"Yuqing Yang\", \"Dai Qi\", \"Jianmin Bao\", \"Dongdong Chen\", \"Chong Luo\", \"Lili Qiu\"], \"summary\": </span>      <span style=\"color: #008000; text-decoration-color: #008000\">│</span>\n",
              "<span style=\"color: #008000; text-decoration-color: #008000\">│</span> <span style=\"color: #008080; text-decoration-color: #008080; font-weight: bold\">\"Although chain-of-thought reasoning and reinforcement learning (RL) have\\ndriven breakthroughs in NLP, their </span>  <span style=\"color: #008000; text-decoration-color: #008000\">│</span>\n",
              "<span style=\"color: #008000; text-decoration-color: #008000\">│</span> <span style=\"color: #008080; text-decoration-color: #008080; font-weight: bold\">integration into generative vision models\\nremains underexplored. We introduce ReasonGen-R1, a two-stage </span>       <span style=\"color: #008000; text-decoration-color: #008000\">│</span>\n",
              "<span style=\"color: #008000; text-decoration-color: #008000\">│</span> <span style=\"color: #008080; text-decoration-color: #008080; font-weight: bold\">framework that\\nfirst imbues an autoregressive image generator with explicit text-based\\n\\\"thinking\\\" skills </span>   <span style=\"color: #008000; text-decoration-color: #008000\">│</span>\n",
              "<span style=\"color: #008000; text-decoration-color: #008000\">│</span> <span style=\"color: #008080; text-decoration-color: #008080; font-weight: bold\">via supervised fine-tuning on a newly generated reasoning\\ndataset of written rationales, and then refines its </span> <span style=\"color: #008000; text-decoration-color: #008000\">│</span>\n",
              "<span style=\"color: #008000; text-decoration-color: #008000\">│</span> <span style=\"color: #008080; text-decoration-color: #008080; font-weight: bold\">outputs using Group\\nRelative Policy Optimization. To enable the model to reason through text </span>                  <span style=\"color: #008000; text-decoration-color: #008000\">│</span>\n",
              "<span style=\"color: #008000; text-decoration-color: #008000\">│</span> <span style=\"color: #008080; text-decoration-color: #008080; font-weight: bold\">before\\ngenerating images, We automatically generate and release a corpus of model\\ncrafted rationales paired </span>  <span style=\"color: #008000; text-decoration-color: #008000\">│</span>\n",
              "<span style=\"color: #008000; text-decoration-color: #008000\">│</span> <span style=\"color: #008080; text-decoration-color: #008080; font-weight: bold\">with visual prompts, enabling controlled planning of\\nobject layouts, styles, and scene compositions. Our GRPO </span> <span style=\"color: #008000; text-decoration-color: #008000\">│</span>\n",
              "<span style=\"color: #008000; text-decoration-color: #008000\">│</span> <span style=\"color: #008080; text-decoration-color: #008080; font-weight: bold\">algorithm uses reward\\nsignals from a pretrained vision language model to assess overall visual\\nquality, </span>      <span style=\"color: #008000; text-decoration-color: #008000\">│</span>\n",
              "<span style=\"color: #008000; text-decoration-color: #008000\">│</span> <span style=\"color: #008080; text-decoration-color: #008080; font-weight: bold\">optimizing the policy in each update. Evaluations on GenEval, DPG, and\\nthe T2I benchmark demonstrate that </span>     <span style=\"color: #008000; text-decoration-color: #008000\">│</span>\n",
              "<span style=\"color: #008000; text-decoration-color: #008000\">│</span> <span style=\"color: #008080; text-decoration-color: #008080; font-weight: bold\">ReasonGen-R1 consistently outperforms strong\\nbaselines and prior state-of-the-art models. More: </span>               <span style=\"color: #008000; text-decoration-color: #008000\">│</span>\n",
              "<span style=\"color: #008000; text-decoration-color: #008000\">│</span> <span style=\"color: #008080; text-decoration-color: #008080; font-weight: bold\">aka.ms/reasongen.\", \"comment\": null, \"journal_ref\": null, \"doi\": null, \"primary_category\": \"cs.CV\", </span>            <span style=\"color: #008000; text-decoration-color: #008000\">│</span>\n",
              "<span style=\"color: #008000; text-decoration-color: #008000\">│</span> <span style=\"color: #008080; text-decoration-color: #008080; font-weight: bold\">\"categories\": [\"cs.CV\", \"cs.CL\"], \"pdf_url\": \"http://arxiv.org/pdf/2505.24875v1\", \"abstract_url\": </span>              <span style=\"color: #008000; text-decoration-color: #008000\">│</span>\n",
              "<span style=\"color: #008000; text-decoration-color: #008000\">│</span> <span style=\"color: #008080; text-decoration-color: #008080; font-weight: bold\">\"https://arxiv.org/abs/2505.24875v1\"}, {\"arxiv_id\": \"2505.24874v1\", \"updated\": \"2025-05-30T17:59:46+00:00\", </span>    <span style=\"color: #008000; text-decoration-color: #008000\">│</span>\n",
              "<span style=\"color: #008000; text-decoration-color: #008000\">│</span> <span style=\"color: #008080; text-decoration-color: #008080; font-weight: bold\">\"published\": \"2025-05-30T17:59:46+00:00\", \"title\": \"The Road to Generalizable Neuro-Symbolic Learning Should be</span> <span style=\"color: #008000; text-decoration-color: #008000\">│</span>\n",
              "<span style=\"color: #008000; text-decoration-color: #008000\">│</span> <span style=\"color: #008080; text-decoration-color: #008080; font-weight: bold\">Paved with Foundation Models\", \"authors\": [\"Adam Stein\", \"Aaditya Naik\", \"Neelay Velingker\", \"Mayur Naik\", </span>     <span style=\"color: #008000; text-decoration-color: #008000\">│</span>\n",
              "<span style=\"color: #008000; text-decoration-color: #008000\">│</span> <span style=\"color: #008080; text-decoration-color: #008080; font-weight: bold\">\"Eric Wong\"], \"summary\": \"Neuro-symbolic learning was proposed to address challenges with training\\nneural </span>     <span style=\"color: #008000; text-decoration-color: #008000\">│</span>\n",
              "<span style=\"color: #008000; text-decoration-color: #008000\">│</span> <span style=\"color: #008080; text-decoration-color: #008080; font-weight: bold\">networks for complex reasoning tasks with the added benefits of\\ninterpretability, reliability, and efficiency.</span> <span style=\"color: #008000; text-decoration-color: #008000\">│</span>\n",
              "<span style=\"color: #008000; text-decoration-color: #008000\">│</span> <span style=\"color: #008080; text-decoration-color: #008080; font-weight: bold\">Neuro-symbolic learning methods\\ntraditionally train neural models in conjunction with symbolic programs, </span>      <span style=\"color: #008000; text-decoration-color: #008000\">│</span>\n",
              "<span style=\"color: #008000; text-decoration-color: #008000\">│</span> <span style=\"color: #008080; text-decoration-color: #008080; font-weight: bold\">but\\nthey face significant challenges that limit them to simplistic problems. On the\\nother hand, purely-neural</span> <span style=\"color: #008000; text-decoration-color: #008000\">│</span>\n",
              "<span style=\"color: #008000; text-decoration-color: #008000\">│</span> <span style=\"color: #008080; text-decoration-color: #008080; font-weight: bold\">foundation models now reach state-of-the-art\\nperformance through prompting rather than training, but they are </span> <span style=\"color: #008000; text-decoration-color: #008000\">│</span>\n",
              "<span style=\"color: #008000; text-decoration-color: #008000\">│</span> <span style=\"color: #008080; text-decoration-color: #008080; font-weight: bold\">often\\nunreliable and lack interpretability. Supplementing foundation models with\\nsymbolic programs, which we </span> <span style=\"color: #008000; text-decoration-color: #008000\">│</span>\n",
              "<span style=\"color: #008000; text-decoration-color: #008000\">│</span> <span style=\"color: #008080; text-decoration-color: #008080; font-weight: bold\">call neuro-symbolic prompting, provides a way to\\nuse these models for complex reasoning tasks. Doing so raises</span> <span style=\"color: #008000; text-decoration-color: #008000\">│</span>\n",
              "<span style=\"color: #008000; text-decoration-color: #008000\">│</span> <span style=\"color: #008080; text-decoration-color: #008080; font-weight: bold\">the question:\\nWhat role does specialized model training as part of neuro-symbolic learning\\nhave in the age of</span> <span style=\"color: #008000; text-decoration-color: #008000\">│</span>\n",
              "<span style=\"color: #008000; text-decoration-color: #008000\">│</span> <span style=\"color: #008080; text-decoration-color: #008080; font-weight: bold\">foundation models? To explore this question, we highlight\\nthree pitfalls of traditional neuro-symbolic </span>        <span style=\"color: #008000; text-decoration-color: #008000\">│</span>\n",
              "<span style=\"color: #008000; text-decoration-color: #008000\">│</span> <span style=\"color: #008080; text-decoration-color: #008080; font-weight: bold\">learning with respect to the\\ncompute, data, and programs leading to generalization problems. This </span>             <span style=\"color: #008000; text-decoration-color: #008000\">│</span>\n",
              "<span style=\"color: #008000; text-decoration-color: #008000\">│</span> <span style=\"color: #008080; text-decoration-color: #008080; font-weight: bold\">position\\npaper argues that foundation models enable generalizable neuro-symbolic\\nsolutions, offering a path </span>  <span style=\"color: #008000; text-decoration-color: #008000\">│</span>\n",
              "<span style=\"color: #008000; text-decoration-color: #008000\">│</span> <span style=\"color: #008080; text-decoration-color: #008080; font-weight: bold\">towards achieving the original goals of\\nneuro-symbolic learning without the downsides of training from </span>        <span style=\"color: #008000; text-decoration-color: #008000\">│</span>\n",
              "<span style=\"color: #008000; text-decoration-color: #008000\">│</span> <span style=\"color: #008080; text-decoration-color: #008080; font-weight: bold\">scratch.\", \"comment\": \"19 pages, 11 figures\", \"journal_ref\": null, \"doi\": null, \"primary_category\": \"cs.LG\", </span>   <span style=\"color: #008000; text-decoration-color: #008000\">│</span>\n",
              "<span style=\"color: #008000; text-decoration-color: #008000\">│</span> <span style=\"color: #008080; text-decoration-color: #008080; font-weight: bold\">\"categories\": [\"cs.LG\"], \"pdf_url\": \"http://arxiv.org/pdf/2505.24874v1\", \"abstract_url\": </span>                       <span style=\"color: #008000; text-decoration-color: #008000\">│</span>\n",
              "<span style=\"color: #008000; text-decoration-color: #008000\">│</span> <span style=\"color: #008080; text-decoration-color: #008080; font-weight: bold\">\"https://arxiv.org/abs/2505.24874v1\"}]</span>                                                                          <span style=\"color: #008000; text-decoration-color: #008000\">│</span>\n",
              "<span style=\"color: #008000; text-decoration-color: #008000\">╰─────────────────────────────────────────────────────────────────────────────────────────────────────────────────╯</span>\n",
              "</pre>\n"
            ]
          },
          "metadata": {}
        },
        {
          "output_type": "display_data",
          "data": {
            "text/plain": [
              "Output()"
            ],
            "application/vnd.jupyter.widget-view+json": {
              "version_major": 2,
              "version_minor": 0,
              "model_id": "d700349d5de34b289623630b29fe8e37"
            }
          },
          "metadata": {}
        },
        {
          "output_type": "display_data",
          "data": {
            "text/plain": [],
            "text/html": [
              "<pre style=\"white-space:pre;overflow-x:auto;line-height:normal;font-family:Menlo,'DejaVu Sans Mono',consolas,'Courier New',monospace\"></pre>\n"
            ]
          },
          "metadata": {}
        },
        {
          "output_type": "display_data",
          "data": {
            "text/plain": [
              "\n"
            ],
            "text/html": [
              "<pre style=\"white-space:pre;overflow-x:auto;line-height:normal;font-family:Menlo,'DejaVu Sans Mono',consolas,'Courier New',monospace\">\n",
              "</pre>\n"
            ]
          },
          "metadata": {}
        },
        {
          "output_type": "display_data",
          "data": {
            "text/plain": [
              "\u001b[2mResponse generated in 18.4s\u001b[0m\n"
            ],
            "text/html": [
              "<pre style=\"white-space:pre;overflow-x:auto;line-height:normal;font-family:Menlo,'DejaVu Sans Mono',consolas,'Courier New',monospace\"><span style=\"color: #7f7f7f; text-decoration-color: #7f7f7f\">Response generated in 18.4s</span>\n",
              "</pre>\n"
            ]
          },
          "metadata": {}
        },
        {
          "output_type": "display_data",
          "data": {
            "text/plain": [
              "\u001b[36m╭─\u001b[0m\u001b[36m────────────────────────────────────────────────────\u001b[0m\u001b[36m Task \u001b[0m\u001b[36m─────────────────────────────────────────────────────\u001b[0m\u001b[36m─╮\u001b[0m\n",
              "\u001b[36m│\u001b[0m You need to do the following task: Search for papers on 'transformer models in NLP' from the last year..        \u001b[36m│\u001b[0m\n",
              "\u001b[36m│\u001b[0m Expected Output: List of relevant papers with abstracts and key findings.. Please provide only the final result \u001b[36m│\u001b[0m\n",
              "\u001b[36m│\u001b[0m of your work. Do not add any conversation or extra explanation.                                                 \u001b[36m│\u001b[0m\n",
              "\u001b[36m╰─────────────────────────────────────────────────────────────────────────────────────────────────────────────────╯\u001b[0m\n"
            ],
            "text/html": [
              "<pre style=\"white-space:pre;overflow-x:auto;line-height:normal;font-family:Menlo,'DejaVu Sans Mono',consolas,'Courier New',monospace\"><span style=\"color: #008080; text-decoration-color: #008080\">╭───────────────────────────────────────────────────── Task ──────────────────────────────────────────────────────╮</span>\n",
              "<span style=\"color: #008080; text-decoration-color: #008080\">│</span> You need to do the following task: Search for papers on 'transformer models in NLP' from the last year..        <span style=\"color: #008080; text-decoration-color: #008080\">│</span>\n",
              "<span style=\"color: #008080; text-decoration-color: #008080\">│</span> Expected Output: List of relevant papers with abstracts and key findings.. Please provide only the final result <span style=\"color: #008080; text-decoration-color: #008080\">│</span>\n",
              "<span style=\"color: #008080; text-decoration-color: #008080\">│</span> of your work. Do not add any conversation or extra explanation.                                                 <span style=\"color: #008080; text-decoration-color: #008080\">│</span>\n",
              "<span style=\"color: #008080; text-decoration-color: #008080\">╰─────────────────────────────────────────────────────────────────────────────────────────────────────────────────╯</span>\n",
              "</pre>\n"
            ]
          },
          "metadata": {}
        },
        {
          "output_type": "display_data",
          "data": {
            "text/plain": [
              "\u001b[36m╭─\u001b[0m\u001b[36m──────────────────────────────────────────────────\u001b[0m\u001b[36m Response \u001b[0m\u001b[36m───────────────────────────────────────────────────\u001b[0m\u001b[36m─╮\u001b[0m\n",
              "\u001b[36m│\u001b[0m Here are some recent papers on \"transformer models in NLP\" from the last year:                                  \u001b[36m│\u001b[0m\n",
              "\u001b[36m│\u001b[0m                                                                                                                 \u001b[36m│\u001b[0m\n",
              "\u001b[36m│\u001b[0m \u001b[1;33m 1 \u001b[0m\u001b[1mTitle:\u001b[0m Open CaptchaWorld: A Comprehensive Web-based Platform for Testing and Benchmarking Multimodal LLM     \u001b[36m│\u001b[0m\n",
              "\u001b[36m│\u001b[0m \u001b[1;33m   \u001b[0mAgents                                                                                                       \u001b[36m│\u001b[0m\n",
              "\u001b[36m│\u001b[0m \u001b[1;33m   \u001b[0m\u001b[1;33m • \u001b[0m\u001b[1mAuthors:\u001b[0m Yaxin Luo, Zhaoyi Li, Jiacheng Liu, Jiacheng Cui, Xiaohan Zhao, Zhiqiang Shen                    \u001b[36m│\u001b[0m\n",
              "\u001b[36m│\u001b[0m \u001b[1;33m   \u001b[0m\u001b[1;33m • \u001b[0m\u001b[1mAbstract:\u001b[0m This paper introduces Open CaptchaWorld, a platform designed to evaluate the visual reasoning   \u001b[36m│\u001b[0m\n",
              "\u001b[36m│\u001b[0m \u001b[1;33m   \u001b[0m\u001b[1;33m   \u001b[0mand interaction capabilities of multimodal LLM agents through CAPTCHA puzzles. The benchmark includes 20  \u001b[36m│\u001b[0m\n",
              "\u001b[36m│\u001b[0m \u001b[1;33m   \u001b[0m\u001b[1;33m   \u001b[0mmodern CAPTCHA types and highlights the challenges faced by current multimodal agents.                    \u001b[36m│\u001b[0m\n",
              "\u001b[36m│\u001b[0m \u001b[1;33m   \u001b[0m\u001b[1;33m • \u001b[0m\u001b[1mKey Findings:\u001b[0m Humans achieve near-perfect scores on CAPTCHAs, while state-of-the-art MLLM agents struggle \u001b[36m│\u001b[0m\n",
              "\u001b[36m│\u001b[0m \u001b[1;33m   \u001b[0m\u001b[1;33m   \u001b[0msignificantly, with success rates far below human-level performance.                                      \u001b[36m│\u001b[0m\n",
              "\u001b[36m│\u001b[0m \u001b[1;33m   \u001b[0m\u001b[1;33m • \u001b[0m\u001b]8;id=530000;http://arxiv.org/pdf/2505.24878v1\u001b\\\u001b[4;34mPDF\u001b[0m\u001b]8;;\u001b\\ | \u001b]8;id=930350;https://arxiv.org/abs/2505.24878v1\u001b\\\u001b[4;34mAbstract\u001b[0m\u001b]8;;\u001b\\                                                                                            \u001b[36m│\u001b[0m\n",
              "\u001b[36m│\u001b[0m \u001b[1;33m 2 \u001b[0m\u001b[1mTitle:\u001b[0m AdaHuman: Animatable Detailed 3D Human Generation with Compositional Multiview Diffusion              \u001b[36m│\u001b[0m\n",
              "\u001b[36m│\u001b[0m \u001b[1;33m   \u001b[0m\u001b[1;33m • \u001b[0m\u001b[1mAuthors:\u001b[0m Yangyi Huang, Ye Yuan, Xueting Li, Jan Kautz, Umar Iqbal                                         \u001b[36m│\u001b[0m\n",
              "\u001b[36m│\u001b[0m \u001b[1;33m   \u001b[0m\u001b[1;33m • \u001b[0m\u001b[1mAbstract:\u001b[0m AdaHuman is a framework for generating high-fidelity animatable 3D avatars from a single image. \u001b[36m│\u001b[0m\n",
              "\u001b[36m│\u001b[0m \u001b[1;33m   \u001b[0m\u001b[1;33m   \u001b[0mIt uses a pose-conditioned 3D joint diffusion model and a compositional 3DGS refinement module to enhance \u001b[36m│\u001b[0m\n",
              "\u001b[36m│\u001b[0m \u001b[1;33m   \u001b[0m\u001b[1;33m   \u001b[0mavatar details.                                                                                           \u001b[36m│\u001b[0m\n",
              "\u001b[36m│\u001b[0m \u001b[1;33m   \u001b[0m\u001b[1;33m • \u001b[0m\u001b[1mKey Findings:\u001b[0m AdaHuman significantly outperforms state-of-the-art methods in avatar reconstruction and    \u001b[36m│\u001b[0m\n",
              "\u001b[36m│\u001b[0m \u001b[1;33m   \u001b[0m\u001b[1;33m   \u001b[0mreposing.                                                                                                 \u001b[36m│\u001b[0m\n",
              "\u001b[36m│\u001b[0m \u001b[1;33m   \u001b[0m\u001b[1;33m • \u001b[0m\u001b]8;id=369740;http://arxiv.org/pdf/2505.24877v1\u001b\\\u001b[4;34mPDF\u001b[0m\u001b]8;;\u001b\\ | \u001b]8;id=890387;https://arxiv.org/abs/2505.24877v1\u001b\\\u001b[4;34mAbstract\u001b[0m\u001b]8;;\u001b\\                                                                                            \u001b[36m│\u001b[0m\n",
              "\u001b[36m│\u001b[0m \u001b[1;33m 3 \u001b[0m\u001b[1mTitle:\u001b[0m Agent-X: Evaluating Deep Multimodal Reasoning in Vision-Centric Agentic Tasks                         \u001b[36m│\u001b[0m\n",
              "\u001b[36m│\u001b[0m \u001b[1;33m   \u001b[0m\u001b[1;33m • \u001b[0m\u001b[1mAuthors:\u001b[0m Tajamul Ashraf, Amal Saqib, Hanan Ghani, Muhra AlMahri, Yuhao Li, Noor Ahsan, Umair Nawaz, Jean  \u001b[36m│\u001b[0m\n",
              "\u001b[36m│\u001b[0m \u001b[1;33m   \u001b[0m\u001b[1;33m   \u001b[0mLahoud, Hisham Cholakkal, Mubarak Shah, Philip Torr, Fahad Shahbaz Khan, Rao Muhammad Anwer, Salman Khan  \u001b[36m│\u001b[0m\n",
              "\u001b[36m│\u001b[0m \u001b[1;33m   \u001b[0m\u001b[1;33m • \u001b[0m\u001b[1mAbstract:\u001b[0m Agent-X is a benchmark for evaluating vision-centric agents' reasoning capabilities in          \u001b[36m│\u001b[0m\n",
              "\u001b[36m│\u001b[0m \u001b[1;33m   \u001b[0m\u001b[1;33m   \u001b[0mreal-world, multimodal settings. It features 828 tasks across various environments, requiring agents to   \u001b[36m│\u001b[0m\n",
              "\u001b[36m│\u001b[0m \u001b[1;33m   \u001b[0m\u001b[1;33m   \u001b[0mintegrate tool use with decision-making.                                                                  \u001b[36m│\u001b[0m\n",
              "\u001b[36m│\u001b[0m \u001b[1;33m   \u001b[0m\u001b[1;33m • \u001b[0m\u001b[1mKey Findings:\u001b[0m Current models, including GPT and Gemini, struggle with multi-step vision tasks, achieving  \u001b[36m│\u001b[0m\n",
              "\u001b[36m│\u001b[0m \u001b[1;33m   \u001b[0m\u001b[1;33m   \u001b[0mless than 50% success.                                                                                    \u001b[36m│\u001b[0m\n",
              "\u001b[36m│\u001b[0m \u001b[1;33m   \u001b[0m\u001b[1;33m • \u001b[0m\u001b]8;id=689485;http://arxiv.org/pdf/2505.24876v1\u001b\\\u001b[4;34mPDF\u001b[0m\u001b]8;;\u001b\\ | \u001b]8;id=22255;https://arxiv.org/abs/2505.24876v1\u001b\\\u001b[4;34mAbstract\u001b[0m\u001b]8;;\u001b\\                                                                                            \u001b[36m│\u001b[0m\n",
              "\u001b[36m│\u001b[0m \u001b[1;33m 4 \u001b[0m\u001b[1mTitle:\u001b[0m ReasonGen-R1: CoT for Autoregressive Image generation models through SFT and RL                       \u001b[36m│\u001b[0m\n",
              "\u001b[36m│\u001b[0m \u001b[1;33m   \u001b[0m\u001b[1;33m • \u001b[0m\u001b[1mAuthors:\u001b[0m Yu Zhang, Yunqi Li, Yifan Yang, Rui Wang, Yuqing Yang, Dai Qi, Jianmin Bao, Dongdong Chen, Chong \u001b[36m│\u001b[0m\n",
              "\u001b[36m│\u001b[0m \u001b[1;33m   \u001b[0m\u001b[1;33m   \u001b[0mLuo, Lili Qiu                                                                                             \u001b[36m│\u001b[0m\n",
              "\u001b[36m│\u001b[0m \u001b[1;33m   \u001b[0m\u001b[1;33m • \u001b[0m\u001b[1mAbstract:\u001b[0m ReasonGen-R1 integrates chain-of-thought reasoning and reinforcement learning into generative   \u001b[36m│\u001b[0m\n",
              "\u001b[36m│\u001b[0m \u001b[1;33m   \u001b[0m\u001b[1;33m   \u001b[0mvision models. It uses supervised fine-tuning and Group Relative Policy Optimization to enhance image     \u001b[36m│\u001b[0m\n",
              "\u001b[36m│\u001b[0m \u001b[1;33m   \u001b[0m\u001b[1;33m   \u001b[0mgeneration.                                                                                               \u001b[36m│\u001b[0m\n",
              "\u001b[36m│\u001b[0m \u001b[1;33m   \u001b[0m\u001b[1;33m • \u001b[0m\u001b[1mKey Findings:\u001b[0m ReasonGen-R1 outperforms strong baselines and prior state-of-the-art models in image        \u001b[36m│\u001b[0m\n",
              "\u001b[36m│\u001b[0m \u001b[1;33m   \u001b[0m\u001b[1;33m   \u001b[0mgeneration tasks.                                                                                         \u001b[36m│\u001b[0m\n",
              "\u001b[36m│\u001b[0m \u001b[1;33m   \u001b[0m\u001b[1;33m • \u001b[0m\u001b]8;id=136632;http://arxiv.org/pdf/2505.24875v1\u001b\\\u001b[4;34mPDF\u001b[0m\u001b]8;;\u001b\\ | \u001b]8;id=444635;https://arxiv.org/abs/2505.24875v1\u001b\\\u001b[4;34mAbstract\u001b[0m\u001b]8;;\u001b\\                                                                                            \u001b[36m│\u001b[0m\n",
              "\u001b[36m│\u001b[0m \u001b[1;33m 5 \u001b[0m\u001b[1mTitle:\u001b[0m The Road to Generalizable Neuro-Symbolic Learning Should be Paved with Foundation Models              \u001b[36m│\u001b[0m\n",
              "\u001b[36m│\u001b[0m \u001b[1;33m   \u001b[0m\u001b[1;33m • \u001b[0m\u001b[1mAuthors:\u001b[0m Adam Stein, Aaditya Naik, Neelay Velingker, Mayur Naik, Eric Wong                                \u001b[36m│\u001b[0m\n",
              "\u001b[36m│\u001b[0m \u001b[1;33m   \u001b[0m\u001b[1;33m • \u001b[0m\u001b[1mAbstract:\u001b[0m This paper discusses the integration of foundation models with symbolic programs for complex    \u001b[36m│\u001b[0m\n",
              "\u001b[36m│\u001b[0m \u001b[1;33m   \u001b[0m\u001b[1;33m   \u001b[0mreasoning tasks. It highlights the limitations of traditional neuro-symbolic learning and proposes        \u001b[36m│\u001b[0m\n",
              "\u001b[36m│\u001b[0m \u001b[1;33m   \u001b[0m\u001b[1;33m   \u001b[0mneuro-symbolic prompting as a solution.                                                                   \u001b[36m│\u001b[0m\n",
              "\u001b[36m│\u001b[0m \u001b[1;33m   \u001b[0m\u001b[1;33m • \u001b[0m\u001b[1mKey Findings:\u001b[0m Foundation models enable generalizable neuro-symbolic solutions, achieving the goals of     \u001b[36m│\u001b[0m\n",
              "\u001b[36m│\u001b[0m \u001b[1;33m   \u001b[0m\u001b[1;33m   \u001b[0mneuro-symbolic learning without the downsides of training from scratch.                                   \u001b[36m│\u001b[0m\n",
              "\u001b[36m│\u001b[0m \u001b[1;33m   \u001b[0m\u001b[1;33m • \u001b[0m\u001b]8;id=862441;http://arxiv.org/pdf/2505.24874v1\u001b\\\u001b[4;34mPDF\u001b[0m\u001b]8;;\u001b\\ | \u001b]8;id=67264;https://arxiv.org/abs/2505.24874v1\u001b\\\u001b[4;34mAbstract\u001b[0m\u001b]8;;\u001b\\                                                                                            \u001b[36m│\u001b[0m\n",
              "\u001b[36m╰─────────────────────────────────────────────────────────────────────────────────────────────────────────────────╯\u001b[0m\n"
            ],
            "text/html": [
              "<pre style=\"white-space:pre;overflow-x:auto;line-height:normal;font-family:Menlo,'DejaVu Sans Mono',consolas,'Courier New',monospace\"><span style=\"color: #008080; text-decoration-color: #008080\">╭─────────────────────────────────────────────────── Response ────────────────────────────────────────────────────╮</span>\n",
              "<span style=\"color: #008080; text-decoration-color: #008080\">│</span> Here are some recent papers on \"transformer models in NLP\" from the last year:                                  <span style=\"color: #008080; text-decoration-color: #008080\">│</span>\n",
              "<span style=\"color: #008080; text-decoration-color: #008080\">│</span>                                                                                                                 <span style=\"color: #008080; text-decoration-color: #008080\">│</span>\n",
              "<span style=\"color: #008080; text-decoration-color: #008080\">│</span> <span style=\"color: #808000; text-decoration-color: #808000; font-weight: bold\"> 1 </span><span style=\"font-weight: bold\">Title:</span> Open CaptchaWorld: A Comprehensive Web-based Platform for Testing and Benchmarking Multimodal LLM     <span style=\"color: #008080; text-decoration-color: #008080\">│</span>\n",
              "<span style=\"color: #008080; text-decoration-color: #008080\">│</span> <span style=\"color: #808000; text-decoration-color: #808000; font-weight: bold\">   </span>Agents                                                                                                       <span style=\"color: #008080; text-decoration-color: #008080\">│</span>\n",
              "<span style=\"color: #008080; text-decoration-color: #008080\">│</span> <span style=\"color: #808000; text-decoration-color: #808000; font-weight: bold\">    • </span><span style=\"font-weight: bold\">Authors:</span> Yaxin Luo, Zhaoyi Li, Jiacheng Liu, Jiacheng Cui, Xiaohan Zhao, Zhiqiang Shen                    <span style=\"color: #008080; text-decoration-color: #008080\">│</span>\n",
              "<span style=\"color: #008080; text-decoration-color: #008080\">│</span> <span style=\"color: #808000; text-decoration-color: #808000; font-weight: bold\">    • </span><span style=\"font-weight: bold\">Abstract:</span> This paper introduces Open CaptchaWorld, a platform designed to evaluate the visual reasoning   <span style=\"color: #008080; text-decoration-color: #008080\">│</span>\n",
              "<span style=\"color: #008080; text-decoration-color: #008080\">│</span> <span style=\"color: #808000; text-decoration-color: #808000; font-weight: bold\">      </span>and interaction capabilities of multimodal LLM agents through CAPTCHA puzzles. The benchmark includes 20  <span style=\"color: #008080; text-decoration-color: #008080\">│</span>\n",
              "<span style=\"color: #008080; text-decoration-color: #008080\">│</span> <span style=\"color: #808000; text-decoration-color: #808000; font-weight: bold\">      </span>modern CAPTCHA types and highlights the challenges faced by current multimodal agents.                    <span style=\"color: #008080; text-decoration-color: #008080\">│</span>\n",
              "<span style=\"color: #008080; text-decoration-color: #008080\">│</span> <span style=\"color: #808000; text-decoration-color: #808000; font-weight: bold\">    • </span><span style=\"font-weight: bold\">Key Findings:</span> Humans achieve near-perfect scores on CAPTCHAs, while state-of-the-art MLLM agents struggle <span style=\"color: #008080; text-decoration-color: #008080\">│</span>\n",
              "<span style=\"color: #008080; text-decoration-color: #008080\">│</span> <span style=\"color: #808000; text-decoration-color: #808000; font-weight: bold\">      </span>significantly, with success rates far below human-level performance.                                      <span style=\"color: #008080; text-decoration-color: #008080\">│</span>\n",
              "<span style=\"color: #008080; text-decoration-color: #008080\">│</span> <span style=\"color: #808000; text-decoration-color: #808000; font-weight: bold\">    • </span><a href=\"http://arxiv.org/pdf/2505.24878v1\" target=\"_blank\"><span style=\"color: #000080; text-decoration-color: #000080; text-decoration: underline\">PDF</span></a> | <a href=\"https://arxiv.org/abs/2505.24878v1\" target=\"_blank\"><span style=\"color: #000080; text-decoration-color: #000080; text-decoration: underline\">Abstract</span></a>                                                                                            <span style=\"color: #008080; text-decoration-color: #008080\">│</span>\n",
              "<span style=\"color: #008080; text-decoration-color: #008080\">│</span> <span style=\"color: #808000; text-decoration-color: #808000; font-weight: bold\"> 2 </span><span style=\"font-weight: bold\">Title:</span> AdaHuman: Animatable Detailed 3D Human Generation with Compositional Multiview Diffusion              <span style=\"color: #008080; text-decoration-color: #008080\">│</span>\n",
              "<span style=\"color: #008080; text-decoration-color: #008080\">│</span> <span style=\"color: #808000; text-decoration-color: #808000; font-weight: bold\">    • </span><span style=\"font-weight: bold\">Authors:</span> Yangyi Huang, Ye Yuan, Xueting Li, Jan Kautz, Umar Iqbal                                         <span style=\"color: #008080; text-decoration-color: #008080\">│</span>\n",
              "<span style=\"color: #008080; text-decoration-color: #008080\">│</span> <span style=\"color: #808000; text-decoration-color: #808000; font-weight: bold\">    • </span><span style=\"font-weight: bold\">Abstract:</span> AdaHuman is a framework for generating high-fidelity animatable 3D avatars from a single image. <span style=\"color: #008080; text-decoration-color: #008080\">│</span>\n",
              "<span style=\"color: #008080; text-decoration-color: #008080\">│</span> <span style=\"color: #808000; text-decoration-color: #808000; font-weight: bold\">      </span>It uses a pose-conditioned 3D joint diffusion model and a compositional 3DGS refinement module to enhance <span style=\"color: #008080; text-decoration-color: #008080\">│</span>\n",
              "<span style=\"color: #008080; text-decoration-color: #008080\">│</span> <span style=\"color: #808000; text-decoration-color: #808000; font-weight: bold\">      </span>avatar details.                                                                                           <span style=\"color: #008080; text-decoration-color: #008080\">│</span>\n",
              "<span style=\"color: #008080; text-decoration-color: #008080\">│</span> <span style=\"color: #808000; text-decoration-color: #808000; font-weight: bold\">    • </span><span style=\"font-weight: bold\">Key Findings:</span> AdaHuman significantly outperforms state-of-the-art methods in avatar reconstruction and    <span style=\"color: #008080; text-decoration-color: #008080\">│</span>\n",
              "<span style=\"color: #008080; text-decoration-color: #008080\">│</span> <span style=\"color: #808000; text-decoration-color: #808000; font-weight: bold\">      </span>reposing.                                                                                                 <span style=\"color: #008080; text-decoration-color: #008080\">│</span>\n",
              "<span style=\"color: #008080; text-decoration-color: #008080\">│</span> <span style=\"color: #808000; text-decoration-color: #808000; font-weight: bold\">    • </span><a href=\"http://arxiv.org/pdf/2505.24877v1\" target=\"_blank\"><span style=\"color: #000080; text-decoration-color: #000080; text-decoration: underline\">PDF</span></a> | <a href=\"https://arxiv.org/abs/2505.24877v1\" target=\"_blank\"><span style=\"color: #000080; text-decoration-color: #000080; text-decoration: underline\">Abstract</span></a>                                                                                            <span style=\"color: #008080; text-decoration-color: #008080\">│</span>\n",
              "<span style=\"color: #008080; text-decoration-color: #008080\">│</span> <span style=\"color: #808000; text-decoration-color: #808000; font-weight: bold\"> 3 </span><span style=\"font-weight: bold\">Title:</span> Agent-X: Evaluating Deep Multimodal Reasoning in Vision-Centric Agentic Tasks                         <span style=\"color: #008080; text-decoration-color: #008080\">│</span>\n",
              "<span style=\"color: #008080; text-decoration-color: #008080\">│</span> <span style=\"color: #808000; text-decoration-color: #808000; font-weight: bold\">    • </span><span style=\"font-weight: bold\">Authors:</span> Tajamul Ashraf, Amal Saqib, Hanan Ghani, Muhra AlMahri, Yuhao Li, Noor Ahsan, Umair Nawaz, Jean  <span style=\"color: #008080; text-decoration-color: #008080\">│</span>\n",
              "<span style=\"color: #008080; text-decoration-color: #008080\">│</span> <span style=\"color: #808000; text-decoration-color: #808000; font-weight: bold\">      </span>Lahoud, Hisham Cholakkal, Mubarak Shah, Philip Torr, Fahad Shahbaz Khan, Rao Muhammad Anwer, Salman Khan  <span style=\"color: #008080; text-decoration-color: #008080\">│</span>\n",
              "<span style=\"color: #008080; text-decoration-color: #008080\">│</span> <span style=\"color: #808000; text-decoration-color: #808000; font-weight: bold\">    • </span><span style=\"font-weight: bold\">Abstract:</span> Agent-X is a benchmark for evaluating vision-centric agents' reasoning capabilities in          <span style=\"color: #008080; text-decoration-color: #008080\">│</span>\n",
              "<span style=\"color: #008080; text-decoration-color: #008080\">│</span> <span style=\"color: #808000; text-decoration-color: #808000; font-weight: bold\">      </span>real-world, multimodal settings. It features 828 tasks across various environments, requiring agents to   <span style=\"color: #008080; text-decoration-color: #008080\">│</span>\n",
              "<span style=\"color: #008080; text-decoration-color: #008080\">│</span> <span style=\"color: #808000; text-decoration-color: #808000; font-weight: bold\">      </span>integrate tool use with decision-making.                                                                  <span style=\"color: #008080; text-decoration-color: #008080\">│</span>\n",
              "<span style=\"color: #008080; text-decoration-color: #008080\">│</span> <span style=\"color: #808000; text-decoration-color: #808000; font-weight: bold\">    • </span><span style=\"font-weight: bold\">Key Findings:</span> Current models, including GPT and Gemini, struggle with multi-step vision tasks, achieving  <span style=\"color: #008080; text-decoration-color: #008080\">│</span>\n",
              "<span style=\"color: #008080; text-decoration-color: #008080\">│</span> <span style=\"color: #808000; text-decoration-color: #808000; font-weight: bold\">      </span>less than 50% success.                                                                                    <span style=\"color: #008080; text-decoration-color: #008080\">│</span>\n",
              "<span style=\"color: #008080; text-decoration-color: #008080\">│</span> <span style=\"color: #808000; text-decoration-color: #808000; font-weight: bold\">    • </span><a href=\"http://arxiv.org/pdf/2505.24876v1\" target=\"_blank\"><span style=\"color: #000080; text-decoration-color: #000080; text-decoration: underline\">PDF</span></a> | <a href=\"https://arxiv.org/abs/2505.24876v1\" target=\"_blank\"><span style=\"color: #000080; text-decoration-color: #000080; text-decoration: underline\">Abstract</span></a>                                                                                            <span style=\"color: #008080; text-decoration-color: #008080\">│</span>\n",
              "<span style=\"color: #008080; text-decoration-color: #008080\">│</span> <span style=\"color: #808000; text-decoration-color: #808000; font-weight: bold\"> 4 </span><span style=\"font-weight: bold\">Title:</span> ReasonGen-R1: CoT for Autoregressive Image generation models through SFT and RL                       <span style=\"color: #008080; text-decoration-color: #008080\">│</span>\n",
              "<span style=\"color: #008080; text-decoration-color: #008080\">│</span> <span style=\"color: #808000; text-decoration-color: #808000; font-weight: bold\">    • </span><span style=\"font-weight: bold\">Authors:</span> Yu Zhang, Yunqi Li, Yifan Yang, Rui Wang, Yuqing Yang, Dai Qi, Jianmin Bao, Dongdong Chen, Chong <span style=\"color: #008080; text-decoration-color: #008080\">│</span>\n",
              "<span style=\"color: #008080; text-decoration-color: #008080\">│</span> <span style=\"color: #808000; text-decoration-color: #808000; font-weight: bold\">      </span>Luo, Lili Qiu                                                                                             <span style=\"color: #008080; text-decoration-color: #008080\">│</span>\n",
              "<span style=\"color: #008080; text-decoration-color: #008080\">│</span> <span style=\"color: #808000; text-decoration-color: #808000; font-weight: bold\">    • </span><span style=\"font-weight: bold\">Abstract:</span> ReasonGen-R1 integrates chain-of-thought reasoning and reinforcement learning into generative   <span style=\"color: #008080; text-decoration-color: #008080\">│</span>\n",
              "<span style=\"color: #008080; text-decoration-color: #008080\">│</span> <span style=\"color: #808000; text-decoration-color: #808000; font-weight: bold\">      </span>vision models. It uses supervised fine-tuning and Group Relative Policy Optimization to enhance image     <span style=\"color: #008080; text-decoration-color: #008080\">│</span>\n",
              "<span style=\"color: #008080; text-decoration-color: #008080\">│</span> <span style=\"color: #808000; text-decoration-color: #808000; font-weight: bold\">      </span>generation.                                                                                               <span style=\"color: #008080; text-decoration-color: #008080\">│</span>\n",
              "<span style=\"color: #008080; text-decoration-color: #008080\">│</span> <span style=\"color: #808000; text-decoration-color: #808000; font-weight: bold\">    • </span><span style=\"font-weight: bold\">Key Findings:</span> ReasonGen-R1 outperforms strong baselines and prior state-of-the-art models in image        <span style=\"color: #008080; text-decoration-color: #008080\">│</span>\n",
              "<span style=\"color: #008080; text-decoration-color: #008080\">│</span> <span style=\"color: #808000; text-decoration-color: #808000; font-weight: bold\">      </span>generation tasks.                                                                                         <span style=\"color: #008080; text-decoration-color: #008080\">│</span>\n",
              "<span style=\"color: #008080; text-decoration-color: #008080\">│</span> <span style=\"color: #808000; text-decoration-color: #808000; font-weight: bold\">    • </span><a href=\"http://arxiv.org/pdf/2505.24875v1\" target=\"_blank\"><span style=\"color: #000080; text-decoration-color: #000080; text-decoration: underline\">PDF</span></a> | <a href=\"https://arxiv.org/abs/2505.24875v1\" target=\"_blank\"><span style=\"color: #000080; text-decoration-color: #000080; text-decoration: underline\">Abstract</span></a>                                                                                            <span style=\"color: #008080; text-decoration-color: #008080\">│</span>\n",
              "<span style=\"color: #008080; text-decoration-color: #008080\">│</span> <span style=\"color: #808000; text-decoration-color: #808000; font-weight: bold\"> 5 </span><span style=\"font-weight: bold\">Title:</span> The Road to Generalizable Neuro-Symbolic Learning Should be Paved with Foundation Models              <span style=\"color: #008080; text-decoration-color: #008080\">│</span>\n",
              "<span style=\"color: #008080; text-decoration-color: #008080\">│</span> <span style=\"color: #808000; text-decoration-color: #808000; font-weight: bold\">    • </span><span style=\"font-weight: bold\">Authors:</span> Adam Stein, Aaditya Naik, Neelay Velingker, Mayur Naik, Eric Wong                                <span style=\"color: #008080; text-decoration-color: #008080\">│</span>\n",
              "<span style=\"color: #008080; text-decoration-color: #008080\">│</span> <span style=\"color: #808000; text-decoration-color: #808000; font-weight: bold\">    • </span><span style=\"font-weight: bold\">Abstract:</span> This paper discusses the integration of foundation models with symbolic programs for complex    <span style=\"color: #008080; text-decoration-color: #008080\">│</span>\n",
              "<span style=\"color: #008080; text-decoration-color: #008080\">│</span> <span style=\"color: #808000; text-decoration-color: #808000; font-weight: bold\">      </span>reasoning tasks. It highlights the limitations of traditional neuro-symbolic learning and proposes        <span style=\"color: #008080; text-decoration-color: #008080\">│</span>\n",
              "<span style=\"color: #008080; text-decoration-color: #008080\">│</span> <span style=\"color: #808000; text-decoration-color: #808000; font-weight: bold\">      </span>neuro-symbolic prompting as a solution.                                                                   <span style=\"color: #008080; text-decoration-color: #008080\">│</span>\n",
              "<span style=\"color: #008080; text-decoration-color: #008080\">│</span> <span style=\"color: #808000; text-decoration-color: #808000; font-weight: bold\">    • </span><span style=\"font-weight: bold\">Key Findings:</span> Foundation models enable generalizable neuro-symbolic solutions, achieving the goals of     <span style=\"color: #008080; text-decoration-color: #008080\">│</span>\n",
              "<span style=\"color: #008080; text-decoration-color: #008080\">│</span> <span style=\"color: #808000; text-decoration-color: #808000; font-weight: bold\">      </span>neuro-symbolic learning without the downsides of training from scratch.                                   <span style=\"color: #008080; text-decoration-color: #008080\">│</span>\n",
              "<span style=\"color: #008080; text-decoration-color: #008080\">│</span> <span style=\"color: #808000; text-decoration-color: #808000; font-weight: bold\">    • </span><a href=\"http://arxiv.org/pdf/2505.24874v1\" target=\"_blank\"><span style=\"color: #000080; text-decoration-color: #000080; text-decoration: underline\">PDF</span></a> | <a href=\"https://arxiv.org/abs/2505.24874v1\" target=\"_blank\"><span style=\"color: #000080; text-decoration-color: #000080; text-decoration: underline\">Abstract</span></a>                                                                                            <span style=\"color: #008080; text-decoration-color: #008080\">│</span>\n",
              "<span style=\"color: #008080; text-decoration-color: #008080\">╰─────────────────────────────────────────────────────────────────────────────────────────────────────────────────╯</span>\n",
              "</pre>\n"
            ]
          },
          "metadata": {}
        },
        {
          "output_type": "execute_result",
          "data": {
            "text/plain": [
              "'Here are some recent papers on \"transformer models in NLP\" from the last year:\\n\\n1. **Title:** Open CaptchaWorld: A Comprehensive Web-based Platform for Testing and Benchmarking Multimodal LLM Agents\\n   - **Authors:** Yaxin Luo, Zhaoyi Li, Jiacheng Liu, Jiacheng Cui, Xiaohan Zhao, Zhiqiang Shen\\n   - **Abstract:** This paper introduces Open CaptchaWorld, a platform designed to evaluate the visual reasoning and interaction capabilities of multimodal LLM agents through CAPTCHA puzzles. The benchmark includes 20 modern CAPTCHA types and highlights the challenges faced by current multimodal agents.\\n   - **Key Findings:** Humans achieve near-perfect scores on CAPTCHAs, while state-of-the-art MLLM agents struggle significantly, with success rates far below human-level performance.\\n   - [PDF](http://arxiv.org/pdf/2505.24878v1) | [Abstract](https://arxiv.org/abs/2505.24878v1)\\n\\n2. **Title:** AdaHuman: Animatable Detailed 3D Human Generation with Compositional Multiview Diffusion\\n   - **Authors:** Yangyi Huang, Ye Yuan, Xueting Li, Jan Kautz, Umar Iqbal\\n   - **Abstract:** AdaHuman is a framework for generating high-fidelity animatable 3D avatars from a single image. It uses a pose-conditioned 3D joint diffusion model and a compositional 3DGS refinement module to enhance avatar details.\\n   - **Key Findings:** AdaHuman significantly outperforms state-of-the-art methods in avatar reconstruction and reposing.\\n   - [PDF](http://arxiv.org/pdf/2505.24877v1) | [Abstract](https://arxiv.org/abs/2505.24877v1)\\n\\n3. **Title:** Agent-X: Evaluating Deep Multimodal Reasoning in Vision-Centric Agentic Tasks\\n   - **Authors:** Tajamul Ashraf, Amal Saqib, Hanan Ghani, Muhra AlMahri, Yuhao Li, Noor Ahsan, Umair Nawaz, Jean Lahoud, Hisham Cholakkal, Mubarak Shah, Philip Torr, Fahad Shahbaz Khan, Rao Muhammad Anwer, Salman Khan\\n   - **Abstract:** Agent-X is a benchmark for evaluating vision-centric agents\\' reasoning capabilities in real-world, multimodal settings. It features 828 tasks across various environments, requiring agents to integrate tool use with decision-making.\\n   - **Key Findings:** Current models, including GPT and Gemini, struggle with multi-step vision tasks, achieving less than 50% success.\\n   - [PDF](http://arxiv.org/pdf/2505.24876v1) | [Abstract](https://arxiv.org/abs/2505.24876v1)\\n\\n4. **Title:** ReasonGen-R1: CoT for Autoregressive Image generation models through SFT and RL\\n   - **Authors:** Yu Zhang, Yunqi Li, Yifan Yang, Rui Wang, Yuqing Yang, Dai Qi, Jianmin Bao, Dongdong Chen, Chong Luo, Lili Qiu\\n   - **Abstract:** ReasonGen-R1 integrates chain-of-thought reasoning and reinforcement learning into generative vision models. It uses supervised fine-tuning and Group Relative Policy Optimization to enhance image generation.\\n   - **Key Findings:** ReasonGen-R1 outperforms strong baselines and prior state-of-the-art models in image generation tasks.\\n   - [PDF](http://arxiv.org/pdf/2505.24875v1) | [Abstract](https://arxiv.org/abs/2505.24875v1)\\n\\n5. **Title:** The Road to Generalizable Neuro-Symbolic Learning Should be Paved with Foundation Models\\n   - **Authors:** Adam Stein, Aaditya Naik, Neelay Velingker, Mayur Naik, Eric Wong\\n   - **Abstract:** This paper discusses the integration of foundation models with symbolic programs for complex reasoning tasks. It highlights the limitations of traditional neuro-symbolic learning and proposes neuro-symbolic prompting as a solution.\\n   - **Key Findings:** Foundation models enable generalizable neuro-symbolic solutions, achieving the goals of neuro-symbolic learning without the downsides of training from scratch.\\n   - [PDF](http://arxiv.org/pdf/2505.24874v1) | [Abstract](https://arxiv.org/abs/2505.24874v1)'"
            ],
            "application/vnd.google.colaboratory.intrinsic+json": {
              "type": "string"
            }
          },
          "metadata": {},
          "execution_count": 9
        }
      ],
      "source": [
        "research_agent = Agent(\n",
        "    name=\"PaperSearcher\",\n",
        "    role=\"Scientific Literature Specialist\",\n",
        "    goal=\"Find relevant scientific papers on specified topics.\",\n",
        "    backstory=\"Expert in academic research and literature analysis.\",\n",
        "    tools=[search_arxiv, get_arxiv_paper, get_papers_by_author, get_papers_by_category],\n",
        "    self_reflect=False\n",
        ")\n",
        "\n",
        "research_task = Task(\n",
        "    description=\"Search for papers on 'transformer models in NLP' from the last year.\",\n",
        "    expected_output=\"List of relevant papers with abstracts and key findings.\",\n",
        "    agent=research_agent,\n",
        "    name=\"nlp_research\"\n",
        ")\n",
        "\n",
        "agents = PraisonAIAgents(\n",
        "    agents=[research_agent],\n",
        "    tasks=[research_task],\n",
        "    process=\"sequential\"\n",
        ")\n",
        "agents.start()"
      ]
    },
    {
      "cell_type": "markdown",
      "id": "11e395a7",
      "metadata": {
        "id": "11e395a7"
      },
      "source": [
        "## Advanced Research Agent with Analyzer"
      ]
    },
    {
      "cell_type": "code",
      "execution_count": 10,
      "id": "49a9e0cc",
      "metadata": {
        "colab": {
          "base_uri": "https://localhost:8080/",
          "height": 1000,
          "referenced_widgets": [
            "1a962843369c4e6980ab3ea13fe8b98c",
            "94c00376e1724754970b311b995c9935",
            "547f031250bf4e8d8c2d1b98aebdd4b9",
            "861cbd1fba474810aa751463f65a8cec",
            "df6375867c8e47b58d0a022cdf3af222",
            "b80411a9803640e1a04fca68c8b5c8b5"
          ]
        },
        "id": "49a9e0cc",
        "outputId": "59441262-95fa-4908-f4d4-db724f4bde5d"
      },
      "outputs": [
        {
          "output_type": "display_data",
          "data": {
            "text/plain": [
              "\u001b[38;2;210;227;200m╭─\u001b[0m\u001b[38;2;210;227;200m \u001b[0m\u001b[1;38;2;210;227;200mAgent Info\u001b[0m\u001b[38;2;210;227;200m \u001b[0m\u001b[38;2;210;227;200m───────────────────────────────────────────────────────────────────────────────────────────────────\u001b[0m\u001b[38;2;210;227;200m─╮\u001b[0m\n",
              "\u001b[38;2;210;227;200m│\u001b[0m                                                                                                                 \u001b[38;2;210;227;200m│\u001b[0m\n",
              "\u001b[38;2;210;227;200m│\u001b[0m  \u001b[1;38;2;255;155;155m👤 Agent:\u001b[0m \u001b[38;2;255;229;229mResearcher\u001b[0m                                                                                           \u001b[38;2;210;227;200m│\u001b[0m\n",
              "\u001b[38;2;210;227;200m│\u001b[0m  \u001b[1;38;2;180;180;179mRole:\u001b[0m \u001b[38;2;255;229;229mLiterature Specialist\u001b[0m                                                                                    \u001b[38;2;210;227;200m│\u001b[0m\n",
              "\u001b[38;2;210;227;200m│\u001b[0m  \u001b[1;38;2;134;167;137mTools:\u001b[0m \u001b[3;38;2;180;212;255msearch\u001b[0m, \u001b[3;38;2;180;212;255mget_paper\u001b[0m, \u001b[3;38;2;180;212;255mget_papers_by_author\u001b[0m, \u001b[3;38;2;180;212;255mget_papers_by_category\u001b[0m                                         \u001b[38;2;210;227;200m│\u001b[0m\n",
              "\u001b[38;2;210;227;200m│\u001b[0m                                                                                                                 \u001b[38;2;210;227;200m│\u001b[0m\n",
              "\u001b[38;2;210;227;200m╰─────────────────────────────────────────────────────────────────────────────────────────────────────────────────╯\u001b[0m\n"
            ],
            "text/html": [
              "<pre style=\"white-space:pre;overflow-x:auto;line-height:normal;font-family:Menlo,'DejaVu Sans Mono',consolas,'Courier New',monospace\"><span style=\"color: #d2e3c8; text-decoration-color: #d2e3c8\">╭─ </span><span style=\"color: #d2e3c8; text-decoration-color: #d2e3c8; font-weight: bold\">Agent Info</span><span style=\"color: #d2e3c8; text-decoration-color: #d2e3c8\"> ────────────────────────────────────────────────────────────────────────────────────────────────────╮</span>\n",
              "<span style=\"color: #d2e3c8; text-decoration-color: #d2e3c8\">│</span>                                                                                                                 <span style=\"color: #d2e3c8; text-decoration-color: #d2e3c8\">│</span>\n",
              "<span style=\"color: #d2e3c8; text-decoration-color: #d2e3c8\">│</span>  <span style=\"color: #ff9b9b; text-decoration-color: #ff9b9b; font-weight: bold\">👤 Agent:</span> <span style=\"color: #ffe5e5; text-decoration-color: #ffe5e5\">Researcher</span>                                                                                           <span style=\"color: #d2e3c8; text-decoration-color: #d2e3c8\">│</span>\n",
              "<span style=\"color: #d2e3c8; text-decoration-color: #d2e3c8\">│</span>  <span style=\"color: #b4b4b3; text-decoration-color: #b4b4b3; font-weight: bold\">Role:</span> <span style=\"color: #ffe5e5; text-decoration-color: #ffe5e5\">Literature Specialist</span>                                                                                    <span style=\"color: #d2e3c8; text-decoration-color: #d2e3c8\">│</span>\n",
              "<span style=\"color: #d2e3c8; text-decoration-color: #d2e3c8\">│</span>  <span style=\"color: #86a789; text-decoration-color: #86a789; font-weight: bold\">Tools:</span> <span style=\"color: #b4d4ff; text-decoration-color: #b4d4ff; font-style: italic\">search</span>, <span style=\"color: #b4d4ff; text-decoration-color: #b4d4ff; font-style: italic\">get_paper</span>, <span style=\"color: #b4d4ff; text-decoration-color: #b4d4ff; font-style: italic\">get_papers_by_author</span>, <span style=\"color: #b4d4ff; text-decoration-color: #b4d4ff; font-style: italic\">get_papers_by_category</span>                                         <span style=\"color: #d2e3c8; text-decoration-color: #d2e3c8\">│</span>\n",
              "<span style=\"color: #d2e3c8; text-decoration-color: #d2e3c8\">│</span>                                                                                                                 <span style=\"color: #d2e3c8; text-decoration-color: #d2e3c8\">│</span>\n",
              "<span style=\"color: #d2e3c8; text-decoration-color: #d2e3c8\">╰─────────────────────────────────────────────────────────────────────────────────────────────────────────────────╯</span>\n",
              "</pre>\n"
            ]
          },
          "metadata": {}
        },
        {
          "output_type": "display_data",
          "data": {
            "text/plain": [
              "Output()"
            ],
            "application/vnd.jupyter.widget-view+json": {
              "version_major": 2,
              "version_minor": 0,
              "model_id": "1a962843369c4e6980ab3ea13fe8b98c"
            }
          },
          "metadata": {}
        },
        {
          "output_type": "display_data",
          "data": {
            "text/plain": [],
            "text/html": [
              "<pre style=\"white-space:pre;overflow-x:auto;line-height:normal;font-family:Menlo,'DejaVu Sans Mono',consolas,'Courier New',monospace\"></pre>\n"
            ]
          },
          "metadata": {}
        },
        {
          "output_type": "display_data",
          "data": {
            "text/plain": [
              "\n"
            ],
            "text/html": [
              "<pre style=\"white-space:pre;overflow-x:auto;line-height:normal;font-family:Menlo,'DejaVu Sans Mono',consolas,'Courier New',monospace\">\n",
              "</pre>\n"
            ]
          },
          "metadata": {}
        },
        {
          "output_type": "display_data",
          "data": {
            "text/plain": [
              "\u001b[32m╭─\u001b[0m\u001b[32m──────────────────────────────────────────────────\u001b[0m\u001b[32m Tool Call \u001b[0m\u001b[32m──────────────────────────────────────────────────\u001b[0m\u001b[32m─╮\u001b[0m\n",
              "\u001b[32m│\u001b[0m \u001b[1;36mAgent Researcher is calling function 'search' with arguments: {'query': 'quantum computing applications in \u001b[0m     \u001b[32m│\u001b[0m\n",
              "\u001b[32m│\u001b[0m \u001b[1;36mcryptography', 'max_results': 5, 'sort_by': 'relevance', 'sort_order': 'descending'}\u001b[0m                            \u001b[32m│\u001b[0m\n",
              "\u001b[32m╰─────────────────────────────────────────────────────────────────────────────────────────────────────────────────╯\u001b[0m\n"
            ],
            "text/html": [
              "<pre style=\"white-space:pre;overflow-x:auto;line-height:normal;font-family:Menlo,'DejaVu Sans Mono',consolas,'Courier New',monospace\"><span style=\"color: #008000; text-decoration-color: #008000\">╭─────────────────────────────────────────────────── Tool Call ───────────────────────────────────────────────────╮</span>\n",
              "<span style=\"color: #008000; text-decoration-color: #008000\">│</span> <span style=\"color: #008080; text-decoration-color: #008080; font-weight: bold\">Agent Researcher is calling function 'search' with arguments: {'query': 'quantum computing applications in </span>     <span style=\"color: #008000; text-decoration-color: #008000\">│</span>\n",
              "<span style=\"color: #008000; text-decoration-color: #008000\">│</span> <span style=\"color: #008080; text-decoration-color: #008080; font-weight: bold\">cryptography', 'max_results': 5, 'sort_by': 'relevance', 'sort_order': 'descending'}</span>                            <span style=\"color: #008000; text-decoration-color: #008000\">│</span>\n",
              "<span style=\"color: #008000; text-decoration-color: #008000\">╰─────────────────────────────────────────────────────────────────────────────────────────────────────────────────╯</span>\n",
              "</pre>\n"
            ]
          },
          "metadata": {}
        },
        {
          "output_type": "display_data",
          "data": {
            "text/plain": [
              "\u001b[32m╭─\u001b[0m\u001b[32m──────────────────────────────────────────────────\u001b[0m\u001b[32m Tool Call \u001b[0m\u001b[32m──────────────────────────────────────────────────\u001b[0m\u001b[32m─╮\u001b[0m\n",
              "\u001b[32m│\u001b[0m \u001b[1;36mFunction 'search' returned: [{\"arxiv_id\": \"1804.00200v1\", \"updated\": \"2018-03-31T18:02:05+00:00\", \"published\": \u001b[0m \u001b[32m│\u001b[0m\n",
              "\u001b[32m│\u001b[0m \u001b[1;36m\"2018-03-31T18:02:05+00:00\", \"title\": \"The Impact of Quantum Computing on Present Cryptography\", \"authors\": \u001b[0m    \u001b[32m│\u001b[0m\n",
              "\u001b[32m│\u001b[0m \u001b[1;36m[\"Vasileios Mavroeidis\", \"Kamer Vishi\", \"Mateusz D. Zych\", \"Audun J\\u00f8sang\"], \"summary\": \"The aim of this \u001b[0m   \u001b[32m│\u001b[0m\n",
              "\u001b[32m│\u001b[0m \u001b[1;36mpaper is to elucidate the implications of quantum computing\\nin present cryptography and to introduce the \u001b[0m      \u001b[32m│\u001b[0m\n",
              "\u001b[32m│\u001b[0m \u001b[1;36mreader to basic post-quantum\\nalgorithms. In particular the reader can delve into the following \u001b[0m                \u001b[32m│\u001b[0m\n",
              "\u001b[32m│\u001b[0m \u001b[1;36msubjects:\\npresent cryptographic schemes (symmetric and asymmetric), differences between\\nquantum and classical\u001b[0m \u001b[32m│\u001b[0m\n",
              "\u001b[32m│\u001b[0m \u001b[1;36mcomputing, challenges in quantum computing, quantum\\nalgorithms (Shor's and Grover's), public key encryption \u001b[0m   \u001b[32m│\u001b[0m\n",
              "\u001b[32m│\u001b[0m \u001b[1;36mschemes affected,\\nsymmetric schemes affected, the impact on hash functions, and post quantum\\ncryptography. \u001b[0m   \u001b[32m│\u001b[0m\n",
              "\u001b[32m│\u001b[0m \u001b[1;36mSpecifically, the section of Post-Quantum Cryptography deals with\\ndifferent quantum key distribution methods \u001b[0m  \u001b[32m│\u001b[0m\n",
              "\u001b[32m│\u001b[0m \u001b[1;36mand mathematicalbased solutions,\\nsuch as the BB84 protocol, lattice-based cryptography, \u001b[0m                       \u001b[32m│\u001b[0m\n",
              "\u001b[32m│\u001b[0m \u001b[1;36mmultivariate-based\\ncryptography, hash-based signatures and code-based cryptography.\", \"comment\": \"10 pages, 1 \u001b[0m \u001b[32m│\u001b[0m\n",
              "\u001b[32m│\u001b[0m \u001b[1;36mfigure, 3 tables, journal article - IJACSA\", \"journal_ref\": \"International Journal of Advanced Computer Science\u001b[0m \u001b[32m│\u001b[0m\n",
              "\u001b[32m│\u001b[0m \u001b[1;36mand\\n  Applications (IJACSA), 9(3), 405-414, March 2018\", \"doi\": \"10.14569/IJACSA.2018.090354\", \u001b[0m                \u001b[32m│\u001b[0m\n",
              "\u001b[32m│\u001b[0m \u001b[1;36m\"primary_category\": \"cs.CR\", \"categories\": [\"cs.CR\", \"81P94, 11T71, 94A60, 14G50\"], \"pdf_url\": \u001b[0m                 \u001b[32m│\u001b[0m\n",
              "\u001b[32m│\u001b[0m \u001b[1;36m\"http://arxiv.org/pdf/1804.00200v1\", \"abstract_url\": \"https://arxiv.org/abs/1804.00200v1\"}, {\"arxiv_id\": \u001b[0m       \u001b[32m│\u001b[0m\n",
              "\u001b[32m│\u001b[0m \u001b[1;36m\"2501.03249v1\", \"updated\": \"2024-12-23T05:30:44+00:00\", \"published\": \"2024-12-23T05:30:44+00:00\", \"title\": \u001b[0m     \u001b[32m│\u001b[0m\n",
              "\u001b[32m│\u001b[0m \u001b[1;36m\"Homomorphic Encryption Based on Lattice Post-Quantum Cryptography\", \"authors\": [\"Abel C. H. Chen\"], \"summary\":\u001b[0m \u001b[32m│\u001b[0m\n",
              "\u001b[32m│\u001b[0m \u001b[1;36m\"As quantum computing technology continues to advance, post-quantum\\ncryptographic methods capable of resisting\u001b[0m \u001b[32m│\u001b[0m\n",
              "\u001b[32m│\u001b[0m \u001b[1;36mquantum attacks have emerged as a\\ncritical area of focus. Given the potential vulnerability of \u001b[0m                \u001b[32m│\u001b[0m\n",
              "\u001b[32m│\u001b[0m \u001b[1;36mexisting\\nhomomorphic encryption methods, such as RSA, ElGamal, and Paillier, to quantum\\ncomputing attacks, \u001b[0m   \u001b[32m│\u001b[0m\n",
              "\u001b[32m│\u001b[0m \u001b[1;36mthis study proposes a lattice-based post-quantum homomorphic\\nencryption scheme. The approach leverages lattice\u001b[0m \u001b[32m│\u001b[0m\n",
              "\u001b[32m│\u001b[0m \u001b[1;36mcryptography to build\\nresilience against quantum threats while enabling practical homomorphic\\nencryption \u001b[0m     \u001b[32m│\u001b[0m\n",
              "\u001b[32m│\u001b[0m \u001b[1;36mapplications. This research provides mathematical proofs and\\ncomputational examples, alongside a security \u001b[0m     \u001b[32m│\u001b[0m\n",
              "\u001b[32m│\u001b[0m \u001b[1;36manalysis of the lattice-based\\npost-quantum homomorphic encryption scheme. The findings are intended to \u001b[0m        \u001b[32m│\u001b[0m\n",
              "\u001b[32m│\u001b[0m \u001b[1;36mserve\\nas a reference for developers of homomorphic encryption applications, such as\\nfederated learning \u001b[0m       \u001b[32m│\u001b[0m\n",
              "\u001b[32m│\u001b[0m \u001b[1;36msystems.\", \"comment\": \"in Chinese language\", \"journal_ref\": null, \"doi\": null, \"primary_category\": \"cs.CR\", \u001b[0m    \u001b[32m│\u001b[0m\n",
              "\u001b[32m│\u001b[0m \u001b[1;36m\"categories\": [\"cs.CR\"], \"pdf_url\": \"http://arxiv.org/pdf/2501.03249v1\", \"abstract_url\": \u001b[0m                       \u001b[32m│\u001b[0m\n",
              "\u001b[32m│\u001b[0m \u001b[1;36m\"https://arxiv.org/abs/2501.03249v1\"}, {\"arxiv_id\": \"2401.13691v1\", \"updated\": \"2024-01-03T13:34:20+00:00\", \u001b[0m    \u001b[32m│\u001b[0m\n",
              "\u001b[32m│\u001b[0m \u001b[1;36m\"published\": \"2024-01-03T13:34:20+00:00\", \"title\": \"PQCMC: Post-Quantum Cryptography McEliece-Chen Implicit \u001b[0m    \u001b[32m│\u001b[0m\n",
              "\u001b[32m│\u001b[0m \u001b[1;36mCertificate Scheme\", \"authors\": [\"Abel C. H. Chen\"], \"summary\": \"In recent years, the elliptic curve \u001b[0m           \u001b[32m│\u001b[0m\n",
              "\u001b[32m│\u001b[0m \u001b[1;36mQu-Vanstone (ECQV) implicit certificate\\nscheme has found application in security credential management systems\u001b[0m \u001b[32m│\u001b[0m\n",
              "\u001b[32m│\u001b[0m \u001b[1;36m(SCMS)\\nand secure vehicle-to-everything (V2X) communication to issue pseudonymous\\ncertificates. However, the \u001b[0m \u001b[32m│\u001b[0m\n",
              "\u001b[32m│\u001b[0m \u001b[1;36mvulnerability of elliptic-curve cryptography (ECC)\\nto polynomial-time attacks posed by quantum computing \u001b[0m      \u001b[32m│\u001b[0m\n",
              "\u001b[32m│\u001b[0m \u001b[1;36mraises concerns. In order\\nto enhance resistance against quantum computing threats, various \u001b[0m                    \u001b[32m│\u001b[0m\n",
              "\u001b[32m│\u001b[0m \u001b[1;36mpost-quantum\\ncryptography methods have been adopted as standard (e.g. Dilithium) or\\ncandidate standard \u001b[0m       \u001b[32m│\u001b[0m\n",
              "\u001b[32m│\u001b[0m \u001b[1;36mmethods (e.g. McEliece cryptography), but state of the art\\nhas proven to be challenging to implement implicit \u001b[0m \u001b[32m│\u001b[0m\n",
              "\u001b[32m│\u001b[0m \u001b[1;36mcertificates using\\nlattice-based cryptography methods. Therefore, this study proposes a\\npost-quantum \u001b[0m         \u001b[32m│\u001b[0m\n",
              "\u001b[32m│\u001b[0m \u001b[1;36mcryptography McEliece-Chen (PQCMC) based on an efficient random\\ninvertible matrix generation method to issue \u001b[0m  \u001b[32m│\u001b[0m\n",
              "\u001b[32m│\u001b[0m \u001b[1;36mpseudonymous certificates with\\nless computation time. The study provides mathematical models to validate \u001b[0m      \u001b[32m│\u001b[0m\n",
              "\u001b[32m│\u001b[0m \u001b[1;36mthe\\nkey expansion process for implicit certificates. Furthermore, comprehensive\\nsecurity evaluations and \u001b[0m     \u001b[32m│\u001b[0m\n",
              "\u001b[32m│\u001b[0m \u001b[1;36mdiscussions are conducted to demonstrate that distinct\\nimplicit certificates can be linked to the same end \u001b[0m    \u001b[32m│\u001b[0m\n",
              "\u001b[32m│\u001b[0m \u001b[1;36mentity. In experiments, a\\ncomparison is conducted between the certificate length and computation time \u001b[0m         \u001b[32m│\u001b[0m\n",
              "\u001b[32m│\u001b[0m \u001b[1;36mto\\nevaluate the performance of the proposed PQCMC. This study demonstrates the\\nviability of the implicit \u001b[0m     \u001b[32m│\u001b[0m\n",
              "\u001b[32m│\u001b[0m \u001b[1;36mcertificate scheme based on PQC as a means of\\ncountering quantum computing threats.\", \"comment\": null, \u001b[0m        \u001b[32m│\u001b[0m\n",
              "\u001b[32m│\u001b[0m \u001b[1;36m\"journal_ref\": null, \"doi\": null, \"primary_category\": \"cs.CR\", \"categories\": [\"cs.CR\", \"cs.NI\"], \"pdf_url\": \u001b[0m    \u001b[32m│\u001b[0m\n",
              "\u001b[32m│\u001b[0m \u001b[1;36m\"http://arxiv.org/pdf/2401.13691v1\", \"abstract_url\": \"https://arxiv.org/abs/2401.13691v1\"}, {\"arxiv_id\": \u001b[0m       \u001b[32m│\u001b[0m\n",
              "\u001b[32m│\u001b[0m \u001b[1;36m\"1510.06120v2\", \"updated\": \"2015-12-18T14:08:58+00:00\", \"published\": \"2015-10-21T03:20:05+00:00\", \"title\": \u001b[0m     \u001b[32m│\u001b[0m\n",
              "\u001b[32m│\u001b[0m \u001b[1;36m\"Quantum Cryptography Beyond Quantum Key Distribution\", \"authors\": [\"Anne Broadbent\", \"Christian Schaffner\"], \u001b[0m  \u001b[32m│\u001b[0m\n",
              "\u001b[32m│\u001b[0m \u001b[1;36m\"summary\": \"Quantum cryptography is the art and science of exploiting quantum mechanical\\neffects in order to \u001b[0m  \u001b[32m│\u001b[0m\n",
              "\u001b[32m│\u001b[0m \u001b[1;36mperform cryptographic tasks. While the most well-known\\nexample of this discipline is quantum key distribution \u001b[0m \u001b[32m│\u001b[0m\n",
              "\u001b[32m│\u001b[0m \u001b[1;36m(QKD), there exist many\\nother applications such as quantum money, randomness generation, secure two-\\nand \u001b[0m     \u001b[32m│\u001b[0m\n",
              "\u001b[32m│\u001b[0m \u001b[1;36mmulti-party computation and delegated quantum computation. Quantum\\ncryptography also studies the limitations \u001b[0m  \u001b[32m│\u001b[0m\n",
              "\u001b[32m│\u001b[0m \u001b[1;36mand challenges resulting from quantum\\nadversaries---including the impossibility of quantum bit commitment, \u001b[0m    \u001b[32m│\u001b[0m\n",
              "\u001b[32m│\u001b[0m \u001b[1;36mthe\\ndifficulty of quantum rewinding and the definition of quantum security models\\nfor classical primitives. \u001b[0m  \u001b[32m│\u001b[0m\n",
              "\u001b[32m│\u001b[0m \u001b[1;36mIn this review article, aimed primarily at\\ncryptographers unfamiliar with the quantum world, we survey the \u001b[0m    \u001b[32m│\u001b[0m\n",
              "\u001b[32m│\u001b[0m \u001b[1;36marea of\\ntheoretical quantum cryptography, with an emphasis on the constructions and\\nlimitations beyond the \u001b[0m   \u001b[32m│\u001b[0m\n",
              "\u001b[32m│\u001b[0m \u001b[1;36mrealm of QKD.\", \"comment\": \"45 pages, over 245 references\", \"journal_ref\": \"Designs, Codes and Cryptography. \u001b[0m   \u001b[32m│\u001b[0m\n",
              "\u001b[32m│\u001b[0m \u001b[1;36mVolume 78, Issue 1, pp 351-382\\n  (2016)\", \"doi\": \"10.1007/s10623-015-0157-4\", \"primary_category\": \"quant-ph\", \u001b[0m \u001b[32m│\u001b[0m\n",
              "\u001b[32m│\u001b[0m \u001b[1;36m\"categories\": [\"quant-ph\"], \"pdf_url\": \"http://arxiv.org/pdf/1510.06120v2\", \"abstract_url\": \u001b[0m                    \u001b[32m│\u001b[0m\n",
              "\u001b[32m│\u001b[0m \u001b[1;36m\"https://arxiv.org/abs/1510.06120v2\"}, {\"arxiv_id\": \"9602014v1\", \"updated\": \"1996-02-19T22:58:27+00:00\", \u001b[0m       \u001b[32m│\u001b[0m\n",
              "\u001b[32m│\u001b[0m \u001b[1;36m\"published\": \"1996-02-19T22:58:27+00:00\", \"title\": \"New Trends in Quantum Computing\", \"authors\": [\"Gilles \u001b[0m      \u001b[32m│\u001b[0m\n",
              "\u001b[32m│\u001b[0m \u001b[1;36mBrassard\"], \"summary\": \"Classical and quantum information are very different. Together they can\\nperform feats \u001b[0m \u001b[32m│\u001b[0m\n",
              "\u001b[32m│\u001b[0m \u001b[1;36mthat neither could achieve alone, such as quantum computing,\\nquantum cryptography and quantum teleportation. \u001b[0m  \u001b[32m│\u001b[0m\n",
              "\u001b[32m│\u001b[0m \u001b[1;36mSome of the applications range\\nfrom helping to preventing spies from reading private communications. Among \u001b[0m    \u001b[32m│\u001b[0m\n",
              "\u001b[32m│\u001b[0m \u001b[1;36mthe\\ntools that will facilitate their implementation, we note quantum purification\\nand quantum error \u001b[0m          \u001b[32m│\u001b[0m\n",
              "\u001b[32m│\u001b[0m \u001b[1;36mcorrection. Although some of these ideas are still beyond the\\ngrasp of current technology, quantum \u001b[0m            \u001b[32m│\u001b[0m\n",
              "\u001b[32m│\u001b[0m \u001b[1;36mcryptography has been implemented and the\\nprospects are encouraging for small-scale prototypes of quantum \u001b[0m     \u001b[32m│\u001b[0m\n",
              "\u001b[32m│\u001b[0m \u001b[1;36mcomputation\\ndevices before the end of the millennium.\", \"comment\": \"8 pages. Presented at the 13th Symposium \u001b[0m  \u001b[32m│\u001b[0m\n",
              "\u001b[32m│\u001b[0m \u001b[1;36mon Theoretical Aspects of\\n  Computer Science, Grenoble, 22 February 1996. Will appear in the proceedings,\\n  \u001b[0m  \u001b[32m│\u001b[0m\n",
              "\u001b[32m│\u001b[0m \u001b[1;36mLecture Notes in Computer Science, Springer-Verlag. Standard LaTeX. Requires\\n  llncs.sty (included)\", \u001b[0m         \u001b[32m│\u001b[0m\n",
              "\u001b[32m│\u001b[0m \u001b[1;36m\"journal_ref\": null, \"doi\": null, \"primary_category\": \"quant-ph\", \"categories\": [\"quant-ph\"], \"pdf_url\": \u001b[0m       \u001b[32m│\u001b[0m\n",
              "\u001b[32m│\u001b[0m \u001b[1;36m\"http://arxiv.org/pdf/quant-ph/9602014v1\", \"abstract_url\": \"https://arxiv.org/abs/9602014v1\"}]\u001b[0m                  \u001b[32m│\u001b[0m\n",
              "\u001b[32m╰─────────────────────────────────────────────────────────────────────────────────────────────────────────────────╯\u001b[0m\n"
            ],
            "text/html": [
              "<pre style=\"white-space:pre;overflow-x:auto;line-height:normal;font-family:Menlo,'DejaVu Sans Mono',consolas,'Courier New',monospace\"><span style=\"color: #008000; text-decoration-color: #008000\">╭─────────────────────────────────────────────────── Tool Call ───────────────────────────────────────────────────╮</span>\n",
              "<span style=\"color: #008000; text-decoration-color: #008000\">│</span> <span style=\"color: #008080; text-decoration-color: #008080; font-weight: bold\">Function 'search' returned: [{\"arxiv_id\": \"1804.00200v1\", \"updated\": \"2018-03-31T18:02:05+00:00\", \"published\": </span> <span style=\"color: #008000; text-decoration-color: #008000\">│</span>\n",
              "<span style=\"color: #008000; text-decoration-color: #008000\">│</span> <span style=\"color: #008080; text-decoration-color: #008080; font-weight: bold\">\"2018-03-31T18:02:05+00:00\", \"title\": \"The Impact of Quantum Computing on Present Cryptography\", \"authors\": </span>    <span style=\"color: #008000; text-decoration-color: #008000\">│</span>\n",
              "<span style=\"color: #008000; text-decoration-color: #008000\">│</span> <span style=\"color: #008080; text-decoration-color: #008080; font-weight: bold\">[\"Vasileios Mavroeidis\", \"Kamer Vishi\", \"Mateusz D. Zych\", \"Audun J\\u00f8sang\"], \"summary\": \"The aim of this </span>   <span style=\"color: #008000; text-decoration-color: #008000\">│</span>\n",
              "<span style=\"color: #008000; text-decoration-color: #008000\">│</span> <span style=\"color: #008080; text-decoration-color: #008080; font-weight: bold\">paper is to elucidate the implications of quantum computing\\nin present cryptography and to introduce the </span>      <span style=\"color: #008000; text-decoration-color: #008000\">│</span>\n",
              "<span style=\"color: #008000; text-decoration-color: #008000\">│</span> <span style=\"color: #008080; text-decoration-color: #008080; font-weight: bold\">reader to basic post-quantum\\nalgorithms. In particular the reader can delve into the following </span>                <span style=\"color: #008000; text-decoration-color: #008000\">│</span>\n",
              "<span style=\"color: #008000; text-decoration-color: #008000\">│</span> <span style=\"color: #008080; text-decoration-color: #008080; font-weight: bold\">subjects:\\npresent cryptographic schemes (symmetric and asymmetric), differences between\\nquantum and classical</span> <span style=\"color: #008000; text-decoration-color: #008000\">│</span>\n",
              "<span style=\"color: #008000; text-decoration-color: #008000\">│</span> <span style=\"color: #008080; text-decoration-color: #008080; font-weight: bold\">computing, challenges in quantum computing, quantum\\nalgorithms (Shor's and Grover's), public key encryption </span>   <span style=\"color: #008000; text-decoration-color: #008000\">│</span>\n",
              "<span style=\"color: #008000; text-decoration-color: #008000\">│</span> <span style=\"color: #008080; text-decoration-color: #008080; font-weight: bold\">schemes affected,\\nsymmetric schemes affected, the impact on hash functions, and post quantum\\ncryptography. </span>   <span style=\"color: #008000; text-decoration-color: #008000\">│</span>\n",
              "<span style=\"color: #008000; text-decoration-color: #008000\">│</span> <span style=\"color: #008080; text-decoration-color: #008080; font-weight: bold\">Specifically, the section of Post-Quantum Cryptography deals with\\ndifferent quantum key distribution methods </span>  <span style=\"color: #008000; text-decoration-color: #008000\">│</span>\n",
              "<span style=\"color: #008000; text-decoration-color: #008000\">│</span> <span style=\"color: #008080; text-decoration-color: #008080; font-weight: bold\">and mathematicalbased solutions,\\nsuch as the BB84 protocol, lattice-based cryptography, </span>                       <span style=\"color: #008000; text-decoration-color: #008000\">│</span>\n",
              "<span style=\"color: #008000; text-decoration-color: #008000\">│</span> <span style=\"color: #008080; text-decoration-color: #008080; font-weight: bold\">multivariate-based\\ncryptography, hash-based signatures and code-based cryptography.\", \"comment\": \"10 pages, 1 </span> <span style=\"color: #008000; text-decoration-color: #008000\">│</span>\n",
              "<span style=\"color: #008000; text-decoration-color: #008000\">│</span> <span style=\"color: #008080; text-decoration-color: #008080; font-weight: bold\">figure, 3 tables, journal article - IJACSA\", \"journal_ref\": \"International Journal of Advanced Computer Science</span> <span style=\"color: #008000; text-decoration-color: #008000\">│</span>\n",
              "<span style=\"color: #008000; text-decoration-color: #008000\">│</span> <span style=\"color: #008080; text-decoration-color: #008080; font-weight: bold\">and\\n  Applications (IJACSA), 9(3), 405-414, March 2018\", \"doi\": \"10.14569/IJACSA.2018.090354\", </span>                <span style=\"color: #008000; text-decoration-color: #008000\">│</span>\n",
              "<span style=\"color: #008000; text-decoration-color: #008000\">│</span> <span style=\"color: #008080; text-decoration-color: #008080; font-weight: bold\">\"primary_category\": \"cs.CR\", \"categories\": [\"cs.CR\", \"81P94, 11T71, 94A60, 14G50\"], \"pdf_url\": </span>                 <span style=\"color: #008000; text-decoration-color: #008000\">│</span>\n",
              "<span style=\"color: #008000; text-decoration-color: #008000\">│</span> <span style=\"color: #008080; text-decoration-color: #008080; font-weight: bold\">\"http://arxiv.org/pdf/1804.00200v1\", \"abstract_url\": \"https://arxiv.org/abs/1804.00200v1\"}, {\"arxiv_id\": </span>       <span style=\"color: #008000; text-decoration-color: #008000\">│</span>\n",
              "<span style=\"color: #008000; text-decoration-color: #008000\">│</span> <span style=\"color: #008080; text-decoration-color: #008080; font-weight: bold\">\"2501.03249v1\", \"updated\": \"2024-12-23T05:30:44+00:00\", \"published\": \"2024-12-23T05:30:44+00:00\", \"title\": </span>     <span style=\"color: #008000; text-decoration-color: #008000\">│</span>\n",
              "<span style=\"color: #008000; text-decoration-color: #008000\">│</span> <span style=\"color: #008080; text-decoration-color: #008080; font-weight: bold\">\"Homomorphic Encryption Based on Lattice Post-Quantum Cryptography\", \"authors\": [\"Abel C. H. Chen\"], \"summary\":</span> <span style=\"color: #008000; text-decoration-color: #008000\">│</span>\n",
              "<span style=\"color: #008000; text-decoration-color: #008000\">│</span> <span style=\"color: #008080; text-decoration-color: #008080; font-weight: bold\">\"As quantum computing technology continues to advance, post-quantum\\ncryptographic methods capable of resisting</span> <span style=\"color: #008000; text-decoration-color: #008000\">│</span>\n",
              "<span style=\"color: #008000; text-decoration-color: #008000\">│</span> <span style=\"color: #008080; text-decoration-color: #008080; font-weight: bold\">quantum attacks have emerged as a\\ncritical area of focus. Given the potential vulnerability of </span>                <span style=\"color: #008000; text-decoration-color: #008000\">│</span>\n",
              "<span style=\"color: #008000; text-decoration-color: #008000\">│</span> <span style=\"color: #008080; text-decoration-color: #008080; font-weight: bold\">existing\\nhomomorphic encryption methods, such as RSA, ElGamal, and Paillier, to quantum\\ncomputing attacks, </span>   <span style=\"color: #008000; text-decoration-color: #008000\">│</span>\n",
              "<span style=\"color: #008000; text-decoration-color: #008000\">│</span> <span style=\"color: #008080; text-decoration-color: #008080; font-weight: bold\">this study proposes a lattice-based post-quantum homomorphic\\nencryption scheme. The approach leverages lattice</span> <span style=\"color: #008000; text-decoration-color: #008000\">│</span>\n",
              "<span style=\"color: #008000; text-decoration-color: #008000\">│</span> <span style=\"color: #008080; text-decoration-color: #008080; font-weight: bold\">cryptography to build\\nresilience against quantum threats while enabling practical homomorphic\\nencryption </span>     <span style=\"color: #008000; text-decoration-color: #008000\">│</span>\n",
              "<span style=\"color: #008000; text-decoration-color: #008000\">│</span> <span style=\"color: #008080; text-decoration-color: #008080; font-weight: bold\">applications. This research provides mathematical proofs and\\ncomputational examples, alongside a security </span>     <span style=\"color: #008000; text-decoration-color: #008000\">│</span>\n",
              "<span style=\"color: #008000; text-decoration-color: #008000\">│</span> <span style=\"color: #008080; text-decoration-color: #008080; font-weight: bold\">analysis of the lattice-based\\npost-quantum homomorphic encryption scheme. The findings are intended to </span>        <span style=\"color: #008000; text-decoration-color: #008000\">│</span>\n",
              "<span style=\"color: #008000; text-decoration-color: #008000\">│</span> <span style=\"color: #008080; text-decoration-color: #008080; font-weight: bold\">serve\\nas a reference for developers of homomorphic encryption applications, such as\\nfederated learning </span>       <span style=\"color: #008000; text-decoration-color: #008000\">│</span>\n",
              "<span style=\"color: #008000; text-decoration-color: #008000\">│</span> <span style=\"color: #008080; text-decoration-color: #008080; font-weight: bold\">systems.\", \"comment\": \"in Chinese language\", \"journal_ref\": null, \"doi\": null, \"primary_category\": \"cs.CR\", </span>    <span style=\"color: #008000; text-decoration-color: #008000\">│</span>\n",
              "<span style=\"color: #008000; text-decoration-color: #008000\">│</span> <span style=\"color: #008080; text-decoration-color: #008080; font-weight: bold\">\"categories\": [\"cs.CR\"], \"pdf_url\": \"http://arxiv.org/pdf/2501.03249v1\", \"abstract_url\": </span>                       <span style=\"color: #008000; text-decoration-color: #008000\">│</span>\n",
              "<span style=\"color: #008000; text-decoration-color: #008000\">│</span> <span style=\"color: #008080; text-decoration-color: #008080; font-weight: bold\">\"https://arxiv.org/abs/2501.03249v1\"}, {\"arxiv_id\": \"2401.13691v1\", \"updated\": \"2024-01-03T13:34:20+00:00\", </span>    <span style=\"color: #008000; text-decoration-color: #008000\">│</span>\n",
              "<span style=\"color: #008000; text-decoration-color: #008000\">│</span> <span style=\"color: #008080; text-decoration-color: #008080; font-weight: bold\">\"published\": \"2024-01-03T13:34:20+00:00\", \"title\": \"PQCMC: Post-Quantum Cryptography McEliece-Chen Implicit </span>    <span style=\"color: #008000; text-decoration-color: #008000\">│</span>\n",
              "<span style=\"color: #008000; text-decoration-color: #008000\">│</span> <span style=\"color: #008080; text-decoration-color: #008080; font-weight: bold\">Certificate Scheme\", \"authors\": [\"Abel C. H. Chen\"], \"summary\": \"In recent years, the elliptic curve </span>           <span style=\"color: #008000; text-decoration-color: #008000\">│</span>\n",
              "<span style=\"color: #008000; text-decoration-color: #008000\">│</span> <span style=\"color: #008080; text-decoration-color: #008080; font-weight: bold\">Qu-Vanstone (ECQV) implicit certificate\\nscheme has found application in security credential management systems</span> <span style=\"color: #008000; text-decoration-color: #008000\">│</span>\n",
              "<span style=\"color: #008000; text-decoration-color: #008000\">│</span> <span style=\"color: #008080; text-decoration-color: #008080; font-weight: bold\">(SCMS)\\nand secure vehicle-to-everything (V2X) communication to issue pseudonymous\\ncertificates. However, the </span> <span style=\"color: #008000; text-decoration-color: #008000\">│</span>\n",
              "<span style=\"color: #008000; text-decoration-color: #008000\">│</span> <span style=\"color: #008080; text-decoration-color: #008080; font-weight: bold\">vulnerability of elliptic-curve cryptography (ECC)\\nto polynomial-time attacks posed by quantum computing </span>      <span style=\"color: #008000; text-decoration-color: #008000\">│</span>\n",
              "<span style=\"color: #008000; text-decoration-color: #008000\">│</span> <span style=\"color: #008080; text-decoration-color: #008080; font-weight: bold\">raises concerns. In order\\nto enhance resistance against quantum computing threats, various </span>                    <span style=\"color: #008000; text-decoration-color: #008000\">│</span>\n",
              "<span style=\"color: #008000; text-decoration-color: #008000\">│</span> <span style=\"color: #008080; text-decoration-color: #008080; font-weight: bold\">post-quantum\\ncryptography methods have been adopted as standard (e.g. Dilithium) or\\ncandidate standard </span>       <span style=\"color: #008000; text-decoration-color: #008000\">│</span>\n",
              "<span style=\"color: #008000; text-decoration-color: #008000\">│</span> <span style=\"color: #008080; text-decoration-color: #008080; font-weight: bold\">methods (e.g. McEliece cryptography), but state of the art\\nhas proven to be challenging to implement implicit </span> <span style=\"color: #008000; text-decoration-color: #008000\">│</span>\n",
              "<span style=\"color: #008000; text-decoration-color: #008000\">│</span> <span style=\"color: #008080; text-decoration-color: #008080; font-weight: bold\">certificates using\\nlattice-based cryptography methods. Therefore, this study proposes a\\npost-quantum </span>         <span style=\"color: #008000; text-decoration-color: #008000\">│</span>\n",
              "<span style=\"color: #008000; text-decoration-color: #008000\">│</span> <span style=\"color: #008080; text-decoration-color: #008080; font-weight: bold\">cryptography McEliece-Chen (PQCMC) based on an efficient random\\ninvertible matrix generation method to issue </span>  <span style=\"color: #008000; text-decoration-color: #008000\">│</span>\n",
              "<span style=\"color: #008000; text-decoration-color: #008000\">│</span> <span style=\"color: #008080; text-decoration-color: #008080; font-weight: bold\">pseudonymous certificates with\\nless computation time. The study provides mathematical models to validate </span>      <span style=\"color: #008000; text-decoration-color: #008000\">│</span>\n",
              "<span style=\"color: #008000; text-decoration-color: #008000\">│</span> <span style=\"color: #008080; text-decoration-color: #008080; font-weight: bold\">the\\nkey expansion process for implicit certificates. Furthermore, comprehensive\\nsecurity evaluations and </span>     <span style=\"color: #008000; text-decoration-color: #008000\">│</span>\n",
              "<span style=\"color: #008000; text-decoration-color: #008000\">│</span> <span style=\"color: #008080; text-decoration-color: #008080; font-weight: bold\">discussions are conducted to demonstrate that distinct\\nimplicit certificates can be linked to the same end </span>    <span style=\"color: #008000; text-decoration-color: #008000\">│</span>\n",
              "<span style=\"color: #008000; text-decoration-color: #008000\">│</span> <span style=\"color: #008080; text-decoration-color: #008080; font-weight: bold\">entity. In experiments, a\\ncomparison is conducted between the certificate length and computation time </span>         <span style=\"color: #008000; text-decoration-color: #008000\">│</span>\n",
              "<span style=\"color: #008000; text-decoration-color: #008000\">│</span> <span style=\"color: #008080; text-decoration-color: #008080; font-weight: bold\">to\\nevaluate the performance of the proposed PQCMC. This study demonstrates the\\nviability of the implicit </span>     <span style=\"color: #008000; text-decoration-color: #008000\">│</span>\n",
              "<span style=\"color: #008000; text-decoration-color: #008000\">│</span> <span style=\"color: #008080; text-decoration-color: #008080; font-weight: bold\">certificate scheme based on PQC as a means of\\ncountering quantum computing threats.\", \"comment\": null, </span>        <span style=\"color: #008000; text-decoration-color: #008000\">│</span>\n",
              "<span style=\"color: #008000; text-decoration-color: #008000\">│</span> <span style=\"color: #008080; text-decoration-color: #008080; font-weight: bold\">\"journal_ref\": null, \"doi\": null, \"primary_category\": \"cs.CR\", \"categories\": [\"cs.CR\", \"cs.NI\"], \"pdf_url\": </span>    <span style=\"color: #008000; text-decoration-color: #008000\">│</span>\n",
              "<span style=\"color: #008000; text-decoration-color: #008000\">│</span> <span style=\"color: #008080; text-decoration-color: #008080; font-weight: bold\">\"http://arxiv.org/pdf/2401.13691v1\", \"abstract_url\": \"https://arxiv.org/abs/2401.13691v1\"}, {\"arxiv_id\": </span>       <span style=\"color: #008000; text-decoration-color: #008000\">│</span>\n",
              "<span style=\"color: #008000; text-decoration-color: #008000\">│</span> <span style=\"color: #008080; text-decoration-color: #008080; font-weight: bold\">\"1510.06120v2\", \"updated\": \"2015-12-18T14:08:58+00:00\", \"published\": \"2015-10-21T03:20:05+00:00\", \"title\": </span>     <span style=\"color: #008000; text-decoration-color: #008000\">│</span>\n",
              "<span style=\"color: #008000; text-decoration-color: #008000\">│</span> <span style=\"color: #008080; text-decoration-color: #008080; font-weight: bold\">\"Quantum Cryptography Beyond Quantum Key Distribution\", \"authors\": [\"Anne Broadbent\", \"Christian Schaffner\"], </span>  <span style=\"color: #008000; text-decoration-color: #008000\">│</span>\n",
              "<span style=\"color: #008000; text-decoration-color: #008000\">│</span> <span style=\"color: #008080; text-decoration-color: #008080; font-weight: bold\">\"summary\": \"Quantum cryptography is the art and science of exploiting quantum mechanical\\neffects in order to </span>  <span style=\"color: #008000; text-decoration-color: #008000\">│</span>\n",
              "<span style=\"color: #008000; text-decoration-color: #008000\">│</span> <span style=\"color: #008080; text-decoration-color: #008080; font-weight: bold\">perform cryptographic tasks. While the most well-known\\nexample of this discipline is quantum key distribution </span> <span style=\"color: #008000; text-decoration-color: #008000\">│</span>\n",
              "<span style=\"color: #008000; text-decoration-color: #008000\">│</span> <span style=\"color: #008080; text-decoration-color: #008080; font-weight: bold\">(QKD), there exist many\\nother applications such as quantum money, randomness generation, secure two-\\nand </span>     <span style=\"color: #008000; text-decoration-color: #008000\">│</span>\n",
              "<span style=\"color: #008000; text-decoration-color: #008000\">│</span> <span style=\"color: #008080; text-decoration-color: #008080; font-weight: bold\">multi-party computation and delegated quantum computation. Quantum\\ncryptography also studies the limitations </span>  <span style=\"color: #008000; text-decoration-color: #008000\">│</span>\n",
              "<span style=\"color: #008000; text-decoration-color: #008000\">│</span> <span style=\"color: #008080; text-decoration-color: #008080; font-weight: bold\">and challenges resulting from quantum\\nadversaries---including the impossibility of quantum bit commitment, </span>    <span style=\"color: #008000; text-decoration-color: #008000\">│</span>\n",
              "<span style=\"color: #008000; text-decoration-color: #008000\">│</span> <span style=\"color: #008080; text-decoration-color: #008080; font-weight: bold\">the\\ndifficulty of quantum rewinding and the definition of quantum security models\\nfor classical primitives. </span>  <span style=\"color: #008000; text-decoration-color: #008000\">│</span>\n",
              "<span style=\"color: #008000; text-decoration-color: #008000\">│</span> <span style=\"color: #008080; text-decoration-color: #008080; font-weight: bold\">In this review article, aimed primarily at\\ncryptographers unfamiliar with the quantum world, we survey the </span>    <span style=\"color: #008000; text-decoration-color: #008000\">│</span>\n",
              "<span style=\"color: #008000; text-decoration-color: #008000\">│</span> <span style=\"color: #008080; text-decoration-color: #008080; font-weight: bold\">area of\\ntheoretical quantum cryptography, with an emphasis on the constructions and\\nlimitations beyond the </span>   <span style=\"color: #008000; text-decoration-color: #008000\">│</span>\n",
              "<span style=\"color: #008000; text-decoration-color: #008000\">│</span> <span style=\"color: #008080; text-decoration-color: #008080; font-weight: bold\">realm of QKD.\", \"comment\": \"45 pages, over 245 references\", \"journal_ref\": \"Designs, Codes and Cryptography. </span>   <span style=\"color: #008000; text-decoration-color: #008000\">│</span>\n",
              "<span style=\"color: #008000; text-decoration-color: #008000\">│</span> <span style=\"color: #008080; text-decoration-color: #008080; font-weight: bold\">Volume 78, Issue 1, pp 351-382\\n  (2016)\", \"doi\": \"10.1007/s10623-015-0157-4\", \"primary_category\": \"quant-ph\", </span> <span style=\"color: #008000; text-decoration-color: #008000\">│</span>\n",
              "<span style=\"color: #008000; text-decoration-color: #008000\">│</span> <span style=\"color: #008080; text-decoration-color: #008080; font-weight: bold\">\"categories\": [\"quant-ph\"], \"pdf_url\": \"http://arxiv.org/pdf/1510.06120v2\", \"abstract_url\": </span>                    <span style=\"color: #008000; text-decoration-color: #008000\">│</span>\n",
              "<span style=\"color: #008000; text-decoration-color: #008000\">│</span> <span style=\"color: #008080; text-decoration-color: #008080; font-weight: bold\">\"https://arxiv.org/abs/1510.06120v2\"}, {\"arxiv_id\": \"9602014v1\", \"updated\": \"1996-02-19T22:58:27+00:00\", </span>       <span style=\"color: #008000; text-decoration-color: #008000\">│</span>\n",
              "<span style=\"color: #008000; text-decoration-color: #008000\">│</span> <span style=\"color: #008080; text-decoration-color: #008080; font-weight: bold\">\"published\": \"1996-02-19T22:58:27+00:00\", \"title\": \"New Trends in Quantum Computing\", \"authors\": [\"Gilles </span>      <span style=\"color: #008000; text-decoration-color: #008000\">│</span>\n",
              "<span style=\"color: #008000; text-decoration-color: #008000\">│</span> <span style=\"color: #008080; text-decoration-color: #008080; font-weight: bold\">Brassard\"], \"summary\": \"Classical and quantum information are very different. Together they can\\nperform feats </span> <span style=\"color: #008000; text-decoration-color: #008000\">│</span>\n",
              "<span style=\"color: #008000; text-decoration-color: #008000\">│</span> <span style=\"color: #008080; text-decoration-color: #008080; font-weight: bold\">that neither could achieve alone, such as quantum computing,\\nquantum cryptography and quantum teleportation. </span>  <span style=\"color: #008000; text-decoration-color: #008000\">│</span>\n",
              "<span style=\"color: #008000; text-decoration-color: #008000\">│</span> <span style=\"color: #008080; text-decoration-color: #008080; font-weight: bold\">Some of the applications range\\nfrom helping to preventing spies from reading private communications. Among </span>    <span style=\"color: #008000; text-decoration-color: #008000\">│</span>\n",
              "<span style=\"color: #008000; text-decoration-color: #008000\">│</span> <span style=\"color: #008080; text-decoration-color: #008080; font-weight: bold\">the\\ntools that will facilitate their implementation, we note quantum purification\\nand quantum error </span>          <span style=\"color: #008000; text-decoration-color: #008000\">│</span>\n",
              "<span style=\"color: #008000; text-decoration-color: #008000\">│</span> <span style=\"color: #008080; text-decoration-color: #008080; font-weight: bold\">correction. Although some of these ideas are still beyond the\\ngrasp of current technology, quantum </span>            <span style=\"color: #008000; text-decoration-color: #008000\">│</span>\n",
              "<span style=\"color: #008000; text-decoration-color: #008000\">│</span> <span style=\"color: #008080; text-decoration-color: #008080; font-weight: bold\">cryptography has been implemented and the\\nprospects are encouraging for small-scale prototypes of quantum </span>     <span style=\"color: #008000; text-decoration-color: #008000\">│</span>\n",
              "<span style=\"color: #008000; text-decoration-color: #008000\">│</span> <span style=\"color: #008080; text-decoration-color: #008080; font-weight: bold\">computation\\ndevices before the end of the millennium.\", \"comment\": \"8 pages. Presented at the 13th Symposium </span>  <span style=\"color: #008000; text-decoration-color: #008000\">│</span>\n",
              "<span style=\"color: #008000; text-decoration-color: #008000\">│</span> <span style=\"color: #008080; text-decoration-color: #008080; font-weight: bold\">on Theoretical Aspects of\\n  Computer Science, Grenoble, 22 February 1996. Will appear in the proceedings,\\n  </span>  <span style=\"color: #008000; text-decoration-color: #008000\">│</span>\n",
              "<span style=\"color: #008000; text-decoration-color: #008000\">│</span> <span style=\"color: #008080; text-decoration-color: #008080; font-weight: bold\">Lecture Notes in Computer Science, Springer-Verlag. Standard LaTeX. Requires\\n  llncs.sty (included)\", </span>         <span style=\"color: #008000; text-decoration-color: #008000\">│</span>\n",
              "<span style=\"color: #008000; text-decoration-color: #008000\">│</span> <span style=\"color: #008080; text-decoration-color: #008080; font-weight: bold\">\"journal_ref\": null, \"doi\": null, \"primary_category\": \"quant-ph\", \"categories\": [\"quant-ph\"], \"pdf_url\": </span>       <span style=\"color: #008000; text-decoration-color: #008000\">│</span>\n",
              "<span style=\"color: #008000; text-decoration-color: #008000\">│</span> <span style=\"color: #008080; text-decoration-color: #008080; font-weight: bold\">\"http://arxiv.org/pdf/quant-ph/9602014v1\", \"abstract_url\": \"https://arxiv.org/abs/9602014v1\"}]</span>                  <span style=\"color: #008000; text-decoration-color: #008000\">│</span>\n",
              "<span style=\"color: #008000; text-decoration-color: #008000\">╰─────────────────────────────────────────────────────────────────────────────────────────────────────────────────╯</span>\n",
              "</pre>\n"
            ]
          },
          "metadata": {}
        },
        {
          "output_type": "display_data",
          "data": {
            "text/plain": [
              "Output()"
            ],
            "application/vnd.jupyter.widget-view+json": {
              "version_major": 2,
              "version_minor": 0,
              "model_id": "547f031250bf4e8d8c2d1b98aebdd4b9"
            }
          },
          "metadata": {}
        },
        {
          "output_type": "display_data",
          "data": {
            "text/plain": [],
            "text/html": [
              "<pre style=\"white-space:pre;overflow-x:auto;line-height:normal;font-family:Menlo,'DejaVu Sans Mono',consolas,'Courier New',monospace\"></pre>\n"
            ]
          },
          "metadata": {}
        },
        {
          "output_type": "display_data",
          "data": {
            "text/plain": [
              "\n"
            ],
            "text/html": [
              "<pre style=\"white-space:pre;overflow-x:auto;line-height:normal;font-family:Menlo,'DejaVu Sans Mono',consolas,'Courier New',monospace\">\n",
              "</pre>\n"
            ]
          },
          "metadata": {}
        },
        {
          "output_type": "display_data",
          "data": {
            "text/plain": [
              "\u001b[2mResponse generated in 17.6s\u001b[0m\n"
            ],
            "text/html": [
              "<pre style=\"white-space:pre;overflow-x:auto;line-height:normal;font-family:Menlo,'DejaVu Sans Mono',consolas,'Courier New',monospace\"><span style=\"color: #7f7f7f; text-decoration-color: #7f7f7f\">Response generated in 17.6s</span>\n",
              "</pre>\n"
            ]
          },
          "metadata": {}
        },
        {
          "output_type": "display_data",
          "data": {
            "text/plain": [
              "\u001b[36m╭─\u001b[0m\u001b[36m────────────────────────────────────────────────────\u001b[0m\u001b[36m Task \u001b[0m\u001b[36m─────────────────────────────────────────────────────\u001b[0m\u001b[36m─╮\u001b[0m\n",
              "\u001b[36m│\u001b[0m You need to do the following task: Search for papers on quantum computing applications in cryptography..        \u001b[36m│\u001b[0m\n",
              "\u001b[36m│\u001b[0m Expected Output: Complete the task successfully. Please provide only the final result of your work. Do not add  \u001b[36m│\u001b[0m\n",
              "\u001b[36m│\u001b[0m any conversation or extra explanation.                                                                          \u001b[36m│\u001b[0m\n",
              "\u001b[36m╰─────────────────────────────────────────────────────────────────────────────────────────────────────────────────╯\u001b[0m\n"
            ],
            "text/html": [
              "<pre style=\"white-space:pre;overflow-x:auto;line-height:normal;font-family:Menlo,'DejaVu Sans Mono',consolas,'Courier New',monospace\"><span style=\"color: #008080; text-decoration-color: #008080\">╭───────────────────────────────────────────────────── Task ──────────────────────────────────────────────────────╮</span>\n",
              "<span style=\"color: #008080; text-decoration-color: #008080\">│</span> You need to do the following task: Search for papers on quantum computing applications in cryptography..        <span style=\"color: #008080; text-decoration-color: #008080\">│</span>\n",
              "<span style=\"color: #008080; text-decoration-color: #008080\">│</span> Expected Output: Complete the task successfully. Please provide only the final result of your work. Do not add  <span style=\"color: #008080; text-decoration-color: #008080\">│</span>\n",
              "<span style=\"color: #008080; text-decoration-color: #008080\">│</span> any conversation or extra explanation.                                                                          <span style=\"color: #008080; text-decoration-color: #008080\">│</span>\n",
              "<span style=\"color: #008080; text-decoration-color: #008080\">╰─────────────────────────────────────────────────────────────────────────────────────────────────────────────────╯</span>\n",
              "</pre>\n"
            ]
          },
          "metadata": {}
        },
        {
          "output_type": "display_data",
          "data": {
            "text/plain": [
              "\u001b[36m╭─\u001b[0m\u001b[36m──────────────────────────────────────────────────\u001b[0m\u001b[36m Response \u001b[0m\u001b[36m───────────────────────────────────────────────────\u001b[0m\u001b[36m─╮\u001b[0m\n",
              "\u001b[36m│\u001b[0m                                                                                                                 \u001b[36m│\u001b[0m\n",
              "\u001b[36m│\u001b[0m \u001b[1;33m 1 \u001b[0m\u001b[1mTitle:\u001b[0m \u001b]8;id=807468;https://arxiv.org/abs/1804.00200v1\u001b\\\u001b[4;34mThe Impact of Quantum Computing on Present Cryptography\u001b[0m\u001b]8;;\u001b\\                                               \u001b[36m│\u001b[0m\n",
              "\u001b[36m│\u001b[0m \u001b[1;33m   \u001b[0m\u001b[1mAuthors:\u001b[0m Vasileios Mavroeidis, Kamer Vishi, Mateusz D. Zych, Audun Jøsang                                    \u001b[36m│\u001b[0m\n",
              "\u001b[36m│\u001b[0m \u001b[1;33m   \u001b[0m\u001b[1mSummary:\u001b[0m This paper elucidates the implications of quantum computing in present cryptography and introduces  \u001b[36m│\u001b[0m\n",
              "\u001b[36m│\u001b[0m \u001b[1;33m   \u001b[0mbasic post-quantum algorithms. It covers present cryptographic schemes, differences between quantum and      \u001b[36m│\u001b[0m\n",
              "\u001b[36m│\u001b[0m \u001b[1;33m   \u001b[0mclassical computing, challenges in quantum computing, and post-quantum cryptography.                         \u001b[36m│\u001b[0m\n",
              "\u001b[36m│\u001b[0m \u001b[1;33m   \u001b[0m\u001b[1mPDF:\u001b[0m \u001b]8;id=981359;http://arxiv.org/pdf/1804.00200v1\u001b\\\u001b[4;34mLink\u001b[0m\u001b]8;;\u001b\\                                                                                                    \u001b[36m│\u001b[0m\n",
              "\u001b[36m│\u001b[0m \u001b[1;33m   \u001b[0m\u001b[1mJournal:\u001b[0m International Journal of Advanced Computer Science and Applications (IJACSA), 9(3), 405-414, March  \u001b[36m│\u001b[0m\n",
              "\u001b[36m│\u001b[0m \u001b[1;33m   \u001b[0m2018                                                                                                         \u001b[36m│\u001b[0m\n",
              "\u001b[36m│\u001b[0m \u001b[1;33m 2 \u001b[0m\u001b[1mTitle:\u001b[0m \u001b]8;id=218690;https://arxiv.org/abs/2501.03249v1\u001b\\\u001b[4;34mHomomorphic Encryption Based on Lattice Post-Quantum Cryptography\u001b[0m\u001b]8;;\u001b\\                                     \u001b[36m│\u001b[0m\n",
              "\u001b[36m│\u001b[0m \u001b[1;33m   \u001b[0m\u001b[1mAuthors:\u001b[0m Abel C. H. Chen                                                                                     \u001b[36m│\u001b[0m\n",
              "\u001b[36m│\u001b[0m \u001b[1;33m   \u001b[0m\u001b[1mSummary:\u001b[0m This study proposes a lattice-based post-quantum homomorphic encryption scheme to resist quantum    \u001b[36m│\u001b[0m\n",
              "\u001b[36m│\u001b[0m \u001b[1;33m   \u001b[0mattacks, providing mathematical proofs and security analysis.                                                \u001b[36m│\u001b[0m\n",
              "\u001b[36m│\u001b[0m \u001b[1;33m   \u001b[0m\u001b[1mPDF:\u001b[0m \u001b]8;id=893871;http://arxiv.org/pdf/2501.03249v1\u001b\\\u001b[4;34mLink\u001b[0m\u001b]8;;\u001b\\                                                                                                    \u001b[36m│\u001b[0m\n",
              "\u001b[36m│\u001b[0m \u001b[1;33m 3 \u001b[0m\u001b[1mTitle:\u001b[0m \u001b]8;id=297954;https://arxiv.org/abs/2401.13691v1\u001b\\\u001b[4;34mPQCMC: Post-Quantum Cryptography McEliece-Chen Implicit Certificate Scheme\u001b[0m\u001b]8;;\u001b\\                            \u001b[36m│\u001b[0m\n",
              "\u001b[36m│\u001b[0m \u001b[1;33m   \u001b[0m\u001b[1mAuthors:\u001b[0m Abel C. H. Chen                                                                                     \u001b[36m│\u001b[0m\n",
              "\u001b[36m│\u001b[0m \u001b[1;33m   \u001b[0m\u001b[1mSummary:\u001b[0m This study proposes a post-quantum cryptography McEliece-Chen scheme for issuing pseudonymous       \u001b[36m│\u001b[0m\n",
              "\u001b[36m│\u001b[0m \u001b[1;33m   \u001b[0mcertificates, enhancing resistance against quantum computing threats.                                        \u001b[36m│\u001b[0m\n",
              "\u001b[36m│\u001b[0m \u001b[1;33m   \u001b[0m\u001b[1mPDF:\u001b[0m \u001b]8;id=325015;http://arxiv.org/pdf/2401.13691v1\u001b\\\u001b[4;34mLink\u001b[0m\u001b]8;;\u001b\\                                                                                                    \u001b[36m│\u001b[0m\n",
              "\u001b[36m│\u001b[0m \u001b[1;33m 4 \u001b[0m\u001b[1mTitle:\u001b[0m \u001b]8;id=426463;https://arxiv.org/abs/1510.06120v2\u001b\\\u001b[4;34mQuantum Cryptography Beyond Quantum Key Distribution\u001b[0m\u001b]8;;\u001b\\                                                  \u001b[36m│\u001b[0m\n",
              "\u001b[36m│\u001b[0m \u001b[1;33m   \u001b[0m\u001b[1mAuthors:\u001b[0m Anne Broadbent, Christian Schaffner                                                                 \u001b[36m│\u001b[0m\n",
              "\u001b[36m│\u001b[0m \u001b[1;33m   \u001b[0m\u001b[1mSummary:\u001b[0m This review surveys theoretical quantum cryptography, emphasizing constructions and limitations     \u001b[36m│\u001b[0m\n",
              "\u001b[36m│\u001b[0m \u001b[1;33m   \u001b[0mbeyond quantum key distribution.                                                                             \u001b[36m│\u001b[0m\n",
              "\u001b[36m│\u001b[0m \u001b[1;33m   \u001b[0m\u001b[1mPDF:\u001b[0m \u001b]8;id=727846;http://arxiv.org/pdf/1510.06120v2\u001b\\\u001b[4;34mLink\u001b[0m\u001b]8;;\u001b\\                                                                                                    \u001b[36m│\u001b[0m\n",
              "\u001b[36m│\u001b[0m \u001b[1;33m   \u001b[0m\u001b[1mJournal:\u001b[0m Designs, Codes and Cryptography. Volume 78, Issue 1, pp 351-382 (2016)                              \u001b[36m│\u001b[0m\n",
              "\u001b[36m│\u001b[0m \u001b[1;33m 5 \u001b[0m\u001b[1mTitle:\u001b[0m \u001b]8;id=135070;https://arxiv.org/abs/quant-ph/9602014v1\u001b\\\u001b[4;34mNew Trends in Quantum Computing\u001b[0m\u001b]8;;\u001b\\                                                                       \u001b[36m│\u001b[0m\n",
              "\u001b[36m│\u001b[0m \u001b[1;33m   \u001b[0m\u001b[1mAuthors:\u001b[0m Gilles Brassard                                                                                     \u001b[36m│\u001b[0m\n",
              "\u001b[36m│\u001b[0m \u001b[1;33m   \u001b[0m\u001b[1mSummary:\u001b[0m Discusses the differences between classical and quantum information, and applications like quantum  \u001b[36m│\u001b[0m\n",
              "\u001b[36m│\u001b[0m \u001b[1;33m   \u001b[0mcryptography and quantum teleportation.                                                                      \u001b[36m│\u001b[0m\n",
              "\u001b[36m│\u001b[0m \u001b[1;33m   \u001b[0m\u001b[1mPDF:\u001b[0m \u001b]8;id=561860;http://arxiv.org/pdf/quant-ph/9602014v1\u001b\\\u001b[4;34mLink\u001b[0m\u001b]8;;\u001b\\                                                                                                    \u001b[36m│\u001b[0m\n",
              "\u001b[36m╰─────────────────────────────────────────────────────────────────────────────────────────────────────────────────╯\u001b[0m\n"
            ],
            "text/html": [
              "<pre style=\"white-space:pre;overflow-x:auto;line-height:normal;font-family:Menlo,'DejaVu Sans Mono',consolas,'Courier New',monospace\"><span style=\"color: #008080; text-decoration-color: #008080\">╭─────────────────────────────────────────────────── Response ────────────────────────────────────────────────────╮</span>\n",
              "<span style=\"color: #008080; text-decoration-color: #008080\">│</span>                                                                                                                 <span style=\"color: #008080; text-decoration-color: #008080\">│</span>\n",
              "<span style=\"color: #008080; text-decoration-color: #008080\">│</span> <span style=\"color: #808000; text-decoration-color: #808000; font-weight: bold\"> 1 </span><span style=\"font-weight: bold\">Title:</span> <a href=\"https://arxiv.org/abs/1804.00200v1\" target=\"_blank\"><span style=\"color: #000080; text-decoration-color: #000080; text-decoration: underline\">The Impact of Quantum Computing on Present Cryptography</span></a>                                               <span style=\"color: #008080; text-decoration-color: #008080\">│</span>\n",
              "<span style=\"color: #008080; text-decoration-color: #008080\">│</span> <span style=\"color: #808000; text-decoration-color: #808000; font-weight: bold\">   </span><span style=\"font-weight: bold\">Authors:</span> Vasileios Mavroeidis, Kamer Vishi, Mateusz D. Zych, Audun Jøsang                                    <span style=\"color: #008080; text-decoration-color: #008080\">│</span>\n",
              "<span style=\"color: #008080; text-decoration-color: #008080\">│</span> <span style=\"color: #808000; text-decoration-color: #808000; font-weight: bold\">   </span><span style=\"font-weight: bold\">Summary:</span> This paper elucidates the implications of quantum computing in present cryptography and introduces  <span style=\"color: #008080; text-decoration-color: #008080\">│</span>\n",
              "<span style=\"color: #008080; text-decoration-color: #008080\">│</span> <span style=\"color: #808000; text-decoration-color: #808000; font-weight: bold\">   </span>basic post-quantum algorithms. It covers present cryptographic schemes, differences between quantum and      <span style=\"color: #008080; text-decoration-color: #008080\">│</span>\n",
              "<span style=\"color: #008080; text-decoration-color: #008080\">│</span> <span style=\"color: #808000; text-decoration-color: #808000; font-weight: bold\">   </span>classical computing, challenges in quantum computing, and post-quantum cryptography.                         <span style=\"color: #008080; text-decoration-color: #008080\">│</span>\n",
              "<span style=\"color: #008080; text-decoration-color: #008080\">│</span> <span style=\"color: #808000; text-decoration-color: #808000; font-weight: bold\">   </span><span style=\"font-weight: bold\">PDF:</span> <a href=\"http://arxiv.org/pdf/1804.00200v1\" target=\"_blank\"><span style=\"color: #000080; text-decoration-color: #000080; text-decoration: underline\">Link</span></a>                                                                                                    <span style=\"color: #008080; text-decoration-color: #008080\">│</span>\n",
              "<span style=\"color: #008080; text-decoration-color: #008080\">│</span> <span style=\"color: #808000; text-decoration-color: #808000; font-weight: bold\">   </span><span style=\"font-weight: bold\">Journal:</span> International Journal of Advanced Computer Science and Applications (IJACSA), 9(3), 405-414, March  <span style=\"color: #008080; text-decoration-color: #008080\">│</span>\n",
              "<span style=\"color: #008080; text-decoration-color: #008080\">│</span> <span style=\"color: #808000; text-decoration-color: #808000; font-weight: bold\">   </span>2018                                                                                                         <span style=\"color: #008080; text-decoration-color: #008080\">│</span>\n",
              "<span style=\"color: #008080; text-decoration-color: #008080\">│</span> <span style=\"color: #808000; text-decoration-color: #808000; font-weight: bold\"> 2 </span><span style=\"font-weight: bold\">Title:</span> <a href=\"https://arxiv.org/abs/2501.03249v1\" target=\"_blank\"><span style=\"color: #000080; text-decoration-color: #000080; text-decoration: underline\">Homomorphic Encryption Based on Lattice Post-Quantum Cryptography</span></a>                                     <span style=\"color: #008080; text-decoration-color: #008080\">│</span>\n",
              "<span style=\"color: #008080; text-decoration-color: #008080\">│</span> <span style=\"color: #808000; text-decoration-color: #808000; font-weight: bold\">   </span><span style=\"font-weight: bold\">Authors:</span> Abel C. H. Chen                                                                                     <span style=\"color: #008080; text-decoration-color: #008080\">│</span>\n",
              "<span style=\"color: #008080; text-decoration-color: #008080\">│</span> <span style=\"color: #808000; text-decoration-color: #808000; font-weight: bold\">   </span><span style=\"font-weight: bold\">Summary:</span> This study proposes a lattice-based post-quantum homomorphic encryption scheme to resist quantum    <span style=\"color: #008080; text-decoration-color: #008080\">│</span>\n",
              "<span style=\"color: #008080; text-decoration-color: #008080\">│</span> <span style=\"color: #808000; text-decoration-color: #808000; font-weight: bold\">   </span>attacks, providing mathematical proofs and security analysis.                                                <span style=\"color: #008080; text-decoration-color: #008080\">│</span>\n",
              "<span style=\"color: #008080; text-decoration-color: #008080\">│</span> <span style=\"color: #808000; text-decoration-color: #808000; font-weight: bold\">   </span><span style=\"font-weight: bold\">PDF:</span> <a href=\"http://arxiv.org/pdf/2501.03249v1\" target=\"_blank\"><span style=\"color: #000080; text-decoration-color: #000080; text-decoration: underline\">Link</span></a>                                                                                                    <span style=\"color: #008080; text-decoration-color: #008080\">│</span>\n",
              "<span style=\"color: #008080; text-decoration-color: #008080\">│</span> <span style=\"color: #808000; text-decoration-color: #808000; font-weight: bold\"> 3 </span><span style=\"font-weight: bold\">Title:</span> <a href=\"https://arxiv.org/abs/2401.13691v1\" target=\"_blank\"><span style=\"color: #000080; text-decoration-color: #000080; text-decoration: underline\">PQCMC: Post-Quantum Cryptography McEliece-Chen Implicit Certificate Scheme</span></a>                            <span style=\"color: #008080; text-decoration-color: #008080\">│</span>\n",
              "<span style=\"color: #008080; text-decoration-color: #008080\">│</span> <span style=\"color: #808000; text-decoration-color: #808000; font-weight: bold\">   </span><span style=\"font-weight: bold\">Authors:</span> Abel C. H. Chen                                                                                     <span style=\"color: #008080; text-decoration-color: #008080\">│</span>\n",
              "<span style=\"color: #008080; text-decoration-color: #008080\">│</span> <span style=\"color: #808000; text-decoration-color: #808000; font-weight: bold\">   </span><span style=\"font-weight: bold\">Summary:</span> This study proposes a post-quantum cryptography McEliece-Chen scheme for issuing pseudonymous       <span style=\"color: #008080; text-decoration-color: #008080\">│</span>\n",
              "<span style=\"color: #008080; text-decoration-color: #008080\">│</span> <span style=\"color: #808000; text-decoration-color: #808000; font-weight: bold\">   </span>certificates, enhancing resistance against quantum computing threats.                                        <span style=\"color: #008080; text-decoration-color: #008080\">│</span>\n",
              "<span style=\"color: #008080; text-decoration-color: #008080\">│</span> <span style=\"color: #808000; text-decoration-color: #808000; font-weight: bold\">   </span><span style=\"font-weight: bold\">PDF:</span> <a href=\"http://arxiv.org/pdf/2401.13691v1\" target=\"_blank\"><span style=\"color: #000080; text-decoration-color: #000080; text-decoration: underline\">Link</span></a>                                                                                                    <span style=\"color: #008080; text-decoration-color: #008080\">│</span>\n",
              "<span style=\"color: #008080; text-decoration-color: #008080\">│</span> <span style=\"color: #808000; text-decoration-color: #808000; font-weight: bold\"> 4 </span><span style=\"font-weight: bold\">Title:</span> <a href=\"https://arxiv.org/abs/1510.06120v2\" target=\"_blank\"><span style=\"color: #000080; text-decoration-color: #000080; text-decoration: underline\">Quantum Cryptography Beyond Quantum Key Distribution</span></a>                                                  <span style=\"color: #008080; text-decoration-color: #008080\">│</span>\n",
              "<span style=\"color: #008080; text-decoration-color: #008080\">│</span> <span style=\"color: #808000; text-decoration-color: #808000; font-weight: bold\">   </span><span style=\"font-weight: bold\">Authors:</span> Anne Broadbent, Christian Schaffner                                                                 <span style=\"color: #008080; text-decoration-color: #008080\">│</span>\n",
              "<span style=\"color: #008080; text-decoration-color: #008080\">│</span> <span style=\"color: #808000; text-decoration-color: #808000; font-weight: bold\">   </span><span style=\"font-weight: bold\">Summary:</span> This review surveys theoretical quantum cryptography, emphasizing constructions and limitations     <span style=\"color: #008080; text-decoration-color: #008080\">│</span>\n",
              "<span style=\"color: #008080; text-decoration-color: #008080\">│</span> <span style=\"color: #808000; text-decoration-color: #808000; font-weight: bold\">   </span>beyond quantum key distribution.                                                                             <span style=\"color: #008080; text-decoration-color: #008080\">│</span>\n",
              "<span style=\"color: #008080; text-decoration-color: #008080\">│</span> <span style=\"color: #808000; text-decoration-color: #808000; font-weight: bold\">   </span><span style=\"font-weight: bold\">PDF:</span> <a href=\"http://arxiv.org/pdf/1510.06120v2\" target=\"_blank\"><span style=\"color: #000080; text-decoration-color: #000080; text-decoration: underline\">Link</span></a>                                                                                                    <span style=\"color: #008080; text-decoration-color: #008080\">│</span>\n",
              "<span style=\"color: #008080; text-decoration-color: #008080\">│</span> <span style=\"color: #808000; text-decoration-color: #808000; font-weight: bold\">   </span><span style=\"font-weight: bold\">Journal:</span> Designs, Codes and Cryptography. Volume 78, Issue 1, pp 351-382 (2016)                              <span style=\"color: #008080; text-decoration-color: #008080\">│</span>\n",
              "<span style=\"color: #008080; text-decoration-color: #008080\">│</span> <span style=\"color: #808000; text-decoration-color: #808000; font-weight: bold\"> 5 </span><span style=\"font-weight: bold\">Title:</span> <a href=\"https://arxiv.org/abs/quant-ph/9602014v1\" target=\"_blank\"><span style=\"color: #000080; text-decoration-color: #000080; text-decoration: underline\">New Trends in Quantum Computing</span></a>                                                                       <span style=\"color: #008080; text-decoration-color: #008080\">│</span>\n",
              "<span style=\"color: #008080; text-decoration-color: #008080\">│</span> <span style=\"color: #808000; text-decoration-color: #808000; font-weight: bold\">   </span><span style=\"font-weight: bold\">Authors:</span> Gilles Brassard                                                                                     <span style=\"color: #008080; text-decoration-color: #008080\">│</span>\n",
              "<span style=\"color: #008080; text-decoration-color: #008080\">│</span> <span style=\"color: #808000; text-decoration-color: #808000; font-weight: bold\">   </span><span style=\"font-weight: bold\">Summary:</span> Discusses the differences between classical and quantum information, and applications like quantum  <span style=\"color: #008080; text-decoration-color: #008080\">│</span>\n",
              "<span style=\"color: #008080; text-decoration-color: #008080\">│</span> <span style=\"color: #808000; text-decoration-color: #808000; font-weight: bold\">   </span>cryptography and quantum teleportation.                                                                      <span style=\"color: #008080; text-decoration-color: #008080\">│</span>\n",
              "<span style=\"color: #008080; text-decoration-color: #008080\">│</span> <span style=\"color: #808000; text-decoration-color: #808000; font-weight: bold\">   </span><span style=\"font-weight: bold\">PDF:</span> <a href=\"http://arxiv.org/pdf/quant-ph/9602014v1\" target=\"_blank\"><span style=\"color: #000080; text-decoration-color: #000080; text-decoration: underline\">Link</span></a>                                                                                                    <span style=\"color: #008080; text-decoration-color: #008080\">│</span>\n",
              "<span style=\"color: #008080; text-decoration-color: #008080\">╰─────────────────────────────────────────────────────────────────────────────────────────────────────────────────╯</span>\n",
              "</pre>\n"
            ]
          },
          "metadata": {}
        },
        {
          "output_type": "display_data",
          "data": {
            "text/plain": [
              "\u001b[38;2;210;227;200m╭─\u001b[0m\u001b[38;2;210;227;200m \u001b[0m\u001b[1;38;2;210;227;200mAgent Info\u001b[0m\u001b[38;2;210;227;200m \u001b[0m\u001b[38;2;210;227;200m───────────────────────────────────────────────────────────────────────────────────────────────────\u001b[0m\u001b[38;2;210;227;200m─╮\u001b[0m\n",
              "\u001b[38;2;210;227;200m│\u001b[0m                                                                                                                 \u001b[38;2;210;227;200m│\u001b[0m\n",
              "\u001b[38;2;210;227;200m│\u001b[0m  \u001b[1;38;2;255;155;155m👤 Agent:\u001b[0m \u001b[38;2;255;229;229mAnalyzer\u001b[0m                                                                                             \u001b[38;2;210;227;200m│\u001b[0m\n",
              "\u001b[38;2;210;227;200m│\u001b[0m  \u001b[1;38;2;180;180;179mRole:\u001b[0m \u001b[38;2;255;229;229mResearch Analyst\u001b[0m                                                                                         \u001b[38;2;210;227;200m│\u001b[0m\n",
              "\u001b[38;2;210;227;200m│\u001b[0m                                                                                                                 \u001b[38;2;210;227;200m│\u001b[0m\n",
              "\u001b[38;2;210;227;200m╰─────────────────────────────────────────────────────────────────────────────────────────────────────────────────╯\u001b[0m\n"
            ],
            "text/html": [
              "<pre style=\"white-space:pre;overflow-x:auto;line-height:normal;font-family:Menlo,'DejaVu Sans Mono',consolas,'Courier New',monospace\"><span style=\"color: #d2e3c8; text-decoration-color: #d2e3c8\">╭─ </span><span style=\"color: #d2e3c8; text-decoration-color: #d2e3c8; font-weight: bold\">Agent Info</span><span style=\"color: #d2e3c8; text-decoration-color: #d2e3c8\"> ────────────────────────────────────────────────────────────────────────────────────────────────────╮</span>\n",
              "<span style=\"color: #d2e3c8; text-decoration-color: #d2e3c8\">│</span>                                                                                                                 <span style=\"color: #d2e3c8; text-decoration-color: #d2e3c8\">│</span>\n",
              "<span style=\"color: #d2e3c8; text-decoration-color: #d2e3c8\">│</span>  <span style=\"color: #ff9b9b; text-decoration-color: #ff9b9b; font-weight: bold\">👤 Agent:</span> <span style=\"color: #ffe5e5; text-decoration-color: #ffe5e5\">Analyzer</span>                                                                                             <span style=\"color: #d2e3c8; text-decoration-color: #d2e3c8\">│</span>\n",
              "<span style=\"color: #d2e3c8; text-decoration-color: #d2e3c8\">│</span>  <span style=\"color: #b4b4b3; text-decoration-color: #b4b4b3; font-weight: bold\">Role:</span> <span style=\"color: #ffe5e5; text-decoration-color: #ffe5e5\">Research Analyst</span>                                                                                         <span style=\"color: #d2e3c8; text-decoration-color: #d2e3c8\">│</span>\n",
              "<span style=\"color: #d2e3c8; text-decoration-color: #d2e3c8\">│</span>                                                                                                                 <span style=\"color: #d2e3c8; text-decoration-color: #d2e3c8\">│</span>\n",
              "<span style=\"color: #d2e3c8; text-decoration-color: #d2e3c8\">╰─────────────────────────────────────────────────────────────────────────────────────────────────────────────────╯</span>\n",
              "</pre>\n"
            ]
          },
          "metadata": {}
        },
        {
          "output_type": "display_data",
          "data": {
            "text/plain": [
              "Output()"
            ],
            "application/vnd.jupyter.widget-view+json": {
              "version_major": 2,
              "version_minor": 0,
              "model_id": "df6375867c8e47b58d0a022cdf3af222"
            }
          },
          "metadata": {}
        },
        {
          "output_type": "display_data",
          "data": {
            "text/plain": [],
            "text/html": [
              "<pre style=\"white-space:pre;overflow-x:auto;line-height:normal;font-family:Menlo,'DejaVu Sans Mono',consolas,'Courier New',monospace\"></pre>\n"
            ]
          },
          "metadata": {}
        },
        {
          "output_type": "display_data",
          "data": {
            "text/plain": [
              "\n"
            ],
            "text/html": [
              "<pre style=\"white-space:pre;overflow-x:auto;line-height:normal;font-family:Menlo,'DejaVu Sans Mono',consolas,'Courier New',monospace\">\n",
              "</pre>\n"
            ]
          },
          "metadata": {}
        },
        {
          "output_type": "display_data",
          "data": {
            "text/plain": [
              "\u001b[2mResponse generated in 6.7s\u001b[0m\n"
            ],
            "text/html": [
              "<pre style=\"white-space:pre;overflow-x:auto;line-height:normal;font-family:Menlo,'DejaVu Sans Mono',consolas,'Courier New',monospace\"><span style=\"color: #7f7f7f; text-decoration-color: #7f7f7f\">Response generated in 6.7s</span>\n",
              "</pre>\n"
            ]
          },
          "metadata": {}
        },
        {
          "output_type": "display_data",
          "data": {
            "text/plain": [
              "\u001b[36m╭─\u001b[0m\u001b[36m────────────────────────────────────────────────────\u001b[0m\u001b[36m Task \u001b[0m\u001b[36m─────────────────────────────────────────────────────\u001b[0m\u001b[36m─╮\u001b[0m\n",
              "\u001b[36m│\u001b[0m You need to do the following task: Analyze the papers and identify key trends and breakthroughs.. Expected      \u001b[36m│\u001b[0m\n",
              "\u001b[36m│\u001b[0m Output: Complete the task successfully.                                                                         \u001b[36m│\u001b[0m\n",
              "\u001b[36m│\u001b[0m                                                                                                                 \u001b[36m│\u001b[0m\n",
              "\u001b[36m│\u001b[0m Context:                                                                                                        \u001b[36m│\u001b[0m\n",
              "\u001b[36m│\u001b[0m                                                                                                                 \u001b[36m│\u001b[0m\n",
              "\u001b[36m│\u001b[0m Result of previous task quantum_research:                                                                       \u001b[36m│\u001b[0m\n",
              "\u001b[36m│\u001b[0m                                                                                                                 \u001b[36m│\u001b[0m\n",
              "\u001b[36m│\u001b[0m \u001b[1;33m 1 \u001b[0m\u001b[1mTitle:\u001b[0m \u001b]8;id=891972;https://arxiv.org/abs/1804.00200v1\u001b\\\u001b[4;34mThe Impact of Quantum Computing on Present Cryptography\u001b[0m\u001b]8;;\u001b\\                                               \u001b[36m│\u001b[0m\n",
              "\u001b[36m│\u001b[0m \u001b[1;33m   \u001b[0m\u001b[1mAuthors:\u001b[0m Vasileios Mavroeidis, Kamer Vishi, Mateusz D. Zych, Audun Jøsang                                    \u001b[36m│\u001b[0m\n",
              "\u001b[36m│\u001b[0m \u001b[1;33m   \u001b[0m\u001b[1mSummary:\u001b[0m This paper elucidates the implications of quantum computing in present cryptography and introduces  \u001b[36m│\u001b[0m\n",
              "\u001b[36m│\u001b[0m \u001b[1;33m   \u001b[0mbasic post-quantum algorithms. It covers present cryptographic schemes, differences between quantum and      \u001b[36m│\u001b[0m\n",
              "\u001b[36m│\u001b[0m \u001b[1;33m   \u001b[0mclassical computing, challenges in quantum computing, and post-quantum cryptography.                         \u001b[36m│\u001b[0m\n",
              "\u001b[36m│\u001b[0m \u001b[1;33m   \u001b[0m\u001b[1mPDF:\u001b[0m \u001b]8;id=386425;http://arxiv.org/pdf/1804.00200v1\u001b\\\u001b[4;34mLink\u001b[0m\u001b]8;;\u001b\\                                                                                                    \u001b[36m│\u001b[0m\n",
              "\u001b[36m│\u001b[0m \u001b[1;33m   \u001b[0m\u001b[1mJournal:\u001b[0m International Journal of Advanced Computer Science and Applications (IJACSA), 9(3), 405-414, March  \u001b[36m│\u001b[0m\n",
              "\u001b[36m│\u001b[0m \u001b[1;33m   \u001b[0m2018                                                                                                         \u001b[36m│\u001b[0m\n",
              "\u001b[36m│\u001b[0m \u001b[1;33m 2 \u001b[0m\u001b[1mTitle:\u001b[0m \u001b]8;id=288214;https://arxiv.org/abs/2501.03249v1\u001b\\\u001b[4;34mHomomorphic Encryption Based on Lattice Post-Quantum Cryptography\u001b[0m\u001b]8;;\u001b\\                                     \u001b[36m│\u001b[0m\n",
              "\u001b[36m│\u001b[0m \u001b[1;33m   \u001b[0m\u001b[1mAuthors:\u001b[0m Abel C. H. Chen                                                                                     \u001b[36m│\u001b[0m\n",
              "\u001b[36m│\u001b[0m \u001b[1;33m   \u001b[0m\u001b[1mSummary:\u001b[0m This study proposes a lattice-based post-quantum homomorphic encryption scheme to resist quantum    \u001b[36m│\u001b[0m\n",
              "\u001b[36m│\u001b[0m \u001b[1;33m   \u001b[0mattacks, providing mathematical proofs and security analysis.                                                \u001b[36m│\u001b[0m\n",
              "\u001b[36m│\u001b[0m \u001b[1;33m   \u001b[0m\u001b[1mPDF:\u001b[0m \u001b]8;id=496561;http://arxiv.org/pdf/2501.03249v1\u001b\\\u001b[4;34mLink\u001b[0m\u001b]8;;\u001b\\                                                                                                    \u001b[36m│\u001b[0m\n",
              "\u001b[36m│\u001b[0m \u001b[1;33m 3 \u001b[0m\u001b[1mTitle:\u001b[0m \u001b]8;id=33645;https://arxiv.org/abs/2401.13691v1\u001b\\\u001b[4;34mPQCMC: Post-Quantum Cryptography McEliece-Chen Implicit Certificate Scheme\u001b[0m\u001b]8;;\u001b\\                            \u001b[36m│\u001b[0m\n",
              "\u001b[36m│\u001b[0m \u001b[1;33m   \u001b[0m\u001b[1mAuthors:\u001b[0m Abel C. H. Chen                                                                                     \u001b[36m│\u001b[0m\n",
              "\u001b[36m│\u001b[0m \u001b[1;33m   \u001b[0m\u001b[1mSummary:\u001b[0m This study proposes a post-quantum cryptography McEliece-Chen scheme for issuing pseudonymous       \u001b[36m│\u001b[0m\n",
              "\u001b[36m│\u001b[0m \u001b[1;33m   \u001b[0mcertificates, enhancing resistance against quantum computing threats.                                        \u001b[36m│\u001b[0m\n",
              "\u001b[36m│\u001b[0m \u001b[1;33m   \u001b[0m\u001b[1mPDF:\u001b[0m \u001b]8;id=716896;http://arxiv.org/pdf/2401.13691v1\u001b\\\u001b[4;34mLink\u001b[0m\u001b]8;;\u001b\\                                                                                                    \u001b[36m│\u001b[0m\n",
              "\u001b[36m│\u001b[0m \u001b[1;33m 4 \u001b[0m\u001b[1mTitle:\u001b[0m \u001b]8;id=573731;https://arxiv.org/abs/1510.06120v2\u001b\\\u001b[4;34mQuantum Cryptography Beyond Quantum Key Distribution\u001b[0m\u001b]8;;\u001b\\                                                  \u001b[36m│\u001b[0m\n",
              "\u001b[36m│\u001b[0m \u001b[1;33m   \u001b[0m\u001b[1mAuthors:\u001b[0m Anne Broadbent, Christian Schaffner                                                                 \u001b[36m│\u001b[0m\n",
              "\u001b[36m│\u001b[0m \u001b[1;33m   \u001b[0m\u001b[1mSummary:\u001b[0m This review surveys theoretical quantum cryptography, emphasizing constructions and limitations     \u001b[36m│\u001b[0m\n",
              "\u001b[36m│\u001b[0m \u001b[1;33m   \u001b[0mbeyond quantum key distribution.                                                                             \u001b[36m│\u001b[0m\n",
              "\u001b[36m│\u001b[0m \u001b[1;33m   \u001b[0m\u001b[1mPDF:\u001b[0m \u001b]8;id=474161;http://arxiv.org/pdf/1510.06120v2\u001b\\\u001b[4;34mLink\u001b[0m\u001b]8;;\u001b\\                                                                                                    \u001b[36m│\u001b[0m\n",
              "\u001b[36m│\u001b[0m \u001b[1;33m   \u001b[0m\u001b[1mJournal:\u001b[0m Designs, Codes and Cryptography. Volume 78, Issue 1, pp 351-382 (2016)                              \u001b[36m│\u001b[0m\n",
              "\u001b[36m│\u001b[0m \u001b[1;33m 5 \u001b[0m\u001b[1mTitle:\u001b[0m \u001b]8;id=250103;https://arxiv.org/abs/quant-ph/9602014v1\u001b\\\u001b[4;34mNew Trends in Quantum Computing\u001b[0m\u001b]8;;\u001b\\                                                                       \u001b[36m│\u001b[0m\n",
              "\u001b[36m│\u001b[0m \u001b[1;33m   \u001b[0m\u001b[1mAuthors:\u001b[0m Gilles Brassard                                                                                     \u001b[36m│\u001b[0m\n",
              "\u001b[36m│\u001b[0m \u001b[1;33m   \u001b[0m\u001b[1mSummary:\u001b[0m Discusses the differences between classical and quantum information, and applications like quantum  \u001b[36m│\u001b[0m\n",
              "\u001b[36m│\u001b[0m \u001b[1;33m   \u001b[0mcryptography and quantum teleportation.                                                                      \u001b[36m│\u001b[0m\n",
              "\u001b[36m│\u001b[0m \u001b[1;33m   \u001b[0m\u001b[1mPDF:\u001b[0m \u001b]8;id=961436;http://arxiv.org/pdf/quant-ph/9602014v1\u001b\\\u001b[4;34mLink\u001b[0m\u001b]8;;\u001b\\ Please provide only the final result of your work. Do not add any conversation or extra            \u001b[36m│\u001b[0m\n",
              "\u001b[36m│\u001b[0m \u001b[1;33m   \u001b[0mexplanation.                                                                                                 \u001b[36m│\u001b[0m\n",
              "\u001b[36m╰─────────────────────────────────────────────────────────────────────────────────────────────────────────────────╯\u001b[0m\n"
            ],
            "text/html": [
              "<pre style=\"white-space:pre;overflow-x:auto;line-height:normal;font-family:Menlo,'DejaVu Sans Mono',consolas,'Courier New',monospace\"><span style=\"color: #008080; text-decoration-color: #008080\">╭───────────────────────────────────────────────────── Task ──────────────────────────────────────────────────────╮</span>\n",
              "<span style=\"color: #008080; text-decoration-color: #008080\">│</span> You need to do the following task: Analyze the papers and identify key trends and breakthroughs.. Expected      <span style=\"color: #008080; text-decoration-color: #008080\">│</span>\n",
              "<span style=\"color: #008080; text-decoration-color: #008080\">│</span> Output: Complete the task successfully.                                                                         <span style=\"color: #008080; text-decoration-color: #008080\">│</span>\n",
              "<span style=\"color: #008080; text-decoration-color: #008080\">│</span>                                                                                                                 <span style=\"color: #008080; text-decoration-color: #008080\">│</span>\n",
              "<span style=\"color: #008080; text-decoration-color: #008080\">│</span> Context:                                                                                                        <span style=\"color: #008080; text-decoration-color: #008080\">│</span>\n",
              "<span style=\"color: #008080; text-decoration-color: #008080\">│</span>                                                                                                                 <span style=\"color: #008080; text-decoration-color: #008080\">│</span>\n",
              "<span style=\"color: #008080; text-decoration-color: #008080\">│</span> Result of previous task quantum_research:                                                                       <span style=\"color: #008080; text-decoration-color: #008080\">│</span>\n",
              "<span style=\"color: #008080; text-decoration-color: #008080\">│</span>                                                                                                                 <span style=\"color: #008080; text-decoration-color: #008080\">│</span>\n",
              "<span style=\"color: #008080; text-decoration-color: #008080\">│</span> <span style=\"color: #808000; text-decoration-color: #808000; font-weight: bold\"> 1 </span><span style=\"font-weight: bold\">Title:</span> <a href=\"https://arxiv.org/abs/1804.00200v1\" target=\"_blank\"><span style=\"color: #000080; text-decoration-color: #000080; text-decoration: underline\">The Impact of Quantum Computing on Present Cryptography</span></a>                                               <span style=\"color: #008080; text-decoration-color: #008080\">│</span>\n",
              "<span style=\"color: #008080; text-decoration-color: #008080\">│</span> <span style=\"color: #808000; text-decoration-color: #808000; font-weight: bold\">   </span><span style=\"font-weight: bold\">Authors:</span> Vasileios Mavroeidis, Kamer Vishi, Mateusz D. Zych, Audun Jøsang                                    <span style=\"color: #008080; text-decoration-color: #008080\">│</span>\n",
              "<span style=\"color: #008080; text-decoration-color: #008080\">│</span> <span style=\"color: #808000; text-decoration-color: #808000; font-weight: bold\">   </span><span style=\"font-weight: bold\">Summary:</span> This paper elucidates the implications of quantum computing in present cryptography and introduces  <span style=\"color: #008080; text-decoration-color: #008080\">│</span>\n",
              "<span style=\"color: #008080; text-decoration-color: #008080\">│</span> <span style=\"color: #808000; text-decoration-color: #808000; font-weight: bold\">   </span>basic post-quantum algorithms. It covers present cryptographic schemes, differences between quantum and      <span style=\"color: #008080; text-decoration-color: #008080\">│</span>\n",
              "<span style=\"color: #008080; text-decoration-color: #008080\">│</span> <span style=\"color: #808000; text-decoration-color: #808000; font-weight: bold\">   </span>classical computing, challenges in quantum computing, and post-quantum cryptography.                         <span style=\"color: #008080; text-decoration-color: #008080\">│</span>\n",
              "<span style=\"color: #008080; text-decoration-color: #008080\">│</span> <span style=\"color: #808000; text-decoration-color: #808000; font-weight: bold\">   </span><span style=\"font-weight: bold\">PDF:</span> <a href=\"http://arxiv.org/pdf/1804.00200v1\" target=\"_blank\"><span style=\"color: #000080; text-decoration-color: #000080; text-decoration: underline\">Link</span></a>                                                                                                    <span style=\"color: #008080; text-decoration-color: #008080\">│</span>\n",
              "<span style=\"color: #008080; text-decoration-color: #008080\">│</span> <span style=\"color: #808000; text-decoration-color: #808000; font-weight: bold\">   </span><span style=\"font-weight: bold\">Journal:</span> International Journal of Advanced Computer Science and Applications (IJACSA), 9(3), 405-414, March  <span style=\"color: #008080; text-decoration-color: #008080\">│</span>\n",
              "<span style=\"color: #008080; text-decoration-color: #008080\">│</span> <span style=\"color: #808000; text-decoration-color: #808000; font-weight: bold\">   </span>2018                                                                                                         <span style=\"color: #008080; text-decoration-color: #008080\">│</span>\n",
              "<span style=\"color: #008080; text-decoration-color: #008080\">│</span> <span style=\"color: #808000; text-decoration-color: #808000; font-weight: bold\"> 2 </span><span style=\"font-weight: bold\">Title:</span> <a href=\"https://arxiv.org/abs/2501.03249v1\" target=\"_blank\"><span style=\"color: #000080; text-decoration-color: #000080; text-decoration: underline\">Homomorphic Encryption Based on Lattice Post-Quantum Cryptography</span></a>                                     <span style=\"color: #008080; text-decoration-color: #008080\">│</span>\n",
              "<span style=\"color: #008080; text-decoration-color: #008080\">│</span> <span style=\"color: #808000; text-decoration-color: #808000; font-weight: bold\">   </span><span style=\"font-weight: bold\">Authors:</span> Abel C. H. Chen                                                                                     <span style=\"color: #008080; text-decoration-color: #008080\">│</span>\n",
              "<span style=\"color: #008080; text-decoration-color: #008080\">│</span> <span style=\"color: #808000; text-decoration-color: #808000; font-weight: bold\">   </span><span style=\"font-weight: bold\">Summary:</span> This study proposes a lattice-based post-quantum homomorphic encryption scheme to resist quantum    <span style=\"color: #008080; text-decoration-color: #008080\">│</span>\n",
              "<span style=\"color: #008080; text-decoration-color: #008080\">│</span> <span style=\"color: #808000; text-decoration-color: #808000; font-weight: bold\">   </span>attacks, providing mathematical proofs and security analysis.                                                <span style=\"color: #008080; text-decoration-color: #008080\">│</span>\n",
              "<span style=\"color: #008080; text-decoration-color: #008080\">│</span> <span style=\"color: #808000; text-decoration-color: #808000; font-weight: bold\">   </span><span style=\"font-weight: bold\">PDF:</span> <a href=\"http://arxiv.org/pdf/2501.03249v1\" target=\"_blank\"><span style=\"color: #000080; text-decoration-color: #000080; text-decoration: underline\">Link</span></a>                                                                                                    <span style=\"color: #008080; text-decoration-color: #008080\">│</span>\n",
              "<span style=\"color: #008080; text-decoration-color: #008080\">│</span> <span style=\"color: #808000; text-decoration-color: #808000; font-weight: bold\"> 3 </span><span style=\"font-weight: bold\">Title:</span> <a href=\"https://arxiv.org/abs/2401.13691v1\" target=\"_blank\"><span style=\"color: #000080; text-decoration-color: #000080; text-decoration: underline\">PQCMC: Post-Quantum Cryptography McEliece-Chen Implicit Certificate Scheme</span></a>                            <span style=\"color: #008080; text-decoration-color: #008080\">│</span>\n",
              "<span style=\"color: #008080; text-decoration-color: #008080\">│</span> <span style=\"color: #808000; text-decoration-color: #808000; font-weight: bold\">   </span><span style=\"font-weight: bold\">Authors:</span> Abel C. H. Chen                                                                                     <span style=\"color: #008080; text-decoration-color: #008080\">│</span>\n",
              "<span style=\"color: #008080; text-decoration-color: #008080\">│</span> <span style=\"color: #808000; text-decoration-color: #808000; font-weight: bold\">   </span><span style=\"font-weight: bold\">Summary:</span> This study proposes a post-quantum cryptography McEliece-Chen scheme for issuing pseudonymous       <span style=\"color: #008080; text-decoration-color: #008080\">│</span>\n",
              "<span style=\"color: #008080; text-decoration-color: #008080\">│</span> <span style=\"color: #808000; text-decoration-color: #808000; font-weight: bold\">   </span>certificates, enhancing resistance against quantum computing threats.                                        <span style=\"color: #008080; text-decoration-color: #008080\">│</span>\n",
              "<span style=\"color: #008080; text-decoration-color: #008080\">│</span> <span style=\"color: #808000; text-decoration-color: #808000; font-weight: bold\">   </span><span style=\"font-weight: bold\">PDF:</span> <a href=\"http://arxiv.org/pdf/2401.13691v1\" target=\"_blank\"><span style=\"color: #000080; text-decoration-color: #000080; text-decoration: underline\">Link</span></a>                                                                                                    <span style=\"color: #008080; text-decoration-color: #008080\">│</span>\n",
              "<span style=\"color: #008080; text-decoration-color: #008080\">│</span> <span style=\"color: #808000; text-decoration-color: #808000; font-weight: bold\"> 4 </span><span style=\"font-weight: bold\">Title:</span> <a href=\"https://arxiv.org/abs/1510.06120v2\" target=\"_blank\"><span style=\"color: #000080; text-decoration-color: #000080; text-decoration: underline\">Quantum Cryptography Beyond Quantum Key Distribution</span></a>                                                  <span style=\"color: #008080; text-decoration-color: #008080\">│</span>\n",
              "<span style=\"color: #008080; text-decoration-color: #008080\">│</span> <span style=\"color: #808000; text-decoration-color: #808000; font-weight: bold\">   </span><span style=\"font-weight: bold\">Authors:</span> Anne Broadbent, Christian Schaffner                                                                 <span style=\"color: #008080; text-decoration-color: #008080\">│</span>\n",
              "<span style=\"color: #008080; text-decoration-color: #008080\">│</span> <span style=\"color: #808000; text-decoration-color: #808000; font-weight: bold\">   </span><span style=\"font-weight: bold\">Summary:</span> This review surveys theoretical quantum cryptography, emphasizing constructions and limitations     <span style=\"color: #008080; text-decoration-color: #008080\">│</span>\n",
              "<span style=\"color: #008080; text-decoration-color: #008080\">│</span> <span style=\"color: #808000; text-decoration-color: #808000; font-weight: bold\">   </span>beyond quantum key distribution.                                                                             <span style=\"color: #008080; text-decoration-color: #008080\">│</span>\n",
              "<span style=\"color: #008080; text-decoration-color: #008080\">│</span> <span style=\"color: #808000; text-decoration-color: #808000; font-weight: bold\">   </span><span style=\"font-weight: bold\">PDF:</span> <a href=\"http://arxiv.org/pdf/1510.06120v2\" target=\"_blank\"><span style=\"color: #000080; text-decoration-color: #000080; text-decoration: underline\">Link</span></a>                                                                                                    <span style=\"color: #008080; text-decoration-color: #008080\">│</span>\n",
              "<span style=\"color: #008080; text-decoration-color: #008080\">│</span> <span style=\"color: #808000; text-decoration-color: #808000; font-weight: bold\">   </span><span style=\"font-weight: bold\">Journal:</span> Designs, Codes and Cryptography. Volume 78, Issue 1, pp 351-382 (2016)                              <span style=\"color: #008080; text-decoration-color: #008080\">│</span>\n",
              "<span style=\"color: #008080; text-decoration-color: #008080\">│</span> <span style=\"color: #808000; text-decoration-color: #808000; font-weight: bold\"> 5 </span><span style=\"font-weight: bold\">Title:</span> <a href=\"https://arxiv.org/abs/quant-ph/9602014v1\" target=\"_blank\"><span style=\"color: #000080; text-decoration-color: #000080; text-decoration: underline\">New Trends in Quantum Computing</span></a>                                                                       <span style=\"color: #008080; text-decoration-color: #008080\">│</span>\n",
              "<span style=\"color: #008080; text-decoration-color: #008080\">│</span> <span style=\"color: #808000; text-decoration-color: #808000; font-weight: bold\">   </span><span style=\"font-weight: bold\">Authors:</span> Gilles Brassard                                                                                     <span style=\"color: #008080; text-decoration-color: #008080\">│</span>\n",
              "<span style=\"color: #008080; text-decoration-color: #008080\">│</span> <span style=\"color: #808000; text-decoration-color: #808000; font-weight: bold\">   </span><span style=\"font-weight: bold\">Summary:</span> Discusses the differences between classical and quantum information, and applications like quantum  <span style=\"color: #008080; text-decoration-color: #008080\">│</span>\n",
              "<span style=\"color: #008080; text-decoration-color: #008080\">│</span> <span style=\"color: #808000; text-decoration-color: #808000; font-weight: bold\">   </span>cryptography and quantum teleportation.                                                                      <span style=\"color: #008080; text-decoration-color: #008080\">│</span>\n",
              "<span style=\"color: #008080; text-decoration-color: #008080\">│</span> <span style=\"color: #808000; text-decoration-color: #808000; font-weight: bold\">   </span><span style=\"font-weight: bold\">PDF:</span> <a href=\"http://arxiv.org/pdf/quant-ph/9602014v1\" target=\"_blank\"><span style=\"color: #000080; text-decoration-color: #000080; text-decoration: underline\">Link</span></a> Please provide only the final result of your work. Do not add any conversation or extra            <span style=\"color: #008080; text-decoration-color: #008080\">│</span>\n",
              "<span style=\"color: #008080; text-decoration-color: #008080\">│</span> <span style=\"color: #808000; text-decoration-color: #808000; font-weight: bold\">   </span>explanation.                                                                                                 <span style=\"color: #008080; text-decoration-color: #008080\">│</span>\n",
              "<span style=\"color: #008080; text-decoration-color: #008080\">╰─────────────────────────────────────────────────────────────────────────────────────────────────────────────────╯</span>\n",
              "</pre>\n"
            ]
          },
          "metadata": {}
        },
        {
          "output_type": "display_data",
          "data": {
            "text/plain": [
              "\u001b[36m╭─\u001b[0m\u001b[36m──────────────────────────────────────────────────\u001b[0m\u001b[36m Response \u001b[0m\u001b[36m───────────────────────────────────────────────────\u001b[0m\u001b[36m─╮\u001b[0m\n",
              "\u001b[36m│\u001b[0m Key Trends and Breakthroughs in Quantum Research:                                                               \u001b[36m│\u001b[0m\n",
              "\u001b[36m│\u001b[0m                                                                                                                 \u001b[36m│\u001b[0m\n",
              "\u001b[36m│\u001b[0m \u001b[1;33m 1 \u001b[0m\u001b[1mImpact on Cryptography:\u001b[0m                                                                                      \u001b[36m│\u001b[0m\n",
              "\u001b[36m│\u001b[0m \u001b[1;33m   \u001b[0m\u001b[1;33m • \u001b[0mQuantum computing poses significant challenges to current cryptographic systems, necessitating the        \u001b[36m│\u001b[0m\n",
              "\u001b[36m│\u001b[0m \u001b[1;33m   \u001b[0m\u001b[1;33m   \u001b[0mdevelopment of post-quantum cryptography to ensure security against quantum attacks.                      \u001b[36m│\u001b[0m\n",
              "\u001b[36m│\u001b[0m \u001b[1;33m   \u001b[0m\u001b[1;33m • \u001b[0mLattice-based cryptography is emerging as a promising solution for creating homomorphic encryption        \u001b[36m│\u001b[0m\n",
              "\u001b[36m│\u001b[0m \u001b[1;33m   \u001b[0m\u001b[1;33m   \u001b[0mschemes that can resist quantum threats.                                                                  \u001b[36m│\u001b[0m\n",
              "\u001b[36m│\u001b[0m \u001b[1;33m 2 \u001b[0m\u001b[1mPost-Quantum Cryptography:\u001b[0m                                                                                   \u001b[36m│\u001b[0m\n",
              "\u001b[36m│\u001b[0m \u001b[1;33m   \u001b[0m\u001b[1;33m • \u001b[0mThe development of new cryptographic schemes, such as the McEliece-Chen implicit certificate scheme, is   \u001b[36m│\u001b[0m\n",
              "\u001b[36m│\u001b[0m \u001b[1;33m   \u001b[0m\u001b[1;33m   \u001b[0mcrucial for enhancing security in a post-quantum world.                                                   \u001b[36m│\u001b[0m\n",
              "\u001b[36m│\u001b[0m \u001b[1;33m   \u001b[0m\u001b[1;33m • \u001b[0mResearch is focused on creating cryptographic systems that maintain security even when faced with the     \u001b[36m│\u001b[0m\n",
              "\u001b[36m│\u001b[0m \u001b[1;33m   \u001b[0m\u001b[1;33m   \u001b[0mcomputational power of quantum computers.                                                                 \u001b[36m│\u001b[0m\n",
              "\u001b[36m│\u001b[0m \u001b[1;33m 3 \u001b[0m\u001b[1mBeyond Quantum Key Distribution:\u001b[0m                                                                             \u001b[36m│\u001b[0m\n",
              "\u001b[36m│\u001b[0m \u001b[1;33m   \u001b[0m\u001b[1;33m • \u001b[0mTheoretical advancements in quantum cryptography are exploring applications beyond quantum key            \u001b[36m│\u001b[0m\n",
              "\u001b[36m│\u001b[0m \u001b[1;33m   \u001b[0m\u001b[1;33m   \u001b[0mdistribution, addressing both the potential and limitations of quantum cryptographic constructions.       \u001b[36m│\u001b[0m\n",
              "\u001b[36m│\u001b[0m \u001b[1;33m 4 \u001b[0m\u001b[1mQuantum Information and Applications:\u001b[0m                                                                        \u001b[36m│\u001b[0m\n",
              "\u001b[36m│\u001b[0m \u001b[1;33m   \u001b[0m\u001b[1;33m • \u001b[0mThere is a growing understanding of the differences between classical and quantum information, which is   \u001b[36m│\u001b[0m\n",
              "\u001b[36m│\u001b[0m \u001b[1;33m   \u001b[0m\u001b[1;33m   \u001b[0mdriving innovations in applications like quantum cryptography and quantum teleportation.                  \u001b[36m│\u001b[0m\n",
              "\u001b[36m│\u001b[0m \u001b[1;33m 5 \u001b[0m\u001b[1mTheoretical and Practical Developments:\u001b[0m                                                                      \u001b[36m│\u001b[0m\n",
              "\u001b[36m│\u001b[0m \u001b[1;33m   \u001b[0m\u001b[1;33m • \u001b[0mThe field is witnessing a blend of theoretical exploration and practical implementation, with a focus on  \u001b[36m│\u001b[0m\n",
              "\u001b[36m│\u001b[0m \u001b[1;33m   \u001b[0m\u001b[1;33m   \u001b[0mensuring secure communication in the quantum era.                                                         \u001b[36m│\u001b[0m\n",
              "\u001b[36m│\u001b[0m \u001b[1;33m   \u001b[0m\u001b[1;33m • \u001b[0mContinuous research is essential to address the evolving challenges and leverage the opportunities        \u001b[36m│\u001b[0m\n",
              "\u001b[36m│\u001b[0m \u001b[1;33m   \u001b[0m\u001b[1;33m   \u001b[0mpresented by quantum technologies.                                                                        \u001b[36m│\u001b[0m\n",
              "\u001b[36m╰─────────────────────────────────────────────────────────────────────────────────────────────────────────────────╯\u001b[0m\n"
            ],
            "text/html": [
              "<pre style=\"white-space:pre;overflow-x:auto;line-height:normal;font-family:Menlo,'DejaVu Sans Mono',consolas,'Courier New',monospace\"><span style=\"color: #008080; text-decoration-color: #008080\">╭─────────────────────────────────────────────────── Response ────────────────────────────────────────────────────╮</span>\n",
              "<span style=\"color: #008080; text-decoration-color: #008080\">│</span> Key Trends and Breakthroughs in Quantum Research:                                                               <span style=\"color: #008080; text-decoration-color: #008080\">│</span>\n",
              "<span style=\"color: #008080; text-decoration-color: #008080\">│</span>                                                                                                                 <span style=\"color: #008080; text-decoration-color: #008080\">│</span>\n",
              "<span style=\"color: #008080; text-decoration-color: #008080\">│</span> <span style=\"color: #808000; text-decoration-color: #808000; font-weight: bold\"> 1 </span><span style=\"font-weight: bold\">Impact on Cryptography:</span>                                                                                      <span style=\"color: #008080; text-decoration-color: #008080\">│</span>\n",
              "<span style=\"color: #008080; text-decoration-color: #008080\">│</span> <span style=\"color: #808000; text-decoration-color: #808000; font-weight: bold\">    • </span>Quantum computing poses significant challenges to current cryptographic systems, necessitating the        <span style=\"color: #008080; text-decoration-color: #008080\">│</span>\n",
              "<span style=\"color: #008080; text-decoration-color: #008080\">│</span> <span style=\"color: #808000; text-decoration-color: #808000; font-weight: bold\">      </span>development of post-quantum cryptography to ensure security against quantum attacks.                      <span style=\"color: #008080; text-decoration-color: #008080\">│</span>\n",
              "<span style=\"color: #008080; text-decoration-color: #008080\">│</span> <span style=\"color: #808000; text-decoration-color: #808000; font-weight: bold\">    • </span>Lattice-based cryptography is emerging as a promising solution for creating homomorphic encryption        <span style=\"color: #008080; text-decoration-color: #008080\">│</span>\n",
              "<span style=\"color: #008080; text-decoration-color: #008080\">│</span> <span style=\"color: #808000; text-decoration-color: #808000; font-weight: bold\">      </span>schemes that can resist quantum threats.                                                                  <span style=\"color: #008080; text-decoration-color: #008080\">│</span>\n",
              "<span style=\"color: #008080; text-decoration-color: #008080\">│</span> <span style=\"color: #808000; text-decoration-color: #808000; font-weight: bold\"> 2 </span><span style=\"font-weight: bold\">Post-Quantum Cryptography:</span>                                                                                   <span style=\"color: #008080; text-decoration-color: #008080\">│</span>\n",
              "<span style=\"color: #008080; text-decoration-color: #008080\">│</span> <span style=\"color: #808000; text-decoration-color: #808000; font-weight: bold\">    • </span>The development of new cryptographic schemes, such as the McEliece-Chen implicit certificate scheme, is   <span style=\"color: #008080; text-decoration-color: #008080\">│</span>\n",
              "<span style=\"color: #008080; text-decoration-color: #008080\">│</span> <span style=\"color: #808000; text-decoration-color: #808000; font-weight: bold\">      </span>crucial for enhancing security in a post-quantum world.                                                   <span style=\"color: #008080; text-decoration-color: #008080\">│</span>\n",
              "<span style=\"color: #008080; text-decoration-color: #008080\">│</span> <span style=\"color: #808000; text-decoration-color: #808000; font-weight: bold\">    • </span>Research is focused on creating cryptographic systems that maintain security even when faced with the     <span style=\"color: #008080; text-decoration-color: #008080\">│</span>\n",
              "<span style=\"color: #008080; text-decoration-color: #008080\">│</span> <span style=\"color: #808000; text-decoration-color: #808000; font-weight: bold\">      </span>computational power of quantum computers.                                                                 <span style=\"color: #008080; text-decoration-color: #008080\">│</span>\n",
              "<span style=\"color: #008080; text-decoration-color: #008080\">│</span> <span style=\"color: #808000; text-decoration-color: #808000; font-weight: bold\"> 3 </span><span style=\"font-weight: bold\">Beyond Quantum Key Distribution:</span>                                                                             <span style=\"color: #008080; text-decoration-color: #008080\">│</span>\n",
              "<span style=\"color: #008080; text-decoration-color: #008080\">│</span> <span style=\"color: #808000; text-decoration-color: #808000; font-weight: bold\">    • </span>Theoretical advancements in quantum cryptography are exploring applications beyond quantum key            <span style=\"color: #008080; text-decoration-color: #008080\">│</span>\n",
              "<span style=\"color: #008080; text-decoration-color: #008080\">│</span> <span style=\"color: #808000; text-decoration-color: #808000; font-weight: bold\">      </span>distribution, addressing both the potential and limitations of quantum cryptographic constructions.       <span style=\"color: #008080; text-decoration-color: #008080\">│</span>\n",
              "<span style=\"color: #008080; text-decoration-color: #008080\">│</span> <span style=\"color: #808000; text-decoration-color: #808000; font-weight: bold\"> 4 </span><span style=\"font-weight: bold\">Quantum Information and Applications:</span>                                                                        <span style=\"color: #008080; text-decoration-color: #008080\">│</span>\n",
              "<span style=\"color: #008080; text-decoration-color: #008080\">│</span> <span style=\"color: #808000; text-decoration-color: #808000; font-weight: bold\">    • </span>There is a growing understanding of the differences between classical and quantum information, which is   <span style=\"color: #008080; text-decoration-color: #008080\">│</span>\n",
              "<span style=\"color: #008080; text-decoration-color: #008080\">│</span> <span style=\"color: #808000; text-decoration-color: #808000; font-weight: bold\">      </span>driving innovations in applications like quantum cryptography and quantum teleportation.                  <span style=\"color: #008080; text-decoration-color: #008080\">│</span>\n",
              "<span style=\"color: #008080; text-decoration-color: #008080\">│</span> <span style=\"color: #808000; text-decoration-color: #808000; font-weight: bold\"> 5 </span><span style=\"font-weight: bold\">Theoretical and Practical Developments:</span>                                                                      <span style=\"color: #008080; text-decoration-color: #008080\">│</span>\n",
              "<span style=\"color: #008080; text-decoration-color: #008080\">│</span> <span style=\"color: #808000; text-decoration-color: #808000; font-weight: bold\">    • </span>The field is witnessing a blend of theoretical exploration and practical implementation, with a focus on  <span style=\"color: #008080; text-decoration-color: #008080\">│</span>\n",
              "<span style=\"color: #008080; text-decoration-color: #008080\">│</span> <span style=\"color: #808000; text-decoration-color: #808000; font-weight: bold\">      </span>ensuring secure communication in the quantum era.                                                         <span style=\"color: #008080; text-decoration-color: #008080\">│</span>\n",
              "<span style=\"color: #008080; text-decoration-color: #008080\">│</span> <span style=\"color: #808000; text-decoration-color: #808000; font-weight: bold\">    • </span>Continuous research is essential to address the evolving challenges and leverage the opportunities        <span style=\"color: #008080; text-decoration-color: #008080\">│</span>\n",
              "<span style=\"color: #008080; text-decoration-color: #008080\">│</span> <span style=\"color: #808000; text-decoration-color: #808000; font-weight: bold\">      </span>presented by quantum technologies.                                                                        <span style=\"color: #008080; text-decoration-color: #008080\">│</span>\n",
              "<span style=\"color: #008080; text-decoration-color: #008080\">╰─────────────────────────────────────────────────────────────────────────────────────────────────────────────────╯</span>\n",
              "</pre>\n"
            ]
          },
          "metadata": {}
        },
        {
          "output_type": "execute_result",
          "data": {
            "text/plain": [
              "'Key Trends and Breakthroughs in Quantum Research:\\n\\n1. **Impact on Cryptography:**\\n   - Quantum computing poses significant challenges to current cryptographic systems, necessitating the development of post-quantum cryptography to ensure security against quantum attacks.\\n   - Lattice-based cryptography is emerging as a promising solution for creating homomorphic encryption schemes that can resist quantum threats.\\n\\n2. **Post-Quantum Cryptography:**\\n   - The development of new cryptographic schemes, such as the McEliece-Chen implicit certificate scheme, is crucial for enhancing security in a post-quantum world.\\n   - Research is focused on creating cryptographic systems that maintain security even when faced with the computational power of quantum computers.\\n\\n3. **Beyond Quantum Key Distribution:**\\n   - Theoretical advancements in quantum cryptography are exploring applications beyond quantum key distribution, addressing both the potential and limitations of quantum cryptographic constructions.\\n\\n4. **Quantum Information and Applications:**\\n   - There is a growing understanding of the differences between classical and quantum information, which is driving innovations in applications like quantum cryptography and quantum teleportation.\\n\\n5. **Theoretical and Practical Developments:**\\n   - The field is witnessing a blend of theoretical exploration and practical implementation, with a focus on ensuring secure communication in the quantum era.\\n   - Continuous research is essential to address the evolving challenges and leverage the opportunities presented by quantum technologies.'"
            ],
            "application/vnd.google.colaboratory.intrinsic+json": {
              "type": "string"
            }
          },
          "metadata": {},
          "execution_count": 10
        }
      ],
      "source": [
        "\n",
        "research_agent = Agent(\n",
        "    name=\"Researcher\",\n",
        "    role=\"Literature Specialist\",\n",
        "    goal=\"Gather comprehensive scientific literature.\",\n",
        "    tools=[search_arxiv, get_arxiv_paper, get_papers_by_author, get_papers_by_category],\n",
        "    self_reflect=False\n",
        ")\n",
        "\n",
        "analysis_agent = Agent(\n",
        "    name=\"Analyzer\",\n",
        "    role=\"Research Analyst\",\n",
        "    goal=\"Analyze and synthesize research findings.\",\n",
        "    backstory=\"Expert in scientific literature analysis.\",\n",
        "    self_reflect=False\n",
        ")\n",
        "\n",
        "research_task = Task(\n",
        "    description=\"Search for papers on quantum computing applications in cryptography.\",\n",
        "    agent=research_agent,\n",
        "    name=\"quantum_research\"\n",
        ")\n",
        "\n",
        "analysis_task = Task(\n",
        "    description=\"Analyze the papers and identify key trends and breakthroughs.\",\n",
        "    agent=analysis_agent,\n",
        "    name=\"research_analysis\"\n",
        ")\n",
        "\n",
        "agents = PraisonAIAgents(\n",
        "    agents=[research_agent, analysis_agent],\n",
        "    tasks=[research_task, analysis_task],\n",
        "    process=\"sequential\"\n",
        ")\n",
        "agents.start()"
      ]
    },
    {
      "cell_type": "markdown",
      "id": "4af2e4f8",
      "metadata": {
        "id": "4af2e4f8"
      },
      "source": [
        "## Multi-Agent Workflow with Reviewer"
      ]
    },
    {
      "cell_type": "code",
      "execution_count": 13,
      "id": "ac5667ca",
      "metadata": {
        "colab": {
          "base_uri": "https://localhost:8080/",
          "height": 1000,
          "referenced_widgets": [
            "7e5431f08a89476c922e5f032b3f93fc",
            "063f6e302dc44324a7aaf5b982d36d8d",
            "1982b0b5c313430c919272cbfdcd85ed",
            "83f1d9f564d847a3a4a651e4ce1da0a2",
            "f01d9e978fe4469696dbb6828ced09dd",
            "83aac02a97f34a8b86748b9c6d7fa817"
          ]
        },
        "id": "ac5667ca",
        "outputId": "05d09d0e-0e97-4df1-f83f-5385abe1be54"
      },
      "outputs": [
        {
          "output_type": "display_data",
          "data": {
            "text/plain": [
              "\u001b[38;2;210;227;200m╭─\u001b[0m\u001b[38;2;210;227;200m \u001b[0m\u001b[1;38;2;210;227;200mAgent Info\u001b[0m\u001b[38;2;210;227;200m \u001b[0m\u001b[38;2;210;227;200m───────────────────────────────────────────────────────────────────────────────────────────────────\u001b[0m\u001b[38;2;210;227;200m─╮\u001b[0m\n",
              "\u001b[38;2;210;227;200m│\u001b[0m                                                                                                                 \u001b[38;2;210;227;200m│\u001b[0m\n",
              "\u001b[38;2;210;227;200m│\u001b[0m  \u001b[1;38;2;255;155;155m👤 Agent:\u001b[0m \u001b[38;2;255;229;229mSearcher\u001b[0m                                                                                             \u001b[38;2;210;227;200m│\u001b[0m\n",
              "\u001b[38;2;210;227;200m│\u001b[0m  \u001b[1;38;2;180;180;179mRole:\u001b[0m \u001b[38;2;255;229;229mLiterature Specialist\u001b[0m                                                                                    \u001b[38;2;210;227;200m│\u001b[0m\n",
              "\u001b[38;2;210;227;200m│\u001b[0m  \u001b[1;38;2;134;167;137mTools:\u001b[0m \u001b[3;38;2;180;212;255msearch\u001b[0m, \u001b[3;38;2;180;212;255mget_paper\u001b[0m, \u001b[3;38;2;180;212;255mget_papers_by_author\u001b[0m, \u001b[3;38;2;180;212;255mget_papers_by_category\u001b[0m                                         \u001b[38;2;210;227;200m│\u001b[0m\n",
              "\u001b[38;2;210;227;200m│\u001b[0m                                                                                                                 \u001b[38;2;210;227;200m│\u001b[0m\n",
              "\u001b[38;2;210;227;200m╰─────────────────────────────────────────────────────────────────────────────────────────────────────────────────╯\u001b[0m\n"
            ],
            "text/html": [
              "<pre style=\"white-space:pre;overflow-x:auto;line-height:normal;font-family:Menlo,'DejaVu Sans Mono',consolas,'Courier New',monospace\"><span style=\"color: #d2e3c8; text-decoration-color: #d2e3c8\">╭─ </span><span style=\"color: #d2e3c8; text-decoration-color: #d2e3c8; font-weight: bold\">Agent Info</span><span style=\"color: #d2e3c8; text-decoration-color: #d2e3c8\"> ────────────────────────────────────────────────────────────────────────────────────────────────────╮</span>\n",
              "<span style=\"color: #d2e3c8; text-decoration-color: #d2e3c8\">│</span>                                                                                                                 <span style=\"color: #d2e3c8; text-decoration-color: #d2e3c8\">│</span>\n",
              "<span style=\"color: #d2e3c8; text-decoration-color: #d2e3c8\">│</span>  <span style=\"color: #ff9b9b; text-decoration-color: #ff9b9b; font-weight: bold\">👤 Agent:</span> <span style=\"color: #ffe5e5; text-decoration-color: #ffe5e5\">Searcher</span>                                                                                             <span style=\"color: #d2e3c8; text-decoration-color: #d2e3c8\">│</span>\n",
              "<span style=\"color: #d2e3c8; text-decoration-color: #d2e3c8\">│</span>  <span style=\"color: #b4b4b3; text-decoration-color: #b4b4b3; font-weight: bold\">Role:</span> <span style=\"color: #ffe5e5; text-decoration-color: #ffe5e5\">Literature Specialist</span>                                                                                    <span style=\"color: #d2e3c8; text-decoration-color: #d2e3c8\">│</span>\n",
              "<span style=\"color: #d2e3c8; text-decoration-color: #d2e3c8\">│</span>  <span style=\"color: #86a789; text-decoration-color: #86a789; font-weight: bold\">Tools:</span> <span style=\"color: #b4d4ff; text-decoration-color: #b4d4ff; font-style: italic\">search</span>, <span style=\"color: #b4d4ff; text-decoration-color: #b4d4ff; font-style: italic\">get_paper</span>, <span style=\"color: #b4d4ff; text-decoration-color: #b4d4ff; font-style: italic\">get_papers_by_author</span>, <span style=\"color: #b4d4ff; text-decoration-color: #b4d4ff; font-style: italic\">get_papers_by_category</span>                                         <span style=\"color: #d2e3c8; text-decoration-color: #d2e3c8\">│</span>\n",
              "<span style=\"color: #d2e3c8; text-decoration-color: #d2e3c8\">│</span>                                                                                                                 <span style=\"color: #d2e3c8; text-decoration-color: #d2e3c8\">│</span>\n",
              "<span style=\"color: #d2e3c8; text-decoration-color: #d2e3c8\">╰─────────────────────────────────────────────────────────────────────────────────────────────────────────────────╯</span>\n",
              "</pre>\n"
            ]
          },
          "metadata": {}
        },
        {
          "output_type": "display_data",
          "data": {
            "text/plain": [
              "Output()"
            ],
            "application/vnd.jupyter.widget-view+json": {
              "version_major": 2,
              "version_minor": 0,
              "model_id": "7e5431f08a89476c922e5f032b3f93fc"
            }
          },
          "metadata": {}
        },
        {
          "output_type": "display_data",
          "data": {
            "text/plain": [],
            "text/html": [
              "<pre style=\"white-space:pre;overflow-x:auto;line-height:normal;font-family:Menlo,'DejaVu Sans Mono',consolas,'Courier New',monospace\"></pre>\n"
            ]
          },
          "metadata": {}
        },
        {
          "output_type": "display_data",
          "data": {
            "text/plain": [
              "\n"
            ],
            "text/html": [
              "<pre style=\"white-space:pre;overflow-x:auto;line-height:normal;font-family:Menlo,'DejaVu Sans Mono',consolas,'Courier New',monospace\">\n",
              "</pre>\n"
            ]
          },
          "metadata": {}
        },
        {
          "output_type": "display_data",
          "data": {
            "text/plain": [
              "\u001b[32m╭─\u001b[0m\u001b[32m──────────────────────────────────────────────────\u001b[0m\u001b[32m Tool Call \u001b[0m\u001b[32m──────────────────────────────────────────────────\u001b[0m\u001b[32m─╮\u001b[0m\n",
              "\u001b[32m│\u001b[0m \u001b[1;36mAgent Searcher is calling function 'search' with arguments: {'query': 'AI ethics', 'max_results': 5, 'sort_by':\u001b[0m \u001b[32m│\u001b[0m\n",
              "\u001b[32m│\u001b[0m \u001b[1;36m'relevance', 'sort_order': 'descending'}\u001b[0m                                                                        \u001b[32m│\u001b[0m\n",
              "\u001b[32m╰─────────────────────────────────────────────────────────────────────────────────────────────────────────────────╯\u001b[0m\n"
            ],
            "text/html": [
              "<pre style=\"white-space:pre;overflow-x:auto;line-height:normal;font-family:Menlo,'DejaVu Sans Mono',consolas,'Courier New',monospace\"><span style=\"color: #008000; text-decoration-color: #008000\">╭─────────────────────────────────────────────────── Tool Call ───────────────────────────────────────────────────╮</span>\n",
              "<span style=\"color: #008000; text-decoration-color: #008000\">│</span> <span style=\"color: #008080; text-decoration-color: #008080; font-weight: bold\">Agent Searcher is calling function 'search' with arguments: {'query': 'AI ethics', 'max_results': 5, 'sort_by':</span> <span style=\"color: #008000; text-decoration-color: #008000\">│</span>\n",
              "<span style=\"color: #008000; text-decoration-color: #008000\">│</span> <span style=\"color: #008080; text-decoration-color: #008080; font-weight: bold\">'relevance', 'sort_order': 'descending'}</span>                                                                        <span style=\"color: #008000; text-decoration-color: #008000\">│</span>\n",
              "<span style=\"color: #008000; text-decoration-color: #008000\">╰─────────────────────────────────────────────────────────────────────────────────────────────────────────────────╯</span>\n",
              "</pre>\n"
            ]
          },
          "metadata": {}
        },
        {
          "output_type": "display_data",
          "data": {
            "text/plain": [
              "\u001b[32m╭─\u001b[0m\u001b[32m──────────────────────────────────────────────────\u001b[0m\u001b[32m Tool Call \u001b[0m\u001b[32m──────────────────────────────────────────────────\u001b[0m\u001b[32m─╮\u001b[0m\n",
              "\u001b[32m│\u001b[0m \u001b[1;36mFunction 'search' returned: [{\"arxiv_id\": \"2408.16796v2\", \"updated\": \"2024-09-03T01:14:01+00:00\", \"published\": \u001b[0m \u001b[32m│\u001b[0m\n",
              "\u001b[32m│\u001b[0m \u001b[1;36m\"2024-08-28T23:36:13+00:00\", \"title\": \"Raising AI Ethics Awareness through an AI Ethics Quiz for Software \u001b[0m      \u001b[32m│\u001b[0m\n",
              "\u001b[32m│\u001b[0m \u001b[1;36mPractitioners\", \"authors\": [\"Aastha Pant\", \"Rashina Hoda\", \"Paul McIntosh\"], \"summary\": \"Context:Today, ethical\u001b[0m \u001b[32m│\u001b[0m\n",
              "\u001b[32m│\u001b[0m \u001b[1;36missues surrounding AI systems are increasingly\\nprevalent, highlighting the critical need to integrate AI \u001b[0m      \u001b[32m│\u001b[0m\n",
              "\u001b[32m│\u001b[0m \u001b[1;36methics into system\\ndesign to prevent societal harm. Raising awareness and fostering a deep\\nunderstanding of \u001b[0m  \u001b[32m│\u001b[0m\n",
              "\u001b[32m│\u001b[0m \u001b[1;36mAI ethics among software practitioners is essential for\\nachieving this goal. However, research indicates a \u001b[0m    \u001b[32m│\u001b[0m\n",
              "\u001b[32m│\u001b[0m \u001b[1;36msignificant gap in\\npractitioners' awareness and knowledge of AI ethics and ethical principles.\\nWhile much \u001b[0m    \u001b[32m│\u001b[0m\n",
              "\u001b[32m│\u001b[0m \u001b[1;36meffort has been directed toward helping practitioners operationalise\\nAI ethical principles such as fairness, \u001b[0m  \u001b[32m│\u001b[0m\n",
              "\u001b[32m│\u001b[0m \u001b[1;36mtransparency, accountability, and\\nprivacy, less attention has been paid to raising initial awareness, \u001b[0m         \u001b[32m│\u001b[0m\n",
              "\u001b[32m│\u001b[0m \u001b[1;36mwhich\\nshould be the foundational step. Objective: Addressing this gap, we developed a\\nsoftware-based tool, \u001b[0m   \u001b[32m│\u001b[0m\n",
              "\u001b[32m│\u001b[0m \u001b[1;36mthe AI Ethics Quiz, to raise awareness and enhance the\\nknowledge of AI ethics among software practitioners. \u001b[0m   \u001b[32m│\u001b[0m\n",
              "\u001b[32m│\u001b[0m \u001b[1;36mOur objective was to\\norganise interactive workshops, introduce the AI Ethics Quiz, and evaluate \u001b[0m               \u001b[32m│\u001b[0m\n",
              "\u001b[32m│\u001b[0m \u001b[1;36mits\\neffectiveness in enhancing awareness and knowledge of AI ethics and ethical\\nprinciples among \u001b[0m             \u001b[32m│\u001b[0m\n",
              "\u001b[32m│\u001b[0m \u001b[1;36mpractitioners. Method: We conducted two one-hour workshops\\n(one in-person and one online) involving 29 \u001b[0m        \u001b[32m│\u001b[0m\n",
              "\u001b[32m│\u001b[0m \u001b[1;36msoftware practitioners. Data was\\ncollected through pre-quiz questionnaire, the AI Ethics Quiz, and a \u001b[0m          \u001b[32m│\u001b[0m\n",
              "\u001b[32m│\u001b[0m \u001b[1;36mpost-quiz\\nquestionnaire. Results: The anonymous responses revealed that the quiz\\nsignificantly improved \u001b[0m      \u001b[32m│\u001b[0m\n",
              "\u001b[32m│\u001b[0m \u001b[1;36mpractitioners' awareness and understanding of AI ethics.\\nAdditionally, practitioners found the quiz engaging \u001b[0m  \u001b[32m│\u001b[0m\n",
              "\u001b[32m│\u001b[0m \u001b[1;36mand reported it created a\\nmeaningful learning experience regarding AI ethics. In this paper, we \u001b[0m               \u001b[32m│\u001b[0m\n",
              "\u001b[32m│\u001b[0m \u001b[1;36mshare\\ninsights gained from conducting these interactive workshops and introducing the\\nAI Ethics Quiz to \u001b[0m      \u001b[32m│\u001b[0m\n",
              "\u001b[32m│\u001b[0m \u001b[1;36mpractitioners. Conclusion: We also provide recommendations\\nfor software companies and leaders to adopt similar\u001b[0m \u001b[32m│\u001b[0m\n",
              "\u001b[32m│\u001b[0m \u001b[1;36minitiatives, which may help\\nthem enhance practitioners' awareness and understanding of AI ethics.\", \"comment\":\u001b[0m \u001b[32m│\u001b[0m\n",
              "\u001b[32m│\u001b[0m \u001b[1;36m\"37 pages, 11 figures, 2 tables\", \"journal_ref\": null, \"doi\": null, \"primary_category\": \"cs.SE\", \"categories\": \u001b[0m \u001b[32m│\u001b[0m\n",
              "\u001b[32m│\u001b[0m \u001b[1;36m[\"cs.SE\"], \"pdf_url\": \"http://arxiv.org/pdf/2408.16796v2\", \"abstract_url\": \u001b[0m                                     \u001b[32m│\u001b[0m\n",
              "\u001b[32m│\u001b[0m \u001b[1;36m\"https://arxiv.org/abs/2408.16796v2\"}, {\"arxiv_id\": \"2203.13494v1\", \"updated\": \"2022-03-25T08:05:46+00:00\", \u001b[0m    \u001b[32m│\u001b[0m\n",
              "\u001b[32m│\u001b[0m \u001b[1;36m\"published\": \"2022-03-25T08:05:46+00:00\", \"title\": \"Big data ethics, machine ethics or information ethics? \u001b[0m     \u001b[32m│\u001b[0m\n",
              "\u001b[32m│\u001b[0m \u001b[1;36mNavigating the maze of applied ethics in IT\", \"authors\": [\"Niina Zuber\", \"Severin Kacianka\", \"Jan Gogoll\"], \u001b[0m    \u001b[32m│\u001b[0m\n",
              "\u001b[32m│\u001b[0m \u001b[1;36m\"summary\": \"Digitalization efforts are rapidly spreading across societies, challenging\\nnew and important \u001b[0m      \u001b[32m│\u001b[0m\n",
              "\u001b[32m│\u001b[0m \u001b[1;36methical issues that arise from technological development.\\nSoftware developers, designers and managerial \u001b[0m       \u001b[32m│\u001b[0m\n",
              "\u001b[32m│\u001b[0m \u001b[1;36mdecision-makers are ever more\\nexpected to consider ethical values and conduct normative evaluations \u001b[0m           \u001b[32m│\u001b[0m\n",
              "\u001b[32m│\u001b[0m \u001b[1;36mwhen\\nbuilding digital products. Yet, when one looks for guidance in the academic\\nliterature one encounters a \u001b[0m \u001b[32m│\u001b[0m\n",
              "\u001b[32m│\u001b[0m \u001b[1;36mplethora of branches of applied ethics. Depending\\non the context of the system that is to be developed, \u001b[0m       \u001b[32m│\u001b[0m\n",
              "\u001b[32m│\u001b[0m \u001b[1;36minteresting subfields\\nlike big data ethics, machine ethics, information ethics, AI ethics or computer\\nethics \u001b[0m \u001b[32m│\u001b[0m\n",
              "\u001b[32m│\u001b[0m \u001b[1;36m(to only name a few) may present themselves. In this paper we want to\\noffer assistance to any member of a \u001b[0m     \u001b[32m│\u001b[0m\n",
              "\u001b[32m│\u001b[0m \u001b[1;36mdevelopment team by giving a clear and\\nbrief introduction into two fields of ethical endeavor (normative \u001b[0m      \u001b[32m│\u001b[0m\n",
              "\u001b[32m│\u001b[0m \u001b[1;36methics and\\napplied ethics), describing how they are related to each other and, finally,\\nprovide an ordering \u001b[0m  \u001b[32m│\u001b[0m\n",
              "\u001b[32m│\u001b[0m \u001b[1;36mof the different branches of applied ethics (big data\\nethics, machine ethics, information ethics, AI ethics or\u001b[0m \u001b[32m│\u001b[0m\n",
              "\u001b[32m│\u001b[0m \u001b[1;36mcomputer ethics etc.)\\nwhich have gained traction over the last years. Finally, we discuss an example\\nin the \u001b[0m  \u001b[32m│\u001b[0m\n",
              "\u001b[32m│\u001b[0m \u001b[1;36mdomain of facial recognition software in the domain of medicine to\\nillustrate how this process of normative \u001b[0m   \u001b[32m│\u001b[0m\n",
              "\u001b[32m│\u001b[0m \u001b[1;36manalysis might be conducted.\", \"comment\": null, \"journal_ref\": null, \"doi\": null, \"primary_category\": \"cs.SE\", \u001b[0m \u001b[32m│\u001b[0m\n",
              "\u001b[32m│\u001b[0m \u001b[1;36m\"categories\": [\"cs.SE\"], \"pdf_url\": \"http://arxiv.org/pdf/2203.13494v1\", \"abstract_url\": \u001b[0m                       \u001b[32m│\u001b[0m\n",
              "\u001b[32m│\u001b[0m \u001b[1;36m\"https://arxiv.org/abs/2203.13494v1\"}, {\"arxiv_id\": \"2503.04747v1\", \"updated\": \"2025-02-06T04:37:55+00:00\", \u001b[0m    \u001b[32m│\u001b[0m\n",
              "\u001b[32m│\u001b[0m \u001b[1;36m\"published\": \"2025-02-06T04:37:55+00:00\", \"title\": \"E-LENS: User Requirements-Oriented AI Ethics Assurance\", \u001b[0m   \u001b[32m│\u001b[0m\n",
              "\u001b[32m│\u001b[0m \u001b[1;36m\"authors\": [\"Jianlong Zhou\", \"Fang Chen\"], \"summary\": \"Despite the much proliferation of AI ethical principles \u001b[0m \u001b[32m│\u001b[0m\n",
              "\u001b[32m│\u001b[0m \u001b[1;36min recent years,\\nthere is a challenge of assuring AI ethics with current AI ethics frameworks in\\nreal-world \u001b[0m  \u001b[32m│\u001b[0m\n",
              "\u001b[32m│\u001b[0m \u001b[1;36mapplications. While system safety has emerged as a distinct\\ndiscipline for a long time, originated from safety\u001b[0m \u001b[32m│\u001b[0m\n",
              "\u001b[32m│\u001b[0m \u001b[1;36mconcerns in early aircraft\\nmanufacturing. The safety assurance is now an indispensable component in \u001b[0m           \u001b[32m│\u001b[0m\n",
              "\u001b[32m│\u001b[0m \u001b[1;36msafety\\ncritical domains. Motivated by the assurance approaches for safety-critical\\nsystems such as aviation, \u001b[0m \u001b[32m│\u001b[0m\n",
              "\u001b[32m│\u001b[0m \u001b[1;36mthis paper introduces the concept of AI ethics\\nassurance cases into the AI ethics assurance. Three pillars of \u001b[0m \u001b[32m│\u001b[0m\n",
              "\u001b[32m│\u001b[0m \u001b[1;36muser\\nrequirements, evidence, and validation are proposed as key components and\\nintegrated into AI ethics \u001b[0m     \u001b[32m│\u001b[0m\n",
              "\u001b[32m│\u001b[0m \u001b[1;36massurance cases for a new approach of user\\nrequirements-oriented AI ethics assurance. The user \u001b[0m                \u001b[32m│\u001b[0m\n",
              "\u001b[32m│\u001b[0m \u001b[1;36mrequirements-oriented AI\\nethics assurance case is set up based on three pillars and hazard analysis\\nmethods \u001b[0m  \u001b[32m│\u001b[0m\n",
              "\u001b[32m│\u001b[0m \u001b[1;36mused in the safety assurance of safety-critical systems. This paper\\nalso proposes a platform named \u001b[0m            \u001b[32m│\u001b[0m\n",
              "\u001b[32m│\u001b[0m \u001b[1;36mEthical-Lens (E-LENS) to implement the user\\nrequirements-oriented AI ethics assurance approach. The proposed \u001b[0m  \u001b[32m│\u001b[0m\n",
              "\u001b[32m│\u001b[0m \u001b[1;36muser\\nrequirements-based E-LENS platform is then applied to assure AI ethics of an\\nAI-driven human resource \u001b[0m   \u001b[32m│\u001b[0m\n",
              "\u001b[32m│\u001b[0m \u001b[1;36mshortlisting system as a case study to show the\\neffectiveness of the proposed approach.\", \"comment\": \"29 \u001b[0m      \u001b[32m│\u001b[0m\n",
              "\u001b[32m│\u001b[0m \u001b[1;36mpages\", \"journal_ref\": null, \"doi\": null, \"primary_category\": \"cs.CY\", \"categories\": [\"cs.CY\", \"cs.AI\"], \u001b[0m       \u001b[32m│\u001b[0m\n",
              "\u001b[32m│\u001b[0m \u001b[1;36m\"pdf_url\": \"http://arxiv.org/pdf/2503.04747v1\", \"abstract_url\": \"https://arxiv.org/abs/2503.04747v1\"}, \u001b[0m         \u001b[32m│\u001b[0m\n",
              "\u001b[32m│\u001b[0m \u001b[1;36m{\"arxiv_id\": \"2403.05551v1\", \"updated\": \"2024-02-08T16:36:55+00:00\", \"published\": \"2024-02-08T16:36:55+00:00\", \u001b[0m \u001b[32m│\u001b[0m\n",
              "\u001b[32m│\u001b[0m \u001b[1;36m\"title\": \"A Bibliometric View of AI Ethics Development\", \"authors\": [\"Di Kevin Gao\", \"Andrew Haverly\", \"Sudip \u001b[0m  \u001b[32m│\u001b[0m\n",
              "\u001b[32m│\u001b[0m \u001b[1;36mMittal\", \"Jingdao Chen\"], \"summary\": \"Artificial Intelligence (AI) Ethics is a nascent yet critical research \u001b[0m   \u001b[32m│\u001b[0m\n",
              "\u001b[32m│\u001b[0m \u001b[1;36mfield.\\nRecent developments in generative AI and foundational models necessitate a\\nrenewed look at the problem\u001b[0m \u001b[32m│\u001b[0m\n",
              "\u001b[32m│\u001b[0m \u001b[1;36mof AI Ethics. In this study, we perform a\\nbibliometric analysis of AI Ethics literature for the last 20 years \u001b[0m \u001b[32m│\u001b[0m\n",
              "\u001b[32m│\u001b[0m \u001b[1;36mbased on\\nkeyword search. Our study reveals a three-phase development in AI Ethics,\\nnamely an incubation \u001b[0m      \u001b[32m│\u001b[0m\n",
              "\u001b[32m│\u001b[0m \u001b[1;36mphase, making AI human-like machines phase, and making AI\\nhuman-centric machines phase. We conjecture that the\u001b[0m \u001b[32m│\u001b[0m\n",
              "\u001b[32m│\u001b[0m \u001b[1;36mnext phase of AI ethics is\\nlikely to focus on making AI more machine-like as AI matches or surpasses\\nhumans \u001b[0m  \u001b[32m│\u001b[0m\n",
              "\u001b[32m│\u001b[0m \u001b[1;36mintellectually, a term we coin as \\\"machine-like human\\\".\", \"comment\": null, \"journal_ref\": null, \"doi\": null, \u001b[0m \u001b[32m│\u001b[0m\n",
              "\u001b[32m│\u001b[0m \u001b[1;36m\"primary_category\": \"cs.CY\", \"categories\": [\"cs.CY\"], \"pdf_url\": \"http://arxiv.org/pdf/2403.05551v1\", \u001b[0m          \u001b[32m│\u001b[0m\n",
              "\u001b[32m│\u001b[0m \u001b[1;36m\"abstract_url\": \"https://arxiv.org/abs/2403.05551v1\"}, {\"arxiv_id\": \"2503.18842v2\", \"updated\": \u001b[0m                 \u001b[32m│\u001b[0m\n",
              "\u001b[32m│\u001b[0m \u001b[1;36m\"2025-03-26T09:03:58+00:00\", \"published\": \"2025-03-24T16:15:03+00:00\", \"title\": \"Three Kinds of AI Ethics\", \u001b[0m    \u001b[32m│\u001b[0m\n",
              "\u001b[32m│\u001b[0m \u001b[1;36m\"authors\": [\"Emanuele Ratti\"], \"summary\": \"There is an overwhelming abundance of works in AI Ethics. This \u001b[0m      \u001b[32m│\u001b[0m\n",
              "\u001b[32m│\u001b[0m \u001b[1;36mgrowth is\\nchaotic because of how sudden it is, its volume, and its multidisciplinary\\nnature. This makes \u001b[0m      \u001b[32m│\u001b[0m\n",
              "\u001b[32m│\u001b[0m \u001b[1;36mdifficult to keep track of debates, and to systematically\\ncharacterize goals, research questions, methods, and\u001b[0m \u001b[32m│\u001b[0m\n",
              "\u001b[32m│\u001b[0m \u001b[1;36mexpertise required by AI\\nethicists. In this article, I show that the relation between AI and ethics can\\nbe \u001b[0m   \u001b[32m│\u001b[0m\n",
              "\u001b[32m│\u001b[0m \u001b[1;36mcharacterized in at least three ways, which correspond to three\\nwell-represented kinds of AI ethics: ethics \u001b[0m   \u001b[32m│\u001b[0m\n",
              "\u001b[32m│\u001b[0m \u001b[1;36mand AI; ethics in AI; ethics of AI.\\nI elucidate the features of these three kinds of AI Ethics, characterize \u001b[0m  \u001b[32m│\u001b[0m\n",
              "\u001b[32m│\u001b[0m \u001b[1;36mtheir\\nresearch questions, and identify the kind of expertise that each kind needs. I\\nalso show how certain \u001b[0m   \u001b[32m│\u001b[0m\n",
              "\u001b[32m│\u001b[0m \u001b[1;36mcriticisms to AI ethics are misplaced, as being done from\\nthe point of view of one kind of AI ethics, to \u001b[0m      \u001b[32m│\u001b[0m\n",
              "\u001b[32m│\u001b[0m \u001b[1;36manother kind with different\\ngoals. All in all, this work sheds light on the nature of AI ethics, and sets\\nthe\u001b[0m \u001b[32m│\u001b[0m\n",
              "\u001b[32m│\u001b[0m \u001b[1;36mgroundwork for more informed discussions about the scope, methods, and\\ntraining of AI ethicists.\", \"comment\": \u001b[0m \u001b[32m│\u001b[0m\n",
              "\u001b[32m│\u001b[0m \u001b[1;36m\"16 pages, two figures\", \"journal_ref\": null, \"doi\": null, \"primary_category\": \"cs.CY\", \"categories\": [\"cs.CY\",\u001b[0m \u001b[32m│\u001b[0m\n",
              "\u001b[32m│\u001b[0m \u001b[1;36m\"cs.AI\"], \"pdf_url\": \"http://arxiv.org/pdf/2503.18842v2\", \"abstract_url\": \u001b[0m                                      \u001b[32m│\u001b[0m\n",
              "\u001b[32m│\u001b[0m \u001b[1;36m\"https://arxiv.org/abs/2503.18842v2\"}]\u001b[0m                                                                          \u001b[32m│\u001b[0m\n",
              "\u001b[32m╰─────────────────────────────────────────────────────────────────────────────────────────────────────────────────╯\u001b[0m\n"
            ],
            "text/html": [
              "<pre style=\"white-space:pre;overflow-x:auto;line-height:normal;font-family:Menlo,'DejaVu Sans Mono',consolas,'Courier New',monospace\"><span style=\"color: #008000; text-decoration-color: #008000\">╭─────────────────────────────────────────────────── Tool Call ───────────────────────────────────────────────────╮</span>\n",
              "<span style=\"color: #008000; text-decoration-color: #008000\">│</span> <span style=\"color: #008080; text-decoration-color: #008080; font-weight: bold\">Function 'search' returned: [{\"arxiv_id\": \"2408.16796v2\", \"updated\": \"2024-09-03T01:14:01+00:00\", \"published\": </span> <span style=\"color: #008000; text-decoration-color: #008000\">│</span>\n",
              "<span style=\"color: #008000; text-decoration-color: #008000\">│</span> <span style=\"color: #008080; text-decoration-color: #008080; font-weight: bold\">\"2024-08-28T23:36:13+00:00\", \"title\": \"Raising AI Ethics Awareness through an AI Ethics Quiz for Software </span>      <span style=\"color: #008000; text-decoration-color: #008000\">│</span>\n",
              "<span style=\"color: #008000; text-decoration-color: #008000\">│</span> <span style=\"color: #008080; text-decoration-color: #008080; font-weight: bold\">Practitioners\", \"authors\": [\"Aastha Pant\", \"Rashina Hoda\", \"Paul McIntosh\"], \"summary\": \"Context:Today, ethical</span> <span style=\"color: #008000; text-decoration-color: #008000\">│</span>\n",
              "<span style=\"color: #008000; text-decoration-color: #008000\">│</span> <span style=\"color: #008080; text-decoration-color: #008080; font-weight: bold\">issues surrounding AI systems are increasingly\\nprevalent, highlighting the critical need to integrate AI </span>      <span style=\"color: #008000; text-decoration-color: #008000\">│</span>\n",
              "<span style=\"color: #008000; text-decoration-color: #008000\">│</span> <span style=\"color: #008080; text-decoration-color: #008080; font-weight: bold\">ethics into system\\ndesign to prevent societal harm. Raising awareness and fostering a deep\\nunderstanding of </span>  <span style=\"color: #008000; text-decoration-color: #008000\">│</span>\n",
              "<span style=\"color: #008000; text-decoration-color: #008000\">│</span> <span style=\"color: #008080; text-decoration-color: #008080; font-weight: bold\">AI ethics among software practitioners is essential for\\nachieving this goal. However, research indicates a </span>    <span style=\"color: #008000; text-decoration-color: #008000\">│</span>\n",
              "<span style=\"color: #008000; text-decoration-color: #008000\">│</span> <span style=\"color: #008080; text-decoration-color: #008080; font-weight: bold\">significant gap in\\npractitioners' awareness and knowledge of AI ethics and ethical principles.\\nWhile much </span>    <span style=\"color: #008000; text-decoration-color: #008000\">│</span>\n",
              "<span style=\"color: #008000; text-decoration-color: #008000\">│</span> <span style=\"color: #008080; text-decoration-color: #008080; font-weight: bold\">effort has been directed toward helping practitioners operationalise\\nAI ethical principles such as fairness, </span>  <span style=\"color: #008000; text-decoration-color: #008000\">│</span>\n",
              "<span style=\"color: #008000; text-decoration-color: #008000\">│</span> <span style=\"color: #008080; text-decoration-color: #008080; font-weight: bold\">transparency, accountability, and\\nprivacy, less attention has been paid to raising initial awareness, </span>         <span style=\"color: #008000; text-decoration-color: #008000\">│</span>\n",
              "<span style=\"color: #008000; text-decoration-color: #008000\">│</span> <span style=\"color: #008080; text-decoration-color: #008080; font-weight: bold\">which\\nshould be the foundational step. Objective: Addressing this gap, we developed a\\nsoftware-based tool, </span>   <span style=\"color: #008000; text-decoration-color: #008000\">│</span>\n",
              "<span style=\"color: #008000; text-decoration-color: #008000\">│</span> <span style=\"color: #008080; text-decoration-color: #008080; font-weight: bold\">the AI Ethics Quiz, to raise awareness and enhance the\\nknowledge of AI ethics among software practitioners. </span>   <span style=\"color: #008000; text-decoration-color: #008000\">│</span>\n",
              "<span style=\"color: #008000; text-decoration-color: #008000\">│</span> <span style=\"color: #008080; text-decoration-color: #008080; font-weight: bold\">Our objective was to\\norganise interactive workshops, introduce the AI Ethics Quiz, and evaluate </span>               <span style=\"color: #008000; text-decoration-color: #008000\">│</span>\n",
              "<span style=\"color: #008000; text-decoration-color: #008000\">│</span> <span style=\"color: #008080; text-decoration-color: #008080; font-weight: bold\">its\\neffectiveness in enhancing awareness and knowledge of AI ethics and ethical\\nprinciples among </span>             <span style=\"color: #008000; text-decoration-color: #008000\">│</span>\n",
              "<span style=\"color: #008000; text-decoration-color: #008000\">│</span> <span style=\"color: #008080; text-decoration-color: #008080; font-weight: bold\">practitioners. Method: We conducted two one-hour workshops\\n(one in-person and one online) involving 29 </span>        <span style=\"color: #008000; text-decoration-color: #008000\">│</span>\n",
              "<span style=\"color: #008000; text-decoration-color: #008000\">│</span> <span style=\"color: #008080; text-decoration-color: #008080; font-weight: bold\">software practitioners. Data was\\ncollected through pre-quiz questionnaire, the AI Ethics Quiz, and a </span>          <span style=\"color: #008000; text-decoration-color: #008000\">│</span>\n",
              "<span style=\"color: #008000; text-decoration-color: #008000\">│</span> <span style=\"color: #008080; text-decoration-color: #008080; font-weight: bold\">post-quiz\\nquestionnaire. Results: The anonymous responses revealed that the quiz\\nsignificantly improved </span>      <span style=\"color: #008000; text-decoration-color: #008000\">│</span>\n",
              "<span style=\"color: #008000; text-decoration-color: #008000\">│</span> <span style=\"color: #008080; text-decoration-color: #008080; font-weight: bold\">practitioners' awareness and understanding of AI ethics.\\nAdditionally, practitioners found the quiz engaging </span>  <span style=\"color: #008000; text-decoration-color: #008000\">│</span>\n",
              "<span style=\"color: #008000; text-decoration-color: #008000\">│</span> <span style=\"color: #008080; text-decoration-color: #008080; font-weight: bold\">and reported it created a\\nmeaningful learning experience regarding AI ethics. In this paper, we </span>               <span style=\"color: #008000; text-decoration-color: #008000\">│</span>\n",
              "<span style=\"color: #008000; text-decoration-color: #008000\">│</span> <span style=\"color: #008080; text-decoration-color: #008080; font-weight: bold\">share\\ninsights gained from conducting these interactive workshops and introducing the\\nAI Ethics Quiz to </span>      <span style=\"color: #008000; text-decoration-color: #008000\">│</span>\n",
              "<span style=\"color: #008000; text-decoration-color: #008000\">│</span> <span style=\"color: #008080; text-decoration-color: #008080; font-weight: bold\">practitioners. Conclusion: We also provide recommendations\\nfor software companies and leaders to adopt similar</span> <span style=\"color: #008000; text-decoration-color: #008000\">│</span>\n",
              "<span style=\"color: #008000; text-decoration-color: #008000\">│</span> <span style=\"color: #008080; text-decoration-color: #008080; font-weight: bold\">initiatives, which may help\\nthem enhance practitioners' awareness and understanding of AI ethics.\", \"comment\":</span> <span style=\"color: #008000; text-decoration-color: #008000\">│</span>\n",
              "<span style=\"color: #008000; text-decoration-color: #008000\">│</span> <span style=\"color: #008080; text-decoration-color: #008080; font-weight: bold\">\"37 pages, 11 figures, 2 tables\", \"journal_ref\": null, \"doi\": null, \"primary_category\": \"cs.SE\", \"categories\": </span> <span style=\"color: #008000; text-decoration-color: #008000\">│</span>\n",
              "<span style=\"color: #008000; text-decoration-color: #008000\">│</span> <span style=\"color: #008080; text-decoration-color: #008080; font-weight: bold\">[\"cs.SE\"], \"pdf_url\": \"http://arxiv.org/pdf/2408.16796v2\", \"abstract_url\": </span>                                     <span style=\"color: #008000; text-decoration-color: #008000\">│</span>\n",
              "<span style=\"color: #008000; text-decoration-color: #008000\">│</span> <span style=\"color: #008080; text-decoration-color: #008080; font-weight: bold\">\"https://arxiv.org/abs/2408.16796v2\"}, {\"arxiv_id\": \"2203.13494v1\", \"updated\": \"2022-03-25T08:05:46+00:00\", </span>    <span style=\"color: #008000; text-decoration-color: #008000\">│</span>\n",
              "<span style=\"color: #008000; text-decoration-color: #008000\">│</span> <span style=\"color: #008080; text-decoration-color: #008080; font-weight: bold\">\"published\": \"2022-03-25T08:05:46+00:00\", \"title\": \"Big data ethics, machine ethics or information ethics? </span>     <span style=\"color: #008000; text-decoration-color: #008000\">│</span>\n",
              "<span style=\"color: #008000; text-decoration-color: #008000\">│</span> <span style=\"color: #008080; text-decoration-color: #008080; font-weight: bold\">Navigating the maze of applied ethics in IT\", \"authors\": [\"Niina Zuber\", \"Severin Kacianka\", \"Jan Gogoll\"], </span>    <span style=\"color: #008000; text-decoration-color: #008000\">│</span>\n",
              "<span style=\"color: #008000; text-decoration-color: #008000\">│</span> <span style=\"color: #008080; text-decoration-color: #008080; font-weight: bold\">\"summary\": \"Digitalization efforts are rapidly spreading across societies, challenging\\nnew and important </span>      <span style=\"color: #008000; text-decoration-color: #008000\">│</span>\n",
              "<span style=\"color: #008000; text-decoration-color: #008000\">│</span> <span style=\"color: #008080; text-decoration-color: #008080; font-weight: bold\">ethical issues that arise from technological development.\\nSoftware developers, designers and managerial </span>       <span style=\"color: #008000; text-decoration-color: #008000\">│</span>\n",
              "<span style=\"color: #008000; text-decoration-color: #008000\">│</span> <span style=\"color: #008080; text-decoration-color: #008080; font-weight: bold\">decision-makers are ever more\\nexpected to consider ethical values and conduct normative evaluations </span>           <span style=\"color: #008000; text-decoration-color: #008000\">│</span>\n",
              "<span style=\"color: #008000; text-decoration-color: #008000\">│</span> <span style=\"color: #008080; text-decoration-color: #008080; font-weight: bold\">when\\nbuilding digital products. Yet, when one looks for guidance in the academic\\nliterature one encounters a </span> <span style=\"color: #008000; text-decoration-color: #008000\">│</span>\n",
              "<span style=\"color: #008000; text-decoration-color: #008000\">│</span> <span style=\"color: #008080; text-decoration-color: #008080; font-weight: bold\">plethora of branches of applied ethics. Depending\\non the context of the system that is to be developed, </span>       <span style=\"color: #008000; text-decoration-color: #008000\">│</span>\n",
              "<span style=\"color: #008000; text-decoration-color: #008000\">│</span> <span style=\"color: #008080; text-decoration-color: #008080; font-weight: bold\">interesting subfields\\nlike big data ethics, machine ethics, information ethics, AI ethics or computer\\nethics </span> <span style=\"color: #008000; text-decoration-color: #008000\">│</span>\n",
              "<span style=\"color: #008000; text-decoration-color: #008000\">│</span> <span style=\"color: #008080; text-decoration-color: #008080; font-weight: bold\">(to only name a few) may present themselves. In this paper we want to\\noffer assistance to any member of a </span>     <span style=\"color: #008000; text-decoration-color: #008000\">│</span>\n",
              "<span style=\"color: #008000; text-decoration-color: #008000\">│</span> <span style=\"color: #008080; text-decoration-color: #008080; font-weight: bold\">development team by giving a clear and\\nbrief introduction into two fields of ethical endeavor (normative </span>      <span style=\"color: #008000; text-decoration-color: #008000\">│</span>\n",
              "<span style=\"color: #008000; text-decoration-color: #008000\">│</span> <span style=\"color: #008080; text-decoration-color: #008080; font-weight: bold\">ethics and\\napplied ethics), describing how they are related to each other and, finally,\\nprovide an ordering </span>  <span style=\"color: #008000; text-decoration-color: #008000\">│</span>\n",
              "<span style=\"color: #008000; text-decoration-color: #008000\">│</span> <span style=\"color: #008080; text-decoration-color: #008080; font-weight: bold\">of the different branches of applied ethics (big data\\nethics, machine ethics, information ethics, AI ethics or</span> <span style=\"color: #008000; text-decoration-color: #008000\">│</span>\n",
              "<span style=\"color: #008000; text-decoration-color: #008000\">│</span> <span style=\"color: #008080; text-decoration-color: #008080; font-weight: bold\">computer ethics etc.)\\nwhich have gained traction over the last years. Finally, we discuss an example\\nin the </span>  <span style=\"color: #008000; text-decoration-color: #008000\">│</span>\n",
              "<span style=\"color: #008000; text-decoration-color: #008000\">│</span> <span style=\"color: #008080; text-decoration-color: #008080; font-weight: bold\">domain of facial recognition software in the domain of medicine to\\nillustrate how this process of normative </span>   <span style=\"color: #008000; text-decoration-color: #008000\">│</span>\n",
              "<span style=\"color: #008000; text-decoration-color: #008000\">│</span> <span style=\"color: #008080; text-decoration-color: #008080; font-weight: bold\">analysis might be conducted.\", \"comment\": null, \"journal_ref\": null, \"doi\": null, \"primary_category\": \"cs.SE\", </span> <span style=\"color: #008000; text-decoration-color: #008000\">│</span>\n",
              "<span style=\"color: #008000; text-decoration-color: #008000\">│</span> <span style=\"color: #008080; text-decoration-color: #008080; font-weight: bold\">\"categories\": [\"cs.SE\"], \"pdf_url\": \"http://arxiv.org/pdf/2203.13494v1\", \"abstract_url\": </span>                       <span style=\"color: #008000; text-decoration-color: #008000\">│</span>\n",
              "<span style=\"color: #008000; text-decoration-color: #008000\">│</span> <span style=\"color: #008080; text-decoration-color: #008080; font-weight: bold\">\"https://arxiv.org/abs/2203.13494v1\"}, {\"arxiv_id\": \"2503.04747v1\", \"updated\": \"2025-02-06T04:37:55+00:00\", </span>    <span style=\"color: #008000; text-decoration-color: #008000\">│</span>\n",
              "<span style=\"color: #008000; text-decoration-color: #008000\">│</span> <span style=\"color: #008080; text-decoration-color: #008080; font-weight: bold\">\"published\": \"2025-02-06T04:37:55+00:00\", \"title\": \"E-LENS: User Requirements-Oriented AI Ethics Assurance\", </span>   <span style=\"color: #008000; text-decoration-color: #008000\">│</span>\n",
              "<span style=\"color: #008000; text-decoration-color: #008000\">│</span> <span style=\"color: #008080; text-decoration-color: #008080; font-weight: bold\">\"authors\": [\"Jianlong Zhou\", \"Fang Chen\"], \"summary\": \"Despite the much proliferation of AI ethical principles </span> <span style=\"color: #008000; text-decoration-color: #008000\">│</span>\n",
              "<span style=\"color: #008000; text-decoration-color: #008000\">│</span> <span style=\"color: #008080; text-decoration-color: #008080; font-weight: bold\">in recent years,\\nthere is a challenge of assuring AI ethics with current AI ethics frameworks in\\nreal-world </span>  <span style=\"color: #008000; text-decoration-color: #008000\">│</span>\n",
              "<span style=\"color: #008000; text-decoration-color: #008000\">│</span> <span style=\"color: #008080; text-decoration-color: #008080; font-weight: bold\">applications. While system safety has emerged as a distinct\\ndiscipline for a long time, originated from safety</span> <span style=\"color: #008000; text-decoration-color: #008000\">│</span>\n",
              "<span style=\"color: #008000; text-decoration-color: #008000\">│</span> <span style=\"color: #008080; text-decoration-color: #008080; font-weight: bold\">concerns in early aircraft\\nmanufacturing. The safety assurance is now an indispensable component in </span>           <span style=\"color: #008000; text-decoration-color: #008000\">│</span>\n",
              "<span style=\"color: #008000; text-decoration-color: #008000\">│</span> <span style=\"color: #008080; text-decoration-color: #008080; font-weight: bold\">safety\\ncritical domains. Motivated by the assurance approaches for safety-critical\\nsystems such as aviation, </span> <span style=\"color: #008000; text-decoration-color: #008000\">│</span>\n",
              "<span style=\"color: #008000; text-decoration-color: #008000\">│</span> <span style=\"color: #008080; text-decoration-color: #008080; font-weight: bold\">this paper introduces the concept of AI ethics\\nassurance cases into the AI ethics assurance. Three pillars of </span> <span style=\"color: #008000; text-decoration-color: #008000\">│</span>\n",
              "<span style=\"color: #008000; text-decoration-color: #008000\">│</span> <span style=\"color: #008080; text-decoration-color: #008080; font-weight: bold\">user\\nrequirements, evidence, and validation are proposed as key components and\\nintegrated into AI ethics </span>     <span style=\"color: #008000; text-decoration-color: #008000\">│</span>\n",
              "<span style=\"color: #008000; text-decoration-color: #008000\">│</span> <span style=\"color: #008080; text-decoration-color: #008080; font-weight: bold\">assurance cases for a new approach of user\\nrequirements-oriented AI ethics assurance. The user </span>                <span style=\"color: #008000; text-decoration-color: #008000\">│</span>\n",
              "<span style=\"color: #008000; text-decoration-color: #008000\">│</span> <span style=\"color: #008080; text-decoration-color: #008080; font-weight: bold\">requirements-oriented AI\\nethics assurance case is set up based on three pillars and hazard analysis\\nmethods </span>  <span style=\"color: #008000; text-decoration-color: #008000\">│</span>\n",
              "<span style=\"color: #008000; text-decoration-color: #008000\">│</span> <span style=\"color: #008080; text-decoration-color: #008080; font-weight: bold\">used in the safety assurance of safety-critical systems. This paper\\nalso proposes a platform named </span>            <span style=\"color: #008000; text-decoration-color: #008000\">│</span>\n",
              "<span style=\"color: #008000; text-decoration-color: #008000\">│</span> <span style=\"color: #008080; text-decoration-color: #008080; font-weight: bold\">Ethical-Lens (E-LENS) to implement the user\\nrequirements-oriented AI ethics assurance approach. The proposed </span>  <span style=\"color: #008000; text-decoration-color: #008000\">│</span>\n",
              "<span style=\"color: #008000; text-decoration-color: #008000\">│</span> <span style=\"color: #008080; text-decoration-color: #008080; font-weight: bold\">user\\nrequirements-based E-LENS platform is then applied to assure AI ethics of an\\nAI-driven human resource </span>   <span style=\"color: #008000; text-decoration-color: #008000\">│</span>\n",
              "<span style=\"color: #008000; text-decoration-color: #008000\">│</span> <span style=\"color: #008080; text-decoration-color: #008080; font-weight: bold\">shortlisting system as a case study to show the\\neffectiveness of the proposed approach.\", \"comment\": \"29 </span>      <span style=\"color: #008000; text-decoration-color: #008000\">│</span>\n",
              "<span style=\"color: #008000; text-decoration-color: #008000\">│</span> <span style=\"color: #008080; text-decoration-color: #008080; font-weight: bold\">pages\", \"journal_ref\": null, \"doi\": null, \"primary_category\": \"cs.CY\", \"categories\": [\"cs.CY\", \"cs.AI\"], </span>       <span style=\"color: #008000; text-decoration-color: #008000\">│</span>\n",
              "<span style=\"color: #008000; text-decoration-color: #008000\">│</span> <span style=\"color: #008080; text-decoration-color: #008080; font-weight: bold\">\"pdf_url\": \"http://arxiv.org/pdf/2503.04747v1\", \"abstract_url\": \"https://arxiv.org/abs/2503.04747v1\"}, </span>         <span style=\"color: #008000; text-decoration-color: #008000\">│</span>\n",
              "<span style=\"color: #008000; text-decoration-color: #008000\">│</span> <span style=\"color: #008080; text-decoration-color: #008080; font-weight: bold\">{\"arxiv_id\": \"2403.05551v1\", \"updated\": \"2024-02-08T16:36:55+00:00\", \"published\": \"2024-02-08T16:36:55+00:00\", </span> <span style=\"color: #008000; text-decoration-color: #008000\">│</span>\n",
              "<span style=\"color: #008000; text-decoration-color: #008000\">│</span> <span style=\"color: #008080; text-decoration-color: #008080; font-weight: bold\">\"title\": \"A Bibliometric View of AI Ethics Development\", \"authors\": [\"Di Kevin Gao\", \"Andrew Haverly\", \"Sudip </span>  <span style=\"color: #008000; text-decoration-color: #008000\">│</span>\n",
              "<span style=\"color: #008000; text-decoration-color: #008000\">│</span> <span style=\"color: #008080; text-decoration-color: #008080; font-weight: bold\">Mittal\", \"Jingdao Chen\"], \"summary\": \"Artificial Intelligence (AI) Ethics is a nascent yet critical research </span>   <span style=\"color: #008000; text-decoration-color: #008000\">│</span>\n",
              "<span style=\"color: #008000; text-decoration-color: #008000\">│</span> <span style=\"color: #008080; text-decoration-color: #008080; font-weight: bold\">field.\\nRecent developments in generative AI and foundational models necessitate a\\nrenewed look at the problem</span> <span style=\"color: #008000; text-decoration-color: #008000\">│</span>\n",
              "<span style=\"color: #008000; text-decoration-color: #008000\">│</span> <span style=\"color: #008080; text-decoration-color: #008080; font-weight: bold\">of AI Ethics. In this study, we perform a\\nbibliometric analysis of AI Ethics literature for the last 20 years </span> <span style=\"color: #008000; text-decoration-color: #008000\">│</span>\n",
              "<span style=\"color: #008000; text-decoration-color: #008000\">│</span> <span style=\"color: #008080; text-decoration-color: #008080; font-weight: bold\">based on\\nkeyword search. Our study reveals a three-phase development in AI Ethics,\\nnamely an incubation </span>      <span style=\"color: #008000; text-decoration-color: #008000\">│</span>\n",
              "<span style=\"color: #008000; text-decoration-color: #008000\">│</span> <span style=\"color: #008080; text-decoration-color: #008080; font-weight: bold\">phase, making AI human-like machines phase, and making AI\\nhuman-centric machines phase. We conjecture that the</span> <span style=\"color: #008000; text-decoration-color: #008000\">│</span>\n",
              "<span style=\"color: #008000; text-decoration-color: #008000\">│</span> <span style=\"color: #008080; text-decoration-color: #008080; font-weight: bold\">next phase of AI ethics is\\nlikely to focus on making AI more machine-like as AI matches or surpasses\\nhumans </span>  <span style=\"color: #008000; text-decoration-color: #008000\">│</span>\n",
              "<span style=\"color: #008000; text-decoration-color: #008000\">│</span> <span style=\"color: #008080; text-decoration-color: #008080; font-weight: bold\">intellectually, a term we coin as \\\"machine-like human\\\".\", \"comment\": null, \"journal_ref\": null, \"doi\": null, </span> <span style=\"color: #008000; text-decoration-color: #008000\">│</span>\n",
              "<span style=\"color: #008000; text-decoration-color: #008000\">│</span> <span style=\"color: #008080; text-decoration-color: #008080; font-weight: bold\">\"primary_category\": \"cs.CY\", \"categories\": [\"cs.CY\"], \"pdf_url\": \"http://arxiv.org/pdf/2403.05551v1\", </span>          <span style=\"color: #008000; text-decoration-color: #008000\">│</span>\n",
              "<span style=\"color: #008000; text-decoration-color: #008000\">│</span> <span style=\"color: #008080; text-decoration-color: #008080; font-weight: bold\">\"abstract_url\": \"https://arxiv.org/abs/2403.05551v1\"}, {\"arxiv_id\": \"2503.18842v2\", \"updated\": </span>                 <span style=\"color: #008000; text-decoration-color: #008000\">│</span>\n",
              "<span style=\"color: #008000; text-decoration-color: #008000\">│</span> <span style=\"color: #008080; text-decoration-color: #008080; font-weight: bold\">\"2025-03-26T09:03:58+00:00\", \"published\": \"2025-03-24T16:15:03+00:00\", \"title\": \"Three Kinds of AI Ethics\", </span>    <span style=\"color: #008000; text-decoration-color: #008000\">│</span>\n",
              "<span style=\"color: #008000; text-decoration-color: #008000\">│</span> <span style=\"color: #008080; text-decoration-color: #008080; font-weight: bold\">\"authors\": [\"Emanuele Ratti\"], \"summary\": \"There is an overwhelming abundance of works in AI Ethics. This </span>      <span style=\"color: #008000; text-decoration-color: #008000\">│</span>\n",
              "<span style=\"color: #008000; text-decoration-color: #008000\">│</span> <span style=\"color: #008080; text-decoration-color: #008080; font-weight: bold\">growth is\\nchaotic because of how sudden it is, its volume, and its multidisciplinary\\nnature. This makes </span>      <span style=\"color: #008000; text-decoration-color: #008000\">│</span>\n",
              "<span style=\"color: #008000; text-decoration-color: #008000\">│</span> <span style=\"color: #008080; text-decoration-color: #008080; font-weight: bold\">difficult to keep track of debates, and to systematically\\ncharacterize goals, research questions, methods, and</span> <span style=\"color: #008000; text-decoration-color: #008000\">│</span>\n",
              "<span style=\"color: #008000; text-decoration-color: #008000\">│</span> <span style=\"color: #008080; text-decoration-color: #008080; font-weight: bold\">expertise required by AI\\nethicists. In this article, I show that the relation between AI and ethics can\\nbe </span>   <span style=\"color: #008000; text-decoration-color: #008000\">│</span>\n",
              "<span style=\"color: #008000; text-decoration-color: #008000\">│</span> <span style=\"color: #008080; text-decoration-color: #008080; font-weight: bold\">characterized in at least three ways, which correspond to three\\nwell-represented kinds of AI ethics: ethics </span>   <span style=\"color: #008000; text-decoration-color: #008000\">│</span>\n",
              "<span style=\"color: #008000; text-decoration-color: #008000\">│</span> <span style=\"color: #008080; text-decoration-color: #008080; font-weight: bold\">and AI; ethics in AI; ethics of AI.\\nI elucidate the features of these three kinds of AI Ethics, characterize </span>  <span style=\"color: #008000; text-decoration-color: #008000\">│</span>\n",
              "<span style=\"color: #008000; text-decoration-color: #008000\">│</span> <span style=\"color: #008080; text-decoration-color: #008080; font-weight: bold\">their\\nresearch questions, and identify the kind of expertise that each kind needs. I\\nalso show how certain </span>   <span style=\"color: #008000; text-decoration-color: #008000\">│</span>\n",
              "<span style=\"color: #008000; text-decoration-color: #008000\">│</span> <span style=\"color: #008080; text-decoration-color: #008080; font-weight: bold\">criticisms to AI ethics are misplaced, as being done from\\nthe point of view of one kind of AI ethics, to </span>      <span style=\"color: #008000; text-decoration-color: #008000\">│</span>\n",
              "<span style=\"color: #008000; text-decoration-color: #008000\">│</span> <span style=\"color: #008080; text-decoration-color: #008080; font-weight: bold\">another kind with different\\ngoals. All in all, this work sheds light on the nature of AI ethics, and sets\\nthe</span> <span style=\"color: #008000; text-decoration-color: #008000\">│</span>\n",
              "<span style=\"color: #008000; text-decoration-color: #008000\">│</span> <span style=\"color: #008080; text-decoration-color: #008080; font-weight: bold\">groundwork for more informed discussions about the scope, methods, and\\ntraining of AI ethicists.\", \"comment\": </span> <span style=\"color: #008000; text-decoration-color: #008000\">│</span>\n",
              "<span style=\"color: #008000; text-decoration-color: #008000\">│</span> <span style=\"color: #008080; text-decoration-color: #008080; font-weight: bold\">\"16 pages, two figures\", \"journal_ref\": null, \"doi\": null, \"primary_category\": \"cs.CY\", \"categories\": [\"cs.CY\",</span> <span style=\"color: #008000; text-decoration-color: #008000\">│</span>\n",
              "<span style=\"color: #008000; text-decoration-color: #008000\">│</span> <span style=\"color: #008080; text-decoration-color: #008080; font-weight: bold\">\"cs.AI\"], \"pdf_url\": \"http://arxiv.org/pdf/2503.18842v2\", \"abstract_url\": </span>                                      <span style=\"color: #008000; text-decoration-color: #008000\">│</span>\n",
              "<span style=\"color: #008000; text-decoration-color: #008000\">│</span> <span style=\"color: #008080; text-decoration-color: #008080; font-weight: bold\">\"https://arxiv.org/abs/2503.18842v2\"}]</span>                                                                          <span style=\"color: #008000; text-decoration-color: #008000\">│</span>\n",
              "<span style=\"color: #008000; text-decoration-color: #008000\">╰─────────────────────────────────────────────────────────────────────────────────────────────────────────────────╯</span>\n",
              "</pre>\n"
            ]
          },
          "metadata": {}
        },
        {
          "output_type": "display_data",
          "data": {
            "text/plain": [
              "Output()"
            ],
            "application/vnd.jupyter.widget-view+json": {
              "version_major": 2,
              "version_minor": 0,
              "model_id": "1982b0b5c313430c919272cbfdcd85ed"
            }
          },
          "metadata": {}
        },
        {
          "output_type": "display_data",
          "data": {
            "text/plain": [],
            "text/html": [
              "<pre style=\"white-space:pre;overflow-x:auto;line-height:normal;font-family:Menlo,'DejaVu Sans Mono',consolas,'Courier New',monospace\"></pre>\n"
            ]
          },
          "metadata": {}
        },
        {
          "output_type": "display_data",
          "data": {
            "text/plain": [
              "\n"
            ],
            "text/html": [
              "<pre style=\"white-space:pre;overflow-x:auto;line-height:normal;font-family:Menlo,'DejaVu Sans Mono',consolas,'Courier New',monospace\">\n",
              "</pre>\n"
            ]
          },
          "metadata": {}
        },
        {
          "output_type": "display_data",
          "data": {
            "text/plain": [
              "\u001b[2mResponse generated in 22.9s\u001b[0m\n"
            ],
            "text/html": [
              "<pre style=\"white-space:pre;overflow-x:auto;line-height:normal;font-family:Menlo,'DejaVu Sans Mono',consolas,'Courier New',monospace\"><span style=\"color: #7f7f7f; text-decoration-color: #7f7f7f\">Response generated in 22.9s</span>\n",
              "</pre>\n"
            ]
          },
          "metadata": {}
        },
        {
          "output_type": "display_data",
          "data": {
            "text/plain": [
              "\u001b[36m╭─\u001b[0m\u001b[36m────────────────────────────────────────────────────\u001b[0m\u001b[36m Task \u001b[0m\u001b[36m─────────────────────────────────────────────────────\u001b[0m\u001b[36m─╮\u001b[0m\n",
              "\u001b[36m│\u001b[0m You need to do the following task: Find papers on AI ethics. Expected Output: Complete the task successfully.   \u001b[36m│\u001b[0m\n",
              "\u001b[36m│\u001b[0m Please provide only the final result of your work. Do not add any conversation or extra explanation.            \u001b[36m│\u001b[0m\n",
              "\u001b[36m╰─────────────────────────────────────────────────────────────────────────────────────────────────────────────────╯\u001b[0m\n"
            ],
            "text/html": [
              "<pre style=\"white-space:pre;overflow-x:auto;line-height:normal;font-family:Menlo,'DejaVu Sans Mono',consolas,'Courier New',monospace\"><span style=\"color: #008080; text-decoration-color: #008080\">╭───────────────────────────────────────────────────── Task ──────────────────────────────────────────────────────╮</span>\n",
              "<span style=\"color: #008080; text-decoration-color: #008080\">│</span> You need to do the following task: Find papers on AI ethics. Expected Output: Complete the task successfully.   <span style=\"color: #008080; text-decoration-color: #008080\">│</span>\n",
              "<span style=\"color: #008080; text-decoration-color: #008080\">│</span> Please provide only the final result of your work. Do not add any conversation or extra explanation.            <span style=\"color: #008080; text-decoration-color: #008080\">│</span>\n",
              "<span style=\"color: #008080; text-decoration-color: #008080\">╰─────────────────────────────────────────────────────────────────────────────────────────────────────────────────╯</span>\n",
              "</pre>\n"
            ]
          },
          "metadata": {}
        },
        {
          "output_type": "display_data",
          "data": {
            "text/plain": [
              "\u001b[36m╭─\u001b[0m\u001b[36m──────────────────────────────────────────────────\u001b[0m\u001b[36m Response \u001b[0m\u001b[36m───────────────────────────────────────────────────\u001b[0m\u001b[36m─╮\u001b[0m\n",
              "\u001b[36m│\u001b[0m                                                                                                                 \u001b[36m│\u001b[0m\n",
              "\u001b[36m│\u001b[0m \u001b[1;33m 1 \u001b[0m\u001b[1mTitle\u001b[0m: Raising AI Ethics Awareness through an AI Ethics Quiz for Software Practitioners                      \u001b[36m│\u001b[0m\n",
              "\u001b[36m│\u001b[0m \u001b[1;33m   \u001b[0m\u001b[1mAuthors\u001b[0m: Aastha Pant, Rashina Hoda, Paul McIntosh                                                            \u001b[36m│\u001b[0m\n",
              "\u001b[36m│\u001b[0m \u001b[1;33m   \u001b[0m\u001b[1mPublished\u001b[0m: 2024-08-28                                                                                        \u001b[36m│\u001b[0m\n",
              "\u001b[36m│\u001b[0m \u001b[1;33m   \u001b[0m\u001b[1mSummary\u001b[0m: This paper discusses the development of an AI Ethics Quiz aimed at raising awareness and enhancing  \u001b[36m│\u001b[0m\n",
              "\u001b[36m│\u001b[0m \u001b[1;33m   \u001b[0mknowledge of AI ethics among software practitioners. The study involved interactive workshops and            \u001b[36m│\u001b[0m\n",
              "\u001b[36m│\u001b[0m \u001b[1;33m   \u001b[0mdemonstrated significant improvement in participants' understanding of AI ethics.                            \u001b[36m│\u001b[0m\n",
              "\u001b[36m│\u001b[0m \u001b[1;33m   \u001b[0m\u001b]8;id=306985;http://arxiv.org/pdf/2408.16796v2\u001b\\\u001b[4;34mPDF\u001b[0m\u001b]8;;\u001b\\ | \u001b]8;id=206343;https://arxiv.org/abs/2408.16796v2\u001b\\\u001b[4;34mAbstract\u001b[0m\u001b]8;;\u001b\\                                                                                               \u001b[36m│\u001b[0m\n",
              "\u001b[36m│\u001b[0m \u001b[1;33m 2 \u001b[0m\u001b[1mTitle\u001b[0m: Big data ethics, machine ethics or information ethics? Navigating the maze of applied ethics in IT    \u001b[36m│\u001b[0m\n",
              "\u001b[36m│\u001b[0m \u001b[1;33m   \u001b[0m\u001b[1mAuthors\u001b[0m: Niina Zuber, Severin Kacianka, Jan Gogoll                                                           \u001b[36m│\u001b[0m\n",
              "\u001b[36m│\u001b[0m \u001b[1;33m   \u001b[0m\u001b[1mPublished\u001b[0m: 2022-03-25                                                                                        \u001b[36m│\u001b[0m\n",
              "\u001b[36m│\u001b[0m \u001b[1;33m   \u001b[0m\u001b[1mSummary\u001b[0m: This paper provides an introduction to various branches of applied ethics, including AI ethics, and \u001b[36m│\u001b[0m\n",
              "\u001b[36m│\u001b[0m \u001b[1;33m   \u001b[0mdiscusses their relevance in the context of digital product development. It offers guidance for development  \u001b[36m│\u001b[0m\n",
              "\u001b[36m│\u001b[0m \u001b[1;33m   \u001b[0mteams on navigating these ethical considerations.                                                            \u001b[36m│\u001b[0m\n",
              "\u001b[36m│\u001b[0m \u001b[1;33m   \u001b[0m\u001b]8;id=862579;http://arxiv.org/pdf/2203.13494v1\u001b\\\u001b[4;34mPDF\u001b[0m\u001b]8;;\u001b\\ | \u001b]8;id=339940;https://arxiv.org/abs/2203.13494v1\u001b\\\u001b[4;34mAbstract\u001b[0m\u001b]8;;\u001b\\                                                                                               \u001b[36m│\u001b[0m\n",
              "\u001b[36m│\u001b[0m \u001b[1;33m 3 \u001b[0m\u001b[1mTitle\u001b[0m: E-LENS: User Requirements-Oriented AI Ethics Assurance                                                \u001b[36m│\u001b[0m\n",
              "\u001b[36m│\u001b[0m \u001b[1;33m   \u001b[0m\u001b[1mAuthors\u001b[0m: Jianlong Zhou, Fang Chen                                                                            \u001b[36m│\u001b[0m\n",
              "\u001b[36m│\u001b[0m \u001b[1;33m   \u001b[0m\u001b[1mPublished\u001b[0m: 2025-02-06                                                                                        \u001b[36m│\u001b[0m\n",
              "\u001b[36m│\u001b[0m \u001b[1;33m   \u001b[0m\u001b[1mSummary\u001b[0m: The paper introduces a user requirements-oriented approach to AI ethics assurance, proposing a      \u001b[36m│\u001b[0m\n",
              "\u001b[36m│\u001b[0m \u001b[1;33m   \u001b[0mplatform named Ethical-Lens (E-LENS) to implement this approach. It focuses on integrating user              \u001b[36m│\u001b[0m\n",
              "\u001b[36m│\u001b[0m \u001b[1;33m   \u001b[0mrequirements, evidence, and validation into AI ethics assurance cases.                                       \u001b[36m│\u001b[0m\n",
              "\u001b[36m│\u001b[0m \u001b[1;33m   \u001b[0m\u001b]8;id=843167;http://arxiv.org/pdf/2503.04747v1\u001b\\\u001b[4;34mPDF\u001b[0m\u001b]8;;\u001b\\ | \u001b]8;id=723203;https://arxiv.org/abs/2503.04747v1\u001b\\\u001b[4;34mAbstract\u001b[0m\u001b]8;;\u001b\\                                                                                               \u001b[36m│\u001b[0m\n",
              "\u001b[36m│\u001b[0m \u001b[1;33m 4 \u001b[0m\u001b[1mTitle\u001b[0m: A Bibliometric View of AI Ethics Development                                                          \u001b[36m│\u001b[0m\n",
              "\u001b[36m│\u001b[0m \u001b[1;33m   \u001b[0m\u001b[1mAuthors\u001b[0m: Di Kevin Gao, Andrew Haverly, Sudip Mittal, Jingdao Chen                                            \u001b[36m│\u001b[0m\n",
              "\u001b[36m│\u001b[0m \u001b[1;33m   \u001b[0m\u001b[1mPublished\u001b[0m: 2024-02-08                                                                                        \u001b[36m│\u001b[0m\n",
              "\u001b[36m│\u001b[0m \u001b[1;33m   \u001b[0m\u001b[1mSummary\u001b[0m: This study performs a bibliometric analysis of AI Ethics literature over the past 20 years,         \u001b[36m│\u001b[0m\n",
              "\u001b[36m│\u001b[0m \u001b[1;33m   \u001b[0mrevealing a three-phase development in AI Ethics and predicting future trends in the field.                  \u001b[36m│\u001b[0m\n",
              "\u001b[36m│\u001b[0m \u001b[1;33m   \u001b[0m\u001b]8;id=513808;http://arxiv.org/pdf/2403.05551v1\u001b\\\u001b[4;34mPDF\u001b[0m\u001b]8;;\u001b\\ | \u001b]8;id=129290;https://arxiv.org/abs/2403.05551v1\u001b\\\u001b[4;34mAbstract\u001b[0m\u001b]8;;\u001b\\                                                                                               \u001b[36m│\u001b[0m\n",
              "\u001b[36m│\u001b[0m \u001b[1;33m 5 \u001b[0m\u001b[1mTitle\u001b[0m: Three Kinds of AI Ethics                                                                              \u001b[36m│\u001b[0m\n",
              "\u001b[36m│\u001b[0m \u001b[1;33m   \u001b[0m\u001b[1mAuthors\u001b[0m: Emanuele Ratti                                                                                      \u001b[36m│\u001b[0m\n",
              "\u001b[36m│\u001b[0m \u001b[1;33m   \u001b[0m\u001b[1mPublished\u001b[0m: 2025-03-24                                                                                        \u001b[36m│\u001b[0m\n",
              "\u001b[36m│\u001b[0m \u001b[1;33m   \u001b[0m\u001b[1mSummary\u001b[0m: The paper characterizes AI ethics into three kinds: ethics and AI, ethics in AI, and ethics of AI.  \u001b[36m│\u001b[0m\n",
              "\u001b[36m│\u001b[0m \u001b[1;33m   \u001b[0mIt discusses the research questions and expertise required for each type, providing a framework for          \u001b[36m│\u001b[0m\n",
              "\u001b[36m│\u001b[0m \u001b[1;33m   \u001b[0munderstanding the multidisciplinary nature of AI ethics.                                                     \u001b[36m│\u001b[0m\n",
              "\u001b[36m│\u001b[0m \u001b[1;33m   \u001b[0m\u001b]8;id=376649;http://arxiv.org/pdf/2503.18842v2\u001b\\\u001b[4;34mPDF\u001b[0m\u001b]8;;\u001b\\ | \u001b]8;id=117677;https://arxiv.org/abs/2503.18842v2\u001b\\\u001b[4;34mAbstract\u001b[0m\u001b]8;;\u001b\\                                                                                               \u001b[36m│\u001b[0m\n",
              "\u001b[36m╰─────────────────────────────────────────────────────────────────────────────────────────────────────────────────╯\u001b[0m\n"
            ],
            "text/html": [
              "<pre style=\"white-space:pre;overflow-x:auto;line-height:normal;font-family:Menlo,'DejaVu Sans Mono',consolas,'Courier New',monospace\"><span style=\"color: #008080; text-decoration-color: #008080\">╭─────────────────────────────────────────────────── Response ────────────────────────────────────────────────────╮</span>\n",
              "<span style=\"color: #008080; text-decoration-color: #008080\">│</span>                                                                                                                 <span style=\"color: #008080; text-decoration-color: #008080\">│</span>\n",
              "<span style=\"color: #008080; text-decoration-color: #008080\">│</span> <span style=\"color: #808000; text-decoration-color: #808000; font-weight: bold\"> 1 </span><span style=\"font-weight: bold\">Title</span>: Raising AI Ethics Awareness through an AI Ethics Quiz for Software Practitioners                      <span style=\"color: #008080; text-decoration-color: #008080\">│</span>\n",
              "<span style=\"color: #008080; text-decoration-color: #008080\">│</span> <span style=\"color: #808000; text-decoration-color: #808000; font-weight: bold\">   </span><span style=\"font-weight: bold\">Authors</span>: Aastha Pant, Rashina Hoda, Paul McIntosh                                                            <span style=\"color: #008080; text-decoration-color: #008080\">│</span>\n",
              "<span style=\"color: #008080; text-decoration-color: #008080\">│</span> <span style=\"color: #808000; text-decoration-color: #808000; font-weight: bold\">   </span><span style=\"font-weight: bold\">Published</span>: 2024-08-28                                                                                        <span style=\"color: #008080; text-decoration-color: #008080\">│</span>\n",
              "<span style=\"color: #008080; text-decoration-color: #008080\">│</span> <span style=\"color: #808000; text-decoration-color: #808000; font-weight: bold\">   </span><span style=\"font-weight: bold\">Summary</span>: This paper discusses the development of an AI Ethics Quiz aimed at raising awareness and enhancing  <span style=\"color: #008080; text-decoration-color: #008080\">│</span>\n",
              "<span style=\"color: #008080; text-decoration-color: #008080\">│</span> <span style=\"color: #808000; text-decoration-color: #808000; font-weight: bold\">   </span>knowledge of AI ethics among software practitioners. The study involved interactive workshops and            <span style=\"color: #008080; text-decoration-color: #008080\">│</span>\n",
              "<span style=\"color: #008080; text-decoration-color: #008080\">│</span> <span style=\"color: #808000; text-decoration-color: #808000; font-weight: bold\">   </span>demonstrated significant improvement in participants' understanding of AI ethics.                            <span style=\"color: #008080; text-decoration-color: #008080\">│</span>\n",
              "<span style=\"color: #008080; text-decoration-color: #008080\">│</span> <span style=\"color: #808000; text-decoration-color: #808000; font-weight: bold\">   </span><a href=\"http://arxiv.org/pdf/2408.16796v2\" target=\"_blank\"><span style=\"color: #000080; text-decoration-color: #000080; text-decoration: underline\">PDF</span></a> | <a href=\"https://arxiv.org/abs/2408.16796v2\" target=\"_blank\"><span style=\"color: #000080; text-decoration-color: #000080; text-decoration: underline\">Abstract</span></a>                                                                                               <span style=\"color: #008080; text-decoration-color: #008080\">│</span>\n",
              "<span style=\"color: #008080; text-decoration-color: #008080\">│</span> <span style=\"color: #808000; text-decoration-color: #808000; font-weight: bold\"> 2 </span><span style=\"font-weight: bold\">Title</span>: Big data ethics, machine ethics or information ethics? Navigating the maze of applied ethics in IT    <span style=\"color: #008080; text-decoration-color: #008080\">│</span>\n",
              "<span style=\"color: #008080; text-decoration-color: #008080\">│</span> <span style=\"color: #808000; text-decoration-color: #808000; font-weight: bold\">   </span><span style=\"font-weight: bold\">Authors</span>: Niina Zuber, Severin Kacianka, Jan Gogoll                                                           <span style=\"color: #008080; text-decoration-color: #008080\">│</span>\n",
              "<span style=\"color: #008080; text-decoration-color: #008080\">│</span> <span style=\"color: #808000; text-decoration-color: #808000; font-weight: bold\">   </span><span style=\"font-weight: bold\">Published</span>: 2022-03-25                                                                                        <span style=\"color: #008080; text-decoration-color: #008080\">│</span>\n",
              "<span style=\"color: #008080; text-decoration-color: #008080\">│</span> <span style=\"color: #808000; text-decoration-color: #808000; font-weight: bold\">   </span><span style=\"font-weight: bold\">Summary</span>: This paper provides an introduction to various branches of applied ethics, including AI ethics, and <span style=\"color: #008080; text-decoration-color: #008080\">│</span>\n",
              "<span style=\"color: #008080; text-decoration-color: #008080\">│</span> <span style=\"color: #808000; text-decoration-color: #808000; font-weight: bold\">   </span>discusses their relevance in the context of digital product development. It offers guidance for development  <span style=\"color: #008080; text-decoration-color: #008080\">│</span>\n",
              "<span style=\"color: #008080; text-decoration-color: #008080\">│</span> <span style=\"color: #808000; text-decoration-color: #808000; font-weight: bold\">   </span>teams on navigating these ethical considerations.                                                            <span style=\"color: #008080; text-decoration-color: #008080\">│</span>\n",
              "<span style=\"color: #008080; text-decoration-color: #008080\">│</span> <span style=\"color: #808000; text-decoration-color: #808000; font-weight: bold\">   </span><a href=\"http://arxiv.org/pdf/2203.13494v1\" target=\"_blank\"><span style=\"color: #000080; text-decoration-color: #000080; text-decoration: underline\">PDF</span></a> | <a href=\"https://arxiv.org/abs/2203.13494v1\" target=\"_blank\"><span style=\"color: #000080; text-decoration-color: #000080; text-decoration: underline\">Abstract</span></a>                                                                                               <span style=\"color: #008080; text-decoration-color: #008080\">│</span>\n",
              "<span style=\"color: #008080; text-decoration-color: #008080\">│</span> <span style=\"color: #808000; text-decoration-color: #808000; font-weight: bold\"> 3 </span><span style=\"font-weight: bold\">Title</span>: E-LENS: User Requirements-Oriented AI Ethics Assurance                                                <span style=\"color: #008080; text-decoration-color: #008080\">│</span>\n",
              "<span style=\"color: #008080; text-decoration-color: #008080\">│</span> <span style=\"color: #808000; text-decoration-color: #808000; font-weight: bold\">   </span><span style=\"font-weight: bold\">Authors</span>: Jianlong Zhou, Fang Chen                                                                            <span style=\"color: #008080; text-decoration-color: #008080\">│</span>\n",
              "<span style=\"color: #008080; text-decoration-color: #008080\">│</span> <span style=\"color: #808000; text-decoration-color: #808000; font-weight: bold\">   </span><span style=\"font-weight: bold\">Published</span>: 2025-02-06                                                                                        <span style=\"color: #008080; text-decoration-color: #008080\">│</span>\n",
              "<span style=\"color: #008080; text-decoration-color: #008080\">│</span> <span style=\"color: #808000; text-decoration-color: #808000; font-weight: bold\">   </span><span style=\"font-weight: bold\">Summary</span>: The paper introduces a user requirements-oriented approach to AI ethics assurance, proposing a      <span style=\"color: #008080; text-decoration-color: #008080\">│</span>\n",
              "<span style=\"color: #008080; text-decoration-color: #008080\">│</span> <span style=\"color: #808000; text-decoration-color: #808000; font-weight: bold\">   </span>platform named Ethical-Lens (E-LENS) to implement this approach. It focuses on integrating user              <span style=\"color: #008080; text-decoration-color: #008080\">│</span>\n",
              "<span style=\"color: #008080; text-decoration-color: #008080\">│</span> <span style=\"color: #808000; text-decoration-color: #808000; font-weight: bold\">   </span>requirements, evidence, and validation into AI ethics assurance cases.                                       <span style=\"color: #008080; text-decoration-color: #008080\">│</span>\n",
              "<span style=\"color: #008080; text-decoration-color: #008080\">│</span> <span style=\"color: #808000; text-decoration-color: #808000; font-weight: bold\">   </span><a href=\"http://arxiv.org/pdf/2503.04747v1\" target=\"_blank\"><span style=\"color: #000080; text-decoration-color: #000080; text-decoration: underline\">PDF</span></a> | <a href=\"https://arxiv.org/abs/2503.04747v1\" target=\"_blank\"><span style=\"color: #000080; text-decoration-color: #000080; text-decoration: underline\">Abstract</span></a>                                                                                               <span style=\"color: #008080; text-decoration-color: #008080\">│</span>\n",
              "<span style=\"color: #008080; text-decoration-color: #008080\">│</span> <span style=\"color: #808000; text-decoration-color: #808000; font-weight: bold\"> 4 </span><span style=\"font-weight: bold\">Title</span>: A Bibliometric View of AI Ethics Development                                                          <span style=\"color: #008080; text-decoration-color: #008080\">│</span>\n",
              "<span style=\"color: #008080; text-decoration-color: #008080\">│</span> <span style=\"color: #808000; text-decoration-color: #808000; font-weight: bold\">   </span><span style=\"font-weight: bold\">Authors</span>: Di Kevin Gao, Andrew Haverly, Sudip Mittal, Jingdao Chen                                            <span style=\"color: #008080; text-decoration-color: #008080\">│</span>\n",
              "<span style=\"color: #008080; text-decoration-color: #008080\">│</span> <span style=\"color: #808000; text-decoration-color: #808000; font-weight: bold\">   </span><span style=\"font-weight: bold\">Published</span>: 2024-02-08                                                                                        <span style=\"color: #008080; text-decoration-color: #008080\">│</span>\n",
              "<span style=\"color: #008080; text-decoration-color: #008080\">│</span> <span style=\"color: #808000; text-decoration-color: #808000; font-weight: bold\">   </span><span style=\"font-weight: bold\">Summary</span>: This study performs a bibliometric analysis of AI Ethics literature over the past 20 years,         <span style=\"color: #008080; text-decoration-color: #008080\">│</span>\n",
              "<span style=\"color: #008080; text-decoration-color: #008080\">│</span> <span style=\"color: #808000; text-decoration-color: #808000; font-weight: bold\">   </span>revealing a three-phase development in AI Ethics and predicting future trends in the field.                  <span style=\"color: #008080; text-decoration-color: #008080\">│</span>\n",
              "<span style=\"color: #008080; text-decoration-color: #008080\">│</span> <span style=\"color: #808000; text-decoration-color: #808000; font-weight: bold\">   </span><a href=\"http://arxiv.org/pdf/2403.05551v1\" target=\"_blank\"><span style=\"color: #000080; text-decoration-color: #000080; text-decoration: underline\">PDF</span></a> | <a href=\"https://arxiv.org/abs/2403.05551v1\" target=\"_blank\"><span style=\"color: #000080; text-decoration-color: #000080; text-decoration: underline\">Abstract</span></a>                                                                                               <span style=\"color: #008080; text-decoration-color: #008080\">│</span>\n",
              "<span style=\"color: #008080; text-decoration-color: #008080\">│</span> <span style=\"color: #808000; text-decoration-color: #808000; font-weight: bold\"> 5 </span><span style=\"font-weight: bold\">Title</span>: Three Kinds of AI Ethics                                                                              <span style=\"color: #008080; text-decoration-color: #008080\">│</span>\n",
              "<span style=\"color: #008080; text-decoration-color: #008080\">│</span> <span style=\"color: #808000; text-decoration-color: #808000; font-weight: bold\">   </span><span style=\"font-weight: bold\">Authors</span>: Emanuele Ratti                                                                                      <span style=\"color: #008080; text-decoration-color: #008080\">│</span>\n",
              "<span style=\"color: #008080; text-decoration-color: #008080\">│</span> <span style=\"color: #808000; text-decoration-color: #808000; font-weight: bold\">   </span><span style=\"font-weight: bold\">Published</span>: 2025-03-24                                                                                        <span style=\"color: #008080; text-decoration-color: #008080\">│</span>\n",
              "<span style=\"color: #008080; text-decoration-color: #008080\">│</span> <span style=\"color: #808000; text-decoration-color: #808000; font-weight: bold\">   </span><span style=\"font-weight: bold\">Summary</span>: The paper characterizes AI ethics into three kinds: ethics and AI, ethics in AI, and ethics of AI.  <span style=\"color: #008080; text-decoration-color: #008080\">│</span>\n",
              "<span style=\"color: #008080; text-decoration-color: #008080\">│</span> <span style=\"color: #808000; text-decoration-color: #808000; font-weight: bold\">   </span>It discusses the research questions and expertise required for each type, providing a framework for          <span style=\"color: #008080; text-decoration-color: #008080\">│</span>\n",
              "<span style=\"color: #008080; text-decoration-color: #008080\">│</span> <span style=\"color: #808000; text-decoration-color: #808000; font-weight: bold\">   </span>understanding the multidisciplinary nature of AI ethics.                                                     <span style=\"color: #008080; text-decoration-color: #008080\">│</span>\n",
              "<span style=\"color: #008080; text-decoration-color: #008080\">│</span> <span style=\"color: #808000; text-decoration-color: #808000; font-weight: bold\">   </span><a href=\"http://arxiv.org/pdf/2503.18842v2\" target=\"_blank\"><span style=\"color: #000080; text-decoration-color: #000080; text-decoration: underline\">PDF</span></a> | <a href=\"https://arxiv.org/abs/2503.18842v2\" target=\"_blank\"><span style=\"color: #000080; text-decoration-color: #000080; text-decoration: underline\">Abstract</span></a>                                                                                               <span style=\"color: #008080; text-decoration-color: #008080\">│</span>\n",
              "<span style=\"color: #008080; text-decoration-color: #008080\">╰─────────────────────────────────────────────────────────────────────────────────────────────────────────────────╯</span>\n",
              "</pre>\n"
            ]
          },
          "metadata": {}
        },
        {
          "output_type": "display_data",
          "data": {
            "text/plain": [
              "\u001b[38;2;210;227;200m╭─\u001b[0m\u001b[38;2;210;227;200m \u001b[0m\u001b[1;38;2;210;227;200mAgent Info\u001b[0m\u001b[38;2;210;227;200m \u001b[0m\u001b[38;2;210;227;200m───────────────────────────────────────────────────────────────────────────────────────────────────\u001b[0m\u001b[38;2;210;227;200m─╮\u001b[0m\n",
              "\u001b[38;2;210;227;200m│\u001b[0m                                                                                                                 \u001b[38;2;210;227;200m│\u001b[0m\n",
              "\u001b[38;2;210;227;200m│\u001b[0m  \u001b[1;38;2;255;155;155m👤 Agent:\u001b[0m \u001b[38;2;255;229;229mReviewer\u001b[0m                                                                                             \u001b[38;2;210;227;200m│\u001b[0m\n",
              "\u001b[38;2;210;227;200m│\u001b[0m  \u001b[1;38;2;180;180;179mRole:\u001b[0m \u001b[38;2;255;229;229mResearch Reviewer\u001b[0m                                                                                        \u001b[38;2;210;227;200m│\u001b[0m\n",
              "\u001b[38;2;210;227;200m│\u001b[0m                                                                                                                 \u001b[38;2;210;227;200m│\u001b[0m\n",
              "\u001b[38;2;210;227;200m╰─────────────────────────────────────────────────────────────────────────────────────────────────────────────────╯\u001b[0m\n"
            ],
            "text/html": [
              "<pre style=\"white-space:pre;overflow-x:auto;line-height:normal;font-family:Menlo,'DejaVu Sans Mono',consolas,'Courier New',monospace\"><span style=\"color: #d2e3c8; text-decoration-color: #d2e3c8\">╭─ </span><span style=\"color: #d2e3c8; text-decoration-color: #d2e3c8; font-weight: bold\">Agent Info</span><span style=\"color: #d2e3c8; text-decoration-color: #d2e3c8\"> ────────────────────────────────────────────────────────────────────────────────────────────────────╮</span>\n",
              "<span style=\"color: #d2e3c8; text-decoration-color: #d2e3c8\">│</span>                                                                                                                 <span style=\"color: #d2e3c8; text-decoration-color: #d2e3c8\">│</span>\n",
              "<span style=\"color: #d2e3c8; text-decoration-color: #d2e3c8\">│</span>  <span style=\"color: #ff9b9b; text-decoration-color: #ff9b9b; font-weight: bold\">👤 Agent:</span> <span style=\"color: #ffe5e5; text-decoration-color: #ffe5e5\">Reviewer</span>                                                                                             <span style=\"color: #d2e3c8; text-decoration-color: #d2e3c8\">│</span>\n",
              "<span style=\"color: #d2e3c8; text-decoration-color: #d2e3c8\">│</span>  <span style=\"color: #b4b4b3; text-decoration-color: #b4b4b3; font-weight: bold\">Role:</span> <span style=\"color: #ffe5e5; text-decoration-color: #ffe5e5\">Research Reviewer</span>                                                                                        <span style=\"color: #d2e3c8; text-decoration-color: #d2e3c8\">│</span>\n",
              "<span style=\"color: #d2e3c8; text-decoration-color: #d2e3c8\">│</span>                                                                                                                 <span style=\"color: #d2e3c8; text-decoration-color: #d2e3c8\">│</span>\n",
              "<span style=\"color: #d2e3c8; text-decoration-color: #d2e3c8\">╰─────────────────────────────────────────────────────────────────────────────────────────────────────────────────╯</span>\n",
              "</pre>\n"
            ]
          },
          "metadata": {}
        },
        {
          "output_type": "display_data",
          "data": {
            "text/plain": [
              "Output()"
            ],
            "application/vnd.jupyter.widget-view+json": {
              "version_major": 2,
              "version_minor": 0,
              "model_id": "f01d9e978fe4469696dbb6828ced09dd"
            }
          },
          "metadata": {}
        },
        {
          "output_type": "display_data",
          "data": {
            "text/plain": [],
            "text/html": [
              "<pre style=\"white-space:pre;overflow-x:auto;line-height:normal;font-family:Menlo,'DejaVu Sans Mono',consolas,'Courier New',monospace\"></pre>\n"
            ]
          },
          "metadata": {}
        },
        {
          "output_type": "display_data",
          "data": {
            "text/plain": [
              "\n"
            ],
            "text/html": [
              "<pre style=\"white-space:pre;overflow-x:auto;line-height:normal;font-family:Menlo,'DejaVu Sans Mono',consolas,'Courier New',monospace\">\n",
              "</pre>\n"
            ]
          },
          "metadata": {}
        },
        {
          "output_type": "display_data",
          "data": {
            "text/plain": [
              "\u001b[2mResponse generated in 3.8s\u001b[0m\n"
            ],
            "text/html": [
              "<pre style=\"white-space:pre;overflow-x:auto;line-height:normal;font-family:Menlo,'DejaVu Sans Mono',consolas,'Courier New',monospace\"><span style=\"color: #7f7f7f; text-decoration-color: #7f7f7f\">Response generated in 3.8s</span>\n",
              "</pre>\n"
            ]
          },
          "metadata": {}
        },
        {
          "output_type": "display_data",
          "data": {
            "text/plain": [
              "\u001b[36m╭─\u001b[0m\u001b[36m────────────────────────────────────────────────────\u001b[0m\u001b[36m Task \u001b[0m\u001b[36m─────────────────────────────────────────────────────\u001b[0m\u001b[36m─╮\u001b[0m\n",
              "\u001b[36m│\u001b[0m You need to do the following task: Review and summarize findings. Expected Output: Complete the task            \u001b[36m│\u001b[0m\n",
              "\u001b[36m│\u001b[0m successfully.                                                                                                   \u001b[36m│\u001b[0m\n",
              "\u001b[36m│\u001b[0m                                                                                                                 \u001b[36m│\u001b[0m\n",
              "\u001b[36m│\u001b[0m Context:                                                                                                        \u001b[36m│\u001b[0m\n",
              "\u001b[36m│\u001b[0m                                                                                                                 \u001b[36m│\u001b[0m\n",
              "\u001b[36m│\u001b[0m Result of previous task Find papers on AI ethics:                                                               \u001b[36m│\u001b[0m\n",
              "\u001b[36m│\u001b[0m                                                                                                                 \u001b[36m│\u001b[0m\n",
              "\u001b[36m│\u001b[0m \u001b[1;33m 1 \u001b[0m\u001b[1mTitle\u001b[0m: Raising AI Ethics Awareness through an AI Ethics Quiz for Software Practitioners                      \u001b[36m│\u001b[0m\n",
              "\u001b[36m│\u001b[0m \u001b[1;33m   \u001b[0m\u001b[1mAuthors\u001b[0m: Aastha Pant, Rashina Hoda, Paul McIntosh                                                            \u001b[36m│\u001b[0m\n",
              "\u001b[36m│\u001b[0m \u001b[1;33m   \u001b[0m\u001b[1mPublished\u001b[0m: 2024-08-28                                                                                        \u001b[36m│\u001b[0m\n",
              "\u001b[36m│\u001b[0m \u001b[1;33m   \u001b[0m\u001b[1mSummary\u001b[0m: This paper discusses the development of an AI Ethics Quiz aimed at raising awareness and enhancing  \u001b[36m│\u001b[0m\n",
              "\u001b[36m│\u001b[0m \u001b[1;33m   \u001b[0mknowledge of AI ethics among software practitioners. The study involved interactive workshops and            \u001b[36m│\u001b[0m\n",
              "\u001b[36m│\u001b[0m \u001b[1;33m   \u001b[0mdemonstrated significant improvement in participants' understanding of AI ethics.                            \u001b[36m│\u001b[0m\n",
              "\u001b[36m│\u001b[0m \u001b[1;33m   \u001b[0m\u001b]8;id=80963;http://arxiv.org/pdf/2408.16796v2\u001b\\\u001b[4;34mPDF\u001b[0m\u001b]8;;\u001b\\ | \u001b]8;id=824008;https://arxiv.org/abs/2408.16796v2\u001b\\\u001b[4;34mAbstract\u001b[0m\u001b]8;;\u001b\\                                                                                               \u001b[36m│\u001b[0m\n",
              "\u001b[36m│\u001b[0m \u001b[1;33m 2 \u001b[0m\u001b[1mTitle\u001b[0m: Big data ethics, machine ethics or information ethics? Navigating the maze of applied ethics in IT    \u001b[36m│\u001b[0m\n",
              "\u001b[36m│\u001b[0m \u001b[1;33m   \u001b[0m\u001b[1mAuthors\u001b[0m: Niina Zuber, Severin Kacianka, Jan Gogoll                                                           \u001b[36m│\u001b[0m\n",
              "\u001b[36m│\u001b[0m \u001b[1;33m   \u001b[0m\u001b[1mPublished\u001b[0m: 2022-03-25                                                                                        \u001b[36m│\u001b[0m\n",
              "\u001b[36m│\u001b[0m \u001b[1;33m   \u001b[0m\u001b[1mSummary\u001b[0m: This paper provides an introduction to various branches of applied ethics, including AI ethics, and \u001b[36m│\u001b[0m\n",
              "\u001b[36m│\u001b[0m \u001b[1;33m   \u001b[0mdiscusses their relevance in the context of digital product development. It offers guidance for development  \u001b[36m│\u001b[0m\n",
              "\u001b[36m│\u001b[0m \u001b[1;33m   \u001b[0mteams on navigating these ethical considerations.                                                            \u001b[36m│\u001b[0m\n",
              "\u001b[36m│\u001b[0m \u001b[1;33m   \u001b[0m\u001b]8;id=177018;http://arxiv.org/pdf/2203.13494v1\u001b\\\u001b[4;34mPDF\u001b[0m\u001b]8;;\u001b\\ | \u001b]8;id=762852;https://arxiv.org/abs/2203.13494v1\u001b\\\u001b[4;34mAbstract\u001b[0m\u001b]8;;\u001b\\                                                                                               \u001b[36m│\u001b[0m\n",
              "\u001b[36m│\u001b[0m \u001b[1;33m 3 \u001b[0m\u001b[1mTitle\u001b[0m: E-LENS: User Requirements-Oriented AI Ethics Assurance                                                \u001b[36m│\u001b[0m\n",
              "\u001b[36m│\u001b[0m \u001b[1;33m   \u001b[0m\u001b[1mAuthors\u001b[0m: Jianlong Zhou, Fang Chen                                                                            \u001b[36m│\u001b[0m\n",
              "\u001b[36m│\u001b[0m \u001b[1;33m   \u001b[0m\u001b[1mPublished\u001b[0m: 2025-02-06                                                                                        \u001b[36m│\u001b[0m\n",
              "\u001b[36m│\u001b[0m \u001b[1;33m   \u001b[0m\u001b[1mSummary\u001b[0m: The paper introduces a user requirements-oriented approach to AI ethics assurance, proposing a      \u001b[36m│\u001b[0m\n",
              "\u001b[36m│\u001b[0m \u001b[1;33m   \u001b[0mplatform named Ethical-Lens (E-LENS) to implement this approach. It focuses on integrating user              \u001b[36m│\u001b[0m\n",
              "\u001b[36m│\u001b[0m \u001b[1;33m   \u001b[0mrequirements, evidence, and validation into AI ethics assurance cases.                                       \u001b[36m│\u001b[0m\n",
              "\u001b[36m│\u001b[0m \u001b[1;33m   \u001b[0m\u001b]8;id=808801;http://arxiv.org/pdf/2503.04747v1\u001b\\\u001b[4;34mPDF\u001b[0m\u001b]8;;\u001b\\ | \u001b]8;id=733367;https://arxiv.org/abs/2503.04747v1\u001b\\\u001b[4;34mAbstract\u001b[0m\u001b]8;;\u001b\\                                                                                               \u001b[36m│\u001b[0m\n",
              "\u001b[36m│\u001b[0m \u001b[1;33m 4 \u001b[0m\u001b[1mTitle\u001b[0m: A Bibliometric View of AI Ethics Development                                                          \u001b[36m│\u001b[0m\n",
              "\u001b[36m│\u001b[0m \u001b[1;33m   \u001b[0m\u001b[1mAuthors\u001b[0m: Di Kevin Gao, Andrew Haverly, Sudip Mittal, Jingdao Chen                                            \u001b[36m│\u001b[0m\n",
              "\u001b[36m│\u001b[0m \u001b[1;33m   \u001b[0m\u001b[1mPublished\u001b[0m: 2024-02-08                                                                                        \u001b[36m│\u001b[0m\n",
              "\u001b[36m│\u001b[0m \u001b[1;33m   \u001b[0m\u001b[1mSummary\u001b[0m: This study performs a bibliometric analysis of AI Ethics literature over the past 20 years,         \u001b[36m│\u001b[0m\n",
              "\u001b[36m│\u001b[0m \u001b[1;33m   \u001b[0mrevealing a three-phase development in AI Ethics and predicting future trends in the field.                  \u001b[36m│\u001b[0m\n",
              "\u001b[36m│\u001b[0m \u001b[1;33m   \u001b[0m\u001b]8;id=772913;http://arxiv.org/pdf/2403.05551v1\u001b\\\u001b[4;34mPDF\u001b[0m\u001b]8;;\u001b\\ | \u001b]8;id=695796;https://arxiv.org/abs/2403.05551v1\u001b\\\u001b[4;34mAbstract\u001b[0m\u001b]8;;\u001b\\                                                                                               \u001b[36m│\u001b[0m\n",
              "\u001b[36m│\u001b[0m \u001b[1;33m 5 \u001b[0m\u001b[1mTitle\u001b[0m: Three Kinds of AI Ethics                                                                              \u001b[36m│\u001b[0m\n",
              "\u001b[36m│\u001b[0m \u001b[1;33m   \u001b[0m\u001b[1mAuthors\u001b[0m: Emanuele Ratti                                                                                      \u001b[36m│\u001b[0m\n",
              "\u001b[36m│\u001b[0m \u001b[1;33m   \u001b[0m\u001b[1mPublished\u001b[0m: 2025-03-24                                                                                        \u001b[36m│\u001b[0m\n",
              "\u001b[36m│\u001b[0m \u001b[1;33m   \u001b[0m\u001b[1mSummary\u001b[0m: The paper characterizes AI ethics into three kinds: ethics and AI, ethics in AI, and ethics of AI.  \u001b[36m│\u001b[0m\n",
              "\u001b[36m│\u001b[0m \u001b[1;33m   \u001b[0mIt discusses the research questions and expertise required for each type, providing a framework for          \u001b[36m│\u001b[0m\n",
              "\u001b[36m│\u001b[0m \u001b[1;33m   \u001b[0munderstanding the multidisciplinary nature of AI ethics.                                                     \u001b[36m│\u001b[0m\n",
              "\u001b[36m│\u001b[0m \u001b[1;33m   \u001b[0m\u001b]8;id=766194;http://arxiv.org/pdf/2503.18842v2\u001b\\\u001b[4;34mPDF\u001b[0m\u001b]8;;\u001b\\ | \u001b]8;id=251831;https://arxiv.org/abs/2503.18842v2\u001b\\\u001b[4;34mAbstract\u001b[0m\u001b]8;;\u001b\\ Please provide only the final result of your work. Do not add any conversation or extra       \u001b[36m│\u001b[0m\n",
              "\u001b[36m│\u001b[0m \u001b[1;33m   \u001b[0mexplanation.                                                                                                 \u001b[36m│\u001b[0m\n",
              "\u001b[36m╰─────────────────────────────────────────────────────────────────────────────────────────────────────────────────╯\u001b[0m\n"
            ],
            "text/html": [
              "<pre style=\"white-space:pre;overflow-x:auto;line-height:normal;font-family:Menlo,'DejaVu Sans Mono',consolas,'Courier New',monospace\"><span style=\"color: #008080; text-decoration-color: #008080\">╭───────────────────────────────────────────────────── Task ──────────────────────────────────────────────────────╮</span>\n",
              "<span style=\"color: #008080; text-decoration-color: #008080\">│</span> You need to do the following task: Review and summarize findings. Expected Output: Complete the task            <span style=\"color: #008080; text-decoration-color: #008080\">│</span>\n",
              "<span style=\"color: #008080; text-decoration-color: #008080\">│</span> successfully.                                                                                                   <span style=\"color: #008080; text-decoration-color: #008080\">│</span>\n",
              "<span style=\"color: #008080; text-decoration-color: #008080\">│</span>                                                                                                                 <span style=\"color: #008080; text-decoration-color: #008080\">│</span>\n",
              "<span style=\"color: #008080; text-decoration-color: #008080\">│</span> Context:                                                                                                        <span style=\"color: #008080; text-decoration-color: #008080\">│</span>\n",
              "<span style=\"color: #008080; text-decoration-color: #008080\">│</span>                                                                                                                 <span style=\"color: #008080; text-decoration-color: #008080\">│</span>\n",
              "<span style=\"color: #008080; text-decoration-color: #008080\">│</span> Result of previous task Find papers on AI ethics:                                                               <span style=\"color: #008080; text-decoration-color: #008080\">│</span>\n",
              "<span style=\"color: #008080; text-decoration-color: #008080\">│</span>                                                                                                                 <span style=\"color: #008080; text-decoration-color: #008080\">│</span>\n",
              "<span style=\"color: #008080; text-decoration-color: #008080\">│</span> <span style=\"color: #808000; text-decoration-color: #808000; font-weight: bold\"> 1 </span><span style=\"font-weight: bold\">Title</span>: Raising AI Ethics Awareness through an AI Ethics Quiz for Software Practitioners                      <span style=\"color: #008080; text-decoration-color: #008080\">│</span>\n",
              "<span style=\"color: #008080; text-decoration-color: #008080\">│</span> <span style=\"color: #808000; text-decoration-color: #808000; font-weight: bold\">   </span><span style=\"font-weight: bold\">Authors</span>: Aastha Pant, Rashina Hoda, Paul McIntosh                                                            <span style=\"color: #008080; text-decoration-color: #008080\">│</span>\n",
              "<span style=\"color: #008080; text-decoration-color: #008080\">│</span> <span style=\"color: #808000; text-decoration-color: #808000; font-weight: bold\">   </span><span style=\"font-weight: bold\">Published</span>: 2024-08-28                                                                                        <span style=\"color: #008080; text-decoration-color: #008080\">│</span>\n",
              "<span style=\"color: #008080; text-decoration-color: #008080\">│</span> <span style=\"color: #808000; text-decoration-color: #808000; font-weight: bold\">   </span><span style=\"font-weight: bold\">Summary</span>: This paper discusses the development of an AI Ethics Quiz aimed at raising awareness and enhancing  <span style=\"color: #008080; text-decoration-color: #008080\">│</span>\n",
              "<span style=\"color: #008080; text-decoration-color: #008080\">│</span> <span style=\"color: #808000; text-decoration-color: #808000; font-weight: bold\">   </span>knowledge of AI ethics among software practitioners. The study involved interactive workshops and            <span style=\"color: #008080; text-decoration-color: #008080\">│</span>\n",
              "<span style=\"color: #008080; text-decoration-color: #008080\">│</span> <span style=\"color: #808000; text-decoration-color: #808000; font-weight: bold\">   </span>demonstrated significant improvement in participants' understanding of AI ethics.                            <span style=\"color: #008080; text-decoration-color: #008080\">│</span>\n",
              "<span style=\"color: #008080; text-decoration-color: #008080\">│</span> <span style=\"color: #808000; text-decoration-color: #808000; font-weight: bold\">   </span><a href=\"http://arxiv.org/pdf/2408.16796v2\" target=\"_blank\"><span style=\"color: #000080; text-decoration-color: #000080; text-decoration: underline\">PDF</span></a> | <a href=\"https://arxiv.org/abs/2408.16796v2\" target=\"_blank\"><span style=\"color: #000080; text-decoration-color: #000080; text-decoration: underline\">Abstract</span></a>                                                                                               <span style=\"color: #008080; text-decoration-color: #008080\">│</span>\n",
              "<span style=\"color: #008080; text-decoration-color: #008080\">│</span> <span style=\"color: #808000; text-decoration-color: #808000; font-weight: bold\"> 2 </span><span style=\"font-weight: bold\">Title</span>: Big data ethics, machine ethics or information ethics? Navigating the maze of applied ethics in IT    <span style=\"color: #008080; text-decoration-color: #008080\">│</span>\n",
              "<span style=\"color: #008080; text-decoration-color: #008080\">│</span> <span style=\"color: #808000; text-decoration-color: #808000; font-weight: bold\">   </span><span style=\"font-weight: bold\">Authors</span>: Niina Zuber, Severin Kacianka, Jan Gogoll                                                           <span style=\"color: #008080; text-decoration-color: #008080\">│</span>\n",
              "<span style=\"color: #008080; text-decoration-color: #008080\">│</span> <span style=\"color: #808000; text-decoration-color: #808000; font-weight: bold\">   </span><span style=\"font-weight: bold\">Published</span>: 2022-03-25                                                                                        <span style=\"color: #008080; text-decoration-color: #008080\">│</span>\n",
              "<span style=\"color: #008080; text-decoration-color: #008080\">│</span> <span style=\"color: #808000; text-decoration-color: #808000; font-weight: bold\">   </span><span style=\"font-weight: bold\">Summary</span>: This paper provides an introduction to various branches of applied ethics, including AI ethics, and <span style=\"color: #008080; text-decoration-color: #008080\">│</span>\n",
              "<span style=\"color: #008080; text-decoration-color: #008080\">│</span> <span style=\"color: #808000; text-decoration-color: #808000; font-weight: bold\">   </span>discusses their relevance in the context of digital product development. It offers guidance for development  <span style=\"color: #008080; text-decoration-color: #008080\">│</span>\n",
              "<span style=\"color: #008080; text-decoration-color: #008080\">│</span> <span style=\"color: #808000; text-decoration-color: #808000; font-weight: bold\">   </span>teams on navigating these ethical considerations.                                                            <span style=\"color: #008080; text-decoration-color: #008080\">│</span>\n",
              "<span style=\"color: #008080; text-decoration-color: #008080\">│</span> <span style=\"color: #808000; text-decoration-color: #808000; font-weight: bold\">   </span><a href=\"http://arxiv.org/pdf/2203.13494v1\" target=\"_blank\"><span style=\"color: #000080; text-decoration-color: #000080; text-decoration: underline\">PDF</span></a> | <a href=\"https://arxiv.org/abs/2203.13494v1\" target=\"_blank\"><span style=\"color: #000080; text-decoration-color: #000080; text-decoration: underline\">Abstract</span></a>                                                                                               <span style=\"color: #008080; text-decoration-color: #008080\">│</span>\n",
              "<span style=\"color: #008080; text-decoration-color: #008080\">│</span> <span style=\"color: #808000; text-decoration-color: #808000; font-weight: bold\"> 3 </span><span style=\"font-weight: bold\">Title</span>: E-LENS: User Requirements-Oriented AI Ethics Assurance                                                <span style=\"color: #008080; text-decoration-color: #008080\">│</span>\n",
              "<span style=\"color: #008080; text-decoration-color: #008080\">│</span> <span style=\"color: #808000; text-decoration-color: #808000; font-weight: bold\">   </span><span style=\"font-weight: bold\">Authors</span>: Jianlong Zhou, Fang Chen                                                                            <span style=\"color: #008080; text-decoration-color: #008080\">│</span>\n",
              "<span style=\"color: #008080; text-decoration-color: #008080\">│</span> <span style=\"color: #808000; text-decoration-color: #808000; font-weight: bold\">   </span><span style=\"font-weight: bold\">Published</span>: 2025-02-06                                                                                        <span style=\"color: #008080; text-decoration-color: #008080\">│</span>\n",
              "<span style=\"color: #008080; text-decoration-color: #008080\">│</span> <span style=\"color: #808000; text-decoration-color: #808000; font-weight: bold\">   </span><span style=\"font-weight: bold\">Summary</span>: The paper introduces a user requirements-oriented approach to AI ethics assurance, proposing a      <span style=\"color: #008080; text-decoration-color: #008080\">│</span>\n",
              "<span style=\"color: #008080; text-decoration-color: #008080\">│</span> <span style=\"color: #808000; text-decoration-color: #808000; font-weight: bold\">   </span>platform named Ethical-Lens (E-LENS) to implement this approach. It focuses on integrating user              <span style=\"color: #008080; text-decoration-color: #008080\">│</span>\n",
              "<span style=\"color: #008080; text-decoration-color: #008080\">│</span> <span style=\"color: #808000; text-decoration-color: #808000; font-weight: bold\">   </span>requirements, evidence, and validation into AI ethics assurance cases.                                       <span style=\"color: #008080; text-decoration-color: #008080\">│</span>\n",
              "<span style=\"color: #008080; text-decoration-color: #008080\">│</span> <span style=\"color: #808000; text-decoration-color: #808000; font-weight: bold\">   </span><a href=\"http://arxiv.org/pdf/2503.04747v1\" target=\"_blank\"><span style=\"color: #000080; text-decoration-color: #000080; text-decoration: underline\">PDF</span></a> | <a href=\"https://arxiv.org/abs/2503.04747v1\" target=\"_blank\"><span style=\"color: #000080; text-decoration-color: #000080; text-decoration: underline\">Abstract</span></a>                                                                                               <span style=\"color: #008080; text-decoration-color: #008080\">│</span>\n",
              "<span style=\"color: #008080; text-decoration-color: #008080\">│</span> <span style=\"color: #808000; text-decoration-color: #808000; font-weight: bold\"> 4 </span><span style=\"font-weight: bold\">Title</span>: A Bibliometric View of AI Ethics Development                                                          <span style=\"color: #008080; text-decoration-color: #008080\">│</span>\n",
              "<span style=\"color: #008080; text-decoration-color: #008080\">│</span> <span style=\"color: #808000; text-decoration-color: #808000; font-weight: bold\">   </span><span style=\"font-weight: bold\">Authors</span>: Di Kevin Gao, Andrew Haverly, Sudip Mittal, Jingdao Chen                                            <span style=\"color: #008080; text-decoration-color: #008080\">│</span>\n",
              "<span style=\"color: #008080; text-decoration-color: #008080\">│</span> <span style=\"color: #808000; text-decoration-color: #808000; font-weight: bold\">   </span><span style=\"font-weight: bold\">Published</span>: 2024-02-08                                                                                        <span style=\"color: #008080; text-decoration-color: #008080\">│</span>\n",
              "<span style=\"color: #008080; text-decoration-color: #008080\">│</span> <span style=\"color: #808000; text-decoration-color: #808000; font-weight: bold\">   </span><span style=\"font-weight: bold\">Summary</span>: This study performs a bibliometric analysis of AI Ethics literature over the past 20 years,         <span style=\"color: #008080; text-decoration-color: #008080\">│</span>\n",
              "<span style=\"color: #008080; text-decoration-color: #008080\">│</span> <span style=\"color: #808000; text-decoration-color: #808000; font-weight: bold\">   </span>revealing a three-phase development in AI Ethics and predicting future trends in the field.                  <span style=\"color: #008080; text-decoration-color: #008080\">│</span>\n",
              "<span style=\"color: #008080; text-decoration-color: #008080\">│</span> <span style=\"color: #808000; text-decoration-color: #808000; font-weight: bold\">   </span><a href=\"http://arxiv.org/pdf/2403.05551v1\" target=\"_blank\"><span style=\"color: #000080; text-decoration-color: #000080; text-decoration: underline\">PDF</span></a> | <a href=\"https://arxiv.org/abs/2403.05551v1\" target=\"_blank\"><span style=\"color: #000080; text-decoration-color: #000080; text-decoration: underline\">Abstract</span></a>                                                                                               <span style=\"color: #008080; text-decoration-color: #008080\">│</span>\n",
              "<span style=\"color: #008080; text-decoration-color: #008080\">│</span> <span style=\"color: #808000; text-decoration-color: #808000; font-weight: bold\"> 5 </span><span style=\"font-weight: bold\">Title</span>: Three Kinds of AI Ethics                                                                              <span style=\"color: #008080; text-decoration-color: #008080\">│</span>\n",
              "<span style=\"color: #008080; text-decoration-color: #008080\">│</span> <span style=\"color: #808000; text-decoration-color: #808000; font-weight: bold\">   </span><span style=\"font-weight: bold\">Authors</span>: Emanuele Ratti                                                                                      <span style=\"color: #008080; text-decoration-color: #008080\">│</span>\n",
              "<span style=\"color: #008080; text-decoration-color: #008080\">│</span> <span style=\"color: #808000; text-decoration-color: #808000; font-weight: bold\">   </span><span style=\"font-weight: bold\">Published</span>: 2025-03-24                                                                                        <span style=\"color: #008080; text-decoration-color: #008080\">│</span>\n",
              "<span style=\"color: #008080; text-decoration-color: #008080\">│</span> <span style=\"color: #808000; text-decoration-color: #808000; font-weight: bold\">   </span><span style=\"font-weight: bold\">Summary</span>: The paper characterizes AI ethics into three kinds: ethics and AI, ethics in AI, and ethics of AI.  <span style=\"color: #008080; text-decoration-color: #008080\">│</span>\n",
              "<span style=\"color: #008080; text-decoration-color: #008080\">│</span> <span style=\"color: #808000; text-decoration-color: #808000; font-weight: bold\">   </span>It discusses the research questions and expertise required for each type, providing a framework for          <span style=\"color: #008080; text-decoration-color: #008080\">│</span>\n",
              "<span style=\"color: #008080; text-decoration-color: #008080\">│</span> <span style=\"color: #808000; text-decoration-color: #808000; font-weight: bold\">   </span>understanding the multidisciplinary nature of AI ethics.                                                     <span style=\"color: #008080; text-decoration-color: #008080\">│</span>\n",
              "<span style=\"color: #008080; text-decoration-color: #008080\">│</span> <span style=\"color: #808000; text-decoration-color: #808000; font-weight: bold\">   </span><a href=\"http://arxiv.org/pdf/2503.18842v2\" target=\"_blank\"><span style=\"color: #000080; text-decoration-color: #000080; text-decoration: underline\">PDF</span></a> | <a href=\"https://arxiv.org/abs/2503.18842v2\" target=\"_blank\"><span style=\"color: #000080; text-decoration-color: #000080; text-decoration: underline\">Abstract</span></a> Please provide only the final result of your work. Do not add any conversation or extra       <span style=\"color: #008080; text-decoration-color: #008080\">│</span>\n",
              "<span style=\"color: #008080; text-decoration-color: #008080\">│</span> <span style=\"color: #808000; text-decoration-color: #808000; font-weight: bold\">   </span>explanation.                                                                                                 <span style=\"color: #008080; text-decoration-color: #008080\">│</span>\n",
              "<span style=\"color: #008080; text-decoration-color: #008080\">╰─────────────────────────────────────────────────────────────────────────────────────────────────────────────────╯</span>\n",
              "</pre>\n"
            ]
          },
          "metadata": {}
        },
        {
          "output_type": "display_data",
          "data": {
            "text/plain": [
              "\u001b[36m╭─\u001b[0m\u001b[36m──────────────────────────────────────────────────\u001b[0m\u001b[36m Response \u001b[0m\u001b[36m───────────────────────────────────────────────────\u001b[0m\u001b[36m─╮\u001b[0m\n",
              "\u001b[36m│\u001b[0m The reviewed papers on AI ethics provide a comprehensive overview of current research and approaches in the     \u001b[36m│\u001b[0m\n",
              "\u001b[36m│\u001b[0m field:                                                                                                          \u001b[36m│\u001b[0m\n",
              "\u001b[36m│\u001b[0m                                                                                                                 \u001b[36m│\u001b[0m\n",
              "\u001b[36m│\u001b[0m \u001b[1;33m 1 \u001b[0m\u001b[1mRaising AI Ethics Awareness\u001b[0m: This paper highlights the effectiveness of an AI Ethics Quiz in improving       \u001b[36m│\u001b[0m\n",
              "\u001b[36m│\u001b[0m \u001b[1;33m   \u001b[0msoftware practitioners' understanding of AI ethics through interactive workshops.                            \u001b[36m│\u001b[0m\n",
              "\u001b[36m│\u001b[0m \u001b[1;33m 2 \u001b[0m\u001b[1mNavigating Applied Ethics in IT\u001b[0m: It introduces various branches of applied ethics, including AI ethics,      \u001b[36m│\u001b[0m\n",
              "\u001b[36m│\u001b[0m \u001b[1;33m   \u001b[0moffering guidance for development teams to address ethical considerations in digital product development.    \u001b[36m│\u001b[0m\n",
              "\u001b[36m│\u001b[0m \u001b[1;33m 3 \u001b[0m\u001b[1mE-LENS: AI Ethics Assurance\u001b[0m: Proposes a user requirements-oriented approach to AI ethics assurance through   \u001b[36m│\u001b[0m\n",
              "\u001b[36m│\u001b[0m \u001b[1;33m   \u001b[0mthe Ethical-Lens platform, integrating user requirements, evidence, and validation into ethics assurance     \u001b[36m│\u001b[0m\n",
              "\u001b[36m│\u001b[0m \u001b[1;33m   \u001b[0mcases.                                                                                                       \u001b[36m│\u001b[0m\n",
              "\u001b[36m│\u001b[0m \u001b[1;33m 4 \u001b[0m\u001b[1mBibliometric Analysis of AI Ethics\u001b[0m: Provides a bibliometric analysis of AI ethics literature over 20 years,  \u001b[36m│\u001b[0m\n",
              "\u001b[36m│\u001b[0m \u001b[1;33m   \u001b[0midentifying a three-phase development and predicting future trends.                                          \u001b[36m│\u001b[0m\n",
              "\u001b[36m│\u001b[0m \u001b[1;33m 5 \u001b[0m\u001b[1mThree Kinds of AI Ethics\u001b[0m: Characterizes AI ethics into three categories: ethics and AI, ethics in AI, and    \u001b[36m│\u001b[0m\n",
              "\u001b[36m│\u001b[0m \u001b[1;33m   \u001b[0methics of AI, offering a framework for understanding the multidisciplinary nature of AI ethics.              \u001b[36m│\u001b[0m\n",
              "\u001b[36m│\u001b[0m                                                                                                                 \u001b[36m│\u001b[0m\n",
              "\u001b[36m│\u001b[0m These papers collectively contribute to the understanding and implementation of AI ethics, offering tools,      \u001b[36m│\u001b[0m\n",
              "\u001b[36m│\u001b[0m frameworks, and analyses to navigate ethical challenges in AI development and application.                      \u001b[36m│\u001b[0m\n",
              "\u001b[36m╰─────────────────────────────────────────────────────────────────────────────────────────────────────────────────╯\u001b[0m\n"
            ],
            "text/html": [
              "<pre style=\"white-space:pre;overflow-x:auto;line-height:normal;font-family:Menlo,'DejaVu Sans Mono',consolas,'Courier New',monospace\"><span style=\"color: #008080; text-decoration-color: #008080\">╭─────────────────────────────────────────────────── Response ────────────────────────────────────────────────────╮</span>\n",
              "<span style=\"color: #008080; text-decoration-color: #008080\">│</span> The reviewed papers on AI ethics provide a comprehensive overview of current research and approaches in the     <span style=\"color: #008080; text-decoration-color: #008080\">│</span>\n",
              "<span style=\"color: #008080; text-decoration-color: #008080\">│</span> field:                                                                                                          <span style=\"color: #008080; text-decoration-color: #008080\">│</span>\n",
              "<span style=\"color: #008080; text-decoration-color: #008080\">│</span>                                                                                                                 <span style=\"color: #008080; text-decoration-color: #008080\">│</span>\n",
              "<span style=\"color: #008080; text-decoration-color: #008080\">│</span> <span style=\"color: #808000; text-decoration-color: #808000; font-weight: bold\"> 1 </span><span style=\"font-weight: bold\">Raising AI Ethics Awareness</span>: This paper highlights the effectiveness of an AI Ethics Quiz in improving       <span style=\"color: #008080; text-decoration-color: #008080\">│</span>\n",
              "<span style=\"color: #008080; text-decoration-color: #008080\">│</span> <span style=\"color: #808000; text-decoration-color: #808000; font-weight: bold\">   </span>software practitioners' understanding of AI ethics through interactive workshops.                            <span style=\"color: #008080; text-decoration-color: #008080\">│</span>\n",
              "<span style=\"color: #008080; text-decoration-color: #008080\">│</span> <span style=\"color: #808000; text-decoration-color: #808000; font-weight: bold\"> 2 </span><span style=\"font-weight: bold\">Navigating Applied Ethics in IT</span>: It introduces various branches of applied ethics, including AI ethics,      <span style=\"color: #008080; text-decoration-color: #008080\">│</span>\n",
              "<span style=\"color: #008080; text-decoration-color: #008080\">│</span> <span style=\"color: #808000; text-decoration-color: #808000; font-weight: bold\">   </span>offering guidance for development teams to address ethical considerations in digital product development.    <span style=\"color: #008080; text-decoration-color: #008080\">│</span>\n",
              "<span style=\"color: #008080; text-decoration-color: #008080\">│</span> <span style=\"color: #808000; text-decoration-color: #808000; font-weight: bold\"> 3 </span><span style=\"font-weight: bold\">E-LENS: AI Ethics Assurance</span>: Proposes a user requirements-oriented approach to AI ethics assurance through   <span style=\"color: #008080; text-decoration-color: #008080\">│</span>\n",
              "<span style=\"color: #008080; text-decoration-color: #008080\">│</span> <span style=\"color: #808000; text-decoration-color: #808000; font-weight: bold\">   </span>the Ethical-Lens platform, integrating user requirements, evidence, and validation into ethics assurance     <span style=\"color: #008080; text-decoration-color: #008080\">│</span>\n",
              "<span style=\"color: #008080; text-decoration-color: #008080\">│</span> <span style=\"color: #808000; text-decoration-color: #808000; font-weight: bold\">   </span>cases.                                                                                                       <span style=\"color: #008080; text-decoration-color: #008080\">│</span>\n",
              "<span style=\"color: #008080; text-decoration-color: #008080\">│</span> <span style=\"color: #808000; text-decoration-color: #808000; font-weight: bold\"> 4 </span><span style=\"font-weight: bold\">Bibliometric Analysis of AI Ethics</span>: Provides a bibliometric analysis of AI ethics literature over 20 years,  <span style=\"color: #008080; text-decoration-color: #008080\">│</span>\n",
              "<span style=\"color: #008080; text-decoration-color: #008080\">│</span> <span style=\"color: #808000; text-decoration-color: #808000; font-weight: bold\">   </span>identifying a three-phase development and predicting future trends.                                          <span style=\"color: #008080; text-decoration-color: #008080\">│</span>\n",
              "<span style=\"color: #008080; text-decoration-color: #008080\">│</span> <span style=\"color: #808000; text-decoration-color: #808000; font-weight: bold\"> 5 </span><span style=\"font-weight: bold\">Three Kinds of AI Ethics</span>: Characterizes AI ethics into three categories: ethics and AI, ethics in AI, and    <span style=\"color: #008080; text-decoration-color: #008080\">│</span>\n",
              "<span style=\"color: #008080; text-decoration-color: #008080\">│</span> <span style=\"color: #808000; text-decoration-color: #808000; font-weight: bold\">   </span>ethics of AI, offering a framework for understanding the multidisciplinary nature of AI ethics.              <span style=\"color: #008080; text-decoration-color: #008080\">│</span>\n",
              "<span style=\"color: #008080; text-decoration-color: #008080\">│</span>                                                                                                                 <span style=\"color: #008080; text-decoration-color: #008080\">│</span>\n",
              "<span style=\"color: #008080; text-decoration-color: #008080\">│</span> These papers collectively contribute to the understanding and implementation of AI ethics, offering tools,      <span style=\"color: #008080; text-decoration-color: #008080\">│</span>\n",
              "<span style=\"color: #008080; text-decoration-color: #008080\">│</span> frameworks, and analyses to navigate ethical challenges in AI development and application.                      <span style=\"color: #008080; text-decoration-color: #008080\">│</span>\n",
              "<span style=\"color: #008080; text-decoration-color: #008080\">╰─────────────────────────────────────────────────────────────────────────────────────────────────────────────────╯</span>\n",
              "</pre>\n"
            ]
          },
          "metadata": {}
        },
        {
          "output_type": "execute_result",
          "data": {
            "text/plain": [
              "\"The reviewed papers on AI ethics provide a comprehensive overview of current research and approaches in the field:\\n\\n1. **Raising AI Ethics Awareness**: This paper highlights the effectiveness of an AI Ethics Quiz in improving software practitioners' understanding of AI ethics through interactive workshops.\\n\\n2. **Navigating Applied Ethics in IT**: It introduces various branches of applied ethics, including AI ethics, offering guidance for development teams to address ethical considerations in digital product development.\\n\\n3. **E-LENS: AI Ethics Assurance**: Proposes a user requirements-oriented approach to AI ethics assurance through the Ethical-Lens platform, integrating user requirements, evidence, and validation into ethics assurance cases.\\n\\n4. **Bibliometric Analysis of AI Ethics**: Provides a bibliometric analysis of AI ethics literature over 20 years, identifying a three-phase development and predicting future trends.\\n\\n5. **Three Kinds of AI Ethics**: Characterizes AI ethics into three categories: ethics and AI, ethics in AI, and ethics of AI, offering a framework for understanding the multidisciplinary nature of AI ethics.\\n\\nThese papers collectively contribute to the understanding and implementation of AI ethics, offering tools, frameworks, and analyses to navigate ethical challenges in AI development and application.\""
            ],
            "application/vnd.google.colaboratory.intrinsic+json": {
              "type": "string"
            }
          },
          "metadata": {},
          "execution_count": 13
        }
      ],
      "source": [
        "searcher = Agent(\n",
        "    name=\"Searcher\",\n",
        "    role=\"Literature Specialist\",\n",
        "    tools=[search_arxiv, get_arxiv_paper, get_papers_by_author, get_papers_by_category]\n",
        ")\n",
        "\n",
        "reviewer = Agent(\n",
        "    name=\"Reviewer\",\n",
        "    role=\"Research Reviewer\"\n",
        ")\n",
        "\n",
        "search_task = Task(\n",
        "    description=\"Find papers on AI ethics\",\n",
        "    agent=searcher\n",
        ")\n",
        "\n",
        "review_task = Task(\n",
        "    description=\"Review and summarize findings\",\n",
        "    agent=reviewer\n",
        ")\n",
        "\n",
        "agents = PraisonAIAgents(\n",
        "    agents=[searcher, reviewer],\n",
        "    tasks=[search_task, review_task],\n",
        "    process=\"sequential\"\n",
        ")\n",
        "agents.start()"
      ]
    },
    {
      "cell_type": "code",
      "source": [],
      "metadata": {
        "colab": {
          "base_uri": "https://localhost:8080/"
        },
        "id": "ZMCQhgfA6GeK",
        "outputId": "d9ee7a81-6455-40b7-8632-54fce4b5c83e"
      },
      "id": "ZMCQhgfA6GeK",
      "execution_count": 17,
      "outputs": [
        {
          "output_type": "stream",
          "name": "stdout",
          "text": [
            "/content/PraisonAI\n"
          ]
        }
      ]
    }
  ],
  "metadata": {
    "language": "python",
    "colab": {
      "provenance": []
    },
    "language_info": {
      "name": "python"
    },
    "kernelspec": {
      "name": "python3",
      "display_name": "Python 3"
    },
    "widgets": {
      "application/vnd.jupyter.widget-state+json": {
        "d3f2fead27b341c5805a954bf819f41d": {
          "model_module": "@jupyter-widgets/output",
          "model_name": "OutputModel",
          "model_module_version": "1.0.0",
          "state": {
            "_dom_classes": [],
            "_model_module": "@jupyter-widgets/output",
            "_model_module_version": "1.0.0",
            "_model_name": "OutputModel",
            "_view_count": null,
            "_view_module": "@jupyter-widgets/output",
            "_view_module_version": "1.0.0",
            "_view_name": "OutputView",
            "layout": "IPY_MODEL_85eed98838304a3195c2ae747be43233",
            "msg_id": "",
            "outputs": [
              {
                "output_type": "display_data",
                "data": {
                  "text/plain": "\n",
                  "text/html": "<pre style=\"white-space:pre;overflow-x:auto;line-height:normal;font-family:Menlo,'DejaVu Sans Mono',consolas,'Courier New',monospace\">\n</pre>\n"
                },
                "metadata": {}
              }
            ]
          }
        },
        "85eed98838304a3195c2ae747be43233": {
          "model_module": "@jupyter-widgets/base",
          "model_name": "LayoutModel",
          "model_module_version": "1.2.0",
          "state": {
            "_model_module": "@jupyter-widgets/base",
            "_model_module_version": "1.2.0",
            "_model_name": "LayoutModel",
            "_view_count": null,
            "_view_module": "@jupyter-widgets/base",
            "_view_module_version": "1.2.0",
            "_view_name": "LayoutView",
            "align_content": null,
            "align_items": null,
            "align_self": null,
            "border": null,
            "bottom": null,
            "display": null,
            "flex": null,
            "flex_flow": null,
            "grid_area": null,
            "grid_auto_columns": null,
            "grid_auto_flow": null,
            "grid_auto_rows": null,
            "grid_column": null,
            "grid_gap": null,
            "grid_row": null,
            "grid_template_areas": null,
            "grid_template_columns": null,
            "grid_template_rows": null,
            "height": null,
            "justify_content": null,
            "justify_items": null,
            "left": null,
            "margin": null,
            "max_height": null,
            "max_width": null,
            "min_height": null,
            "min_width": null,
            "object_fit": null,
            "object_position": null,
            "order": null,
            "overflow": null,
            "overflow_x": null,
            "overflow_y": null,
            "padding": null,
            "right": null,
            "top": null,
            "visibility": null,
            "width": null
          }
        },
        "d700349d5de34b289623630b29fe8e37": {
          "model_module": "@jupyter-widgets/output",
          "model_name": "OutputModel",
          "model_module_version": "1.0.0",
          "state": {
            "_dom_classes": [],
            "_model_module": "@jupyter-widgets/output",
            "_model_module_version": "1.0.0",
            "_model_name": "OutputModel",
            "_view_count": null,
            "_view_module": "@jupyter-widgets/output",
            "_view_module_version": "1.0.0",
            "_view_name": "OutputView",
            "layout": "IPY_MODEL_4947fadcfa0c4e2ea26f9b5ec2495557",
            "msg_id": "",
            "outputs": [
              {
                "output_type": "display_data",
                "data": {
                  "text/plain": "\u001b[32m╭─\u001b[0m\u001b[32m─────────────────────────────────────────────\u001b[0m\u001b[32m Generating... 18.3s \u001b[0m\u001b[32m─────────────────────────────────────────────\u001b[0m\u001b[32m─╮\u001b[0m\n\u001b[32m│\u001b[0m Here are some recent papers on \"transformer models in NLP\" from the last year:                                  \u001b[32m│\u001b[0m\n\u001b[32m│\u001b[0m                                                                                                                 \u001b[32m│\u001b[0m\n\u001b[32m│\u001b[0m \u001b[1;33m 1 \u001b[0m\u001b[1mTitle:\u001b[0m Open CaptchaWorld: A Comprehensive Web-based Platform for Testing and Benchmarking Multimodal LLM     \u001b[32m│\u001b[0m\n\u001b[32m│\u001b[0m \u001b[1;33m   \u001b[0mAgents                                                                                                       \u001b[32m│\u001b[0m\n\u001b[32m│\u001b[0m \u001b[1;33m   \u001b[0m\u001b[1;33m • \u001b[0m\u001b[1mAuthors:\u001b[0m Yaxin Luo, Zhaoyi Li, Jiacheng Liu, Jiacheng Cui, Xiaohan Zhao, Zhiqiang Shen                    \u001b[32m│\u001b[0m\n\u001b[32m│\u001b[0m \u001b[1;33m   \u001b[0m\u001b[1;33m • \u001b[0m\u001b[1mAbstract:\u001b[0m This paper introduces Open CaptchaWorld, a platform designed to evaluate the visual reasoning   \u001b[32m│\u001b[0m\n\u001b[32m│\u001b[0m \u001b[1;33m   \u001b[0m\u001b[1;33m   \u001b[0mand interaction capabilities of multimodal LLM agents through CAPTCHA puzzles. The benchmark includes 20  \u001b[32m│\u001b[0m\n\u001b[32m│\u001b[0m \u001b[1;33m   \u001b[0m\u001b[1;33m   \u001b[0mmodern CAPTCHA types and highlights the challenges faced by current multimodal agents.                    \u001b[32m│\u001b[0m\n\u001b[32m│\u001b[0m \u001b[1;33m   \u001b[0m\u001b[1;33m • \u001b[0m\u001b[1mKey Findings:\u001b[0m Humans achieve near-perfect scores on CAPTCHAs, while state-of-the-art MLLM agents struggle \u001b[32m│\u001b[0m\n\u001b[32m│\u001b[0m \u001b[1;33m   \u001b[0m\u001b[1;33m   \u001b[0msignificantly, with success rates far below human-level performance.                                      \u001b[32m│\u001b[0m\n\u001b[32m│\u001b[0m \u001b[1;33m   \u001b[0m\u001b[1;33m • \u001b[0m\u001b]8;id=381606;http://arxiv.org/pdf/2505.24878v1\u001b\\\u001b[4;34mPDF\u001b[0m\u001b]8;;\u001b\\ | \u001b]8;id=265120;https://arxiv.org/abs/2505.24878v1\u001b\\\u001b[4;34mAbstract\u001b[0m\u001b]8;;\u001b\\                                                                                            \u001b[32m│\u001b[0m\n\u001b[32m│\u001b[0m \u001b[1;33m 2 \u001b[0m\u001b[1mTitle:\u001b[0m AdaHuman: Animatable Detailed 3D Human Generation with Compositional Multiview Diffusion              \u001b[32m│\u001b[0m\n\u001b[32m│\u001b[0m \u001b[1;33m   \u001b[0m\u001b[1;33m • \u001b[0m\u001b[1mAuthors:\u001b[0m Yangyi Huang, Ye Yuan, Xueting Li, Jan Kautz, Umar Iqbal                                         \u001b[32m│\u001b[0m\n\u001b[32m│\u001b[0m \u001b[1;33m   \u001b[0m\u001b[1;33m • \u001b[0m\u001b[1mAbstract:\u001b[0m AdaHuman is a framework for generating high-fidelity animatable 3D avatars from a single image. \u001b[32m│\u001b[0m\n\u001b[32m│\u001b[0m \u001b[1;33m   \u001b[0m\u001b[1;33m   \u001b[0mIt uses a pose-conditioned 3D joint diffusion model and a compositional 3DGS refinement module to enhance \u001b[32m│\u001b[0m\n\u001b[32m│\u001b[0m \u001b[1;33m   \u001b[0m\u001b[1;33m   \u001b[0mavatar details.                                                                                           \u001b[32m│\u001b[0m\n\u001b[32m│\u001b[0m \u001b[1;33m   \u001b[0m\u001b[1;33m • \u001b[0m\u001b[1mKey Findings:\u001b[0m AdaHuman significantly outperforms state-of-the-art methods in avatar reconstruction and    \u001b[32m│\u001b[0m\n\u001b[32m│\u001b[0m \u001b[1;33m   \u001b[0m\u001b[1;33m   \u001b[0mreposing.                                                                                                 \u001b[32m│\u001b[0m\n\u001b[32m│\u001b[0m \u001b[1;33m   \u001b[0m\u001b[1;33m • \u001b[0m\u001b]8;id=63320;http://arxiv.org/pdf/2505.24877v1\u001b\\\u001b[4;34mPDF\u001b[0m\u001b]8;;\u001b\\ | \u001b]8;id=2253;https://arxiv.org/abs/2505.24877v1\u001b\\\u001b[4;34mAbstract\u001b[0m\u001b]8;;\u001b\\                                                                                            \u001b[32m│\u001b[0m\n\u001b[32m│\u001b[0m \u001b[1;33m 3 \u001b[0m\u001b[1mTitle:\u001b[0m Agent-X: Evaluating Deep Multimodal Reasoning in Vision-Centric Agentic Tasks                         \u001b[32m│\u001b[0m\n\u001b[32m│\u001b[0m \u001b[1;33m   \u001b[0m\u001b[1;33m • \u001b[0m\u001b[1mAuthors:\u001b[0m Tajamul Ashraf, Amal Saqib, Hanan Ghani, Muhra AlMahri, Yuhao Li, Noor Ahsan, Umair Nawaz, Jean  \u001b[32m│\u001b[0m\n\u001b[32m│\u001b[0m \u001b[1;33m   \u001b[0m\u001b[1;33m   \u001b[0mLahoud, Hisham Cholakkal, Mubarak Shah, Philip Torr, Fahad Shahbaz Khan, Rao Muhammad Anwer, Salman Khan  \u001b[32m│\u001b[0m\n\u001b[32m│\u001b[0m \u001b[1;33m   \u001b[0m\u001b[1;33m • \u001b[0m\u001b[1mAbstract:\u001b[0m Agent-X is a benchmark for evaluating vision-centric agents' reasoning capabilities in          \u001b[32m│\u001b[0m\n\u001b[32m│\u001b[0m \u001b[1;33m   \u001b[0m\u001b[1;33m   \u001b[0mreal-world, multimodal settings. It features 828 tasks across various environments, requiring agents to   \u001b[32m│\u001b[0m\n\u001b[32m│\u001b[0m \u001b[1;33m   \u001b[0m\u001b[1;33m   \u001b[0mintegrate tool use with decision-making.                                                                  \u001b[32m│\u001b[0m\n\u001b[32m│\u001b[0m \u001b[1;33m   \u001b[0m\u001b[1;33m • \u001b[0m\u001b[1mKey Findings:\u001b[0m Current models, including GPT and Gemini, struggle with multi-step vision tasks, achieving  \u001b[32m│\u001b[0m\n\u001b[32m│\u001b[0m \u001b[1;33m   \u001b[0m\u001b[1;33m   \u001b[0mless than 50% success.                                                                                    \u001b[32m│\u001b[0m\n\u001b[32m│\u001b[0m \u001b[1;33m   \u001b[0m\u001b[1;33m • \u001b[0m\u001b]8;id=869824;http://arxiv.org/pdf/2505.24876v1\u001b\\\u001b[4;34mPDF\u001b[0m\u001b]8;;\u001b\\ | \u001b]8;id=517100;https://arxiv.org/abs/2505.24876v1\u001b\\\u001b[4;34mAbstract\u001b[0m\u001b]8;;\u001b\\                                                                                            \u001b[32m│\u001b[0m\n\u001b[32m│\u001b[0m \u001b[1;33m 4 \u001b[0m\u001b[1mTitle:\u001b[0m ReasonGen-R1: CoT for Autoregressive Image generation models through SFT and RL                       \u001b[32m│\u001b[0m\n\u001b[32m│\u001b[0m \u001b[1;33m   \u001b[0m\u001b[1;33m • \u001b[0m\u001b[1mAuthors:\u001b[0m Yu Zhang, Yunqi Li, Yifan Yang, Rui Wang, Yuqing Yang, Dai Qi, Jianmin Bao, Dongdong Chen, Chong \u001b[32m│\u001b[0m\n\u001b[32m│\u001b[0m \u001b[1;33m   \u001b[0m\u001b[1;33m   \u001b[0mLuo, Lili Qiu                                                                                             \u001b[32m│\u001b[0m\n\u001b[32m│\u001b[0m \u001b[1;33m   \u001b[0m\u001b[1;33m • \u001b[0m\u001b[1mAbstract:\u001b[0m ReasonGen-R1 integrates chain-of-thought reasoning and reinforcement learning into generative   \u001b[32m│\u001b[0m\n\u001b[32m│\u001b[0m \u001b[1;33m   \u001b[0m\u001b[1;33m   \u001b[0mvision models. It uses supervised fine-tuning and Group Relative Policy Optimization to enhance image     \u001b[32m│\u001b[0m\n\u001b[32m│\u001b[0m \u001b[1;33m   \u001b[0m\u001b[1;33m   \u001b[0mgeneration.                                                                                               \u001b[32m│\u001b[0m\n\u001b[32m│\u001b[0m \u001b[1;33m   \u001b[0m\u001b[1;33m • \u001b[0m\u001b[1mKey Findings:\u001b[0m ReasonGen-R1 outperforms strong baselines and prior state-of-the-art models in image        \u001b[32m│\u001b[0m\n\u001b[32m│\u001b[0m \u001b[1;33m   \u001b[0m\u001b[1;33m   \u001b[0mgeneration tasks.                                                                                         \u001b[32m│\u001b[0m\n\u001b[32m│\u001b[0m \u001b[1;33m   \u001b[0m\u001b[1;33m • \u001b[0m\u001b]8;id=891260;http://arxiv.org/pdf/2505.24875v1\u001b\\\u001b[4;34mPDF\u001b[0m\u001b]8;;\u001b\\ | \u001b]8;id=541073;https://arxiv.org/abs/2505.24875v1\u001b\\\u001b[4;34mAbstract\u001b[0m\u001b]8;;\u001b\\                                                                                            \u001b[32m│\u001b[0m\n\u001b[32m│\u001b[0m \u001b[1;33m 5 \u001b[0m\u001b[1mTitle:\u001b[0m The Road to Generalizable Neuro-Symbolic Learning Should be Paved with Foundation Models              \u001b[32m│\u001b[0m\n\u001b[32m│\u001b[0m \u001b[1;33m   \u001b[0m\u001b[1;33m • \u001b[0m\u001b[1mAuthors:\u001b[0m Adam Stein, Aaditya Naik, Neelay Velingker, Mayur Naik, Eric Wong                                \u001b[32m│\u001b[0m\n\u001b[32m│\u001b[0m \u001b[1;33m   \u001b[0m\u001b[1;33m • \u001b[0m\u001b[1mAbstract:\u001b[0m This paper discusses the integration of foundation models with symbolic programs for complex    \u001b[32m│\u001b[0m\n\u001b[32m│\u001b[0m \u001b[1;33m   \u001b[0m\u001b[1;33m   \u001b[0mreasoning tasks. It highlights the limitations of traditional neuro-symbolic learning and proposes        \u001b[32m│\u001b[0m\n\u001b[32m│\u001b[0m \u001b[1;33m   \u001b[0m\u001b[1;33m   \u001b[0mneuro-symbolic prompting as a solution.                                                                   \u001b[32m│\u001b[0m\n\u001b[32m│\u001b[0m \u001b[1;33m   \u001b[0m\u001b[1;33m • \u001b[0m\u001b[1mKey Findings:\u001b[0m Foundation models enable generalizable neuro-symbolic solutions, achieving the goals of     \u001b[32m│\u001b[0m\n\u001b[32m│\u001b[0m \u001b[1;33m   \u001b[0m\u001b[1;33m   \u001b[0mneuro-symbolic learning without the downsides of training from scratch.                                   \u001b[32m│\u001b[0m\n\u001b[32m│\u001b[0m \u001b[1;33m   \u001b[0m\u001b[1;33m • \u001b[0m\u001b]8;id=754231;http://arxiv.org/pdf/2505.24874v1\u001b\\\u001b[4;34mPDF\u001b[0m\u001b]8;;\u001b\\ | [Abstract](https://arxiv.org/abs/2505                                                               \u001b[32m│\u001b[0m\n\u001b[32m╰─────────────────────────────────────────────────────────────────────────────────────────────────────────────────╯\u001b[0m\n",
                  "text/html": "<pre style=\"white-space:pre;overflow-x:auto;line-height:normal;font-family:Menlo,'DejaVu Sans Mono',consolas,'Courier New',monospace\"><span style=\"color: #008000; text-decoration-color: #008000\">╭────────────────────────────────────────────── Generating... 18.3s ──────────────────────────────────────────────╮</span>\n<span style=\"color: #008000; text-decoration-color: #008000\">│</span> Here are some recent papers on \"transformer models in NLP\" from the last year:                                  <span style=\"color: #008000; text-decoration-color: #008000\">│</span>\n<span style=\"color: #008000; text-decoration-color: #008000\">│</span>                                                                                                                 <span style=\"color: #008000; text-decoration-color: #008000\">│</span>\n<span style=\"color: #008000; text-decoration-color: #008000\">│</span> <span style=\"color: #808000; text-decoration-color: #808000; font-weight: bold\"> 1 </span><span style=\"font-weight: bold\">Title:</span> Open CaptchaWorld: A Comprehensive Web-based Platform for Testing and Benchmarking Multimodal LLM     <span style=\"color: #008000; text-decoration-color: #008000\">│</span>\n<span style=\"color: #008000; text-decoration-color: #008000\">│</span> <span style=\"color: #808000; text-decoration-color: #808000; font-weight: bold\">   </span>Agents                                                                                                       <span style=\"color: #008000; text-decoration-color: #008000\">│</span>\n<span style=\"color: #008000; text-decoration-color: #008000\">│</span> <span style=\"color: #808000; text-decoration-color: #808000; font-weight: bold\">    • </span><span style=\"font-weight: bold\">Authors:</span> Yaxin Luo, Zhaoyi Li, Jiacheng Liu, Jiacheng Cui, Xiaohan Zhao, Zhiqiang Shen                    <span style=\"color: #008000; text-decoration-color: #008000\">│</span>\n<span style=\"color: #008000; text-decoration-color: #008000\">│</span> <span style=\"color: #808000; text-decoration-color: #808000; font-weight: bold\">    • </span><span style=\"font-weight: bold\">Abstract:</span> This paper introduces Open CaptchaWorld, a platform designed to evaluate the visual reasoning   <span style=\"color: #008000; text-decoration-color: #008000\">│</span>\n<span style=\"color: #008000; text-decoration-color: #008000\">│</span> <span style=\"color: #808000; text-decoration-color: #808000; font-weight: bold\">      </span>and interaction capabilities of multimodal LLM agents through CAPTCHA puzzles. The benchmark includes 20  <span style=\"color: #008000; text-decoration-color: #008000\">│</span>\n<span style=\"color: #008000; text-decoration-color: #008000\">│</span> <span style=\"color: #808000; text-decoration-color: #808000; font-weight: bold\">      </span>modern CAPTCHA types and highlights the challenges faced by current multimodal agents.                    <span style=\"color: #008000; text-decoration-color: #008000\">│</span>\n<span style=\"color: #008000; text-decoration-color: #008000\">│</span> <span style=\"color: #808000; text-decoration-color: #808000; font-weight: bold\">    • </span><span style=\"font-weight: bold\">Key Findings:</span> Humans achieve near-perfect scores on CAPTCHAs, while state-of-the-art MLLM agents struggle <span style=\"color: #008000; text-decoration-color: #008000\">│</span>\n<span style=\"color: #008000; text-decoration-color: #008000\">│</span> <span style=\"color: #808000; text-decoration-color: #808000; font-weight: bold\">      </span>significantly, with success rates far below human-level performance.                                      <span style=\"color: #008000; text-decoration-color: #008000\">│</span>\n<span style=\"color: #008000; text-decoration-color: #008000\">│</span> <span style=\"color: #808000; text-decoration-color: #808000; font-weight: bold\">    • </span><a href=\"http://arxiv.org/pdf/2505.24878v1\" target=\"_blank\"><span style=\"color: #000080; text-decoration-color: #000080; text-decoration: underline\">PDF</span></a> | <a href=\"https://arxiv.org/abs/2505.24878v1\" target=\"_blank\"><span style=\"color: #000080; text-decoration-color: #000080; text-decoration: underline\">Abstract</span></a>                                                                                            <span style=\"color: #008000; text-decoration-color: #008000\">│</span>\n<span style=\"color: #008000; text-decoration-color: #008000\">│</span> <span style=\"color: #808000; text-decoration-color: #808000; font-weight: bold\"> 2 </span><span style=\"font-weight: bold\">Title:</span> AdaHuman: Animatable Detailed 3D Human Generation with Compositional Multiview Diffusion              <span style=\"color: #008000; text-decoration-color: #008000\">│</span>\n<span style=\"color: #008000; text-decoration-color: #008000\">│</span> <span style=\"color: #808000; text-decoration-color: #808000; font-weight: bold\">    • </span><span style=\"font-weight: bold\">Authors:</span> Yangyi Huang, Ye Yuan, Xueting Li, Jan Kautz, Umar Iqbal                                         <span style=\"color: #008000; text-decoration-color: #008000\">│</span>\n<span style=\"color: #008000; text-decoration-color: #008000\">│</span> <span style=\"color: #808000; text-decoration-color: #808000; font-weight: bold\">    • </span><span style=\"font-weight: bold\">Abstract:</span> AdaHuman is a framework for generating high-fidelity animatable 3D avatars from a single image. <span style=\"color: #008000; text-decoration-color: #008000\">│</span>\n<span style=\"color: #008000; text-decoration-color: #008000\">│</span> <span style=\"color: #808000; text-decoration-color: #808000; font-weight: bold\">      </span>It uses a pose-conditioned 3D joint diffusion model and a compositional 3DGS refinement module to enhance <span style=\"color: #008000; text-decoration-color: #008000\">│</span>\n<span style=\"color: #008000; text-decoration-color: #008000\">│</span> <span style=\"color: #808000; text-decoration-color: #808000; font-weight: bold\">      </span>avatar details.                                                                                           <span style=\"color: #008000; text-decoration-color: #008000\">│</span>\n<span style=\"color: #008000; text-decoration-color: #008000\">│</span> <span style=\"color: #808000; text-decoration-color: #808000; font-weight: bold\">    • </span><span style=\"font-weight: bold\">Key Findings:</span> AdaHuman significantly outperforms state-of-the-art methods in avatar reconstruction and    <span style=\"color: #008000; text-decoration-color: #008000\">│</span>\n<span style=\"color: #008000; text-decoration-color: #008000\">│</span> <span style=\"color: #808000; text-decoration-color: #808000; font-weight: bold\">      </span>reposing.                                                                                                 <span style=\"color: #008000; text-decoration-color: #008000\">│</span>\n<span style=\"color: #008000; text-decoration-color: #008000\">│</span> <span style=\"color: #808000; text-decoration-color: #808000; font-weight: bold\">    • </span><a href=\"http://arxiv.org/pdf/2505.24877v1\" target=\"_blank\"><span style=\"color: #000080; text-decoration-color: #000080; text-decoration: underline\">PDF</span></a> | <a href=\"https://arxiv.org/abs/2505.24877v1\" target=\"_blank\"><span style=\"color: #000080; text-decoration-color: #000080; text-decoration: underline\">Abstract</span></a>                                                                                            <span style=\"color: #008000; text-decoration-color: #008000\">│</span>\n<span style=\"color: #008000; text-decoration-color: #008000\">│</span> <span style=\"color: #808000; text-decoration-color: #808000; font-weight: bold\"> 3 </span><span style=\"font-weight: bold\">Title:</span> Agent-X: Evaluating Deep Multimodal Reasoning in Vision-Centric Agentic Tasks                         <span style=\"color: #008000; text-decoration-color: #008000\">│</span>\n<span style=\"color: #008000; text-decoration-color: #008000\">│</span> <span style=\"color: #808000; text-decoration-color: #808000; font-weight: bold\">    • </span><span style=\"font-weight: bold\">Authors:</span> Tajamul Ashraf, Amal Saqib, Hanan Ghani, Muhra AlMahri, Yuhao Li, Noor Ahsan, Umair Nawaz, Jean  <span style=\"color: #008000; text-decoration-color: #008000\">│</span>\n<span style=\"color: #008000; text-decoration-color: #008000\">│</span> <span style=\"color: #808000; text-decoration-color: #808000; font-weight: bold\">      </span>Lahoud, Hisham Cholakkal, Mubarak Shah, Philip Torr, Fahad Shahbaz Khan, Rao Muhammad Anwer, Salman Khan  <span style=\"color: #008000; text-decoration-color: #008000\">│</span>\n<span style=\"color: #008000; text-decoration-color: #008000\">│</span> <span style=\"color: #808000; text-decoration-color: #808000; font-weight: bold\">    • </span><span style=\"font-weight: bold\">Abstract:</span> Agent-X is a benchmark for evaluating vision-centric agents' reasoning capabilities in          <span style=\"color: #008000; text-decoration-color: #008000\">│</span>\n<span style=\"color: #008000; text-decoration-color: #008000\">│</span> <span style=\"color: #808000; text-decoration-color: #808000; font-weight: bold\">      </span>real-world, multimodal settings. It features 828 tasks across various environments, requiring agents to   <span style=\"color: #008000; text-decoration-color: #008000\">│</span>\n<span style=\"color: #008000; text-decoration-color: #008000\">│</span> <span style=\"color: #808000; text-decoration-color: #808000; font-weight: bold\">      </span>integrate tool use with decision-making.                                                                  <span style=\"color: #008000; text-decoration-color: #008000\">│</span>\n<span style=\"color: #008000; text-decoration-color: #008000\">│</span> <span style=\"color: #808000; text-decoration-color: #808000; font-weight: bold\">    • </span><span style=\"font-weight: bold\">Key Findings:</span> Current models, including GPT and Gemini, struggle with multi-step vision tasks, achieving  <span style=\"color: #008000; text-decoration-color: #008000\">│</span>\n<span style=\"color: #008000; text-decoration-color: #008000\">│</span> <span style=\"color: #808000; text-decoration-color: #808000; font-weight: bold\">      </span>less than 50% success.                                                                                    <span style=\"color: #008000; text-decoration-color: #008000\">│</span>\n<span style=\"color: #008000; text-decoration-color: #008000\">│</span> <span style=\"color: #808000; text-decoration-color: #808000; font-weight: bold\">    • </span><a href=\"http://arxiv.org/pdf/2505.24876v1\" target=\"_blank\"><span style=\"color: #000080; text-decoration-color: #000080; text-decoration: underline\">PDF</span></a> | <a href=\"https://arxiv.org/abs/2505.24876v1\" target=\"_blank\"><span style=\"color: #000080; text-decoration-color: #000080; text-decoration: underline\">Abstract</span></a>                                                                                            <span style=\"color: #008000; text-decoration-color: #008000\">│</span>\n<span style=\"color: #008000; text-decoration-color: #008000\">│</span> <span style=\"color: #808000; text-decoration-color: #808000; font-weight: bold\"> 4 </span><span style=\"font-weight: bold\">Title:</span> ReasonGen-R1: CoT for Autoregressive Image generation models through SFT and RL                       <span style=\"color: #008000; text-decoration-color: #008000\">│</span>\n<span style=\"color: #008000; text-decoration-color: #008000\">│</span> <span style=\"color: #808000; text-decoration-color: #808000; font-weight: bold\">    • </span><span style=\"font-weight: bold\">Authors:</span> Yu Zhang, Yunqi Li, Yifan Yang, Rui Wang, Yuqing Yang, Dai Qi, Jianmin Bao, Dongdong Chen, Chong <span style=\"color: #008000; text-decoration-color: #008000\">│</span>\n<span style=\"color: #008000; text-decoration-color: #008000\">│</span> <span style=\"color: #808000; text-decoration-color: #808000; font-weight: bold\">      </span>Luo, Lili Qiu                                                                                             <span style=\"color: #008000; text-decoration-color: #008000\">│</span>\n<span style=\"color: #008000; text-decoration-color: #008000\">│</span> <span style=\"color: #808000; text-decoration-color: #808000; font-weight: bold\">    • </span><span style=\"font-weight: bold\">Abstract:</span> ReasonGen-R1 integrates chain-of-thought reasoning and reinforcement learning into generative   <span style=\"color: #008000; text-decoration-color: #008000\">│</span>\n<span style=\"color: #008000; text-decoration-color: #008000\">│</span> <span style=\"color: #808000; text-decoration-color: #808000; font-weight: bold\">      </span>vision models. It uses supervised fine-tuning and Group Relative Policy Optimization to enhance image     <span style=\"color: #008000; text-decoration-color: #008000\">│</span>\n<span style=\"color: #008000; text-decoration-color: #008000\">│</span> <span style=\"color: #808000; text-decoration-color: #808000; font-weight: bold\">      </span>generation.                                                                                               <span style=\"color: #008000; text-decoration-color: #008000\">│</span>\n<span style=\"color: #008000; text-decoration-color: #008000\">│</span> <span style=\"color: #808000; text-decoration-color: #808000; font-weight: bold\">    • </span><span style=\"font-weight: bold\">Key Findings:</span> ReasonGen-R1 outperforms strong baselines and prior state-of-the-art models in image        <span style=\"color: #008000; text-decoration-color: #008000\">│</span>\n<span style=\"color: #008000; text-decoration-color: #008000\">│</span> <span style=\"color: #808000; text-decoration-color: #808000; font-weight: bold\">      </span>generation tasks.                                                                                         <span style=\"color: #008000; text-decoration-color: #008000\">│</span>\n<span style=\"color: #008000; text-decoration-color: #008000\">│</span> <span style=\"color: #808000; text-decoration-color: #808000; font-weight: bold\">    • </span><a href=\"http://arxiv.org/pdf/2505.24875v1\" target=\"_blank\"><span style=\"color: #000080; text-decoration-color: #000080; text-decoration: underline\">PDF</span></a> | <a href=\"https://arxiv.org/abs/2505.24875v1\" target=\"_blank\"><span style=\"color: #000080; text-decoration-color: #000080; text-decoration: underline\">Abstract</span></a>                                                                                            <span style=\"color: #008000; text-decoration-color: #008000\">│</span>\n<span style=\"color: #008000; text-decoration-color: #008000\">│</span> <span style=\"color: #808000; text-decoration-color: #808000; font-weight: bold\"> 5 </span><span style=\"font-weight: bold\">Title:</span> The Road to Generalizable Neuro-Symbolic Learning Should be Paved with Foundation Models              <span style=\"color: #008000; text-decoration-color: #008000\">│</span>\n<span style=\"color: #008000; text-decoration-color: #008000\">│</span> <span style=\"color: #808000; text-decoration-color: #808000; font-weight: bold\">    • </span><span style=\"font-weight: bold\">Authors:</span> Adam Stein, Aaditya Naik, Neelay Velingker, Mayur Naik, Eric Wong                                <span style=\"color: #008000; text-decoration-color: #008000\">│</span>\n<span style=\"color: #008000; text-decoration-color: #008000\">│</span> <span style=\"color: #808000; text-decoration-color: #808000; font-weight: bold\">    • </span><span style=\"font-weight: bold\">Abstract:</span> This paper discusses the integration of foundation models with symbolic programs for complex    <span style=\"color: #008000; text-decoration-color: #008000\">│</span>\n<span style=\"color: #008000; text-decoration-color: #008000\">│</span> <span style=\"color: #808000; text-decoration-color: #808000; font-weight: bold\">      </span>reasoning tasks. It highlights the limitations of traditional neuro-symbolic learning and proposes        <span style=\"color: #008000; text-decoration-color: #008000\">│</span>\n<span style=\"color: #008000; text-decoration-color: #008000\">│</span> <span style=\"color: #808000; text-decoration-color: #808000; font-weight: bold\">      </span>neuro-symbolic prompting as a solution.                                                                   <span style=\"color: #008000; text-decoration-color: #008000\">│</span>\n<span style=\"color: #008000; text-decoration-color: #008000\">│</span> <span style=\"color: #808000; text-decoration-color: #808000; font-weight: bold\">    • </span><span style=\"font-weight: bold\">Key Findings:</span> Foundation models enable generalizable neuro-symbolic solutions, achieving the goals of     <span style=\"color: #008000; text-decoration-color: #008000\">│</span>\n<span style=\"color: #008000; text-decoration-color: #008000\">│</span> <span style=\"color: #808000; text-decoration-color: #808000; font-weight: bold\">      </span>neuro-symbolic learning without the downsides of training from scratch.                                   <span style=\"color: #008000; text-decoration-color: #008000\">│</span>\n<span style=\"color: #008000; text-decoration-color: #008000\">│</span> <span style=\"color: #808000; text-decoration-color: #808000; font-weight: bold\">    • </span><a href=\"http://arxiv.org/pdf/2505.24874v1\" target=\"_blank\"><span style=\"color: #000080; text-decoration-color: #000080; text-decoration: underline\">PDF</span></a> | [Abstract](https://arxiv.org/abs/2505                                                               <span style=\"color: #008000; text-decoration-color: #008000\">│</span>\n<span style=\"color: #008000; text-decoration-color: #008000\">╰─────────────────────────────────────────────────────────────────────────────────────────────────────────────────╯</span>\n</pre>\n"
                },
                "metadata": {}
              }
            ]
          }
        },
        "4947fadcfa0c4e2ea26f9b5ec2495557": {
          "model_module": "@jupyter-widgets/base",
          "model_name": "LayoutModel",
          "model_module_version": "1.2.0",
          "state": {
            "_model_module": "@jupyter-widgets/base",
            "_model_module_version": "1.2.0",
            "_model_name": "LayoutModel",
            "_view_count": null,
            "_view_module": "@jupyter-widgets/base",
            "_view_module_version": "1.2.0",
            "_view_name": "LayoutView",
            "align_content": null,
            "align_items": null,
            "align_self": null,
            "border": null,
            "bottom": null,
            "display": null,
            "flex": null,
            "flex_flow": null,
            "grid_area": null,
            "grid_auto_columns": null,
            "grid_auto_flow": null,
            "grid_auto_rows": null,
            "grid_column": null,
            "grid_gap": null,
            "grid_row": null,
            "grid_template_areas": null,
            "grid_template_columns": null,
            "grid_template_rows": null,
            "height": null,
            "justify_content": null,
            "justify_items": null,
            "left": null,
            "margin": null,
            "max_height": null,
            "max_width": null,
            "min_height": null,
            "min_width": null,
            "object_fit": null,
            "object_position": null,
            "order": null,
            "overflow": null,
            "overflow_x": null,
            "overflow_y": null,
            "padding": null,
            "right": null,
            "top": null,
            "visibility": null,
            "width": null
          }
        },
        "1a962843369c4e6980ab3ea13fe8b98c": {
          "model_module": "@jupyter-widgets/output",
          "model_name": "OutputModel",
          "model_module_version": "1.0.0",
          "state": {
            "_dom_classes": [],
            "_model_module": "@jupyter-widgets/output",
            "_model_module_version": "1.0.0",
            "_model_name": "OutputModel",
            "_view_count": null,
            "_view_module": "@jupyter-widgets/output",
            "_view_module_version": "1.0.0",
            "_view_name": "OutputView",
            "layout": "IPY_MODEL_94c00376e1724754970b311b995c9935",
            "msg_id": "",
            "outputs": [
              {
                "output_type": "display_data",
                "data": {
                  "text/plain": "\n",
                  "text/html": "<pre style=\"white-space:pre;overflow-x:auto;line-height:normal;font-family:Menlo,'DejaVu Sans Mono',consolas,'Courier New',monospace\">\n</pre>\n"
                },
                "metadata": {}
              }
            ]
          }
        },
        "94c00376e1724754970b311b995c9935": {
          "model_module": "@jupyter-widgets/base",
          "model_name": "LayoutModel",
          "model_module_version": "1.2.0",
          "state": {
            "_model_module": "@jupyter-widgets/base",
            "_model_module_version": "1.2.0",
            "_model_name": "LayoutModel",
            "_view_count": null,
            "_view_module": "@jupyter-widgets/base",
            "_view_module_version": "1.2.0",
            "_view_name": "LayoutView",
            "align_content": null,
            "align_items": null,
            "align_self": null,
            "border": null,
            "bottom": null,
            "display": null,
            "flex": null,
            "flex_flow": null,
            "grid_area": null,
            "grid_auto_columns": null,
            "grid_auto_flow": null,
            "grid_auto_rows": null,
            "grid_column": null,
            "grid_gap": null,
            "grid_row": null,
            "grid_template_areas": null,
            "grid_template_columns": null,
            "grid_template_rows": null,
            "height": null,
            "justify_content": null,
            "justify_items": null,
            "left": null,
            "margin": null,
            "max_height": null,
            "max_width": null,
            "min_height": null,
            "min_width": null,
            "object_fit": null,
            "object_position": null,
            "order": null,
            "overflow": null,
            "overflow_x": null,
            "overflow_y": null,
            "padding": null,
            "right": null,
            "top": null,
            "visibility": null,
            "width": null
          }
        },
        "547f031250bf4e8d8c2d1b98aebdd4b9": {
          "model_module": "@jupyter-widgets/output",
          "model_name": "OutputModel",
          "model_module_version": "1.0.0",
          "state": {
            "_dom_classes": [],
            "_model_module": "@jupyter-widgets/output",
            "_model_module_version": "1.0.0",
            "_model_name": "OutputModel",
            "_view_count": null,
            "_view_module": "@jupyter-widgets/output",
            "_view_module_version": "1.0.0",
            "_view_name": "OutputView",
            "layout": "IPY_MODEL_861cbd1fba474810aa751463f65a8cec",
            "msg_id": "",
            "outputs": [
              {
                "output_type": "display_data",
                "data": {
                  "text/plain": "\u001b[32m╭─\u001b[0m\u001b[32m─────────────────────────────────────────────\u001b[0m\u001b[32m Generating... 17.4s \u001b[0m\u001b[32m─────────────────────────────────────────────\u001b[0m\u001b[32m─╮\u001b[0m\n\u001b[32m│\u001b[0m                                                                                                                 \u001b[32m│\u001b[0m\n\u001b[32m│\u001b[0m \u001b[1;33m 1 \u001b[0m\u001b[1mTitle:\u001b[0m \u001b]8;id=725394;https://arxiv.org/abs/1804.00200v1\u001b\\\u001b[4;34mThe Impact of Quantum Computing on Present Cryptography\u001b[0m\u001b]8;;\u001b\\                                               \u001b[32m│\u001b[0m\n\u001b[32m│\u001b[0m \u001b[1;33m   \u001b[0m\u001b[1mAuthors:\u001b[0m Vasileios Mavroeidis, Kamer Vishi, Mateusz D. Zych, Audun Jøsang                                    \u001b[32m│\u001b[0m\n\u001b[32m│\u001b[0m \u001b[1;33m   \u001b[0m\u001b[1mSummary:\u001b[0m This paper elucidates the implications of quantum computing in present cryptography and introduces  \u001b[32m│\u001b[0m\n\u001b[32m│\u001b[0m \u001b[1;33m   \u001b[0mbasic post-quantum algorithms. It covers present cryptographic schemes, differences between quantum and      \u001b[32m│\u001b[0m\n\u001b[32m│\u001b[0m \u001b[1;33m   \u001b[0mclassical computing, challenges in quantum computing, and post-quantum cryptography.                         \u001b[32m│\u001b[0m\n\u001b[32m│\u001b[0m \u001b[1;33m   \u001b[0m\u001b[1mPDF:\u001b[0m \u001b]8;id=264546;http://arxiv.org/pdf/1804.00200v1\u001b\\\u001b[4;34mLink\u001b[0m\u001b]8;;\u001b\\                                                                                                    \u001b[32m│\u001b[0m\n\u001b[32m│\u001b[0m \u001b[1;33m   \u001b[0m\u001b[1mJournal:\u001b[0m International Journal of Advanced Computer Science and Applications (IJACSA), 9(3), 405-414, March  \u001b[32m│\u001b[0m\n\u001b[32m│\u001b[0m \u001b[1;33m   \u001b[0m2018                                                                                                         \u001b[32m│\u001b[0m\n\u001b[32m│\u001b[0m \u001b[1;33m 2 \u001b[0m\u001b[1mTitle:\u001b[0m \u001b]8;id=408036;https://arxiv.org/abs/2501.03249v1\u001b\\\u001b[4;34mHomomorphic Encryption Based on Lattice Post-Quantum Cryptography\u001b[0m\u001b]8;;\u001b\\                                     \u001b[32m│\u001b[0m\n\u001b[32m│\u001b[0m \u001b[1;33m   \u001b[0m\u001b[1mAuthors:\u001b[0m Abel C. H. Chen                                                                                     \u001b[32m│\u001b[0m\n\u001b[32m│\u001b[0m \u001b[1;33m   \u001b[0m\u001b[1mSummary:\u001b[0m This study proposes a lattice-based post-quantum homomorphic encryption scheme to resist quantum    \u001b[32m│\u001b[0m\n\u001b[32m│\u001b[0m \u001b[1;33m   \u001b[0mattacks, providing mathematical proofs and security analysis.                                                \u001b[32m│\u001b[0m\n\u001b[32m│\u001b[0m \u001b[1;33m   \u001b[0m\u001b[1mPDF:\u001b[0m \u001b]8;id=111037;http://arxiv.org/pdf/2501.03249v1\u001b\\\u001b[4;34mLink\u001b[0m\u001b]8;;\u001b\\                                                                                                    \u001b[32m│\u001b[0m\n\u001b[32m│\u001b[0m \u001b[1;33m 3 \u001b[0m\u001b[1mTitle:\u001b[0m \u001b]8;id=391359;https://arxiv.org/abs/2401.13691v1\u001b\\\u001b[4;34mPQCMC: Post-Quantum Cryptography McEliece-Chen Implicit Certificate Scheme\u001b[0m\u001b]8;;\u001b\\                            \u001b[32m│\u001b[0m\n\u001b[32m│\u001b[0m \u001b[1;33m   \u001b[0m\u001b[1mAuthors:\u001b[0m Abel C. H. Chen                                                                                     \u001b[32m│\u001b[0m\n\u001b[32m│\u001b[0m \u001b[1;33m   \u001b[0m\u001b[1mSummary:\u001b[0m This study proposes a post-quantum cryptography McEliece-Chen scheme for issuing pseudonymous       \u001b[32m│\u001b[0m\n\u001b[32m│\u001b[0m \u001b[1;33m   \u001b[0mcertificates, enhancing resistance against quantum computing threats.                                        \u001b[32m│\u001b[0m\n\u001b[32m│\u001b[0m \u001b[1;33m   \u001b[0m\u001b[1mPDF:\u001b[0m \u001b]8;id=505420;http://arxiv.org/pdf/2401.13691v1\u001b\\\u001b[4;34mLink\u001b[0m\u001b]8;;\u001b\\                                                                                                    \u001b[32m│\u001b[0m\n\u001b[32m│\u001b[0m \u001b[1;33m 4 \u001b[0m\u001b[1mTitle:\u001b[0m \u001b]8;id=303327;https://arxiv.org/abs/1510.06120v2\u001b\\\u001b[4;34mQuantum Cryptography Beyond Quantum Key Distribution\u001b[0m\u001b]8;;\u001b\\                                                  \u001b[32m│\u001b[0m\n\u001b[32m│\u001b[0m \u001b[1;33m   \u001b[0m\u001b[1mAuthors:\u001b[0m Anne Broadbent, Christian Schaffner                                                                 \u001b[32m│\u001b[0m\n\u001b[32m│\u001b[0m \u001b[1;33m   \u001b[0m\u001b[1mSummary:\u001b[0m This review surveys theoretical quantum cryptography, emphasizing constructions and limitations     \u001b[32m│\u001b[0m\n\u001b[32m│\u001b[0m \u001b[1;33m   \u001b[0mbeyond quantum key distribution.                                                                             \u001b[32m│\u001b[0m\n\u001b[32m│\u001b[0m \u001b[1;33m   \u001b[0m\u001b[1mPDF:\u001b[0m \u001b]8;id=246722;http://arxiv.org/pdf/1510.06120v2\u001b\\\u001b[4;34mLink\u001b[0m\u001b]8;;\u001b\\                                                                                                    \u001b[32m│\u001b[0m\n\u001b[32m│\u001b[0m \u001b[1;33m   \u001b[0m\u001b[1mJournal:\u001b[0m Designs, Codes and Cryptography. Volume 78, Issue 1, pp 351-382 (2016)                              \u001b[32m│\u001b[0m\n\u001b[32m│\u001b[0m \u001b[1;33m 5 \u001b[0m\u001b[1mTitle:\u001b[0m \u001b]8;id=57849;https://arxiv.org/abs/quant-ph/9602014v1\u001b\\\u001b[4;34mNew Trends in Quantum Computing\u001b[0m\u001b]8;;\u001b\\                                                                       \u001b[32m│\u001b[0m\n\u001b[32m│\u001b[0m \u001b[1;33m   \u001b[0m\u001b[1mAuthors:\u001b[0m Gilles Brassard                                                                                     \u001b[32m│\u001b[0m\n\u001b[32m│\u001b[0m \u001b[1;33m   \u001b[0m\u001b[1mSummary:\u001b[0m Discusses the differences between classical and quantum information, and applications like quantum  \u001b[32m│\u001b[0m\n\u001b[32m│\u001b[0m \u001b[1;33m   \u001b[0mcrypt                                                                                                        \u001b[32m│\u001b[0m\n\u001b[32m╰─────────────────────────────────────────────────────────────────────────────────────────────────────────────────╯\u001b[0m\n",
                  "text/html": "<pre style=\"white-space:pre;overflow-x:auto;line-height:normal;font-family:Menlo,'DejaVu Sans Mono',consolas,'Courier New',monospace\"><span style=\"color: #008000; text-decoration-color: #008000\">╭────────────────────────────────────────────── Generating... 17.4s ──────────────────────────────────────────────╮</span>\n<span style=\"color: #008000; text-decoration-color: #008000\">│</span>                                                                                                                 <span style=\"color: #008000; text-decoration-color: #008000\">│</span>\n<span style=\"color: #008000; text-decoration-color: #008000\">│</span> <span style=\"color: #808000; text-decoration-color: #808000; font-weight: bold\"> 1 </span><span style=\"font-weight: bold\">Title:</span> <a href=\"https://arxiv.org/abs/1804.00200v1\" target=\"_blank\"><span style=\"color: #000080; text-decoration-color: #000080; text-decoration: underline\">The Impact of Quantum Computing on Present Cryptography</span></a>                                               <span style=\"color: #008000; text-decoration-color: #008000\">│</span>\n<span style=\"color: #008000; text-decoration-color: #008000\">│</span> <span style=\"color: #808000; text-decoration-color: #808000; font-weight: bold\">   </span><span style=\"font-weight: bold\">Authors:</span> Vasileios Mavroeidis, Kamer Vishi, Mateusz D. Zych, Audun Jøsang                                    <span style=\"color: #008000; text-decoration-color: #008000\">│</span>\n<span style=\"color: #008000; text-decoration-color: #008000\">│</span> <span style=\"color: #808000; text-decoration-color: #808000; font-weight: bold\">   </span><span style=\"font-weight: bold\">Summary:</span> This paper elucidates the implications of quantum computing in present cryptography and introduces  <span style=\"color: #008000; text-decoration-color: #008000\">│</span>\n<span style=\"color: #008000; text-decoration-color: #008000\">│</span> <span style=\"color: #808000; text-decoration-color: #808000; font-weight: bold\">   </span>basic post-quantum algorithms. It covers present cryptographic schemes, differences between quantum and      <span style=\"color: #008000; text-decoration-color: #008000\">│</span>\n<span style=\"color: #008000; text-decoration-color: #008000\">│</span> <span style=\"color: #808000; text-decoration-color: #808000; font-weight: bold\">   </span>classical computing, challenges in quantum computing, and post-quantum cryptography.                         <span style=\"color: #008000; text-decoration-color: #008000\">│</span>\n<span style=\"color: #008000; text-decoration-color: #008000\">│</span> <span style=\"color: #808000; text-decoration-color: #808000; font-weight: bold\">   </span><span style=\"font-weight: bold\">PDF:</span> <a href=\"http://arxiv.org/pdf/1804.00200v1\" target=\"_blank\"><span style=\"color: #000080; text-decoration-color: #000080; text-decoration: underline\">Link</span></a>                                                                                                    <span style=\"color: #008000; text-decoration-color: #008000\">│</span>\n<span style=\"color: #008000; text-decoration-color: #008000\">│</span> <span style=\"color: #808000; text-decoration-color: #808000; font-weight: bold\">   </span><span style=\"font-weight: bold\">Journal:</span> International Journal of Advanced Computer Science and Applications (IJACSA), 9(3), 405-414, March  <span style=\"color: #008000; text-decoration-color: #008000\">│</span>\n<span style=\"color: #008000; text-decoration-color: #008000\">│</span> <span style=\"color: #808000; text-decoration-color: #808000; font-weight: bold\">   </span>2018                                                                                                         <span style=\"color: #008000; text-decoration-color: #008000\">│</span>\n<span style=\"color: #008000; text-decoration-color: #008000\">│</span> <span style=\"color: #808000; text-decoration-color: #808000; font-weight: bold\"> 2 </span><span style=\"font-weight: bold\">Title:</span> <a href=\"https://arxiv.org/abs/2501.03249v1\" target=\"_blank\"><span style=\"color: #000080; text-decoration-color: #000080; text-decoration: underline\">Homomorphic Encryption Based on Lattice Post-Quantum Cryptography</span></a>                                     <span style=\"color: #008000; text-decoration-color: #008000\">│</span>\n<span style=\"color: #008000; text-decoration-color: #008000\">│</span> <span style=\"color: #808000; text-decoration-color: #808000; font-weight: bold\">   </span><span style=\"font-weight: bold\">Authors:</span> Abel C. H. Chen                                                                                     <span style=\"color: #008000; text-decoration-color: #008000\">│</span>\n<span style=\"color: #008000; text-decoration-color: #008000\">│</span> <span style=\"color: #808000; text-decoration-color: #808000; font-weight: bold\">   </span><span style=\"font-weight: bold\">Summary:</span> This study proposes a lattice-based post-quantum homomorphic encryption scheme to resist quantum    <span style=\"color: #008000; text-decoration-color: #008000\">│</span>\n<span style=\"color: #008000; text-decoration-color: #008000\">│</span> <span style=\"color: #808000; text-decoration-color: #808000; font-weight: bold\">   </span>attacks, providing mathematical proofs and security analysis.                                                <span style=\"color: #008000; text-decoration-color: #008000\">│</span>\n<span style=\"color: #008000; text-decoration-color: #008000\">│</span> <span style=\"color: #808000; text-decoration-color: #808000; font-weight: bold\">   </span><span style=\"font-weight: bold\">PDF:</span> <a href=\"http://arxiv.org/pdf/2501.03249v1\" target=\"_blank\"><span style=\"color: #000080; text-decoration-color: #000080; text-decoration: underline\">Link</span></a>                                                                                                    <span style=\"color: #008000; text-decoration-color: #008000\">│</span>\n<span style=\"color: #008000; text-decoration-color: #008000\">│</span> <span style=\"color: #808000; text-decoration-color: #808000; font-weight: bold\"> 3 </span><span style=\"font-weight: bold\">Title:</span> <a href=\"https://arxiv.org/abs/2401.13691v1\" target=\"_blank\"><span style=\"color: #000080; text-decoration-color: #000080; text-decoration: underline\">PQCMC: Post-Quantum Cryptography McEliece-Chen Implicit Certificate Scheme</span></a>                            <span style=\"color: #008000; text-decoration-color: #008000\">│</span>\n<span style=\"color: #008000; text-decoration-color: #008000\">│</span> <span style=\"color: #808000; text-decoration-color: #808000; font-weight: bold\">   </span><span style=\"font-weight: bold\">Authors:</span> Abel C. H. Chen                                                                                     <span style=\"color: #008000; text-decoration-color: #008000\">│</span>\n<span style=\"color: #008000; text-decoration-color: #008000\">│</span> <span style=\"color: #808000; text-decoration-color: #808000; font-weight: bold\">   </span><span style=\"font-weight: bold\">Summary:</span> This study proposes a post-quantum cryptography McEliece-Chen scheme for issuing pseudonymous       <span style=\"color: #008000; text-decoration-color: #008000\">│</span>\n<span style=\"color: #008000; text-decoration-color: #008000\">│</span> <span style=\"color: #808000; text-decoration-color: #808000; font-weight: bold\">   </span>certificates, enhancing resistance against quantum computing threats.                                        <span style=\"color: #008000; text-decoration-color: #008000\">│</span>\n<span style=\"color: #008000; text-decoration-color: #008000\">│</span> <span style=\"color: #808000; text-decoration-color: #808000; font-weight: bold\">   </span><span style=\"font-weight: bold\">PDF:</span> <a href=\"http://arxiv.org/pdf/2401.13691v1\" target=\"_blank\"><span style=\"color: #000080; text-decoration-color: #000080; text-decoration: underline\">Link</span></a>                                                                                                    <span style=\"color: #008000; text-decoration-color: #008000\">│</span>\n<span style=\"color: #008000; text-decoration-color: #008000\">│</span> <span style=\"color: #808000; text-decoration-color: #808000; font-weight: bold\"> 4 </span><span style=\"font-weight: bold\">Title:</span> <a href=\"https://arxiv.org/abs/1510.06120v2\" target=\"_blank\"><span style=\"color: #000080; text-decoration-color: #000080; text-decoration: underline\">Quantum Cryptography Beyond Quantum Key Distribution</span></a>                                                  <span style=\"color: #008000; text-decoration-color: #008000\">│</span>\n<span style=\"color: #008000; text-decoration-color: #008000\">│</span> <span style=\"color: #808000; text-decoration-color: #808000; font-weight: bold\">   </span><span style=\"font-weight: bold\">Authors:</span> Anne Broadbent, Christian Schaffner                                                                 <span style=\"color: #008000; text-decoration-color: #008000\">│</span>\n<span style=\"color: #008000; text-decoration-color: #008000\">│</span> <span style=\"color: #808000; text-decoration-color: #808000; font-weight: bold\">   </span><span style=\"font-weight: bold\">Summary:</span> This review surveys theoretical quantum cryptography, emphasizing constructions and limitations     <span style=\"color: #008000; text-decoration-color: #008000\">│</span>\n<span style=\"color: #008000; text-decoration-color: #008000\">│</span> <span style=\"color: #808000; text-decoration-color: #808000; font-weight: bold\">   </span>beyond quantum key distribution.                                                                             <span style=\"color: #008000; text-decoration-color: #008000\">│</span>\n<span style=\"color: #008000; text-decoration-color: #008000\">│</span> <span style=\"color: #808000; text-decoration-color: #808000; font-weight: bold\">   </span><span style=\"font-weight: bold\">PDF:</span> <a href=\"http://arxiv.org/pdf/1510.06120v2\" target=\"_blank\"><span style=\"color: #000080; text-decoration-color: #000080; text-decoration: underline\">Link</span></a>                                                                                                    <span style=\"color: #008000; text-decoration-color: #008000\">│</span>\n<span style=\"color: #008000; text-decoration-color: #008000\">│</span> <span style=\"color: #808000; text-decoration-color: #808000; font-weight: bold\">   </span><span style=\"font-weight: bold\">Journal:</span> Designs, Codes and Cryptography. Volume 78, Issue 1, pp 351-382 (2016)                              <span style=\"color: #008000; text-decoration-color: #008000\">│</span>\n<span style=\"color: #008000; text-decoration-color: #008000\">│</span> <span style=\"color: #808000; text-decoration-color: #808000; font-weight: bold\"> 5 </span><span style=\"font-weight: bold\">Title:</span> <a href=\"https://arxiv.org/abs/quant-ph/9602014v1\" target=\"_blank\"><span style=\"color: #000080; text-decoration-color: #000080; text-decoration: underline\">New Trends in Quantum Computing</span></a>                                                                       <span style=\"color: #008000; text-decoration-color: #008000\">│</span>\n<span style=\"color: #008000; text-decoration-color: #008000\">│</span> <span style=\"color: #808000; text-decoration-color: #808000; font-weight: bold\">   </span><span style=\"font-weight: bold\">Authors:</span> Gilles Brassard                                                                                     <span style=\"color: #008000; text-decoration-color: #008000\">│</span>\n<span style=\"color: #008000; text-decoration-color: #008000\">│</span> <span style=\"color: #808000; text-decoration-color: #808000; font-weight: bold\">   </span><span style=\"font-weight: bold\">Summary:</span> Discusses the differences between classical and quantum information, and applications like quantum  <span style=\"color: #008000; text-decoration-color: #008000\">│</span>\n<span style=\"color: #008000; text-decoration-color: #008000\">│</span> <span style=\"color: #808000; text-decoration-color: #808000; font-weight: bold\">   </span>crypt                                                                                                        <span style=\"color: #008000; text-decoration-color: #008000\">│</span>\n<span style=\"color: #008000; text-decoration-color: #008000\">╰─────────────────────────────────────────────────────────────────────────────────────────────────────────────────╯</span>\n</pre>\n"
                },
                "metadata": {}
              }
            ]
          }
        },
        "861cbd1fba474810aa751463f65a8cec": {
          "model_module": "@jupyter-widgets/base",
          "model_name": "LayoutModel",
          "model_module_version": "1.2.0",
          "state": {
            "_model_module": "@jupyter-widgets/base",
            "_model_module_version": "1.2.0",
            "_model_name": "LayoutModel",
            "_view_count": null,
            "_view_module": "@jupyter-widgets/base",
            "_view_module_version": "1.2.0",
            "_view_name": "LayoutView",
            "align_content": null,
            "align_items": null,
            "align_self": null,
            "border": null,
            "bottom": null,
            "display": null,
            "flex": null,
            "flex_flow": null,
            "grid_area": null,
            "grid_auto_columns": null,
            "grid_auto_flow": null,
            "grid_auto_rows": null,
            "grid_column": null,
            "grid_gap": null,
            "grid_row": null,
            "grid_template_areas": null,
            "grid_template_columns": null,
            "grid_template_rows": null,
            "height": null,
            "justify_content": null,
            "justify_items": null,
            "left": null,
            "margin": null,
            "max_height": null,
            "max_width": null,
            "min_height": null,
            "min_width": null,
            "object_fit": null,
            "object_position": null,
            "order": null,
            "overflow": null,
            "overflow_x": null,
            "overflow_y": null,
            "padding": null,
            "right": null,
            "top": null,
            "visibility": null,
            "width": null
          }
        },
        "df6375867c8e47b58d0a022cdf3af222": {
          "model_module": "@jupyter-widgets/output",
          "model_name": "OutputModel",
          "model_module_version": "1.0.0",
          "state": {
            "_dom_classes": [],
            "_model_module": "@jupyter-widgets/output",
            "_model_module_version": "1.0.0",
            "_model_name": "OutputModel",
            "_view_count": null,
            "_view_module": "@jupyter-widgets/output",
            "_view_module_version": "1.0.0",
            "_view_name": "OutputView",
            "layout": "IPY_MODEL_b80411a9803640e1a04fca68c8b5c8b5",
            "msg_id": "",
            "outputs": [
              {
                "output_type": "display_data",
                "data": {
                  "text/plain": "\u001b[32m╭─\u001b[0m\u001b[32m─────────────────────────────────────────────\u001b[0m\u001b[32m Generating... 6.5s \u001b[0m\u001b[32m──────────────────────────────────────────────\u001b[0m\u001b[32m─╮\u001b[0m\n\u001b[32m│\u001b[0m Key Trends and Breakthroughs in Quantum Research:                                                               \u001b[32m│\u001b[0m\n\u001b[32m│\u001b[0m                                                                                                                 \u001b[32m│\u001b[0m\n\u001b[32m│\u001b[0m \u001b[1;33m 1 \u001b[0m\u001b[1mImpact on Cryptography:\u001b[0m                                                                                      \u001b[32m│\u001b[0m\n\u001b[32m│\u001b[0m \u001b[1;33m   \u001b[0m\u001b[1;33m • \u001b[0mQuantum computing poses significant challenges to current cryptographic systems, necessitating the        \u001b[32m│\u001b[0m\n\u001b[32m│\u001b[0m \u001b[1;33m   \u001b[0m\u001b[1;33m   \u001b[0mdevelopment of post-quantum cryptography to ensure security against quantum attacks.                      \u001b[32m│\u001b[0m\n\u001b[32m│\u001b[0m \u001b[1;33m   \u001b[0m\u001b[1;33m • \u001b[0mLattice-based cryptography is emerging as a promising solution for creating homomorphic encryption        \u001b[32m│\u001b[0m\n\u001b[32m│\u001b[0m \u001b[1;33m   \u001b[0m\u001b[1;33m   \u001b[0mschemes that can resist quantum threats.                                                                  \u001b[32m│\u001b[0m\n\u001b[32m│\u001b[0m \u001b[1;33m 2 \u001b[0m\u001b[1mPost-Quantum Cryptography:\u001b[0m                                                                                   \u001b[32m│\u001b[0m\n\u001b[32m│\u001b[0m \u001b[1;33m   \u001b[0m\u001b[1;33m • \u001b[0mThe development of new cryptographic schemes, such as the McEliece-Chen implicit certificate scheme, is   \u001b[32m│\u001b[0m\n\u001b[32m│\u001b[0m \u001b[1;33m   \u001b[0m\u001b[1;33m   \u001b[0mcrucial for enhancing security in a post-quantum world.                                                   \u001b[32m│\u001b[0m\n\u001b[32m│\u001b[0m \u001b[1;33m   \u001b[0m\u001b[1;33m • \u001b[0mResearch is focused on creating cryptographic systems that maintain security even when faced with the     \u001b[32m│\u001b[0m\n\u001b[32m│\u001b[0m \u001b[1;33m   \u001b[0m\u001b[1;33m   \u001b[0mcomputational power of quantum computers.                                                                 \u001b[32m│\u001b[0m\n\u001b[32m│\u001b[0m \u001b[1;33m 3 \u001b[0m\u001b[1mBeyond Quantum Key Distribution:\u001b[0m                                                                             \u001b[32m│\u001b[0m\n\u001b[32m│\u001b[0m \u001b[1;33m   \u001b[0m\u001b[1;33m • \u001b[0mTheoretical advancements in quantum cryptography are exploring applications beyond quantum key            \u001b[32m│\u001b[0m\n\u001b[32m│\u001b[0m \u001b[1;33m   \u001b[0m\u001b[1;33m   \u001b[0mdistribution, addressing both the potential and limitations of quantum cryptographic constructions.       \u001b[32m│\u001b[0m\n\u001b[32m│\u001b[0m \u001b[1;33m 4 \u001b[0m\u001b[1mQuantum Information and Applications:\u001b[0m                                                                        \u001b[32m│\u001b[0m\n\u001b[32m│\u001b[0m \u001b[1;33m   \u001b[0m\u001b[1;33m • \u001b[0mThere is a growing understanding of the differences between classical and quantum information, which is   \u001b[32m│\u001b[0m\n\u001b[32m│\u001b[0m \u001b[1;33m   \u001b[0m\u001b[1;33m   \u001b[0mdriving innovations in applications like quantum cryptography and quantum teleportation.                  \u001b[32m│\u001b[0m\n\u001b[32m│\u001b[0m \u001b[1;33m 5 \u001b[0m\u001b[1mTheoretical and Practical Developments:\u001b[0m                                                                      \u001b[32m│\u001b[0m\n\u001b[32m│\u001b[0m \u001b[1;33m   \u001b[0m\u001b[1;33m • \u001b[0mThe field is witnessing a blend of theoretical exploration and practical implementation, with a focus on  \u001b[32m│\u001b[0m\n\u001b[32m│\u001b[0m \u001b[1;33m   \u001b[0m\u001b[1;33m   \u001b[0mensuring secure communication in the quantum era.                                                         \u001b[32m│\u001b[0m\n\u001b[32m│\u001b[0m \u001b[1;33m   \u001b[0m\u001b[1;33m • \u001b[0mContinuous research is essential to address the evolving challenges                                       \u001b[32m│\u001b[0m\n\u001b[32m╰─────────────────────────────────────────────────────────────────────────────────────────────────────────────────╯\u001b[0m\n",
                  "text/html": "<pre style=\"white-space:pre;overflow-x:auto;line-height:normal;font-family:Menlo,'DejaVu Sans Mono',consolas,'Courier New',monospace\"><span style=\"color: #008000; text-decoration-color: #008000\">╭────────────────────────────────────────────── Generating... 6.5s ───────────────────────────────────────────────╮</span>\n<span style=\"color: #008000; text-decoration-color: #008000\">│</span> Key Trends and Breakthroughs in Quantum Research:                                                               <span style=\"color: #008000; text-decoration-color: #008000\">│</span>\n<span style=\"color: #008000; text-decoration-color: #008000\">│</span>                                                                                                                 <span style=\"color: #008000; text-decoration-color: #008000\">│</span>\n<span style=\"color: #008000; text-decoration-color: #008000\">│</span> <span style=\"color: #808000; text-decoration-color: #808000; font-weight: bold\"> 1 </span><span style=\"font-weight: bold\">Impact on Cryptography:</span>                                                                                      <span style=\"color: #008000; text-decoration-color: #008000\">│</span>\n<span style=\"color: #008000; text-decoration-color: #008000\">│</span> <span style=\"color: #808000; text-decoration-color: #808000; font-weight: bold\">    • </span>Quantum computing poses significant challenges to current cryptographic systems, necessitating the        <span style=\"color: #008000; text-decoration-color: #008000\">│</span>\n<span style=\"color: #008000; text-decoration-color: #008000\">│</span> <span style=\"color: #808000; text-decoration-color: #808000; font-weight: bold\">      </span>development of post-quantum cryptography to ensure security against quantum attacks.                      <span style=\"color: #008000; text-decoration-color: #008000\">│</span>\n<span style=\"color: #008000; text-decoration-color: #008000\">│</span> <span style=\"color: #808000; text-decoration-color: #808000; font-weight: bold\">    • </span>Lattice-based cryptography is emerging as a promising solution for creating homomorphic encryption        <span style=\"color: #008000; text-decoration-color: #008000\">│</span>\n<span style=\"color: #008000; text-decoration-color: #008000\">│</span> <span style=\"color: #808000; text-decoration-color: #808000; font-weight: bold\">      </span>schemes that can resist quantum threats.                                                                  <span style=\"color: #008000; text-decoration-color: #008000\">│</span>\n<span style=\"color: #008000; text-decoration-color: #008000\">│</span> <span style=\"color: #808000; text-decoration-color: #808000; font-weight: bold\"> 2 </span><span style=\"font-weight: bold\">Post-Quantum Cryptography:</span>                                                                                   <span style=\"color: #008000; text-decoration-color: #008000\">│</span>\n<span style=\"color: #008000; text-decoration-color: #008000\">│</span> <span style=\"color: #808000; text-decoration-color: #808000; font-weight: bold\">    • </span>The development of new cryptographic schemes, such as the McEliece-Chen implicit certificate scheme, is   <span style=\"color: #008000; text-decoration-color: #008000\">│</span>\n<span style=\"color: #008000; text-decoration-color: #008000\">│</span> <span style=\"color: #808000; text-decoration-color: #808000; font-weight: bold\">      </span>crucial for enhancing security in a post-quantum world.                                                   <span style=\"color: #008000; text-decoration-color: #008000\">│</span>\n<span style=\"color: #008000; text-decoration-color: #008000\">│</span> <span style=\"color: #808000; text-decoration-color: #808000; font-weight: bold\">    • </span>Research is focused on creating cryptographic systems that maintain security even when faced with the     <span style=\"color: #008000; text-decoration-color: #008000\">│</span>\n<span style=\"color: #008000; text-decoration-color: #008000\">│</span> <span style=\"color: #808000; text-decoration-color: #808000; font-weight: bold\">      </span>computational power of quantum computers.                                                                 <span style=\"color: #008000; text-decoration-color: #008000\">│</span>\n<span style=\"color: #008000; text-decoration-color: #008000\">│</span> <span style=\"color: #808000; text-decoration-color: #808000; font-weight: bold\"> 3 </span><span style=\"font-weight: bold\">Beyond Quantum Key Distribution:</span>                                                                             <span style=\"color: #008000; text-decoration-color: #008000\">│</span>\n<span style=\"color: #008000; text-decoration-color: #008000\">│</span> <span style=\"color: #808000; text-decoration-color: #808000; font-weight: bold\">    • </span>Theoretical advancements in quantum cryptography are exploring applications beyond quantum key            <span style=\"color: #008000; text-decoration-color: #008000\">│</span>\n<span style=\"color: #008000; text-decoration-color: #008000\">│</span> <span style=\"color: #808000; text-decoration-color: #808000; font-weight: bold\">      </span>distribution, addressing both the potential and limitations of quantum cryptographic constructions.       <span style=\"color: #008000; text-decoration-color: #008000\">│</span>\n<span style=\"color: #008000; text-decoration-color: #008000\">│</span> <span style=\"color: #808000; text-decoration-color: #808000; font-weight: bold\"> 4 </span><span style=\"font-weight: bold\">Quantum Information and Applications:</span>                                                                        <span style=\"color: #008000; text-decoration-color: #008000\">│</span>\n<span style=\"color: #008000; text-decoration-color: #008000\">│</span> <span style=\"color: #808000; text-decoration-color: #808000; font-weight: bold\">    • </span>There is a growing understanding of the differences between classical and quantum information, which is   <span style=\"color: #008000; text-decoration-color: #008000\">│</span>\n<span style=\"color: #008000; text-decoration-color: #008000\">│</span> <span style=\"color: #808000; text-decoration-color: #808000; font-weight: bold\">      </span>driving innovations in applications like quantum cryptography and quantum teleportation.                  <span style=\"color: #008000; text-decoration-color: #008000\">│</span>\n<span style=\"color: #008000; text-decoration-color: #008000\">│</span> <span style=\"color: #808000; text-decoration-color: #808000; font-weight: bold\"> 5 </span><span style=\"font-weight: bold\">Theoretical and Practical Developments:</span>                                                                      <span style=\"color: #008000; text-decoration-color: #008000\">│</span>\n<span style=\"color: #008000; text-decoration-color: #008000\">│</span> <span style=\"color: #808000; text-decoration-color: #808000; font-weight: bold\">    • </span>The field is witnessing a blend of theoretical exploration and practical implementation, with a focus on  <span style=\"color: #008000; text-decoration-color: #008000\">│</span>\n<span style=\"color: #008000; text-decoration-color: #008000\">│</span> <span style=\"color: #808000; text-decoration-color: #808000; font-weight: bold\">      </span>ensuring secure communication in the quantum era.                                                         <span style=\"color: #008000; text-decoration-color: #008000\">│</span>\n<span style=\"color: #008000; text-decoration-color: #008000\">│</span> <span style=\"color: #808000; text-decoration-color: #808000; font-weight: bold\">    • </span>Continuous research is essential to address the evolving challenges                                       <span style=\"color: #008000; text-decoration-color: #008000\">│</span>\n<span style=\"color: #008000; text-decoration-color: #008000\">╰─────────────────────────────────────────────────────────────────────────────────────────────────────────────────╯</span>\n</pre>\n"
                },
                "metadata": {}
              }
            ]
          }
        },
        "b80411a9803640e1a04fca68c8b5c8b5": {
          "model_module": "@jupyter-widgets/base",
          "model_name": "LayoutModel",
          "model_module_version": "1.2.0",
          "state": {
            "_model_module": "@jupyter-widgets/base",
            "_model_module_version": "1.2.0",
            "_model_name": "LayoutModel",
            "_view_count": null,
            "_view_module": "@jupyter-widgets/base",
            "_view_module_version": "1.2.0",
            "_view_name": "LayoutView",
            "align_content": null,
            "align_items": null,
            "align_self": null,
            "border": null,
            "bottom": null,
            "display": null,
            "flex": null,
            "flex_flow": null,
            "grid_area": null,
            "grid_auto_columns": null,
            "grid_auto_flow": null,
            "grid_auto_rows": null,
            "grid_column": null,
            "grid_gap": null,
            "grid_row": null,
            "grid_template_areas": null,
            "grid_template_columns": null,
            "grid_template_rows": null,
            "height": null,
            "justify_content": null,
            "justify_items": null,
            "left": null,
            "margin": null,
            "max_height": null,
            "max_width": null,
            "min_height": null,
            "min_width": null,
            "object_fit": null,
            "object_position": null,
            "order": null,
            "overflow": null,
            "overflow_x": null,
            "overflow_y": null,
            "padding": null,
            "right": null,
            "top": null,
            "visibility": null,
            "width": null
          }
        },
        "7e5431f08a89476c922e5f032b3f93fc": {
          "model_module": "@jupyter-widgets/output",
          "model_name": "OutputModel",
          "model_module_version": "1.0.0",
          "state": {
            "_dom_classes": [],
            "_model_module": "@jupyter-widgets/output",
            "_model_module_version": "1.0.0",
            "_model_name": "OutputModel",
            "_view_count": null,
            "_view_module": "@jupyter-widgets/output",
            "_view_module_version": "1.0.0",
            "_view_name": "OutputView",
            "layout": "IPY_MODEL_063f6e302dc44324a7aaf5b982d36d8d",
            "msg_id": "",
            "outputs": [
              {
                "output_type": "display_data",
                "data": {
                  "text/plain": "\n",
                  "text/html": "<pre style=\"white-space:pre;overflow-x:auto;line-height:normal;font-family:Menlo,'DejaVu Sans Mono',consolas,'Courier New',monospace\">\n</pre>\n"
                },
                "metadata": {}
              }
            ]
          }
        },
        "063f6e302dc44324a7aaf5b982d36d8d": {
          "model_module": "@jupyter-widgets/base",
          "model_name": "LayoutModel",
          "model_module_version": "1.2.0",
          "state": {
            "_model_module": "@jupyter-widgets/base",
            "_model_module_version": "1.2.0",
            "_model_name": "LayoutModel",
            "_view_count": null,
            "_view_module": "@jupyter-widgets/base",
            "_view_module_version": "1.2.0",
            "_view_name": "LayoutView",
            "align_content": null,
            "align_items": null,
            "align_self": null,
            "border": null,
            "bottom": null,
            "display": null,
            "flex": null,
            "flex_flow": null,
            "grid_area": null,
            "grid_auto_columns": null,
            "grid_auto_flow": null,
            "grid_auto_rows": null,
            "grid_column": null,
            "grid_gap": null,
            "grid_row": null,
            "grid_template_areas": null,
            "grid_template_columns": null,
            "grid_template_rows": null,
            "height": null,
            "justify_content": null,
            "justify_items": null,
            "left": null,
            "margin": null,
            "max_height": null,
            "max_width": null,
            "min_height": null,
            "min_width": null,
            "object_fit": null,
            "object_position": null,
            "order": null,
            "overflow": null,
            "overflow_x": null,
            "overflow_y": null,
            "padding": null,
            "right": null,
            "top": null,
            "visibility": null,
            "width": null
          }
        },
        "1982b0b5c313430c919272cbfdcd85ed": {
          "model_module": "@jupyter-widgets/output",
          "model_name": "OutputModel",
          "model_module_version": "1.0.0",
          "state": {
            "_dom_classes": [],
            "_model_module": "@jupyter-widgets/output",
            "_model_module_version": "1.0.0",
            "_model_name": "OutputModel",
            "_view_count": null,
            "_view_module": "@jupyter-widgets/output",
            "_view_module_version": "1.0.0",
            "_view_name": "OutputView",
            "layout": "IPY_MODEL_83f1d9f564d847a3a4a651e4ce1da0a2",
            "msg_id": "",
            "outputs": [
              {
                "output_type": "display_data",
                "data": {
                  "text/plain": "\u001b[32m╭─\u001b[0m\u001b[32m─────────────────────────────────────────────\u001b[0m\u001b[32m Generating... 22.9s \u001b[0m\u001b[32m─────────────────────────────────────────────\u001b[0m\u001b[32m─╮\u001b[0m\n\u001b[32m│\u001b[0m                                                                                                                 \u001b[32m│\u001b[0m\n\u001b[32m│\u001b[0m \u001b[1;33m 1 \u001b[0m\u001b[1mTitle\u001b[0m: Raising AI Ethics Awareness through an AI Ethics Quiz for Software Practitioners                      \u001b[32m│\u001b[0m\n\u001b[32m│\u001b[0m \u001b[1;33m   \u001b[0m\u001b[1mAuthors\u001b[0m: Aastha Pant, Rashina Hoda, Paul McIntosh                                                            \u001b[32m│\u001b[0m\n\u001b[32m│\u001b[0m \u001b[1;33m   \u001b[0m\u001b[1mPublished\u001b[0m: 2024-08-28                                                                                        \u001b[32m│\u001b[0m\n\u001b[32m│\u001b[0m \u001b[1;33m   \u001b[0m\u001b[1mSummary\u001b[0m: This paper discusses the development of an AI Ethics Quiz aimed at raising awareness and enhancing  \u001b[32m│\u001b[0m\n\u001b[32m│\u001b[0m \u001b[1;33m   \u001b[0mknowledge of AI ethics among software practitioners. The study involved interactive workshops and            \u001b[32m│\u001b[0m\n\u001b[32m│\u001b[0m \u001b[1;33m   \u001b[0mdemonstrated significant improvement in participants' understanding of AI ethics.                            \u001b[32m│\u001b[0m\n\u001b[32m│\u001b[0m \u001b[1;33m   \u001b[0m\u001b]8;id=676580;http://arxiv.org/pdf/2408.16796v2\u001b\\\u001b[4;34mPDF\u001b[0m\u001b]8;;\u001b\\ | \u001b]8;id=683432;https://arxiv.org/abs/2408.16796v2\u001b\\\u001b[4;34mAbstract\u001b[0m\u001b]8;;\u001b\\                                                                                               \u001b[32m│\u001b[0m\n\u001b[32m│\u001b[0m \u001b[1;33m 2 \u001b[0m\u001b[1mTitle\u001b[0m: Big data ethics, machine ethics or information ethics? Navigating the maze of applied ethics in IT    \u001b[32m│\u001b[0m\n\u001b[32m│\u001b[0m \u001b[1;33m   \u001b[0m\u001b[1mAuthors\u001b[0m: Niina Zuber, Severin Kacianka, Jan Gogoll                                                           \u001b[32m│\u001b[0m\n\u001b[32m│\u001b[0m \u001b[1;33m   \u001b[0m\u001b[1mPublished\u001b[0m: 2022-03-25                                                                                        \u001b[32m│\u001b[0m\n\u001b[32m│\u001b[0m \u001b[1;33m   \u001b[0m\u001b[1mSummary\u001b[0m: This paper provides an introduction to various branches of applied ethics, including AI ethics, and \u001b[32m│\u001b[0m\n\u001b[32m│\u001b[0m \u001b[1;33m   \u001b[0mdiscusses their relevance in the context of digital product development. It offers guidance for development  \u001b[32m│\u001b[0m\n\u001b[32m│\u001b[0m \u001b[1;33m   \u001b[0mteams on navigating these ethical considerations.                                                            \u001b[32m│\u001b[0m\n\u001b[32m│\u001b[0m \u001b[1;33m   \u001b[0m\u001b]8;id=253853;http://arxiv.org/pdf/2203.13494v1\u001b\\\u001b[4;34mPDF\u001b[0m\u001b]8;;\u001b\\ | \u001b]8;id=407603;https://arxiv.org/abs/2203.13494v1\u001b\\\u001b[4;34mAbstract\u001b[0m\u001b]8;;\u001b\\                                                                                               \u001b[32m│\u001b[0m\n\u001b[32m│\u001b[0m \u001b[1;33m 3 \u001b[0m\u001b[1mTitle\u001b[0m: E-LENS: User Requirements-Oriented AI Ethics Assurance                                                \u001b[32m│\u001b[0m\n\u001b[32m│\u001b[0m \u001b[1;33m   \u001b[0m\u001b[1mAuthors\u001b[0m: Jianlong Zhou, Fang Chen                                                                            \u001b[32m│\u001b[0m\n\u001b[32m│\u001b[0m \u001b[1;33m   \u001b[0m\u001b[1mPublished\u001b[0m: 2025-02-06                                                                                        \u001b[32m│\u001b[0m\n\u001b[32m│\u001b[0m \u001b[1;33m   \u001b[0m\u001b[1mSummary\u001b[0m: The paper introduces a user requirements-oriented approach to AI ethics assurance, proposing a      \u001b[32m│\u001b[0m\n\u001b[32m│\u001b[0m \u001b[1;33m   \u001b[0mplatform named Ethical-Lens (E-LENS) to implement this approach. It focuses on integrating user              \u001b[32m│\u001b[0m\n\u001b[32m│\u001b[0m \u001b[1;33m   \u001b[0mrequirements, evidence, and validation into AI ethics assurance cases.                                       \u001b[32m│\u001b[0m\n\u001b[32m│\u001b[0m \u001b[1;33m   \u001b[0m\u001b]8;id=517453;http://arxiv.org/pdf/2503.04747v1\u001b\\\u001b[4;34mPDF\u001b[0m\u001b]8;;\u001b\\ | \u001b]8;id=858570;https://arxiv.org/abs/2503.04747v1\u001b\\\u001b[4;34mAbstract\u001b[0m\u001b]8;;\u001b\\                                                                                               \u001b[32m│\u001b[0m\n\u001b[32m│\u001b[0m \u001b[1;33m 4 \u001b[0m\u001b[1mTitle\u001b[0m: A Bibliometric View of AI Ethics Development                                                          \u001b[32m│\u001b[0m\n\u001b[32m│\u001b[0m \u001b[1;33m   \u001b[0m\u001b[1mAuthors\u001b[0m: Di Kevin Gao, Andrew Haverly, Sudip Mittal, Jingdao Chen                                            \u001b[32m│\u001b[0m\n\u001b[32m│\u001b[0m \u001b[1;33m   \u001b[0m\u001b[1mPublished\u001b[0m: 2024-02-08                                                                                        \u001b[32m│\u001b[0m\n\u001b[32m│\u001b[0m \u001b[1;33m   \u001b[0m\u001b[1mSummary\u001b[0m: This study performs a bibliometric analysis of AI Ethics literature over the past 20 years,         \u001b[32m│\u001b[0m\n\u001b[32m│\u001b[0m \u001b[1;33m   \u001b[0mrevealing a three-phase development in AI Ethics and predicting future trends in the field.                  \u001b[32m│\u001b[0m\n\u001b[32m│\u001b[0m \u001b[1;33m   \u001b[0m\u001b]8;id=313143;http://arxiv.org/pdf/2403.05551v1\u001b\\\u001b[4;34mPDF\u001b[0m\u001b]8;;\u001b\\ | \u001b]8;id=940151;https://arxiv.org/abs/2403.05551v1\u001b\\\u001b[4;34mAbstract\u001b[0m\u001b]8;;\u001b\\                                                                                               \u001b[32m│\u001b[0m\n\u001b[32m│\u001b[0m \u001b[1;33m 5 \u001b[0m\u001b[1mTitle\u001b[0m: Three Kinds of AI Ethics                                                                              \u001b[32m│\u001b[0m\n\u001b[32m│\u001b[0m \u001b[1;33m   \u001b[0m\u001b[1mAuthors\u001b[0m: Emanuele Ratti                                                                                      \u001b[32m│\u001b[0m\n\u001b[32m│\u001b[0m \u001b[1;33m   \u001b[0m\u001b[1mPublished\u001b[0m: 2025-03-24                                                                                        \u001b[32m│\u001b[0m\n\u001b[32m│\u001b[0m \u001b[1;33m   \u001b[0m\u001b[1mSummary\u001b[0m: The paper characterizes AI ethics into three kinds: ethics and AI, ethics in AI, and ethics of AI.  \u001b[32m│\u001b[0m\n\u001b[32m│\u001b[0m \u001b[1;33m   \u001b[0mIt discusses the research questions and expertise required for each type, providing a framework for          \u001b[32m│\u001b[0m\n\u001b[32m│\u001b[0m \u001b[1;33m   \u001b[0munderstanding the multidisciplinary nature of AI ethics.                                                     \u001b[32m│\u001b[0m\n\u001b[32m│\u001b[0m \u001b[1;33m   \u001b[0m\u001b]8;id=933013;http://arxiv.org/pdf/2503.18842v2\u001b\\\u001b[4;34mPDF\u001b[0m\u001b]8;;\u001b\\ | [Abstract](https://arxiv.org/abs/2503.18842v2                                                          \u001b[32m│\u001b[0m\n\u001b[32m╰─────────────────────────────────────────────────────────────────────────────────────────────────────────────────╯\u001b[0m\n",
                  "text/html": "<pre style=\"white-space:pre;overflow-x:auto;line-height:normal;font-family:Menlo,'DejaVu Sans Mono',consolas,'Courier New',monospace\"><span style=\"color: #008000; text-decoration-color: #008000\">╭────────────────────────────────────────────── Generating... 22.9s ──────────────────────────────────────────────╮</span>\n<span style=\"color: #008000; text-decoration-color: #008000\">│</span>                                                                                                                 <span style=\"color: #008000; text-decoration-color: #008000\">│</span>\n<span style=\"color: #008000; text-decoration-color: #008000\">│</span> <span style=\"color: #808000; text-decoration-color: #808000; font-weight: bold\"> 1 </span><span style=\"font-weight: bold\">Title</span>: Raising AI Ethics Awareness through an AI Ethics Quiz for Software Practitioners                      <span style=\"color: #008000; text-decoration-color: #008000\">│</span>\n<span style=\"color: #008000; text-decoration-color: #008000\">│</span> <span style=\"color: #808000; text-decoration-color: #808000; font-weight: bold\">   </span><span style=\"font-weight: bold\">Authors</span>: Aastha Pant, Rashina Hoda, Paul McIntosh                                                            <span style=\"color: #008000; text-decoration-color: #008000\">│</span>\n<span style=\"color: #008000; text-decoration-color: #008000\">│</span> <span style=\"color: #808000; text-decoration-color: #808000; font-weight: bold\">   </span><span style=\"font-weight: bold\">Published</span>: 2024-08-28                                                                                        <span style=\"color: #008000; text-decoration-color: #008000\">│</span>\n<span style=\"color: #008000; text-decoration-color: #008000\">│</span> <span style=\"color: #808000; text-decoration-color: #808000; font-weight: bold\">   </span><span style=\"font-weight: bold\">Summary</span>: This paper discusses the development of an AI Ethics Quiz aimed at raising awareness and enhancing  <span style=\"color: #008000; text-decoration-color: #008000\">│</span>\n<span style=\"color: #008000; text-decoration-color: #008000\">│</span> <span style=\"color: #808000; text-decoration-color: #808000; font-weight: bold\">   </span>knowledge of AI ethics among software practitioners. The study involved interactive workshops and            <span style=\"color: #008000; text-decoration-color: #008000\">│</span>\n<span style=\"color: #008000; text-decoration-color: #008000\">│</span> <span style=\"color: #808000; text-decoration-color: #808000; font-weight: bold\">   </span>demonstrated significant improvement in participants' understanding of AI ethics.                            <span style=\"color: #008000; text-decoration-color: #008000\">│</span>\n<span style=\"color: #008000; text-decoration-color: #008000\">│</span> <span style=\"color: #808000; text-decoration-color: #808000; font-weight: bold\">   </span><a href=\"http://arxiv.org/pdf/2408.16796v2\" target=\"_blank\"><span style=\"color: #000080; text-decoration-color: #000080; text-decoration: underline\">PDF</span></a> | <a href=\"https://arxiv.org/abs/2408.16796v2\" target=\"_blank\"><span style=\"color: #000080; text-decoration-color: #000080; text-decoration: underline\">Abstract</span></a>                                                                                               <span style=\"color: #008000; text-decoration-color: #008000\">│</span>\n<span style=\"color: #008000; text-decoration-color: #008000\">│</span> <span style=\"color: #808000; text-decoration-color: #808000; font-weight: bold\"> 2 </span><span style=\"font-weight: bold\">Title</span>: Big data ethics, machine ethics or information ethics? Navigating the maze of applied ethics in IT    <span style=\"color: #008000; text-decoration-color: #008000\">│</span>\n<span style=\"color: #008000; text-decoration-color: #008000\">│</span> <span style=\"color: #808000; text-decoration-color: #808000; font-weight: bold\">   </span><span style=\"font-weight: bold\">Authors</span>: Niina Zuber, Severin Kacianka, Jan Gogoll                                                           <span style=\"color: #008000; text-decoration-color: #008000\">│</span>\n<span style=\"color: #008000; text-decoration-color: #008000\">│</span> <span style=\"color: #808000; text-decoration-color: #808000; font-weight: bold\">   </span><span style=\"font-weight: bold\">Published</span>: 2022-03-25                                                                                        <span style=\"color: #008000; text-decoration-color: #008000\">│</span>\n<span style=\"color: #008000; text-decoration-color: #008000\">│</span> <span style=\"color: #808000; text-decoration-color: #808000; font-weight: bold\">   </span><span style=\"font-weight: bold\">Summary</span>: This paper provides an introduction to various branches of applied ethics, including AI ethics, and <span style=\"color: #008000; text-decoration-color: #008000\">│</span>\n<span style=\"color: #008000; text-decoration-color: #008000\">│</span> <span style=\"color: #808000; text-decoration-color: #808000; font-weight: bold\">   </span>discusses their relevance in the context of digital product development. It offers guidance for development  <span style=\"color: #008000; text-decoration-color: #008000\">│</span>\n<span style=\"color: #008000; text-decoration-color: #008000\">│</span> <span style=\"color: #808000; text-decoration-color: #808000; font-weight: bold\">   </span>teams on navigating these ethical considerations.                                                            <span style=\"color: #008000; text-decoration-color: #008000\">│</span>\n<span style=\"color: #008000; text-decoration-color: #008000\">│</span> <span style=\"color: #808000; text-decoration-color: #808000; font-weight: bold\">   </span><a href=\"http://arxiv.org/pdf/2203.13494v1\" target=\"_blank\"><span style=\"color: #000080; text-decoration-color: #000080; text-decoration: underline\">PDF</span></a> | <a href=\"https://arxiv.org/abs/2203.13494v1\" target=\"_blank\"><span style=\"color: #000080; text-decoration-color: #000080; text-decoration: underline\">Abstract</span></a>                                                                                               <span style=\"color: #008000; text-decoration-color: #008000\">│</span>\n<span style=\"color: #008000; text-decoration-color: #008000\">│</span> <span style=\"color: #808000; text-decoration-color: #808000; font-weight: bold\"> 3 </span><span style=\"font-weight: bold\">Title</span>: E-LENS: User Requirements-Oriented AI Ethics Assurance                                                <span style=\"color: #008000; text-decoration-color: #008000\">│</span>\n<span style=\"color: #008000; text-decoration-color: #008000\">│</span> <span style=\"color: #808000; text-decoration-color: #808000; font-weight: bold\">   </span><span style=\"font-weight: bold\">Authors</span>: Jianlong Zhou, Fang Chen                                                                            <span style=\"color: #008000; text-decoration-color: #008000\">│</span>\n<span style=\"color: #008000; text-decoration-color: #008000\">│</span> <span style=\"color: #808000; text-decoration-color: #808000; font-weight: bold\">   </span><span style=\"font-weight: bold\">Published</span>: 2025-02-06                                                                                        <span style=\"color: #008000; text-decoration-color: #008000\">│</span>\n<span style=\"color: #008000; text-decoration-color: #008000\">│</span> <span style=\"color: #808000; text-decoration-color: #808000; font-weight: bold\">   </span><span style=\"font-weight: bold\">Summary</span>: The paper introduces a user requirements-oriented approach to AI ethics assurance, proposing a      <span style=\"color: #008000; text-decoration-color: #008000\">│</span>\n<span style=\"color: #008000; text-decoration-color: #008000\">│</span> <span style=\"color: #808000; text-decoration-color: #808000; font-weight: bold\">   </span>platform named Ethical-Lens (E-LENS) to implement this approach. It focuses on integrating user              <span style=\"color: #008000; text-decoration-color: #008000\">│</span>\n<span style=\"color: #008000; text-decoration-color: #008000\">│</span> <span style=\"color: #808000; text-decoration-color: #808000; font-weight: bold\">   </span>requirements, evidence, and validation into AI ethics assurance cases.                                       <span style=\"color: #008000; text-decoration-color: #008000\">│</span>\n<span style=\"color: #008000; text-decoration-color: #008000\">│</span> <span style=\"color: #808000; text-decoration-color: #808000; font-weight: bold\">   </span><a href=\"http://arxiv.org/pdf/2503.04747v1\" target=\"_blank\"><span style=\"color: #000080; text-decoration-color: #000080; text-decoration: underline\">PDF</span></a> | <a href=\"https://arxiv.org/abs/2503.04747v1\" target=\"_blank\"><span style=\"color: #000080; text-decoration-color: #000080; text-decoration: underline\">Abstract</span></a>                                                                                               <span style=\"color: #008000; text-decoration-color: #008000\">│</span>\n<span style=\"color: #008000; text-decoration-color: #008000\">│</span> <span style=\"color: #808000; text-decoration-color: #808000; font-weight: bold\"> 4 </span><span style=\"font-weight: bold\">Title</span>: A Bibliometric View of AI Ethics Development                                                          <span style=\"color: #008000; text-decoration-color: #008000\">│</span>\n<span style=\"color: #008000; text-decoration-color: #008000\">│</span> <span style=\"color: #808000; text-decoration-color: #808000; font-weight: bold\">   </span><span style=\"font-weight: bold\">Authors</span>: Di Kevin Gao, Andrew Haverly, Sudip Mittal, Jingdao Chen                                            <span style=\"color: #008000; text-decoration-color: #008000\">│</span>\n<span style=\"color: #008000; text-decoration-color: #008000\">│</span> <span style=\"color: #808000; text-decoration-color: #808000; font-weight: bold\">   </span><span style=\"font-weight: bold\">Published</span>: 2024-02-08                                                                                        <span style=\"color: #008000; text-decoration-color: #008000\">│</span>\n<span style=\"color: #008000; text-decoration-color: #008000\">│</span> <span style=\"color: #808000; text-decoration-color: #808000; font-weight: bold\">   </span><span style=\"font-weight: bold\">Summary</span>: This study performs a bibliometric analysis of AI Ethics literature over the past 20 years,         <span style=\"color: #008000; text-decoration-color: #008000\">│</span>\n<span style=\"color: #008000; text-decoration-color: #008000\">│</span> <span style=\"color: #808000; text-decoration-color: #808000; font-weight: bold\">   </span>revealing a three-phase development in AI Ethics and predicting future trends in the field.                  <span style=\"color: #008000; text-decoration-color: #008000\">│</span>\n<span style=\"color: #008000; text-decoration-color: #008000\">│</span> <span style=\"color: #808000; text-decoration-color: #808000; font-weight: bold\">   </span><a href=\"http://arxiv.org/pdf/2403.05551v1\" target=\"_blank\"><span style=\"color: #000080; text-decoration-color: #000080; text-decoration: underline\">PDF</span></a> | <a href=\"https://arxiv.org/abs/2403.05551v1\" target=\"_blank\"><span style=\"color: #000080; text-decoration-color: #000080; text-decoration: underline\">Abstract</span></a>                                                                                               <span style=\"color: #008000; text-decoration-color: #008000\">│</span>\n<span style=\"color: #008000; text-decoration-color: #008000\">│</span> <span style=\"color: #808000; text-decoration-color: #808000; font-weight: bold\"> 5 </span><span style=\"font-weight: bold\">Title</span>: Three Kinds of AI Ethics                                                                              <span style=\"color: #008000; text-decoration-color: #008000\">│</span>\n<span style=\"color: #008000; text-decoration-color: #008000\">│</span> <span style=\"color: #808000; text-decoration-color: #808000; font-weight: bold\">   </span><span style=\"font-weight: bold\">Authors</span>: Emanuele Ratti                                                                                      <span style=\"color: #008000; text-decoration-color: #008000\">│</span>\n<span style=\"color: #008000; text-decoration-color: #008000\">│</span> <span style=\"color: #808000; text-decoration-color: #808000; font-weight: bold\">   </span><span style=\"font-weight: bold\">Published</span>: 2025-03-24                                                                                        <span style=\"color: #008000; text-decoration-color: #008000\">│</span>\n<span style=\"color: #008000; text-decoration-color: #008000\">│</span> <span style=\"color: #808000; text-decoration-color: #808000; font-weight: bold\">   </span><span style=\"font-weight: bold\">Summary</span>: The paper characterizes AI ethics into three kinds: ethics and AI, ethics in AI, and ethics of AI.  <span style=\"color: #008000; text-decoration-color: #008000\">│</span>\n<span style=\"color: #008000; text-decoration-color: #008000\">│</span> <span style=\"color: #808000; text-decoration-color: #808000; font-weight: bold\">   </span>It discusses the research questions and expertise required for each type, providing a framework for          <span style=\"color: #008000; text-decoration-color: #008000\">│</span>\n<span style=\"color: #008000; text-decoration-color: #008000\">│</span> <span style=\"color: #808000; text-decoration-color: #808000; font-weight: bold\">   </span>understanding the multidisciplinary nature of AI ethics.                                                     <span style=\"color: #008000; text-decoration-color: #008000\">│</span>\n<span style=\"color: #008000; text-decoration-color: #008000\">│</span> <span style=\"color: #808000; text-decoration-color: #808000; font-weight: bold\">   </span><a href=\"http://arxiv.org/pdf/2503.18842v2\" target=\"_blank\"><span style=\"color: #000080; text-decoration-color: #000080; text-decoration: underline\">PDF</span></a> | [Abstract](https://arxiv.org/abs/2503.18842v2                                                          <span style=\"color: #008000; text-decoration-color: #008000\">│</span>\n<span style=\"color: #008000; text-decoration-color: #008000\">╰─────────────────────────────────────────────────────────────────────────────────────────────────────────────────╯</span>\n</pre>\n"
                },
                "metadata": {}
              }
            ]
          }
        },
        "83f1d9f564d847a3a4a651e4ce1da0a2": {
          "model_module": "@jupyter-widgets/base",
          "model_name": "LayoutModel",
          "model_module_version": "1.2.0",
          "state": {
            "_model_module": "@jupyter-widgets/base",
            "_model_module_version": "1.2.0",
            "_model_name": "LayoutModel",
            "_view_count": null,
            "_view_module": "@jupyter-widgets/base",
            "_view_module_version": "1.2.0",
            "_view_name": "LayoutView",
            "align_content": null,
            "align_items": null,
            "align_self": null,
            "border": null,
            "bottom": null,
            "display": null,
            "flex": null,
            "flex_flow": null,
            "grid_area": null,
            "grid_auto_columns": null,
            "grid_auto_flow": null,
            "grid_auto_rows": null,
            "grid_column": null,
            "grid_gap": null,
            "grid_row": null,
            "grid_template_areas": null,
            "grid_template_columns": null,
            "grid_template_rows": null,
            "height": null,
            "justify_content": null,
            "justify_items": null,
            "left": null,
            "margin": null,
            "max_height": null,
            "max_width": null,
            "min_height": null,
            "min_width": null,
            "object_fit": null,
            "object_position": null,
            "order": null,
            "overflow": null,
            "overflow_x": null,
            "overflow_y": null,
            "padding": null,
            "right": null,
            "top": null,
            "visibility": null,
            "width": null
          }
        },
        "f01d9e978fe4469696dbb6828ced09dd": {
          "model_module": "@jupyter-widgets/output",
          "model_name": "OutputModel",
          "model_module_version": "1.0.0",
          "state": {
            "_dom_classes": [],
            "_model_module": "@jupyter-widgets/output",
            "_model_module_version": "1.0.0",
            "_model_name": "OutputModel",
            "_view_count": null,
            "_view_module": "@jupyter-widgets/output",
            "_view_module_version": "1.0.0",
            "_view_name": "OutputView",
            "layout": "IPY_MODEL_83aac02a97f34a8b86748b9c6d7fa817",
            "msg_id": "",
            "outputs": [
              {
                "output_type": "display_data",
                "data": {
                  "text/plain": "\u001b[32m╭─\u001b[0m\u001b[32m─────────────────────────────────────────────\u001b[0m\u001b[32m Generating... 3.7s \u001b[0m\u001b[32m──────────────────────────────────────────────\u001b[0m\u001b[32m─╮\u001b[0m\n\u001b[32m│\u001b[0m The reviewed papers on AI ethics provide a comprehensive overview of current research and approaches in the     \u001b[32m│\u001b[0m\n\u001b[32m│\u001b[0m field:                                                                                                          \u001b[32m│\u001b[0m\n\u001b[32m│\u001b[0m                                                                                                                 \u001b[32m│\u001b[0m\n\u001b[32m│\u001b[0m \u001b[1;33m 1 \u001b[0m\u001b[1mRaising AI Ethics Awareness\u001b[0m: This paper highlights the effectiveness of an AI Ethics Quiz in improving       \u001b[32m│\u001b[0m\n\u001b[32m│\u001b[0m \u001b[1;33m   \u001b[0msoftware practitioners' understanding of AI ethics through interactive workshops.                            \u001b[32m│\u001b[0m\n\u001b[32m│\u001b[0m \u001b[1;33m 2 \u001b[0m\u001b[1mNavigating Applied Ethics in IT\u001b[0m: It introduces various branches of applied ethics, including AI ethics,      \u001b[32m│\u001b[0m\n\u001b[32m│\u001b[0m \u001b[1;33m   \u001b[0moffering guidance for development teams to address ethical considerations in digital product development.    \u001b[32m│\u001b[0m\n\u001b[32m│\u001b[0m \u001b[1;33m 3 \u001b[0m\u001b[1mE-LENS: AI Ethics Assurance\u001b[0m: Proposes a user requirements-oriented approach to AI ethics assurance through   \u001b[32m│\u001b[0m\n\u001b[32m│\u001b[0m \u001b[1;33m   \u001b[0mthe Ethical-Lens platform, integrating user requirements, evidence, and validation into ethics assurance     \u001b[32m│\u001b[0m\n\u001b[32m│\u001b[0m \u001b[1;33m   \u001b[0mcases.                                                                                                       \u001b[32m│\u001b[0m\n\u001b[32m│\u001b[0m \u001b[1;33m 4 \u001b[0m\u001b[1mBibliometric Analysis of AI Ethics\u001b[0m: Provides a bibliometric analysis of AI ethics literature over 20 years,  \u001b[32m│\u001b[0m\n\u001b[32m│\u001b[0m \u001b[1;33m   \u001b[0midentifying a three-phase development and predicting future trends.                                          \u001b[32m│\u001b[0m\n\u001b[32m│\u001b[0m \u001b[1;33m 5 \u001b[0m\u001b[1mThree Kinds of AI Ethics\u001b[0m: Characterizes AI ethics into three categories: ethics and AI, ethics in AI, and    \u001b[32m│\u001b[0m\n\u001b[32m│\u001b[0m \u001b[1;33m   \u001b[0methics of AI, offering a framework for understanding the multidisciplinary nature of AI ethics.              \u001b[32m│\u001b[0m\n\u001b[32m│\u001b[0m                                                                                                                 \u001b[32m│\u001b[0m\n\u001b[32m│\u001b[0m These papers collectively contribute to the understanding and implementation of AI ethics, offering tools,      \u001b[32m│\u001b[0m\n\u001b[32m│\u001b[0m frameworks, and analyses to navigate ethical challenges in AI development and application.                      \u001b[32m│\u001b[0m\n\u001b[32m╰─────────────────────────────────────────────────────────────────────────────────────────────────────────────────╯\u001b[0m\n",
                  "text/html": "<pre style=\"white-space:pre;overflow-x:auto;line-height:normal;font-family:Menlo,'DejaVu Sans Mono',consolas,'Courier New',monospace\"><span style=\"color: #008000; text-decoration-color: #008000\">╭────────────────────────────────────────────── Generating... 3.7s ───────────────────────────────────────────────╮</span>\n<span style=\"color: #008000; text-decoration-color: #008000\">│</span> The reviewed papers on AI ethics provide a comprehensive overview of current research and approaches in the     <span style=\"color: #008000; text-decoration-color: #008000\">│</span>\n<span style=\"color: #008000; text-decoration-color: #008000\">│</span> field:                                                                                                          <span style=\"color: #008000; text-decoration-color: #008000\">│</span>\n<span style=\"color: #008000; text-decoration-color: #008000\">│</span>                                                                                                                 <span style=\"color: #008000; text-decoration-color: #008000\">│</span>\n<span style=\"color: #008000; text-decoration-color: #008000\">│</span> <span style=\"color: #808000; text-decoration-color: #808000; font-weight: bold\"> 1 </span><span style=\"font-weight: bold\">Raising AI Ethics Awareness</span>: This paper highlights the effectiveness of an AI Ethics Quiz in improving       <span style=\"color: #008000; text-decoration-color: #008000\">│</span>\n<span style=\"color: #008000; text-decoration-color: #008000\">│</span> <span style=\"color: #808000; text-decoration-color: #808000; font-weight: bold\">   </span>software practitioners' understanding of AI ethics through interactive workshops.                            <span style=\"color: #008000; text-decoration-color: #008000\">│</span>\n<span style=\"color: #008000; text-decoration-color: #008000\">│</span> <span style=\"color: #808000; text-decoration-color: #808000; font-weight: bold\"> 2 </span><span style=\"font-weight: bold\">Navigating Applied Ethics in IT</span>: It introduces various branches of applied ethics, including AI ethics,      <span style=\"color: #008000; text-decoration-color: #008000\">│</span>\n<span style=\"color: #008000; text-decoration-color: #008000\">│</span> <span style=\"color: #808000; text-decoration-color: #808000; font-weight: bold\">   </span>offering guidance for development teams to address ethical considerations in digital product development.    <span style=\"color: #008000; text-decoration-color: #008000\">│</span>\n<span style=\"color: #008000; text-decoration-color: #008000\">│</span> <span style=\"color: #808000; text-decoration-color: #808000; font-weight: bold\"> 3 </span><span style=\"font-weight: bold\">E-LENS: AI Ethics Assurance</span>: Proposes a user requirements-oriented approach to AI ethics assurance through   <span style=\"color: #008000; text-decoration-color: #008000\">│</span>\n<span style=\"color: #008000; text-decoration-color: #008000\">│</span> <span style=\"color: #808000; text-decoration-color: #808000; font-weight: bold\">   </span>the Ethical-Lens platform, integrating user requirements, evidence, and validation into ethics assurance     <span style=\"color: #008000; text-decoration-color: #008000\">│</span>\n<span style=\"color: #008000; text-decoration-color: #008000\">│</span> <span style=\"color: #808000; text-decoration-color: #808000; font-weight: bold\">   </span>cases.                                                                                                       <span style=\"color: #008000; text-decoration-color: #008000\">│</span>\n<span style=\"color: #008000; text-decoration-color: #008000\">│</span> <span style=\"color: #808000; text-decoration-color: #808000; font-weight: bold\"> 4 </span><span style=\"font-weight: bold\">Bibliometric Analysis of AI Ethics</span>: Provides a bibliometric analysis of AI ethics literature over 20 years,  <span style=\"color: #008000; text-decoration-color: #008000\">│</span>\n<span style=\"color: #008000; text-decoration-color: #008000\">│</span> <span style=\"color: #808000; text-decoration-color: #808000; font-weight: bold\">   </span>identifying a three-phase development and predicting future trends.                                          <span style=\"color: #008000; text-decoration-color: #008000\">│</span>\n<span style=\"color: #008000; text-decoration-color: #008000\">│</span> <span style=\"color: #808000; text-decoration-color: #808000; font-weight: bold\"> 5 </span><span style=\"font-weight: bold\">Three Kinds of AI Ethics</span>: Characterizes AI ethics into three categories: ethics and AI, ethics in AI, and    <span style=\"color: #008000; text-decoration-color: #008000\">│</span>\n<span style=\"color: #008000; text-decoration-color: #008000\">│</span> <span style=\"color: #808000; text-decoration-color: #808000; font-weight: bold\">   </span>ethics of AI, offering a framework for understanding the multidisciplinary nature of AI ethics.              <span style=\"color: #008000; text-decoration-color: #008000\">│</span>\n<span style=\"color: #008000; text-decoration-color: #008000\">│</span>                                                                                                                 <span style=\"color: #008000; text-decoration-color: #008000\">│</span>\n<span style=\"color: #008000; text-decoration-color: #008000\">│</span> These papers collectively contribute to the understanding and implementation of AI ethics, offering tools,      <span style=\"color: #008000; text-decoration-color: #008000\">│</span>\n<span style=\"color: #008000; text-decoration-color: #008000\">│</span> frameworks, and analyses to navigate ethical challenges in AI development and application.                      <span style=\"color: #008000; text-decoration-color: #008000\">│</span>\n<span style=\"color: #008000; text-decoration-color: #008000\">╰─────────────────────────────────────────────────────────────────────────────────────────────────────────────────╯</span>\n</pre>\n"
                },
                "metadata": {}
              }
            ]
          }
        },
        "83aac02a97f34a8b86748b9c6d7fa817": {
          "model_module": "@jupyter-widgets/base",
          "model_name": "LayoutModel",
          "model_module_version": "1.2.0",
          "state": {
            "_model_module": "@jupyter-widgets/base",
            "_model_module_version": "1.2.0",
            "_model_name": "LayoutModel",
            "_view_count": null,
            "_view_module": "@jupyter-widgets/base",
            "_view_module_version": "1.2.0",
            "_view_name": "LayoutView",
            "align_content": null,
            "align_items": null,
            "align_self": null,
            "border": null,
            "bottom": null,
            "display": null,
            "flex": null,
            "flex_flow": null,
            "grid_area": null,
            "grid_auto_columns": null,
            "grid_auto_flow": null,
            "grid_auto_rows": null,
            "grid_column": null,
            "grid_gap": null,
            "grid_row": null,
            "grid_template_areas": null,
            "grid_template_columns": null,
            "grid_template_rows": null,
            "height": null,
            "justify_content": null,
            "justify_items": null,
            "left": null,
            "margin": null,
            "max_height": null,
            "max_width": null,
            "min_height": null,
            "min_width": null,
            "object_fit": null,
            "object_position": null,
            "order": null,
            "overflow": null,
            "overflow_x": null,
            "overflow_y": null,
            "padding": null,
            "right": null,
            "top": null,
            "visibility": null,
            "width": null
          }
        }
      }
    }
  },
  "nbformat": 4,
  "nbformat_minor": 5
}
